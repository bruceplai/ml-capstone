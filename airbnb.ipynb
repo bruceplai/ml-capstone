{
 "cells": [
  {
   "cell_type": "markdown",
   "metadata": {},
   "source": [
    "<h1>Airbnb listing data for NYC 2019</h1>\n",
    "\n",
    "<p>Airbnb is one of the largest short-term rental services in the world.  As such, they have millions of listings, many of which are in metropolitan areas like LA and NYC.  They currently do not have a public API to get listing data, but fortunately a recent <a href=https://www.kaggle.com/dgomonov/new-york-city-airbnb-open-data>dataset</a> is available on Kaggle specifically for NYC, and the raw source for this data can be found <a href=\"http://data.insideairbnb.com/united-states/ny/new-york-city/2019-12-04/data/listings.csv.gz\">here</a>.  Data for other cities can also be found <a href=\"http://insideairbnb.com/get-the-data.html\">here</a>.</p>"
   ]
  },
  {
   "cell_type": "markdown",
   "metadata": {},
   "source": [
    "<p>Let's take a look at the <b>listings.csv</b> first, then we'll get to the time series data in <b>calendar.csv</b>"
   ]
  },
  {
   "cell_type": "code",
   "execution_count": 1,
   "metadata": {},
   "outputs": [
    {
     "name": "stderr",
     "output_type": "stream",
     "text": [
      "c:\\users\\bruce\\miniconda3\\envs\\capstone\\lib\\site-packages\\IPython\\core\\interactiveshell.py:3063: DtypeWarning: Columns (61,62,94) have mixed types.Specify dtype option on import or set low_memory=False.\n",
      "  interactivity=interactivity, compiler=compiler, result=result)\n"
     ]
    }
   ],
   "source": [
    "import pandas as pd\n",
    "import numpy as np\n",
    "import matplotlib.pyplot as plt\n",
    "import math\n",
    "\n",
    "%matplotlib inline\n",
    "listings_df = pd.read_csv('listings.csv.gz')"
   ]
  },
  {
   "cell_type": "markdown",
   "metadata": {},
   "source": [
    "<br/>\n",
    "<p>There are certain columns that have mixed data. Lets take a look at the general structure of the listings as well as those columns.</p>"
   ]
  },
  {
   "cell_type": "code",
   "execution_count": 2,
   "metadata": {},
   "outputs": [
    {
     "name": "stdout",
     "output_type": "stream",
     "text": [
      "<class 'pandas.core.frame.DataFrame'>\n",
      "RangeIndex: 50796 entries, 0 to 50795\n",
      "Columns: 106 entries, id to reviews_per_month\n",
      "dtypes: float64(21), int64(21), object(64)\n",
      "memory usage: 41.1+ MB\n",
      "None\n",
      "Index(['id', 'listing_url', 'scrape_id', 'last_scraped', 'name', 'summary',\n",
      "       'space', 'description', 'experiences_offered', 'neighborhood_overview',\n",
      "       ...\n",
      "       'instant_bookable', 'is_business_travel_ready', 'cancellation_policy',\n",
      "       'require_guest_profile_picture', 'require_guest_phone_verification',\n",
      "       'calculated_host_listings_count',\n",
      "       'calculated_host_listings_count_entire_homes',\n",
      "       'calculated_host_listings_count_private_rooms',\n",
      "       'calculated_host_listings_count_shared_rooms', 'reviews_per_month'],\n",
      "      dtype='object', length=106)\n",
      "price\n",
      "weekly_price\n",
      "requires_license\n",
      "license\n"
     ]
    },
    {
     "data": {
      "text/html": [
       "<div>\n",
       "<style scoped>\n",
       "    .dataframe tbody tr th:only-of-type {\n",
       "        vertical-align: middle;\n",
       "    }\n",
       "\n",
       "    .dataframe tbody tr th {\n",
       "        vertical-align: top;\n",
       "    }\n",
       "\n",
       "    .dataframe thead th {\n",
       "        text-align: right;\n",
       "    }\n",
       "</style>\n",
       "<table border=\"1\" class=\"dataframe\">\n",
       "  <thead>\n",
       "    <tr style=\"text-align: right;\">\n",
       "      <th></th>\n",
       "      <th>id</th>\n",
       "      <th>listing_url</th>\n",
       "      <th>scrape_id</th>\n",
       "      <th>last_scraped</th>\n",
       "      <th>name</th>\n",
       "      <th>summary</th>\n",
       "      <th>space</th>\n",
       "      <th>description</th>\n",
       "      <th>experiences_offered</th>\n",
       "      <th>neighborhood_overview</th>\n",
       "      <th>...</th>\n",
       "      <th>instant_bookable</th>\n",
       "      <th>is_business_travel_ready</th>\n",
       "      <th>cancellation_policy</th>\n",
       "      <th>require_guest_profile_picture</th>\n",
       "      <th>require_guest_phone_verification</th>\n",
       "      <th>calculated_host_listings_count</th>\n",
       "      <th>calculated_host_listings_count_entire_homes</th>\n",
       "      <th>calculated_host_listings_count_private_rooms</th>\n",
       "      <th>calculated_host_listings_count_shared_rooms</th>\n",
       "      <th>reviews_per_month</th>\n",
       "    </tr>\n",
       "  </thead>\n",
       "  <tbody>\n",
       "    <tr>\n",
       "      <th>0</th>\n",
       "      <td>2060</td>\n",
       "      <td>https://www.airbnb.com/rooms/2060</td>\n",
       "      <td>20200313233810</td>\n",
       "      <td>2020-03-14</td>\n",
       "      <td>Modern NYC</td>\n",
       "      <td>NaN</td>\n",
       "      <td>Lovely, spacious, sunny 1 BR apartment in 6th ...</td>\n",
       "      <td>Lovely, spacious, sunny 1 BR apartment in 6th ...</td>\n",
       "      <td>none</td>\n",
       "      <td>NaN</td>\n",
       "      <td>...</td>\n",
       "      <td>f</td>\n",
       "      <td>f</td>\n",
       "      <td>flexible</td>\n",
       "      <td>f</td>\n",
       "      <td>f</td>\n",
       "      <td>1</td>\n",
       "      <td>0</td>\n",
       "      <td>1</td>\n",
       "      <td>0</td>\n",
       "      <td>0.01</td>\n",
       "    </tr>\n",
       "    <tr>\n",
       "      <th>1</th>\n",
       "      <td>2595</td>\n",
       "      <td>https://www.airbnb.com/rooms/2595</td>\n",
       "      <td>20200313233810</td>\n",
       "      <td>2020-03-14</td>\n",
       "      <td>Skylit Midtown Castle</td>\n",
       "      <td>Beautiful, spacious skylit studio in the heart...</td>\n",
       "      <td>- Spacious (500+ft²), immaculate and nicely fu...</td>\n",
       "      <td>Beautiful, spacious skylit studio in the heart...</td>\n",
       "      <td>none</td>\n",
       "      <td>Centrally located in the heart of Manhattan ju...</td>\n",
       "      <td>...</td>\n",
       "      <td>f</td>\n",
       "      <td>f</td>\n",
       "      <td>strict_14_with_grace_period</td>\n",
       "      <td>t</td>\n",
       "      <td>t</td>\n",
       "      <td>2</td>\n",
       "      <td>2</td>\n",
       "      <td>0</td>\n",
       "      <td>0</td>\n",
       "      <td>0.38</td>\n",
       "    </tr>\n",
       "    <tr>\n",
       "      <th>2</th>\n",
       "      <td>3831</td>\n",
       "      <td>https://www.airbnb.com/rooms/3831</td>\n",
       "      <td>20200313233810</td>\n",
       "      <td>2020-03-14</td>\n",
       "      <td>Cozy Entire Floor of Brownstone</td>\n",
       "      <td>Urban retreat: enjoy 500 s.f. floor in 1899 br...</td>\n",
       "      <td>Greetings!      We own a double-duplex brownst...</td>\n",
       "      <td>Urban retreat: enjoy 500 s.f. floor in 1899 br...</td>\n",
       "      <td>none</td>\n",
       "      <td>Just the right mix of urban center and local n...</td>\n",
       "      <td>...</td>\n",
       "      <td>f</td>\n",
       "      <td>f</td>\n",
       "      <td>moderate</td>\n",
       "      <td>f</td>\n",
       "      <td>f</td>\n",
       "      <td>1</td>\n",
       "      <td>1</td>\n",
       "      <td>0</td>\n",
       "      <td>0</td>\n",
       "      <td>4.71</td>\n",
       "    </tr>\n",
       "    <tr>\n",
       "      <th>3</th>\n",
       "      <td>5099</td>\n",
       "      <td>https://www.airbnb.com/rooms/5099</td>\n",
       "      <td>20200313233810</td>\n",
       "      <td>2020-03-14</td>\n",
       "      <td>Large Cozy 1 BR Apartment In Midtown East</td>\n",
       "      <td>My large 1 bedroom apartment has a true New Yo...</td>\n",
       "      <td>I have a large 1 bedroom apartment centrally l...</td>\n",
       "      <td>My large 1 bedroom apartment has a true New Yo...</td>\n",
       "      <td>none</td>\n",
       "      <td>My neighborhood in Midtown East is called Murr...</td>\n",
       "      <td>...</td>\n",
       "      <td>f</td>\n",
       "      <td>f</td>\n",
       "      <td>moderate</td>\n",
       "      <td>t</td>\n",
       "      <td>t</td>\n",
       "      <td>1</td>\n",
       "      <td>1</td>\n",
       "      <td>0</td>\n",
       "      <td>0</td>\n",
       "      <td>0.59</td>\n",
       "    </tr>\n",
       "    <tr>\n",
       "      <th>4</th>\n",
       "      <td>5114</td>\n",
       "      <td>https://www.airbnb.com/rooms/5114</td>\n",
       "      <td>20200313233810</td>\n",
       "      <td>2020-03-14</td>\n",
       "      <td>Super Room in Great area.</td>\n",
       "      <td>NaN</td>\n",
       "      <td>First, the area is PERFECT if you want to visi...</td>\n",
       "      <td>First, the area is PERFECT if you want to visi...</td>\n",
       "      <td>none</td>\n",
       "      <td>NaN</td>\n",
       "      <td>...</td>\n",
       "      <td>f</td>\n",
       "      <td>f</td>\n",
       "      <td>strict_14_with_grace_period</td>\n",
       "      <td>f</td>\n",
       "      <td>f</td>\n",
       "      <td>3</td>\n",
       "      <td>1</td>\n",
       "      <td>2</td>\n",
       "      <td>0</td>\n",
       "      <td>0.56</td>\n",
       "    </tr>\n",
       "  </tbody>\n",
       "</table>\n",
       "<p>5 rows × 106 columns</p>\n",
       "</div>"
      ],
      "text/plain": [
       "     id                        listing_url       scrape_id last_scraped  \\\n",
       "0  2060  https://www.airbnb.com/rooms/2060  20200313233810   2020-03-14   \n",
       "1  2595  https://www.airbnb.com/rooms/2595  20200313233810   2020-03-14   \n",
       "2  3831  https://www.airbnb.com/rooms/3831  20200313233810   2020-03-14   \n",
       "3  5099  https://www.airbnb.com/rooms/5099  20200313233810   2020-03-14   \n",
       "4  5114  https://www.airbnb.com/rooms/5114  20200313233810   2020-03-14   \n",
       "\n",
       "                                        name  \\\n",
       "0                                 Modern NYC   \n",
       "1                      Skylit Midtown Castle   \n",
       "2            Cozy Entire Floor of Brownstone   \n",
       "3  Large Cozy 1 BR Apartment In Midtown East   \n",
       "4                  Super Room in Great area.   \n",
       "\n",
       "                                             summary  \\\n",
       "0                                                NaN   \n",
       "1  Beautiful, spacious skylit studio in the heart...   \n",
       "2  Urban retreat: enjoy 500 s.f. floor in 1899 br...   \n",
       "3  My large 1 bedroom apartment has a true New Yo...   \n",
       "4                                                NaN   \n",
       "\n",
       "                                               space  \\\n",
       "0  Lovely, spacious, sunny 1 BR apartment in 6th ...   \n",
       "1  - Spacious (500+ft²), immaculate and nicely fu...   \n",
       "2  Greetings!      We own a double-duplex brownst...   \n",
       "3  I have a large 1 bedroom apartment centrally l...   \n",
       "4  First, the area is PERFECT if you want to visi...   \n",
       "\n",
       "                                         description experiences_offered  \\\n",
       "0  Lovely, spacious, sunny 1 BR apartment in 6th ...                none   \n",
       "1  Beautiful, spacious skylit studio in the heart...                none   \n",
       "2  Urban retreat: enjoy 500 s.f. floor in 1899 br...                none   \n",
       "3  My large 1 bedroom apartment has a true New Yo...                none   \n",
       "4  First, the area is PERFECT if you want to visi...                none   \n",
       "\n",
       "                               neighborhood_overview  ... instant_bookable  \\\n",
       "0                                                NaN  ...                f   \n",
       "1  Centrally located in the heart of Manhattan ju...  ...                f   \n",
       "2  Just the right mix of urban center and local n...  ...                f   \n",
       "3  My neighborhood in Midtown East is called Murr...  ...                f   \n",
       "4                                                NaN  ...                f   \n",
       "\n",
       "  is_business_travel_ready          cancellation_policy  \\\n",
       "0                        f                     flexible   \n",
       "1                        f  strict_14_with_grace_period   \n",
       "2                        f                     moderate   \n",
       "3                        f                     moderate   \n",
       "4                        f  strict_14_with_grace_period   \n",
       "\n",
       "  require_guest_profile_picture require_guest_phone_verification  \\\n",
       "0                             f                                f   \n",
       "1                             t                                t   \n",
       "2                             f                                f   \n",
       "3                             t                                t   \n",
       "4                             f                                f   \n",
       "\n",
       "   calculated_host_listings_count  \\\n",
       "0                               1   \n",
       "1                               2   \n",
       "2                               1   \n",
       "3                               1   \n",
       "4                               3   \n",
       "\n",
       "   calculated_host_listings_count_entire_homes  \\\n",
       "0                                            0   \n",
       "1                                            2   \n",
       "2                                            1   \n",
       "3                                            1   \n",
       "4                                            1   \n",
       "\n",
       "  calculated_host_listings_count_private_rooms  \\\n",
       "0                                            1   \n",
       "1                                            0   \n",
       "2                                            0   \n",
       "3                                            0   \n",
       "4                                            2   \n",
       "\n",
       "   calculated_host_listings_count_shared_rooms  reviews_per_month  \n",
       "0                                            0               0.01  \n",
       "1                                            0               0.38  \n",
       "2                                            0               4.71  \n",
       "3                                            0               0.59  \n",
       "4                                            0               0.56  \n",
       "\n",
       "[5 rows x 106 columns]"
      ]
     },
     "execution_count": 2,
     "metadata": {},
     "output_type": "execute_result"
    }
   ],
   "source": [
    "print(listings_df.info())\n",
    "print(listings_df.columns)\n",
    "for col_index in [60, 61, 93, 94]:\n",
    "    print(listings_df.columns[col_index])\n",
    "listings_df.head()"
   ]
  },
  {
   "cell_type": "code",
   "execution_count": 3,
   "metadata": {},
   "outputs": [
    {
     "data": {
      "text/plain": [
       "11431"
      ]
     },
     "execution_count": 3,
     "metadata": {},
     "output_type": "execute_result"
    }
   ],
   "source": [
    "pd.isna(listings_df.review_scores_rating).sum()"
   ]
  },
  {
   "cell_type": "markdown",
   "metadata": {},
   "source": [
    "<br/>\n",
    "<p>As we will see later, those mixed columns are not necessary.  There are also more entries than in the first dataset that we looked at (hopefully for more accurate modeling).  Let's drop the mixed columns and other columns that have irrelevant data, majority incomplete data, or data that can be found in other tables.</p>"
   ]
  },
  {
   "cell_type": "code",
   "execution_count": 4,
   "metadata": {},
   "outputs": [
    {
     "name": "stdout",
     "output_type": "stream",
     "text": [
      "<class 'pandas.core.frame.DataFrame'>\n",
      "RangeIndex: 50796 entries, 0 to 50795\n",
      "Data columns (total 15 columns):\n",
      " #   Column                        Non-Null Count  Dtype  \n",
      "---  ------                        --------------  -----  \n",
      " 0   id                            50796 non-null  int64  \n",
      " 1   summary                       48341 non-null  object \n",
      " 2   neighbourhood_cleansed        50796 non-null  object \n",
      " 3   neighbourhood_group_cleansed  50796 non-null  object \n",
      " 4   latitude                      50796 non-null  float64\n",
      " 5   longitude                     50796 non-null  float64\n",
      " 6   room_type                     50796 non-null  object \n",
      " 7   accommodates                  50796 non-null  int64  \n",
      " 8   bathrooms                     50742 non-null  float64\n",
      " 9   bedrooms                      50719 non-null  float64\n",
      " 10  beds                          50314 non-null  float64\n",
      " 11  amenities                     50796 non-null  object \n",
      " 12  number_of_reviews             50796 non-null  int64  \n",
      " 13  review_scores_rating          39365 non-null  float64\n",
      " 14  reviews_per_month             40343 non-null  float64\n",
      "dtypes: float64(7), int64(3), object(5)\n",
      "memory usage: 5.8+ MB\n",
      "None\n"
     ]
    }
   ],
   "source": [
    "# calendar values scraped in a small window between 2019-12-04 and 2019-12-07\n",
    "\n",
    "listings_clean = listings_df.drop(['listing_url', 'scrape_id', 'last_scraped', 'name', 'space', \\\n",
    "    'description', 'experiences_offered', 'neighborhood_overview', 'notes', 'transit', 'access', 'interaction', \\\n",
    "    'house_rules', 'thumbnail_url', 'medium_url', 'picture_url', 'xl_picture_url', 'host_id', 'host_url', \\\n",
    "    'host_name', 'host_location', 'host_about', 'host_response_time', 'host_response_rate', \\\n",
    "    'host_acceptance_rate', 'host_since', 'host_listings_count', 'host_total_listings_count', \\\n",
    "    'host_verifications', 'host_is_superhost', 'host_thumbnail_url', 'host_picture_url', 'host_has_profile_pic', \\\n",
    "    'host_identity_verified', 'host_neighbourhood', 'street', 'neighbourhood', 'city', 'state', 'zipcode', \\\n",
    "    'market', 'smart_location', 'country_code', 'country', 'is_location_exact', 'instant_bookable', \\\n",
    "    'is_business_travel_ready', 'license', 'jurisdiction_names', 'review_scores_value', 'requires_license', \\\n",
    "    'review_scores_communication', 'bed_type', 'weekly_price', 'monthly_price', \\\n",
    "    'security_deposit', 'guests_included', 'minimum_minimum_nights', 'maximum_minimum_nights', \\\n",
    "    'minimum_maximum_nights', 'maximum_maximum_nights', 'calendar_updated', 'has_availability', \\\n",
    "    'calendar_last_scraped', 'number_of_reviews_ltm', 'first_review', 'last_review', 'review_scores_accuracy', \\\n",
    "    'review_scores_cleanliness', 'review_scores_checkin', 'review_scores_location', 'cancellation_policy', \\\n",
    "    'require_guest_profile_picture', 'require_guest_phone_verification', 'calculated_host_listings_count', \\\n",
    "    'calculated_host_listings_count_entire_homes', 'calculated_host_listings_count_private_rooms', \\\n",
    "    'calculated_host_listings_count_shared_rooms', 'cleaning_fee', 'extra_people', \\\n",
    "    'square_feet', 'property_type', 'minimum_nights_avg_ntm', \\\n",
    "    'maximum_nights_avg_ntm', 'price', 'minimum_nights', 'maximum_nights', 'availability_30', \\\n",
    "    'availability_60', 'availability_90', 'availability_365'], axis=1)\n",
    "print(listings_clean.info())\n"
   ]
  },
  {
   "cell_type": "markdown",
   "metadata": {},
   "source": [
    "<br/>\n",
    "<p>Columns <b>bathrooms, bedrooms, beds</b> have missing data, but thankfully not a lot.  We will try to clean that up.  Let's also rename a couple columns</p>"
   ]
  },
  {
   "cell_type": "code",
   "execution_count": 5,
   "metadata": {},
   "outputs": [
    {
     "name": "stdout",
     "output_type": "stream",
     "text": [
      "<class 'pandas.core.frame.DataFrame'>\n",
      "RangeIndex: 50796 entries, 0 to 50795\n",
      "Data columns (total 15 columns):\n",
      " #   Column                Non-Null Count  Dtype  \n",
      "---  ------                --------------  -----  \n",
      " 0   id                    50796 non-null  int64  \n",
      " 1   summary               48341 non-null  object \n",
      " 2   neighbourhood         50796 non-null  object \n",
      " 3   neighbourhood_group   50796 non-null  object \n",
      " 4   latitude              50796 non-null  float64\n",
      " 5   longitude             50796 non-null  float64\n",
      " 6   room_type             50796 non-null  object \n",
      " 7   accommodates          50796 non-null  int64  \n",
      " 8   bathrooms             50742 non-null  float64\n",
      " 9   bedrooms              50719 non-null  float64\n",
      " 10  beds                  50314 non-null  float64\n",
      " 11  amenities             50796 non-null  object \n",
      " 12  number_of_reviews     50796 non-null  int64  \n",
      " 13  review_scores_rating  39365 non-null  float64\n",
      " 14  reviews_per_month     40343 non-null  float64\n",
      "dtypes: float64(7), int64(3), object(5)\n",
      "memory usage: 5.8+ MB\n"
     ]
    }
   ],
   "source": [
    "listings_clean.rename(columns={\n",
    "    'neighbourhood_cleansed':'neighbourhood',\n",
    "    'neighbourhood_group_cleansed': 'neighbourhood_group'\n",
    "}, inplace=True)\n",
    "listings_clean.info()"
   ]
  },
  {
   "cell_type": "markdown",
   "metadata": {},
   "source": [
    "<br/>\n",
    "<p>Since the large majority of listings are homes/apts or private rooms, let's keep those listings.</p>"
   ]
  },
  {
   "cell_type": "code",
   "execution_count": 6,
   "metadata": {},
   "outputs": [
    {
     "name": "stdout",
     "output_type": "stream",
     "text": [
      "Entire home/apt    26274\n",
      "Private room       22895\n",
      "Shared room         1225\n",
      "Hotel room           402\n",
      "Name: room_type, dtype: int64\n"
     ]
    }
   ],
   "source": [
    "print(listings_clean.room_type.value_counts())\n",
    "listings_clean = listings_clean.loc[\n",
    "    (listings_clean.room_type == 'Entire home/apt') |\n",
    "    (listings_clean.room_type == 'Private room')\n",
    "]"
   ]
  },
  {
   "cell_type": "markdown",
   "metadata": {},
   "source": [
    "<br/>\n",
    "<p>We see some possible outliers for <b>accommodates, bathrooms, bedrooms, beds</b>.</p>"
   ]
  },
  {
   "cell_type": "code",
   "execution_count": 7,
   "metadata": {},
   "outputs": [
    {
     "data": {
      "text/html": [
       "<div>\n",
       "<style scoped>\n",
       "    .dataframe tbody tr th:only-of-type {\n",
       "        vertical-align: middle;\n",
       "    }\n",
       "\n",
       "    .dataframe tbody tr th {\n",
       "        vertical-align: top;\n",
       "    }\n",
       "\n",
       "    .dataframe thead th {\n",
       "        text-align: right;\n",
       "    }\n",
       "</style>\n",
       "<table border=\"1\" class=\"dataframe\">\n",
       "  <thead>\n",
       "    <tr style=\"text-align: right;\">\n",
       "      <th></th>\n",
       "      <th>id</th>\n",
       "      <th>latitude</th>\n",
       "      <th>longitude</th>\n",
       "      <th>accommodates</th>\n",
       "      <th>bathrooms</th>\n",
       "      <th>bedrooms</th>\n",
       "      <th>beds</th>\n",
       "      <th>number_of_reviews</th>\n",
       "      <th>review_scores_rating</th>\n",
       "      <th>reviews_per_month</th>\n",
       "    </tr>\n",
       "  </thead>\n",
       "  <tbody>\n",
       "    <tr>\n",
       "      <th>count</th>\n",
       "      <td>4.916900e+04</td>\n",
       "      <td>49169.000000</td>\n",
       "      <td>49169.000000</td>\n",
       "      <td>49169.000000</td>\n",
       "      <td>49118.000000</td>\n",
       "      <td>49092.000000</td>\n",
       "      <td>48716.000000</td>\n",
       "      <td>49169.000000</td>\n",
       "      <td>38240.000000</td>\n",
       "      <td>39195.000000</td>\n",
       "    </tr>\n",
       "    <tr>\n",
       "      <th>mean</th>\n",
       "      <td>2.241675e+07</td>\n",
       "      <td>40.728961</td>\n",
       "      <td>-73.950807</td>\n",
       "      <td>2.890236</td>\n",
       "      <td>1.145079</td>\n",
       "      <td>1.187750</td>\n",
       "      <td>1.543887</td>\n",
       "      <td>25.326242</td>\n",
       "      <td>94.021705</td>\n",
       "      <td>1.276515</td>\n",
       "    </tr>\n",
       "    <tr>\n",
       "      <th>std</th>\n",
       "      <td>1.317265e+07</td>\n",
       "      <td>0.054806</td>\n",
       "      <td>0.047685</td>\n",
       "      <td>1.899283</td>\n",
       "      <td>0.421535</td>\n",
       "      <td>0.769927</td>\n",
       "      <td>1.128664</td>\n",
       "      <td>49.059322</td>\n",
       "      <td>8.644751</td>\n",
       "      <td>1.578123</td>\n",
       "    </tr>\n",
       "    <tr>\n",
       "      <th>min</th>\n",
       "      <td>2.060000e+03</td>\n",
       "      <td>40.499790</td>\n",
       "      <td>-74.240840</td>\n",
       "      <td>1.000000</td>\n",
       "      <td>0.000000</td>\n",
       "      <td>0.000000</td>\n",
       "      <td>0.000000</td>\n",
       "      <td>0.000000</td>\n",
       "      <td>20.000000</td>\n",
       "      <td>0.010000</td>\n",
       "    </tr>\n",
       "    <tr>\n",
       "      <th>25%</th>\n",
       "      <td>1.054268e+07</td>\n",
       "      <td>40.689550</td>\n",
       "      <td>-73.983110</td>\n",
       "      <td>2.000000</td>\n",
       "      <td>1.000000</td>\n",
       "      <td>1.000000</td>\n",
       "      <td>1.000000</td>\n",
       "      <td>1.000000</td>\n",
       "      <td>92.000000</td>\n",
       "      <td>0.180000</td>\n",
       "    </tr>\n",
       "    <tr>\n",
       "      <th>50%</th>\n",
       "      <td>2.203498e+07</td>\n",
       "      <td>40.723090</td>\n",
       "      <td>-73.955080</td>\n",
       "      <td>2.000000</td>\n",
       "      <td>1.000000</td>\n",
       "      <td>1.000000</td>\n",
       "      <td>1.000000</td>\n",
       "      <td>5.000000</td>\n",
       "      <td>96.000000</td>\n",
       "      <td>0.630000</td>\n",
       "    </tr>\n",
       "    <tr>\n",
       "      <th>75%</th>\n",
       "      <td>3.468498e+07</td>\n",
       "      <td>40.762870</td>\n",
       "      <td>-73.933720</td>\n",
       "      <td>4.000000</td>\n",
       "      <td>1.000000</td>\n",
       "      <td>1.000000</td>\n",
       "      <td>2.000000</td>\n",
       "      <td>25.000000</td>\n",
       "      <td>100.000000</td>\n",
       "      <td>1.900000</td>\n",
       "    </tr>\n",
       "    <tr>\n",
       "      <th>max</th>\n",
       "      <td>4.289272e+07</td>\n",
       "      <td>40.911690</td>\n",
       "      <td>-73.711560</td>\n",
       "      <td>22.000000</td>\n",
       "      <td>15.500000</td>\n",
       "      <td>21.000000</td>\n",
       "      <td>40.000000</td>\n",
       "      <td>695.000000</td>\n",
       "      <td>100.000000</td>\n",
       "      <td>33.710000</td>\n",
       "    </tr>\n",
       "  </tbody>\n",
       "</table>\n",
       "</div>"
      ],
      "text/plain": [
       "                 id      latitude     longitude  accommodates     bathrooms  \\\n",
       "count  4.916900e+04  49169.000000  49169.000000  49169.000000  49118.000000   \n",
       "mean   2.241675e+07     40.728961    -73.950807      2.890236      1.145079   \n",
       "std    1.317265e+07      0.054806      0.047685      1.899283      0.421535   \n",
       "min    2.060000e+03     40.499790    -74.240840      1.000000      0.000000   \n",
       "25%    1.054268e+07     40.689550    -73.983110      2.000000      1.000000   \n",
       "50%    2.203498e+07     40.723090    -73.955080      2.000000      1.000000   \n",
       "75%    3.468498e+07     40.762870    -73.933720      4.000000      1.000000   \n",
       "max    4.289272e+07     40.911690    -73.711560     22.000000     15.500000   \n",
       "\n",
       "           bedrooms          beds  number_of_reviews  review_scores_rating  \\\n",
       "count  49092.000000  48716.000000       49169.000000          38240.000000   \n",
       "mean       1.187750      1.543887          25.326242             94.021705   \n",
       "std        0.769927      1.128664          49.059322              8.644751   \n",
       "min        0.000000      0.000000           0.000000             20.000000   \n",
       "25%        1.000000      1.000000           1.000000             92.000000   \n",
       "50%        1.000000      1.000000           5.000000             96.000000   \n",
       "75%        1.000000      2.000000          25.000000            100.000000   \n",
       "max       21.000000     40.000000         695.000000            100.000000   \n",
       "\n",
       "       reviews_per_month  \n",
       "count       39195.000000  \n",
       "mean            1.276515  \n",
       "std             1.578123  \n",
       "min             0.010000  \n",
       "25%             0.180000  \n",
       "50%             0.630000  \n",
       "75%             1.900000  \n",
       "max            33.710000  "
      ]
     },
     "execution_count": 7,
     "metadata": {},
     "output_type": "execute_result"
    }
   ],
   "source": [
    "listings_clean.describe()"
   ]
  },
  {
   "cell_type": "markdown",
   "metadata": {},
   "source": [
    "<br/>\n",
    "<p>Check for duplicate latitude and longitude value pairs, which most likely means duplicate listings</p>"
   ]
  },
  {
   "cell_type": "code",
   "execution_count": 8,
   "metadata": {},
   "outputs": [
    {
     "name": "stdout",
     "output_type": "stream",
     "text": [
      "<class 'pandas.core.frame.DataFrame'>\n",
      "RangeIndex: 48543 entries, 0 to 48542\n",
      "Data columns (total 15 columns):\n",
      " #   Column                Non-Null Count  Dtype  \n",
      "---  ------                --------------  -----  \n",
      " 0   id                    48543 non-null  int64  \n",
      " 1   summary               46225 non-null  object \n",
      " 2   neighbourhood         48543 non-null  object \n",
      " 3   neighbourhood_group   48543 non-null  object \n",
      " 4   latitude              48543 non-null  float64\n",
      " 5   longitude             48543 non-null  float64\n",
      " 6   room_type             48543 non-null  object \n",
      " 7   accommodates          48543 non-null  int64  \n",
      " 8   bathrooms             48492 non-null  float64\n",
      " 9   bedrooms              48466 non-null  float64\n",
      " 10  beds                  48091 non-null  float64\n",
      " 11  amenities             48543 non-null  object \n",
      " 12  number_of_reviews     48543 non-null  int64  \n",
      " 13  review_scores_rating  37836 non-null  float64\n",
      " 14  reviews_per_month     38788 non-null  float64\n",
      "dtypes: float64(7), int64(3), object(5)\n",
      "memory usage: 5.6+ MB\n"
     ]
    }
   ],
   "source": [
    "# https://stackoverflow.com/questions/44481768/remove-duplicate-rows-from-pandas-dataframe-where-only-some-columns-have-the-sam\n",
    "# https://stackoverflow.com/questions/16167829/in-pandas-how-can-i-reset-index-without-adding-a-new-column\n",
    "\n",
    "listings_clean = listings_clean.drop_duplicates(subset=['latitude', 'longitude']).reset_index(drop=True)\n",
    "listings_clean.info()"
   ]
  },
  {
   "cell_type": "markdown",
   "metadata": {},
   "source": [
    "<br/>\n",
    "<p>Look at non-numerical columns to see if they can be categorized.</p>"
   ]
  },
  {
   "cell_type": "code",
   "execution_count": 9,
   "metadata": {},
   "outputs": [
    {
     "name": "stdout",
     "output_type": "stream",
     "text": [
      "Entire home/apt    25871\n",
      "Private room       22672\n",
      "Name: room_type, dtype: int64\n",
      "Manhattan        21153\n",
      "Brooklyn         19889\n",
      "Queens            5951\n",
      "Bronx             1182\n",
      "Staten Island      368\n",
      "Name: neighbourhood_group, dtype: int64\n",
      "Williamsburg          3799\n",
      "Bedford-Stuyvesant    3730\n",
      "Harlem                2674\n",
      "Bushwick              2428\n",
      "Hell's Kitchen        1922\n",
      "                      ... \n",
      "Willowbrook              1\n",
      "Huguenot                 1\n",
      "Glen Oaks                1\n",
      "Rossville                1\n",
      "New Dorp                 1\n",
      "Name: neighbourhood, Length: 222, dtype: int64\n"
     ]
    }
   ],
   "source": [
    "# http://benalexkeen.com/mapping-categorical-data-in-pandas/\n",
    "\n",
    "print(listings_clean.room_type.value_counts())\n",
    "print(listings_clean.neighbourhood_group.value_counts())\n",
    "print(listings_clean.neighbourhood.value_counts())\n"
   ]
  },
  {
   "cell_type": "code",
   "execution_count": 10,
   "metadata": {},
   "outputs": [
    {
     "name": "stdout",
     "output_type": "stream",
     "text": [
      "1.0     12872\n",
      "2.0      6187\n",
      "0.0      4023\n",
      "3.0      2052\n",
      "4.0       485\n",
      "5.0       127\n",
      "6.0        41\n",
      "7.0        14\n",
      "8.0        10\n",
      "10.0        4\n",
      "9.0         3\n",
      "21.0        1\n",
      "14.0        1\n",
      "13.0        1\n",
      "Name: bedrooms, dtype: int64\n",
      "1.0     11350\n",
      "2.0      7948\n",
      "3.0      3273\n",
      "4.0      1410\n",
      "0.0       780\n",
      "5.0       527\n",
      "6.0       250\n",
      "7.0       101\n",
      "8.0        50\n",
      "9.0        27\n",
      "10.0       16\n",
      "11.0       14\n",
      "12.0       14\n",
      "13.0        7\n",
      "14.0        5\n",
      "16.0        5\n",
      "15.0        1\n",
      "24.0        1\n",
      "17.0        1\n",
      "22.0        1\n",
      "26.0        1\n",
      "40.0        1\n",
      "18.0        1\n",
      "Name: beds, dtype: int64\n",
      "1.0     21964\n",
      "2.0      2273\n",
      "1.5       870\n",
      "2.5       333\n",
      "3.0       203\n",
      "3.5        73\n",
      "4.0        45\n",
      "0.5        27\n",
      "0.0        24\n",
      "4.5        17\n",
      "5.0        11\n",
      "6.0         7\n",
      "5.5         4\n",
      "7.5         4\n",
      "6.5         1\n",
      "7.0         1\n",
      "15.5        1\n",
      "Name: bathrooms, dtype: int64\n"
     ]
    }
   ],
   "source": [
    "home_listings = listings_clean.loc[listings_clean.room_type == 'Entire home/apt']\n",
    "print(home_listings.bedrooms.value_counts())\n",
    "print(home_listings.beds.value_counts())\n",
    "print(home_listings.bathrooms.value_counts())"
   ]
  },
  {
   "cell_type": "markdown",
   "metadata": {},
   "source": [
    "<p>We see some outliers that may skew any modeling, so let's remove any listing over 10 <b>bedrooms</b>, 12 <b>beds</b>, and 5 <b>bathrooms</b>.  Realistically the vast majority of property owners are not listing super mansions.</p>"
   ]
  },
  {
   "cell_type": "code",
   "execution_count": 11,
   "metadata": {},
   "outputs": [],
   "source": [
    "listings_clean = listings_clean.loc[\n",
    "    (listings_clean.bedrooms <= 10) & (listings_clean.beds <=12) & (listings_clean.bathrooms <= 5)\n",
    "]"
   ]
  },
  {
   "cell_type": "code",
   "execution_count": 12,
   "metadata": {},
   "outputs": [
    {
     "data": {
      "text/plain": [
       "<matplotlib.axes._subplots.AxesSubplot at 0x14a088398d0>"
      ]
     },
     "execution_count": 12,
     "metadata": {},
     "output_type": "execute_result"
    },
    {
     "data": {
      "image/png": "[encoded data removed]",
      "text/plain": [
       "<Figure size 1440x720 with 1 Axes>"
      ]
     },
     "metadata": {
      "needs_background": "light"
     },
     "output_type": "display_data"
    }
   ],
   "source": [
    "home_listings.bedrooms.plot(kind='hist', figsize=(20, 10))"
   ]
  },
  {
   "cell_type": "markdown",
   "metadata": {},
   "source": [
    "<p>Home listings are heavily skewed toward single bedroom.  Perhaps we can approximate <b>bedrooms, bathrooms, beds</b> as exponential distributions.</p>\n",
    "<p>Let's do the same analysis for single room type listings</p>"
   ]
  },
  {
   "cell_type": "code",
   "execution_count": 13,
   "metadata": {},
   "outputs": [
    {
     "name": "stdout",
     "output_type": "stream",
     "text": [
      "1.0    21050\n",
      "2.0      566\n",
      "0.0      467\n",
      "3.0      123\n",
      "4.0       45\n",
      "5.0        8\n",
      "6.0        2\n",
      "9.0        1\n",
      "8.0        1\n",
      "Name: bedrooms, dtype: int64\n",
      "1.0     18667\n",
      "2.0      2298\n",
      "0.0       768\n",
      "3.0       351\n",
      "4.0       127\n",
      "5.0        27\n",
      "6.0        17\n",
      "8.0         3\n",
      "9.0         2\n",
      "12.0        2\n",
      "10.0        1\n",
      "Name: beds, dtype: int64\n",
      "1.0    18731\n",
      "2.0     1586\n",
      "1.5     1505\n",
      "3.0      136\n",
      "2.5      110\n",
      "0.0       72\n",
      "0.5       67\n",
      "4.0       39\n",
      "3.5       11\n",
      "4.5        6\n",
      "Name: bathrooms, dtype: int64\n"
     ]
    }
   ],
   "source": [
    "room_listings = listings_clean.loc[listings_clean.room_type != 'Entire home/apt']\n",
    "print(room_listings.bedrooms.value_counts())\n",
    "print(room_listings.beds.value_counts())\n",
    "print(room_listings.bathrooms.value_counts())"
   ]
  },
  {
   "cell_type": "code",
   "execution_count": 14,
   "metadata": {},
   "outputs": [
    {
     "data": {
      "text/plain": [
       "<matplotlib.axes._subplots.AxesSubplot at 0x14a08908e10>"
      ]
     },
     "execution_count": 14,
     "metadata": {},
     "output_type": "execute_result"
    },
    {
     "data": {
      "image/png": "[encoded data removed]",
      "text/plain": [
       "<Figure size 1440x720 with 1 Axes>"
      ]
     },
     "metadata": {
      "needs_background": "light"
     },
     "output_type": "display_data"
    }
   ],
   "source": [
    "room_listings.bedrooms.plot(kind='hist', figsize=(20, 10))"
   ]
  },
  {
   "cell_type": "markdown",
   "metadata": {},
   "source": [
    "<p>We get similar results to home listings, which is odd.  Perhaps some single room type listings were incorrectly listed.  That means we may not be able to rely on <b>room_type</b> as a factor in filling in any missing bedroom and bathroom values.</p>\n",
    "\n",
    "<p>Let's do some data cleaning by filling in the missing <b>bedrooms, bathrooms, beds</b> values (disregarding homes/apts vs. single room since <b>room_type</b> is not always indicative of multiple rooms vs. one room).  0 values can still be considered valid (e.g. studio apt, shared living area, shared bathroom, non-bed type sleeping arrangment).  We will assume that 0.001 degree latitude or longitude <a href=https://gizmodo.com/how-precise-is-one-degree-of-longitude-or-latitude-1631241162\">is about 100 m</a>.  Let's average over an area of 200 m radius from listings that have missing data.  We will group by <b>neighbourhood</b> when calculating the mean.</p>"
   ]
  },
  {
   "cell_type": "code",
   "execution_count": 15,
   "metadata": {},
   "outputs": [],
   "source": [
    "lat_diff = 0.002\n",
    "long_diff = 0.002\n",
    "def avg_of_neighbors(row, col_name, col_index):\n",
    "    item = row[col_index]\n",
    "    room_type = row[5]\n",
    "    lat = row[3]\n",
    "    long = row[4]\n",
    "    if math.isnan(item):\n",
    "        item = listings_clean[col_name].loc[(listings_clean.latitude > lat - lat_diff) \\\n",
    "            & (listings_clean.latitude < lat + lat_diff) \\\n",
    "            & (listings_clean.longitude > long - long_diff) \\\n",
    "            & (listings_clean.longitude < long + long_diff)].groupby(by=listings_clean.neighbourhood).mean().round()[0]\n",
    "        row[col_index] = item\n",
    "    return row\n",
    "\n",
    "listings_clean = listings_clean.apply(avg_of_neighbors, col_name='bathrooms', col_index=7, axis=1)\n",
    "listings_clean = listings_clean.apply(avg_of_neighbors, col_name='bedrooms', col_index=8, axis=1)\n",
    "listings_clean = listings_clean.apply(avg_of_neighbors, col_name='beds', col_index=9, axis=1)"
   ]
  },
  {
   "cell_type": "code",
   "execution_count": 16,
   "metadata": {},
   "outputs": [
    {
     "name": "stdout",
     "output_type": "stream",
     "text": [
      "1.0     33871\n",
      "2.0      6738\n",
      "0.0      4479\n",
      "3.0      2168\n",
      "4.0       527\n",
      "5.0       124\n",
      "6.0        36\n",
      "7.0        11\n",
      "8.0         6\n",
      "9.0         3\n",
      "10.0        1\n",
      "Name: bedrooms, dtype: int64\n",
      "1.0    40583\n",
      "2.0     3856\n",
      "1.5     2370\n",
      "2.5      438\n",
      "3.0      333\n",
      "0.0       96\n",
      "0.5       94\n",
      "3.5       82\n",
      "4.0       80\n",
      "4.5       23\n",
      "5.0        9\n",
      "Name: bathrooms, dtype: int64\n",
      "1.0     29979\n",
      "2.0     10239\n",
      "3.0      3624\n",
      "0.0      1547\n",
      "4.0      1537\n",
      "5.0       550\n",
      "6.0       267\n",
      "7.0       101\n",
      "8.0        52\n",
      "9.0        28\n",
      "10.0       15\n",
      "12.0       13\n",
      "11.0       12\n",
      "Name: beds, dtype: int64\n"
     ]
    }
   ],
   "source": [
    "print(listings_clean.bedrooms.value_counts())\n",
    "print(listings_clean.bathrooms.value_counts())\n",
    "print(listings_clean.beds.value_counts())"
   ]
  },
  {
   "cell_type": "code",
   "execution_count": 17,
   "metadata": {},
   "outputs": [
    {
     "data": {
      "text/plain": [
       "<matplotlib.axes._subplots.AxesSubplot at 0x14a0adf6828>"
      ]
     },
     "execution_count": 17,
     "metadata": {},
     "output_type": "execute_result"
    },
    {
     "data": {
      "image/png": "[encoded data removed]",
      "text/plain": [
       "<Figure size 1440x720 with 1 Axes>"
      ]
     },
     "metadata": {
      "needs_background": "light"
     },
     "output_type": "display_data"
    }
   ],
   "source": [
    "listings_clean.bedrooms.plot(kind='hist', figsize=(20, 10))"
   ]
  },
  {
   "cell_type": "code",
   "execution_count": 18,
   "metadata": {},
   "outputs": [
    {
     "data": {
      "text/plain": [
       "<matplotlib.axes._subplots.AxesSubplot at 0x14a0b54d208>"
      ]
     },
     "execution_count": 18,
     "metadata": {},
     "output_type": "execute_result"
    },
    {
     "data": {
      "image/png": "[encoded data removed]",
      "text/plain": [
       "<Figure size 1440x720 with 1 Axes>"
      ]
     },
     "metadata": {
      "needs_background": "light"
     },
     "output_type": "display_data"
    }
   ],
   "source": [
    "listings_clean.bathrooms.plot(kind='hist', figsize=(20, 10))"
   ]
  },
  {
   "cell_type": "markdown",
   "metadata": {},
   "source": [
    "<p>After <b>bedrooms, bathrooms, beds</b> cleanup, we are able to see a bit more detail in the distributions.  They are approximately exponential (again skewed toward 1).</p>\n",
    "\n",
    "<p>Final check on the listings for any missing data.</p>"
   ]
  },
  {
   "cell_type": "code",
   "execution_count": 19,
   "metadata": {},
   "outputs": [
    {
     "name": "stdout",
     "output_type": "stream",
     "text": [
      "<class 'pandas.core.frame.DataFrame'>\n",
      "Int64Index: 47964 entries, 1 to 48542\n",
      "Data columns (total 15 columns):\n",
      " #   Column                Non-Null Count  Dtype  \n",
      "---  ------                --------------  -----  \n",
      " 0   id                    47964 non-null  int64  \n",
      " 1   summary               45803 non-null  object \n",
      " 2   neighbourhood         47964 non-null  object \n",
      " 3   neighbourhood_group   47964 non-null  object \n",
      " 4   latitude              47964 non-null  float64\n",
      " 5   longitude             47964 non-null  float64\n",
      " 6   room_type             47964 non-null  object \n",
      " 7   accommodates          47964 non-null  int64  \n",
      " 8   bathrooms             47964 non-null  float64\n",
      " 9   bedrooms              47964 non-null  float64\n",
      " 10  beds                  47964 non-null  float64\n",
      " 11  amenities             47964 non-null  object \n",
      " 12  number_of_reviews     47964 non-null  int64  \n",
      " 13  review_scores_rating  37615 non-null  float64\n",
      " 14  reviews_per_month     38551 non-null  float64\n",
      "dtypes: float64(7), int64(3), object(5)\n",
      "memory usage: 5.9+ MB\n",
      "Manhattan        20959\n",
      "Brooklyn         19618\n",
      "Queens            5865\n",
      "Bronx             1160\n",
      "Staten Island      362\n",
      "Name: neighbourhood_group, dtype: int64\n",
      "Williamsburg          3750\n",
      "Bedford-Stuyvesant    3678\n",
      "Harlem                2639\n",
      "Bushwick              2371\n",
      "Hell's Kitchen        1911\n",
      "                      ... \n",
      "Willowbrook              1\n",
      "Glen Oaks                1\n",
      "Huguenot                 1\n",
      "Fort Wadsworth           1\n",
      "Gerritsen Beach          1\n",
      "Name: neighbourhood, Length: 222, dtype: int64\n"
     ]
    }
   ],
   "source": [
    "listings_clean.info()\n",
    "print(listings_clean.neighbourhood_group.value_counts())\n",
    "print(listings_clean.neighbourhood.value_counts())"
   ]
  },
  {
   "cell_type": "code",
   "execution_count": 20,
   "metadata": {},
   "outputs": [
    {
     "data": {
      "text/plain": [
       "<matplotlib.axes._subplots.AxesSubplot at 0x14a0b4d7668>"
      ]
     },
     "execution_count": 20,
     "metadata": {},
     "output_type": "execute_result"
    },
    {
     "data": {
      "image/png": "[encoded data removed]",
      "text/plain": [
       "<Figure size 1440x720 with 1 Axes>"
      ]
     },
     "metadata": {
      "needs_background": "light"
     },
     "output_type": "display_data"
    }
   ],
   "source": [
    "listings_clean.review_scores_rating.plot(kind='hist', figsize=(20, 10))"
   ]
  },
  {
   "cell_type": "code",
   "execution_count": 21,
   "metadata": {},
   "outputs": [],
   "source": [
    "listings_clean['review_scores_rating'].fillna(listings_clean.review_scores_rating.mean(), inplace=True)"
   ]
  },
  {
   "cell_type": "markdown",
   "metadata": {},
   "source": [
    "<p>One hot encode the <b>neighbourhood</b> values.  Drop non-numerical columns as well as listing IDs (which do not have any meaning for modeling).  Also convert <b>room_type</b> to 1 and 0 valued <b>entire_home_apt</b>.</p>"
   ]
  },
  {
   "cell_type": "code",
   "execution_count": 22,
   "metadata": {},
   "outputs": [],
   "source": [
    "def cleanup_neighbourhood(val):\n",
    "    return val.replace(' ', '_').lower()\n",
    "\n",
    "listings_clean['neighbourhood'] = listings_clean.neighbourhood.apply(cleanup_neighbourhood)\n",
    "listings_clean['neighbourhood'] = listings_clean.neighbourhood.astype('category')\n",
    "listings_clean['neighbourhood'] = listings_clean.neighbourhood.cat.codes"
   ]
  },
  {
   "cell_type": "code",
   "execution_count": 23,
   "metadata": {},
   "outputs": [],
   "source": [
    "listings_clean['entire_home_apt'] = np.where(listings_clean.room_type == 'Entire home/apt', 1, 0)"
   ]
  },
  {
   "cell_type": "code",
   "execution_count": 24,
   "metadata": {},
   "outputs": [],
   "source": [
    "import string\n",
    "\n",
    "def cleanup_amenities(text):\n",
    "    remove = string.punctuation\n",
    "    remove = remove.replace(\"-\", \"\").replace(\",\", \"\").replace(\"/\", \"\")\n",
    "    text = text.lower().translate({ord(char): None for char in remove})\n",
    "    text = text.replace(\"translation missing enhostingamenity49\", \"\")\n",
    "    text = text.replace(\"translation missing enhostingamenity50\", \"\")\n",
    "    text = text.replace(\",,\", \",\").replace(\"’\", \"\").replace(' / ', ' ').replace('/', ' ')\n",
    "    text = text.replace(' ', '_').replace('-', '_')\n",
    "    return text.split(\",\")\n",
    "\n",
    "listings_clean['amenities'] = listings_clean['amenities'].apply(cleanup_amenities)"
   ]
  },
  {
   "cell_type": "code",
   "execution_count": 25,
   "metadata": {},
   "outputs": [],
   "source": [
    "amenities_sparse = listings_clean.amenities.str.join('|').str.get_dummies()\n",
    "listings_clean = listings_clean.join(amenities_sparse)"
   ]
  },
  {
   "cell_type": "code",
   "execution_count": 26,
   "metadata": {},
   "outputs": [
    {
     "name": "stdout",
     "output_type": "stream",
     "text": [
      "\n",
      "24_hour_check_in\n",
      "_toilet\n",
      "accessible_height_bed\n",
      "accessible_height_toilet\n",
      "air_conditioning\n",
      "air_purifier\n",
      "baby_bath\n",
      "baby_monitor\n",
      "babysitter_recommendations\n",
      "baking_sheet\n",
      "barbecue_utensils\n",
      "bathtub\n",
      "bathtub_with_bath_chair\n",
      "bbq_grill\n",
      "beach_essentials\n",
      "beachfront\n",
      "bed_linens\n",
      "bread_maker\n",
      "breakfast\n",
      "building_staff\n",
      "buzzer_wireless_intercom\n",
      "cable_tv\n",
      "carbon_monoxide_detector\n",
      "cats\n",
      "changing_table\n",
      "childrens_books_and_toys\n",
      "childrens_dinnerware\n",
      "cleaning_before_checkout\n",
      "coffee_maker\n",
      "cooking_basics\n",
      "crib\n",
      "disabled_parking_spot\n",
      "dishes_and_silverware\n",
      "dishwasher\n",
      "dogs\n",
      "doorman\n",
      "dryer\n",
      "electric_profiling_bed\n",
      "elevator\n",
      "essentials\n",
      "ethernet_connection\n",
      "ev_charger\n",
      "extra_pillows_and_blankets\n",
      "extra_space_around_bed\n",
      "family_kid_friendly\n",
      "fire_extinguisher\n",
      "fireplace_guards\n",
      "firm_mattress\n",
      "first_aid_kit\n",
      "fixed_grab_bars_for_shower\n",
      "fixed_grab_bars_for_toilet\n",
      "flat_path_to_guest_entrance\n",
      "free_parking_on_premises\n",
      "free_street_parking\n",
      "full_kitchen\n",
      "game_console\n",
      "garden_or_backyard\n",
      "ground_floor_access\n",
      "gym\n",
      "hair_dryer\n",
      "handheld_shower_head\n",
      "hangers\n",
      "heating\n",
      "high_chair\n",
      "host_greets_you\n",
      "hot_tub\n",
      "hot_water\n",
      "hot_water_kettle\n",
      "indoor_fireplace\n",
      "internet\n",
      "iron\n",
      "keypad\n",
      "kitchen\n",
      "kitchenette\n",
      "lake_access\n",
      "laptop_friendly_workspace\n",
      "lock_on_bedroom_door\n",
      "lockbox\n",
      "long_term_stays_allowed\n",
      "luggage_dropoff_allowed\n",
      "microwave\n",
      "mobile_hoist\n",
      "no_stairs_or_steps_to_enter\n",
      "other\n",
      "other_pets\n",
      "outlet_covers\n",
      "oven\n",
      "pack_n_play_travel_crib\n",
      "paid_parking_off_premises\n",
      "paid_parking_on_premises\n",
      "patio_or_balcony\n",
      "pets_allowed\n",
      "pets_live_on_this_property\n",
      "pocket_wifi\n",
      "pool\n",
      "private_bathroom\n",
      "private_entrance\n",
      "private_living_room\n",
      "refrigerator\n",
      "room_darkening_shades\n",
      "safety_card\n",
      "self_check_in\n",
      "shampoo\n",
      "shower_chair\n",
      "shower_gel\n",
      "single_level_home\n",
      "ski_in_ski_out\n",
      "smart_lock\n",
      "smoke_detector\n",
      "smoking_allowed\n",
      "snacks\n",
      "stair_gates\n",
      "step_free_shower\n",
      "stove\n",
      "suitable_for_events\n",
      "table_corner_guards\n",
      "trash_can\n",
      "tv\n",
      "washer\n",
      "washer_dryer\n",
      "waterfront\n",
      "well_lit_path_to_entrance\n",
      "wheelchair_accessible\n",
      "wide_clearance_to_shower\n",
      "wide_doorway_to_guest_bathroom\n",
      "wide_entrance\n",
      "wide_entrance_for_guests\n",
      "wide_entryway\n",
      "wide_hallways\n",
      "wifi\n",
      "window_guards\n"
     ]
    }
   ],
   "source": [
    "print()\n",
    "for c in amenities_sparse.columns:\n",
    "    print(c)"
   ]
  },
  {
   "cell_type": "code",
   "execution_count": 27,
   "metadata": {},
   "outputs": [],
   "source": [
    "# import re\n",
    "# import string\n",
    "# import nltk\n",
    "# from nltk.tokenize import word_tokenize\n",
    "# from nltk.corpus import stopwords\n",
    "# from nltk.stem import WordNetLemmatizer\n",
    "\n",
    "# nltk.download('punkt')\n",
    "# nltk.download('stopwords')\n",
    "# nltk.download('wordnet')\n",
    "# stop_words = set(stopwords.words('english'))\n",
    "# lemmatizer = WordNetLemmatizer()\n",
    "\n",
    "# remove = string.punctuation\n",
    "\n",
    "# def tokenize_summary(text):\n",
    "    \n",
    "#     text = str(text)\n",
    "#     text = text.lower().translate({ord(char): None for char in remove})\n",
    "#     text = re.sub(r'\\d+', '', text)\n",
    "#     text = lemmatizer.lemmatize(text)\n",
    "#     words = word_tokenize(text)\n",
    "#     return [w for w in words if w not in stop_words and re.sub('[\\W_]+', '', w)]\n",
    "\n",
    "# listings_clean['summary_tokenized'] = listings_clean['summary'].apply(tokenize_summary)"
   ]
  },
  {
   "cell_type": "code",
   "execution_count": 28,
   "metadata": {},
   "outputs": [],
   "source": [
    "# import re\n",
    "# from nltk.tokenize import word_tokenize, punkt\n",
    "# from nltk.corpus import stopwords\n",
    "# from nltk.stem import WordNetLemmatizer\n",
    "\n",
    "# nltk.download('punkt')\n",
    "# nltk.download('stopwords')\n",
    "# nltk.download('wordnet')\n",
    "# stop_words = stopwords.words('english')\n",
    "# stop_words = stop_words + ['ps', 'hello', 'go', 'everyone', 's', 'sf', 'nt', 'pmam', 'wown', 'see']\n",
    "# lemmatizer = WordNetLemmatizer()\n",
    "\n",
    "# def tokenize_summary(text):\n",
    "#     text = re.sub(r'\\d+', '', str(text))\n",
    "#     tokens = word_tokenize(text)\n",
    "#     tokens = list(filter(lambda token: punkt.PunktToken(token).is_non_punct, tokens))\n",
    "#     tokens = [token.translate({ord(char): None for char in remove}) for token in tokens]\n",
    "#     tokens = [token.lower() for token in tokens]\n",
    "#     tokens = list(filter(lambda token: token not in stop_words, tokens))\n",
    "#     tokens = [lemmatizer.lemmatize(token) for token in tokens]\n",
    "#     return tokens\n",
    "\n",
    "# text = listings_clean.summary[11]\n",
    "\n",
    "# tokenize_summary(text)"
   ]
  },
  {
   "cell_type": "code",
   "execution_count": 29,
   "metadata": {},
   "outputs": [],
   "source": [
    "# summary_tokenized = listings_clean.iloc[:1000,:].summary_tokenized.str.join('|').str.get_dummies()\n",
    "# print(\"Number of features from tokenized listing summaries:\", len(summary_tokenized.columns))\n",
    "# for c in summary_tokenized.columns:\n",
    "#     print(c)\n",
    "\n",
    "# listings_clean = listings_clean.join(summary_tokenized)"
   ]
  },
  {
   "cell_type": "markdown",
   "metadata": {},
   "source": [
    "<br/>\n",
    "<p>Now let's take a look at the time series data for availability, price, and nights.  <a href=http://data.insideairbnb.com/united-states/ny/new-york-city/2019-12-04/data/calendar.csv.gz><b>Calendar.csv</b></a> comes from the same <a href=\"http://insideairbnb.com/get-the-data.html\">source</a> as <b>listings.csv</b></p>."
   ]
  },
  {
   "cell_type": "code",
   "execution_count": 30,
   "metadata": {},
   "outputs": [],
   "source": [
    "import pandas as pd\n",
    "import numpy as np\n",
    "import matplotlib.pyplot as plt\n",
    "import math\n",
    "\n",
    "%matplotlib inline\n",
    "calendar_df = pd.read_csv('calendar.csv.gz', parse_dates=['date'])"
   ]
  },
  {
   "cell_type": "markdown",
   "metadata": {},
   "source": [
    "<br/>\n",
    "<p>This time we don't have to deal with columns of mixed data, nor do we have a large number of columns like in the <b>listings_clean</b> table.  We do, however, have over 18 million entries, which makes sense given that this is time series data over a year for 50,000+ listings.  We will have to clean up availability and price.</p>"
   ]
  },
  {
   "cell_type": "code",
   "execution_count": 31,
   "metadata": {},
   "outputs": [
    {
     "name": "stdout",
     "output_type": "stream",
     "text": [
      "<class 'pandas.core.frame.DataFrame'>\n",
      "RangeIndex: 18540540 entries, 0 to 18540539\n",
      "Data columns (total 7 columns):\n",
      " #   Column          Dtype         \n",
      "---  ------          -----         \n",
      " 0   listing_id      int64         \n",
      " 1   date            datetime64[ns]\n",
      " 2   available       object        \n",
      " 3   price           object        \n",
      " 4   adjusted_price  object        \n",
      " 5   minimum_nights  int64         \n",
      " 6   maximum_nights  int64         \n",
      "dtypes: datetime64[ns](1), int64(3), object(3)\n",
      "memory usage: 990.2+ MB\n",
      "None\n",
      "Index(['listing_id', 'date', 'available', 'price', 'adjusted_price',\n",
      "       'minimum_nights', 'maximum_nights'],\n",
      "      dtype='object')\n"
     ]
    },
    {
     "data": {
      "text/html": [
       "<div>\n",
       "<style scoped>\n",
       "    .dataframe tbody tr th:only-of-type {\n",
       "        vertical-align: middle;\n",
       "    }\n",
       "\n",
       "    .dataframe tbody tr th {\n",
       "        vertical-align: top;\n",
       "    }\n",
       "\n",
       "    .dataframe thead th {\n",
       "        text-align: right;\n",
       "    }\n",
       "</style>\n",
       "<table border=\"1\" class=\"dataframe\">\n",
       "  <thead>\n",
       "    <tr style=\"text-align: right;\">\n",
       "      <th></th>\n",
       "      <th>listing_id</th>\n",
       "      <th>date</th>\n",
       "      <th>available</th>\n",
       "      <th>price</th>\n",
       "      <th>adjusted_price</th>\n",
       "      <th>minimum_nights</th>\n",
       "      <th>maximum_nights</th>\n",
       "    </tr>\n",
       "  </thead>\n",
       "  <tbody>\n",
       "    <tr>\n",
       "      <th>0</th>\n",
       "      <td>11943</td>\n",
       "      <td>2020-03-14</td>\n",
       "      <td>t</td>\n",
       "      <td>$150.00</td>\n",
       "      <td>$150.00</td>\n",
       "      <td>1</td>\n",
       "      <td>730</td>\n",
       "    </tr>\n",
       "    <tr>\n",
       "      <th>1</th>\n",
       "      <td>2060</td>\n",
       "      <td>2020-03-14</td>\n",
       "      <td>t</td>\n",
       "      <td>$100.00</td>\n",
       "      <td>$100.00</td>\n",
       "      <td>1</td>\n",
       "      <td>730</td>\n",
       "    </tr>\n",
       "    <tr>\n",
       "      <th>2</th>\n",
       "      <td>2060</td>\n",
       "      <td>2020-03-15</td>\n",
       "      <td>t</td>\n",
       "      <td>$100.00</td>\n",
       "      <td>$100.00</td>\n",
       "      <td>1</td>\n",
       "      <td>730</td>\n",
       "    </tr>\n",
       "    <tr>\n",
       "      <th>3</th>\n",
       "      <td>2060</td>\n",
       "      <td>2020-03-16</td>\n",
       "      <td>t</td>\n",
       "      <td>$100.00</td>\n",
       "      <td>$100.00</td>\n",
       "      <td>1</td>\n",
       "      <td>730</td>\n",
       "    </tr>\n",
       "    <tr>\n",
       "      <th>4</th>\n",
       "      <td>2060</td>\n",
       "      <td>2020-03-17</td>\n",
       "      <td>t</td>\n",
       "      <td>$100.00</td>\n",
       "      <td>$100.00</td>\n",
       "      <td>1</td>\n",
       "      <td>730</td>\n",
       "    </tr>\n",
       "  </tbody>\n",
       "</table>\n",
       "</div>"
      ],
      "text/plain": [
       "   listing_id       date available    price adjusted_price  minimum_nights  \\\n",
       "0       11943 2020-03-14         t  $150.00        $150.00               1   \n",
       "1        2060 2020-03-14         t  $100.00        $100.00               1   \n",
       "2        2060 2020-03-15         t  $100.00        $100.00               1   \n",
       "3        2060 2020-03-16         t  $100.00        $100.00               1   \n",
       "4        2060 2020-03-17         t  $100.00        $100.00               1   \n",
       "\n",
       "   maximum_nights  \n",
       "0             730  \n",
       "1             730  \n",
       "2             730  \n",
       "3             730  \n",
       "4             730  "
      ]
     },
     "execution_count": 31,
     "metadata": {},
     "output_type": "execute_result"
    }
   ],
   "source": [
    "print(calendar_df.info())\n",
    "print(calendar_df.columns)\n",
    "calendar_df.head()"
   ]
  },
  {
   "cell_type": "markdown",
   "metadata": {},
   "source": [
    "<br/>\n",
    "<p>On checking for equal distribution of all listings over the relevant time period (assumed for this step to be a year), we see a problem with <b>listing_id</b> 15268792.  Let's just remove it, since it is not worth the effort to build a year's worth of data for that one listing.</p>"
   ]
  },
  {
   "cell_type": "code",
   "execution_count": 32,
   "metadata": {},
   "outputs": [
    {
     "name": "stdout",
     "output_type": "stream",
     "text": [
      "327521      365\n",
      "34444336    365\n",
      "14487072    365\n",
      "840731      365\n",
      "39526115    365\n",
      "           ... \n",
      "18040970    365\n",
      "18221090    365\n",
      "40199757    365\n",
      "29302018    365\n",
      "30226855    365\n",
      "Name: listing_id, Length: 50796, dtype: int64\n"
     ]
    }
   ],
   "source": [
    "print(calendar_df.listing_id.value_counts())\n",
    "calendar_clean = calendar_df[calendar_df.listing_id != 15268792]\n"
   ]
  },
  {
   "cell_type": "markdown",
   "metadata": {},
   "source": [
    "<br/>\n",
    "<p>Since this data set was captured in 2019, we must clean up dates that have year 2020.  Then drop any duplicate <b>listing_id, date</b> combos.  Then check that all days add up to a calendar year for each <b>listing_id</b>.</p>"
   ]
  },
  {
   "cell_type": "code",
   "execution_count": 33,
   "metadata": {},
   "outputs": [
    {
     "name": "stderr",
     "output_type": "stream",
     "text": [
      "c:\\users\\bruce\\miniconda3\\envs\\capstone\\lib\\site-packages\\ipykernel_launcher.py:6: SettingWithCopyWarning: \n",
      "A value is trying to be set on a copy of a slice from a DataFrame.\n",
      "Try using .loc[row_indexer,col_indexer] = value instead\n",
      "\n",
      "See the caveats in the documentation: https://pandas.pydata.org/pandas-docs/stable/user_guide/indexing.html#returning-a-view-versus-a-copy\n",
      "  \n",
      "c:\\users\\bruce\\miniconda3\\envs\\capstone\\lib\\site-packages\\ipykernel_launcher.py:7: SettingWithCopyWarning: \n",
      "A value is trying to be set on a copy of a slice from a DataFrame.\n",
      "Try using .loc[row_indexer,col_indexer] = value instead\n",
      "\n",
      "See the caveats in the documentation: https://pandas.pydata.org/pandas-docs/stable/user_guide/indexing.html#returning-a-view-versus-a-copy\n",
      "  import sys\n"
     ]
    }
   ],
   "source": [
    "# https://stackoverflow.com/questions/50674011/replace-the-year-in-pandas-datetime-column\n",
    "# https://stackoverflow.com/questions/28773342/truncate-timestamp-column-to-hour-precision-in-pandas-dataframe\n",
    "\n",
    "# calendar_clean['date'] = calendar_clean['date'].mask(calendar_clean['date'].dt.year == 2020,\n",
    "#                             calendar_clean['date'] - pd.to_timedelta(365, unit='D') + pd.to_timedelta(12, unit='h'))\n",
    "calendar_clean['date'] = calendar_clean['date'] - pd.to_timedelta(365, unit='D') + pd.to_timedelta(12, unit='h')\n",
    "calendar_clean['date'] = calendar_clean['date'].dt.floor('D')"
   ]
  },
  {
   "cell_type": "code",
   "execution_count": 34,
   "metadata": {},
   "outputs": [
    {
     "name": "stdout",
     "output_type": "stream",
     "text": [
      "327521      365\n",
      "34444336    365\n",
      "14487072    365\n",
      "840731      365\n",
      "39526115    365\n",
      "           ... \n",
      "18040970    365\n",
      "18221090    365\n",
      "40199757    365\n",
      "29302018    365\n",
      "30226855    365\n",
      "Name: listing_id, Length: 50795, dtype: int64\n"
     ]
    }
   ],
   "source": [
    "calendar_clean = calendar_clean.drop_duplicates(subset=['listing_id', 'date']).reset_index(drop=True)\n",
    "print(calendar_clean.listing_id.value_counts())"
   ]
  },
  {
   "cell_type": "markdown",
   "metadata": {},
   "source": [
    "<br/>\n",
    "<p>Verify that all listing_id values can be found in the <b>listings_clean</b> table.  If not, then remove rows with listing_id values don't exist in the other table.</p>"
   ]
  },
  {
   "cell_type": "code",
   "execution_count": 35,
   "metadata": {},
   "outputs": [
    {
     "name": "stdout",
     "output_type": "stream",
     "text": [
      "True     17506495\n",
      "False     1033680\n",
      "Name: listing_id, dtype: int64\n"
     ]
    }
   ],
   "source": [
    "# https://stackoverflow.com/questions/28901683/pandas-get-rows-which-are-not-in-other-dataframe\n",
    "\n",
    "ids_match = calendar_clean.listing_id.isin(listings_clean.id)\n",
    "print(ids_match.value_counts())"
   ]
  },
  {
   "cell_type": "code",
   "execution_count": 36,
   "metadata": {},
   "outputs": [
    {
     "name": "stdout",
     "output_type": "stream",
     "text": [
      "<class 'pandas.core.frame.DataFrame'>\n",
      "Int64Index: 17506495 entries, 0 to 18540174\n",
      "Data columns (total 7 columns):\n",
      " #   Column          Dtype         \n",
      "---  ------          -----         \n",
      " 0   listing_id      int64         \n",
      " 1   date            datetime64[ns]\n",
      " 2   available       object        \n",
      " 3   price           object        \n",
      " 4   adjusted_price  object        \n",
      " 5   minimum_nights  int64         \n",
      " 6   maximum_nights  int64         \n",
      "dtypes: datetime64[ns](1), int64(3), object(3)\n",
      "memory usage: 1.0+ GB\n"
     ]
    }
   ],
   "source": [
    "calendar_clean = calendar_clean[calendar_clean.listing_id.isin(listings_clean.id)]\n",
    "calendar_clean.info()"
   ]
  },
  {
   "cell_type": "markdown",
   "metadata": {},
   "source": [
    "<br/>\n",
    "<p>Translate all <b>available</b> values to 1 (available) or 0 (unavailable).</p>"
   ]
  },
  {
   "cell_type": "code",
   "execution_count": 37,
   "metadata": {},
   "outputs": [
    {
     "name": "stdout",
     "output_type": "stream",
     "text": [
      "f    11950610\n",
      "t     5555885\n",
      "Name: available, dtype: int64\n",
      "0    11950610\n",
      "1     5555885\n",
      "Name: available, dtype: int64\n"
     ]
    }
   ],
   "source": [
    "print(calendar_clean.available.value_counts())\n",
    "calendar_clean['available'] = np.where(calendar_clean.available == 't', 1, 0)\n",
    "print(calendar_clean.available.value_counts())"
   ]
  },
  {
   "cell_type": "markdown",
   "metadata": {},
   "source": [
    "<br/>\n",
    "<p>Less than 1% of the entries have <b>adjusted_price</b> not equal to <b>price</b>, but we will use <b>adjusted_price</b> anyway and clean it up to be numerical</p>"
   ]
  },
  {
   "cell_type": "code",
   "execution_count": 38,
   "metadata": {},
   "outputs": [
    {
     "data": {
      "text/html": [
       "<div>\n",
       "<style scoped>\n",
       "    .dataframe tbody tr th:only-of-type {\n",
       "        vertical-align: middle;\n",
       "    }\n",
       "\n",
       "    .dataframe tbody tr th {\n",
       "        vertical-align: top;\n",
       "    }\n",
       "\n",
       "    .dataframe thead th {\n",
       "        text-align: right;\n",
       "    }\n",
       "</style>\n",
       "<table border=\"1\" class=\"dataframe\">\n",
       "  <thead>\n",
       "    <tr style=\"text-align: right;\">\n",
       "      <th></th>\n",
       "      <th>listing_id</th>\n",
       "      <th>date</th>\n",
       "      <th>available</th>\n",
       "      <th>price</th>\n",
       "      <th>adjusted_price</th>\n",
       "      <th>minimum_nights</th>\n",
       "      <th>maximum_nights</th>\n",
       "    </tr>\n",
       "  </thead>\n",
       "  <tbody>\n",
       "    <tr>\n",
       "      <th>15017</th>\n",
       "      <td>6990</td>\n",
       "      <td>2019-03-15</td>\n",
       "      <td>0</td>\n",
       "      <td>$65.00</td>\n",
       "      <td>$59.00</td>\n",
       "      <td>30</td>\n",
       "      <td>700</td>\n",
       "    </tr>\n",
       "    <tr>\n",
       "      <th>15018</th>\n",
       "      <td>6990</td>\n",
       "      <td>2019-03-16</td>\n",
       "      <td>0</td>\n",
       "      <td>$65.00</td>\n",
       "      <td>$59.00</td>\n",
       "      <td>30</td>\n",
       "      <td>700</td>\n",
       "    </tr>\n",
       "    <tr>\n",
       "      <th>15019</th>\n",
       "      <td>6990</td>\n",
       "      <td>2019-03-17</td>\n",
       "      <td>0</td>\n",
       "      <td>$65.00</td>\n",
       "      <td>$59.00</td>\n",
       "      <td>30</td>\n",
       "      <td>700</td>\n",
       "    </tr>\n",
       "    <tr>\n",
       "      <th>19268</th>\n",
       "      <td>15711</td>\n",
       "      <td>2019-03-15</td>\n",
       "      <td>0</td>\n",
       "      <td>$225.00</td>\n",
       "      <td>$203.00</td>\n",
       "      <td>1</td>\n",
       "      <td>1125</td>\n",
       "    </tr>\n",
       "    <tr>\n",
       "      <th>19269</th>\n",
       "      <td>15711</td>\n",
       "      <td>2019-03-16</td>\n",
       "      <td>1</td>\n",
       "      <td>$200.00</td>\n",
       "      <td>$180.00</td>\n",
       "      <td>1</td>\n",
       "      <td>1125</td>\n",
       "    </tr>\n",
       "    <tr>\n",
       "      <th>...</th>\n",
       "      <td>...</td>\n",
       "      <td>...</td>\n",
       "      <td>...</td>\n",
       "      <td>...</td>\n",
       "      <td>...</td>\n",
       "      <td>...</td>\n",
       "      <td>...</td>\n",
       "    </tr>\n",
       "    <tr>\n",
       "      <th>18483618</th>\n",
       "      <td>42817244</td>\n",
       "      <td>2019-04-01</td>\n",
       "      <td>1</td>\n",
       "      <td>$65.00</td>\n",
       "      <td>$52.00</td>\n",
       "      <td>2</td>\n",
       "      <td>1125</td>\n",
       "    </tr>\n",
       "    <tr>\n",
       "      <th>18515108</th>\n",
       "      <td>42838968</td>\n",
       "      <td>2019-03-15</td>\n",
       "      <td>0</td>\n",
       "      <td>$51.00</td>\n",
       "      <td>$46.00</td>\n",
       "      <td>1</td>\n",
       "      <td>1125</td>\n",
       "    </tr>\n",
       "    <tr>\n",
       "      <th>18515109</th>\n",
       "      <td>42838968</td>\n",
       "      <td>2019-03-16</td>\n",
       "      <td>0</td>\n",
       "      <td>$51.00</td>\n",
       "      <td>$46.00</td>\n",
       "      <td>1</td>\n",
       "      <td>1125</td>\n",
       "    </tr>\n",
       "    <tr>\n",
       "      <th>18515110</th>\n",
       "      <td>42838968</td>\n",
       "      <td>2019-03-17</td>\n",
       "      <td>0</td>\n",
       "      <td>$51.00</td>\n",
       "      <td>$46.00</td>\n",
       "      <td>1</td>\n",
       "      <td>1125</td>\n",
       "    </tr>\n",
       "    <tr>\n",
       "      <th>18515111</th>\n",
       "      <td>42838968</td>\n",
       "      <td>2019-03-18</td>\n",
       "      <td>0</td>\n",
       "      <td>$51.00</td>\n",
       "      <td>$46.00</td>\n",
       "      <td>1</td>\n",
       "      <td>1125</td>\n",
       "    </tr>\n",
       "  </tbody>\n",
       "</table>\n",
       "<p>155270 rows × 7 columns</p>\n",
       "</div>"
      ],
      "text/plain": [
       "          listing_id       date  available    price adjusted_price  \\\n",
       "15017           6990 2019-03-15          0   $65.00         $59.00   \n",
       "15018           6990 2019-03-16          0   $65.00         $59.00   \n",
       "15019           6990 2019-03-17          0   $65.00         $59.00   \n",
       "19268          15711 2019-03-15          0  $225.00        $203.00   \n",
       "19269          15711 2019-03-16          1  $200.00        $180.00   \n",
       "...              ...        ...        ...      ...            ...   \n",
       "18483618    42817244 2019-04-01          1   $65.00         $52.00   \n",
       "18515108    42838968 2019-03-15          0   $51.00         $46.00   \n",
       "18515109    42838968 2019-03-16          0   $51.00         $46.00   \n",
       "18515110    42838968 2019-03-17          0   $51.00         $46.00   \n",
       "18515111    42838968 2019-03-18          0   $51.00         $46.00   \n",
       "\n",
       "          minimum_nights  maximum_nights  \n",
       "15017                 30             700  \n",
       "15018                 30             700  \n",
       "15019                 30             700  \n",
       "19268                  1            1125  \n",
       "19269                  1            1125  \n",
       "...                  ...             ...  \n",
       "18483618               2            1125  \n",
       "18515108               1            1125  \n",
       "18515109               1            1125  \n",
       "18515110               1            1125  \n",
       "18515111               1            1125  \n",
       "\n",
       "[155270 rows x 7 columns]"
      ]
     },
     "execution_count": 38,
     "metadata": {},
     "output_type": "execute_result"
    }
   ],
   "source": [
    "calendar_clean[calendar_clean.price != calendar_clean.adjusted_price]"
   ]
  },
  {
   "cell_type": "code",
   "execution_count": 39,
   "metadata": {},
   "outputs": [],
   "source": [
    "calendar_clean['price_cleansed'] = calendar_clean.adjusted_price\\\n",
    ".str.replace('$', '').str.replace(',', '').astype('float')"
   ]
  },
  {
   "cell_type": "code",
   "execution_count": 40,
   "metadata": {},
   "outputs": [],
   "source": [
    "calendar_clean = calendar_clean.drop(['adjusted_price', 'price'], axis=1)\n",
    "calendar_clean.rename(columns={'price_cleansed': 'price'}, inplace=True)"
   ]
  },
  {
   "cell_type": "markdown",
   "metadata": {},
   "source": [
    "<br/>\n",
    "<p>Now is a good time to check the state of the table.  All columns except for <b>maximum_nights</b> seem to have useful data.  The large majority of listings allowing over 1000 nights for a short-term rental means that, for practical purposes, it is limitless.</p>"
   ]
  },
  {
   "cell_type": "code",
   "execution_count": 41,
   "metadata": {},
   "outputs": [
    {
     "name": "stdout",
     "output_type": "stream",
     "text": [
      "<class 'pandas.core.frame.DataFrame'>\n",
      "Int64Index: 17506495 entries, 0 to 18540174\n",
      "Data columns (total 6 columns):\n",
      " #   Column          Dtype         \n",
      "---  ------          -----         \n",
      " 0   listing_id      int64         \n",
      " 1   date            datetime64[ns]\n",
      " 2   available       int32         \n",
      " 3   minimum_nights  int64         \n",
      " 4   maximum_nights  int64         \n",
      " 5   price           float64       \n",
      "dtypes: datetime64[ns](1), float64(1), int32(1), int64(3)\n",
      "memory usage: 868.2 MB\n"
     ]
    },
    {
     "data": {
      "text/html": [
       "<div>\n",
       "<style scoped>\n",
       "    .dataframe tbody tr th:only-of-type {\n",
       "        vertical-align: middle;\n",
       "    }\n",
       "\n",
       "    .dataframe tbody tr th {\n",
       "        vertical-align: top;\n",
       "    }\n",
       "\n",
       "    .dataframe thead th {\n",
       "        text-align: right;\n",
       "    }\n",
       "</style>\n",
       "<table border=\"1\" class=\"dataframe\">\n",
       "  <thead>\n",
       "    <tr style=\"text-align: right;\">\n",
       "      <th></th>\n",
       "      <th>listing_id</th>\n",
       "      <th>date</th>\n",
       "      <th>available</th>\n",
       "      <th>minimum_nights</th>\n",
       "      <th>maximum_nights</th>\n",
       "      <th>price</th>\n",
       "    </tr>\n",
       "  </thead>\n",
       "  <tbody>\n",
       "    <tr>\n",
       "      <th>0</th>\n",
       "      <td>11943</td>\n",
       "      <td>2019-03-15</td>\n",
       "      <td>1</td>\n",
       "      <td>1</td>\n",
       "      <td>730</td>\n",
       "      <td>150.0</td>\n",
       "    </tr>\n",
       "    <tr>\n",
       "      <th>366</th>\n",
       "      <td>2595</td>\n",
       "      <td>2019-03-15</td>\n",
       "      <td>0</td>\n",
       "      <td>7</td>\n",
       "      <td>1125</td>\n",
       "      <td>175.0</td>\n",
       "    </tr>\n",
       "    <tr>\n",
       "      <th>367</th>\n",
       "      <td>2595</td>\n",
       "      <td>2019-03-16</td>\n",
       "      <td>0</td>\n",
       "      <td>7</td>\n",
       "      <td>1125</td>\n",
       "      <td>175.0</td>\n",
       "    </tr>\n",
       "    <tr>\n",
       "      <th>368</th>\n",
       "      <td>2595</td>\n",
       "      <td>2019-03-17</td>\n",
       "      <td>0</td>\n",
       "      <td>7</td>\n",
       "      <td>1125</td>\n",
       "      <td>175.0</td>\n",
       "    </tr>\n",
       "    <tr>\n",
       "      <th>369</th>\n",
       "      <td>2595</td>\n",
       "      <td>2019-03-18</td>\n",
       "      <td>0</td>\n",
       "      <td>7</td>\n",
       "      <td>1125</td>\n",
       "      <td>175.0</td>\n",
       "    </tr>\n",
       "  </tbody>\n",
       "</table>\n",
       "</div>"
      ],
      "text/plain": [
       "     listing_id       date  available  minimum_nights  maximum_nights  price\n",
       "0         11943 2019-03-15          1               1             730  150.0\n",
       "366        2595 2019-03-15          0               7            1125  175.0\n",
       "367        2595 2019-03-16          0               7            1125  175.0\n",
       "368        2595 2019-03-17          0               7            1125  175.0\n",
       "369        2595 2019-03-18          0               7            1125  175.0"
      ]
     },
     "execution_count": 41,
     "metadata": {},
     "output_type": "execute_result"
    }
   ],
   "source": [
    "calendar_clean.info()\n",
    "calendar_clean.head()"
   ]
  },
  {
   "cell_type": "code",
   "execution_count": 42,
   "metadata": {},
   "outputs": [
    {
     "data": {
      "text/html": [
       "<div>\n",
       "<style scoped>\n",
       "    .dataframe tbody tr th:only-of-type {\n",
       "        vertical-align: middle;\n",
       "    }\n",
       "\n",
       "    .dataframe tbody tr th {\n",
       "        vertical-align: top;\n",
       "    }\n",
       "\n",
       "    .dataframe thead th {\n",
       "        text-align: right;\n",
       "    }\n",
       "</style>\n",
       "<table border=\"1\" class=\"dataframe\">\n",
       "  <thead>\n",
       "    <tr style=\"text-align: right;\">\n",
       "      <th></th>\n",
       "      <th>listing_id</th>\n",
       "      <th>available</th>\n",
       "      <th>minimum_nights</th>\n",
       "      <th>maximum_nights</th>\n",
       "      <th>price</th>\n",
       "    </tr>\n",
       "  </thead>\n",
       "  <tbody>\n",
       "    <tr>\n",
       "      <th>count</th>\n",
       "      <td>1.750650e+07</td>\n",
       "      <td>1.750650e+07</td>\n",
       "      <td>1.750650e+07</td>\n",
       "      <td>1.750650e+07</td>\n",
       "      <td>1.750523e+07</td>\n",
       "    </tr>\n",
       "    <tr>\n",
       "      <th>mean</th>\n",
       "      <td>2.223199e+07</td>\n",
       "      <td>3.173614e-01</td>\n",
       "      <td>9.887199e+00</td>\n",
       "      <td>6.819442e+05</td>\n",
       "      <td>1.563684e+02</td>\n",
       "    </tr>\n",
       "    <tr>\n",
       "      <th>std</th>\n",
       "      <td>1.309926e+07</td>\n",
       "      <td>4.654494e-01</td>\n",
       "      <td>4.511643e+01</td>\n",
       "      <td>3.822018e+07</td>\n",
       "      <td>2.695753e+02</td>\n",
       "    </tr>\n",
       "    <tr>\n",
       "      <th>min</th>\n",
       "      <td>2.595000e+03</td>\n",
       "      <td>0.000000e+00</td>\n",
       "      <td>1.000000e+00</td>\n",
       "      <td>1.000000e+00</td>\n",
       "      <td>0.000000e+00</td>\n",
       "    </tr>\n",
       "    <tr>\n",
       "      <th>25%</th>\n",
       "      <td>1.035809e+07</td>\n",
       "      <td>0.000000e+00</td>\n",
       "      <td>2.000000e+00</td>\n",
       "      <td>3.000000e+01</td>\n",
       "      <td>7.000000e+01</td>\n",
       "    </tr>\n",
       "    <tr>\n",
       "      <th>50%</th>\n",
       "      <td>2.190929e+07</td>\n",
       "      <td>0.000000e+00</td>\n",
       "      <td>3.000000e+00</td>\n",
       "      <td>1.125000e+03</td>\n",
       "      <td>1.100000e+02</td>\n",
       "    </tr>\n",
       "    <tr>\n",
       "      <th>75%</th>\n",
       "      <td>3.441617e+07</td>\n",
       "      <td>1.000000e+00</td>\n",
       "      <td>5.000000e+00</td>\n",
       "      <td>1.125000e+03</td>\n",
       "      <td>1.790000e+02</td>\n",
       "    </tr>\n",
       "    <tr>\n",
       "      <th>max</th>\n",
       "      <td>4.289272e+07</td>\n",
       "      <td>1.000000e+00</td>\n",
       "      <td>1.250000e+03</td>\n",
       "      <td>2.147484e+09</td>\n",
       "      <td>1.000000e+04</td>\n",
       "    </tr>\n",
       "  </tbody>\n",
       "</table>\n",
       "</div>"
      ],
      "text/plain": [
       "         listing_id     available  minimum_nights  maximum_nights  \\\n",
       "count  1.750650e+07  1.750650e+07    1.750650e+07    1.750650e+07   \n",
       "mean   2.223199e+07  3.173614e-01    9.887199e+00    6.819442e+05   \n",
       "std    1.309926e+07  4.654494e-01    4.511643e+01    3.822018e+07   \n",
       "min    2.595000e+03  0.000000e+00    1.000000e+00    1.000000e+00   \n",
       "25%    1.035809e+07  0.000000e+00    2.000000e+00    3.000000e+01   \n",
       "50%    2.190929e+07  0.000000e+00    3.000000e+00    1.125000e+03   \n",
       "75%    3.441617e+07  1.000000e+00    5.000000e+00    1.125000e+03   \n",
       "max    4.289272e+07  1.000000e+00    1.250000e+03    2.147484e+09   \n",
       "\n",
       "              price  \n",
       "count  1.750523e+07  \n",
       "mean   1.563684e+02  \n",
       "std    2.695753e+02  \n",
       "min    0.000000e+00  \n",
       "25%    7.000000e+01  \n",
       "50%    1.100000e+02  \n",
       "75%    1.790000e+02  \n",
       "max    1.000000e+04  "
      ]
     },
     "execution_count": 42,
     "metadata": {},
     "output_type": "execute_result"
    }
   ],
   "source": [
    "calendar_clean.describe()"
   ]
  },
  {
   "cell_type": "code",
   "execution_count": 43,
   "metadata": {},
   "outputs": [
    {
     "name": "stdout",
     "output_type": "stream",
     "text": [
      "<class 'pandas.core.frame.DataFrame'>\n",
      "Int64Index: 17506495 entries, 0 to 18540174\n",
      "Data columns (total 6 columns):\n",
      " #   Column          Dtype         \n",
      "---  ------          -----         \n",
      " 0   listing_id      int64         \n",
      " 1   date            datetime64[ns]\n",
      " 2   available       int32         \n",
      " 3   minimum_nights  int64         \n",
      " 4   maximum_nights  int64         \n",
      " 5   price           float64       \n",
      "dtypes: datetime64[ns](1), float64(1), int32(1), int64(3)\n",
      "memory usage: 868.2 MB\n"
     ]
    }
   ],
   "source": [
    "calendar_clean.info()"
   ]
  },
  {
   "cell_type": "markdown",
   "metadata": {},
   "source": [
    "<br/>\n",
    "<p>Since travel patterns are usually seasonal, let's average availability, min nights required, and price over each season and the whole year.</p>"
   ]
  },
  {
   "cell_type": "code",
   "execution_count": 44,
   "metadata": {},
   "outputs": [],
   "source": [
    "available_year_avg = calendar_clean.groupby(by='listing_id').available.mean()\n",
    "available_winter_avg = calendar_clean[(calendar_clean.date.dt.month == 1) | (calendar_clean.date.dt.month == 2) \\\n",
    "    | (calendar_clean.date.dt.month == 12)].groupby(by='listing_id').available.mean()\n",
    "available_spring_avg = calendar_clean[(calendar_clean.date.dt.month >= 3) & (calendar_clean.date.dt.month <= 5)]\\\n",
    ".groupby(by='listing_id').available.mean()\n",
    "available_summer_avg = calendar_clean[(calendar_clean.date.dt.month >= 6) & (calendar_clean.date.dt.month <= 8)]\\\n",
    ".groupby(by='listing_id').available.mean()\n",
    "available_fall_avg = calendar_clean[(calendar_clean.date.dt.month >= 9) & (calendar_clean.date.dt.month <= 11)]\\\n",
    ".groupby(by='listing_id').available.mean()\n",
    "available_jan_avg = calendar_clean[calendar_clean.date.dt.month == 1].groupby(by='listing_id').available.mean()\n",
    "available_jun_avg = calendar_clean[calendar_clean.date.dt.month == 6].groupby(by='listing_id').available.mean()\n",
    "available_dec_avg = calendar_clean[calendar_clean.date.dt.month == 12].groupby(by='listing_id').available.mean()\n",
    "\n",
    "calendar_averages = pd.DataFrame(available_year_avg)\n",
    "calendar_averages.rename(columns={'available': 'available_year_avg'}, inplace=True)\n",
    "calendar_averages['available_winter_avg'] = available_winter_avg\n",
    "calendar_averages['available_spring_avg'] = available_spring_avg\n",
    "calendar_averages['available_summer_avg'] = available_summer_avg\n",
    "calendar_averages['available_fall_avg'] = available_fall_avg\n",
    "calendar_averages['available_jan_avg'] = available_jan_avg\n",
    "calendar_averages['available_jun_avg'] = available_jun_avg\n",
    "calendar_averages['available_dec_avg'] = available_dec_avg\n"
   ]
  },
  {
   "cell_type": "code",
   "execution_count": 45,
   "metadata": {},
   "outputs": [],
   "source": [
    "min_nights_year_avg = calendar_clean.groupby(by='listing_id')['minimum_nights'].mean()\n",
    "min_nights_winter_avg = calendar_clean[(calendar_clean.date.dt.month == 1) | (calendar_clean.date.dt.month == 2) \\\n",
    "    | (calendar_clean.date.dt.month == 12)].groupby(by='listing_id')['minimum_nights'].mean()\n",
    "min_nights_spring_avg = calendar_clean[(calendar_clean.date.dt.month >= 3) & (calendar_clean.date.dt.month <= 5)]\\\n",
    ".groupby(by='listing_id')['minimum_nights'].mean()\n",
    "min_nights_summer_avg = calendar_clean[(calendar_clean.date.dt.month >= 6) & (calendar_clean.date.dt.month <= 8)]\\\n",
    ".groupby(by='listing_id')['minimum_nights'].mean()\n",
    "min_nights_fall_avg = calendar_clean[(calendar_clean.date.dt.month >= 9) & (calendar_clean.date.dt.month <= 11)]\\\n",
    ".groupby(by='listing_id')['minimum_nights'].mean()\n",
    "min_nights_jan_avg = calendar_clean[calendar_clean.date.dt.month == 1].groupby(by='listing_id')['minimum_nights'].mean()\n",
    "min_nights_jun_avg = calendar_clean[calendar_clean.date.dt.month == 6].groupby(by='listing_id')['minimum_nights'].mean()\n",
    "min_nights_dec_avg = calendar_clean[calendar_clean.date.dt.month == 12].groupby(by='listing_id')['minimum_nights'].mean()\n",
    "\n",
    "calendar_averages['min_nights_year_avg'] = min_nights_year_avg\n",
    "calendar_averages['min_nights_winter_avg'] = min_nights_winter_avg\n",
    "calendar_averages['min_nights_spring_avg'] = min_nights_spring_avg\n",
    "calendar_averages['min_nights_summer_avg'] = min_nights_summer_avg\n",
    "calendar_averages['min_nights_fall_avg'] = min_nights_fall_avg\n",
    "calendar_averages['min_nights_jan_avg'] = min_nights_jan_avg\n",
    "calendar_averages['min_nights_jun_avg'] = min_nights_jun_avg\n",
    "calendar_averages['min_nights_dec_avg'] = min_nights_dec_avg"
   ]
  },
  {
   "cell_type": "code",
   "execution_count": 46,
   "metadata": {},
   "outputs": [],
   "source": [
    "price_year_avg = calendar_clean.groupby(by='listing_id')['price'].mean()\n",
    "price_winter_avg = calendar_clean[(calendar_clean.date.dt.month == 1) | (calendar_clean.date.dt.month == 2) \\\n",
    "    | (calendar_clean.date.dt.month == 12)].groupby(by='listing_id')['price'].mean()\n",
    "price_spring_avg = calendar_clean[(calendar_clean.date.dt.month >= 3) & (calendar_clean.date.dt.month <= 5)]\\\n",
    ".groupby(by='listing_id')['price'].mean()\n",
    "price_summer_avg = calendar_clean[(calendar_clean.date.dt.month >= 6) & (calendar_clean.date.dt.month <= 8)]\\\n",
    ".groupby(by='listing_id')['price'].mean()\n",
    "price_fall_avg = calendar_clean[(calendar_clean.date.dt.month >= 9) & (calendar_clean.date.dt.month <= 11)]\\\n",
    ".groupby(by='listing_id')['price'].mean()\n",
    "price_jan_avg = calendar_clean[calendar_clean.date.dt.month == 1].groupby(by='listing_id')['price'].mean()\n",
    "price_jun_avg = calendar_clean[calendar_clean.date.dt.month == 6].groupby(by='listing_id')['price'].mean()\n",
    "price_dec_avg = calendar_clean[calendar_clean.date.dt.month == 12].groupby(by='listing_id')['price'].mean()\n",
    "\n",
    "calendar_averages['price_year_avg'] = price_year_avg\n",
    "calendar_averages['price_winter_avg'] = price_winter_avg\n",
    "calendar_averages['price_spring_avg'] = price_spring_avg\n",
    "calendar_averages['price_summer_avg'] = price_summer_avg\n",
    "calendar_averages['price_fall_avg'] = price_fall_avg\n",
    "calendar_averages['price_jan_avg'] = price_jan_avg\n",
    "calendar_averages['price_jun_avg'] = price_jun_avg\n",
    "calendar_averages['price_dec_avg'] = price_dec_avg"
   ]
  },
  {
   "cell_type": "code",
   "execution_count": 47,
   "metadata": {},
   "outputs": [
    {
     "name": "stdout",
     "output_type": "stream",
     "text": [
      "<class 'pandas.core.frame.DataFrame'>\n",
      "Int64Index: 47963 entries, 2595 to 42892717\n",
      "Data columns (total 24 columns):\n",
      " #   Column                 Non-Null Count  Dtype  \n",
      "---  ------                 --------------  -----  \n",
      " 0   available_year_avg     47963 non-null  float64\n",
      " 1   available_winter_avg   47963 non-null  float64\n",
      " 2   available_spring_avg   47963 non-null  float64\n",
      " 3   available_summer_avg   47963 non-null  float64\n",
      " 4   available_fall_avg     47963 non-null  float64\n",
      " 5   available_jan_avg      47963 non-null  float64\n",
      " 6   available_jun_avg      47963 non-null  float64\n",
      " 7   available_dec_avg      47963 non-null  float64\n",
      " 8   min_nights_year_avg    47963 non-null  float64\n",
      " 9   min_nights_winter_avg  47963 non-null  float64\n",
      " 10  min_nights_spring_avg  47963 non-null  float64\n",
      " 11  min_nights_summer_avg  47963 non-null  float64\n",
      " 12  min_nights_fall_avg    47963 non-null  float64\n",
      " 13  min_nights_jan_avg     47963 non-null  float64\n",
      " 14  min_nights_jun_avg     47963 non-null  float64\n",
      " 15  min_nights_dec_avg     47963 non-null  float64\n",
      " 16  price_year_avg         47963 non-null  float64\n",
      " 17  price_winter_avg       47960 non-null  float64\n",
      " 18  price_spring_avg       47963 non-null  float64\n",
      " 19  price_summer_avg       47959 non-null  float64\n",
      " 20  price_fall_avg         47963 non-null  float64\n",
      " 21  price_jan_avg          47960 non-null  float64\n",
      " 22  price_jun_avg          47959 non-null  float64\n",
      " 23  price_dec_avg          47960 non-null  float64\n",
      "dtypes: float64(24)\n",
      "memory usage: 9.1 MB\n"
     ]
    },
    {
     "data": {
      "text/html": [
       "<div>\n",
       "<style scoped>\n",
       "    .dataframe tbody tr th:only-of-type {\n",
       "        vertical-align: middle;\n",
       "    }\n",
       "\n",
       "    .dataframe tbody tr th {\n",
       "        vertical-align: top;\n",
       "    }\n",
       "\n",
       "    .dataframe thead th {\n",
       "        text-align: right;\n",
       "    }\n",
       "</style>\n",
       "<table border=\"1\" class=\"dataframe\">\n",
       "  <thead>\n",
       "    <tr style=\"text-align: right;\">\n",
       "      <th></th>\n",
       "      <th>available_year_avg</th>\n",
       "      <th>available_winter_avg</th>\n",
       "      <th>available_spring_avg</th>\n",
       "      <th>available_summer_avg</th>\n",
       "      <th>available_fall_avg</th>\n",
       "      <th>available_jan_avg</th>\n",
       "      <th>available_jun_avg</th>\n",
       "      <th>available_dec_avg</th>\n",
       "      <th>min_nights_year_avg</th>\n",
       "      <th>min_nights_winter_avg</th>\n",
       "      <th>...</th>\n",
       "      <th>min_nights_jun_avg</th>\n",
       "      <th>min_nights_dec_avg</th>\n",
       "      <th>price_year_avg</th>\n",
       "      <th>price_winter_avg</th>\n",
       "      <th>price_spring_avg</th>\n",
       "      <th>price_summer_avg</th>\n",
       "      <th>price_fall_avg</th>\n",
       "      <th>price_jan_avg</th>\n",
       "      <th>price_jun_avg</th>\n",
       "      <th>price_dec_avg</th>\n",
       "    </tr>\n",
       "  </thead>\n",
       "  <tbody>\n",
       "    <tr>\n",
       "      <th>count</th>\n",
       "      <td>47963.000000</td>\n",
       "      <td>47963.000000</td>\n",
       "      <td>47963.000000</td>\n",
       "      <td>47963.000000</td>\n",
       "      <td>47963.000000</td>\n",
       "      <td>47963.000000</td>\n",
       "      <td>47963.000000</td>\n",
       "      <td>47963.000000</td>\n",
       "      <td>47963.000000</td>\n",
       "      <td>47963.000000</td>\n",
       "      <td>...</td>\n",
       "      <td>47963.000000</td>\n",
       "      <td>47963.000000</td>\n",
       "      <td>47963.000000</td>\n",
       "      <td>47960.000000</td>\n",
       "      <td>47963.000000</td>\n",
       "      <td>47959.000000</td>\n",
       "      <td>47963.000000</td>\n",
       "      <td>47960.000000</td>\n",
       "      <td>47959.000000</td>\n",
       "      <td>47960.000000</td>\n",
       "    </tr>\n",
       "    <tr>\n",
       "      <th>mean</th>\n",
       "      <td>0.317361</td>\n",
       "      <td>0.271994</td>\n",
       "      <td>0.351256</td>\n",
       "      <td>0.357900</td>\n",
       "      <td>0.287850</td>\n",
       "      <td>0.271966</td>\n",
       "      <td>0.362674</td>\n",
       "      <td>0.268977</td>\n",
       "      <td>9.887199</td>\n",
       "      <td>10.086818</td>\n",
       "      <td>...</td>\n",
       "      <td>9.976670</td>\n",
       "      <td>10.100771</td>\n",
       "      <td>156.363032</td>\n",
       "      <td>156.774582</td>\n",
       "      <td>151.648100</td>\n",
       "      <td>157.469176</td>\n",
       "      <td>159.559367</td>\n",
       "      <td>155.834429</td>\n",
       "      <td>155.748163</td>\n",
       "      <td>159.050139</td>\n",
       "    </tr>\n",
       "    <tr>\n",
       "      <th>std</th>\n",
       "      <td>0.365817</td>\n",
       "      <td>0.430120</td>\n",
       "      <td>0.368600</td>\n",
       "      <td>0.429661</td>\n",
       "      <td>0.423971</td>\n",
       "      <td>0.440667</td>\n",
       "      <td>0.427493</td>\n",
       "      <td>0.430418</td>\n",
       "      <td>44.262924</td>\n",
       "      <td>46.158385</td>\n",
       "      <td>...</td>\n",
       "      <td>45.080187</td>\n",
       "      <td>46.305770</td>\n",
       "      <td>250.721635</td>\n",
       "      <td>273.069386</td>\n",
       "      <td>231.135245</td>\n",
       "      <td>256.267187</td>\n",
       "      <td>276.985170</td>\n",
       "      <td>275.479382</td>\n",
       "      <td>243.008040</td>\n",
       "      <td>269.386100</td>\n",
       "    </tr>\n",
       "    <tr>\n",
       "      <th>min</th>\n",
       "      <td>0.000000</td>\n",
       "      <td>0.000000</td>\n",
       "      <td>0.000000</td>\n",
       "      <td>0.000000</td>\n",
       "      <td>0.000000</td>\n",
       "      <td>0.000000</td>\n",
       "      <td>0.000000</td>\n",
       "      <td>0.000000</td>\n",
       "      <td>1.000000</td>\n",
       "      <td>1.000000</td>\n",
       "      <td>...</td>\n",
       "      <td>1.000000</td>\n",
       "      <td>1.000000</td>\n",
       "      <td>0.000000</td>\n",
       "      <td>0.000000</td>\n",
       "      <td>0.000000</td>\n",
       "      <td>0.000000</td>\n",
       "      <td>0.000000</td>\n",
       "      <td>0.000000</td>\n",
       "      <td>0.000000</td>\n",
       "      <td>0.000000</td>\n",
       "    </tr>\n",
       "    <tr>\n",
       "      <th>25%</th>\n",
       "      <td>0.000000</td>\n",
       "      <td>0.000000</td>\n",
       "      <td>0.000000</td>\n",
       "      <td>0.000000</td>\n",
       "      <td>0.000000</td>\n",
       "      <td>0.000000</td>\n",
       "      <td>0.000000</td>\n",
       "      <td>0.000000</td>\n",
       "      <td>1.980822</td>\n",
       "      <td>2.000000</td>\n",
       "      <td>...</td>\n",
       "      <td>2.000000</td>\n",
       "      <td>2.000000</td>\n",
       "      <td>69.880822</td>\n",
       "      <td>70.000000</td>\n",
       "      <td>68.000000</td>\n",
       "      <td>69.978261</td>\n",
       "      <td>70.000000</td>\n",
       "      <td>70.000000</td>\n",
       "      <td>69.000000</td>\n",
       "      <td>70.000000</td>\n",
       "    </tr>\n",
       "    <tr>\n",
       "      <th>50%</th>\n",
       "      <td>0.164384</td>\n",
       "      <td>0.000000</td>\n",
       "      <td>0.208791</td>\n",
       "      <td>0.119565</td>\n",
       "      <td>0.000000</td>\n",
       "      <td>0.000000</td>\n",
       "      <td>0.033333</td>\n",
       "      <td>0.000000</td>\n",
       "      <td>2.994521</td>\n",
       "      <td>3.000000</td>\n",
       "      <td>...</td>\n",
       "      <td>3.000000</td>\n",
       "      <td>3.000000</td>\n",
       "      <td>110.000000</td>\n",
       "      <td>110.000000</td>\n",
       "      <td>107.000000</td>\n",
       "      <td>110.000000</td>\n",
       "      <td>110.000000</td>\n",
       "      <td>110.000000</td>\n",
       "      <td>109.133333</td>\n",
       "      <td>110.000000</td>\n",
       "    </tr>\n",
       "    <tr>\n",
       "      <th>75%</th>\n",
       "      <td>0.613699</td>\n",
       "      <td>0.813187</td>\n",
       "      <td>0.703297</td>\n",
       "      <td>0.923913</td>\n",
       "      <td>0.813187</td>\n",
       "      <td>0.967742</td>\n",
       "      <td>0.933333</td>\n",
       "      <td>0.806452</td>\n",
       "      <td>5.000000</td>\n",
       "      <td>5.000000</td>\n",
       "      <td>...</td>\n",
       "      <td>5.000000</td>\n",
       "      <td>5.000000</td>\n",
       "      <td>180.000000</td>\n",
       "      <td>179.285714</td>\n",
       "      <td>175.000000</td>\n",
       "      <td>180.000000</td>\n",
       "      <td>180.000000</td>\n",
       "      <td>178.822581</td>\n",
       "      <td>180.000000</td>\n",
       "      <td>180.000000</td>\n",
       "    </tr>\n",
       "    <tr>\n",
       "      <th>max</th>\n",
       "      <td>1.000000</td>\n",
       "      <td>1.000000</td>\n",
       "      <td>1.000000</td>\n",
       "      <td>1.000000</td>\n",
       "      <td>1.000000</td>\n",
       "      <td>1.000000</td>\n",
       "      <td>1.000000</td>\n",
       "      <td>1.000000</td>\n",
       "      <td>1250.000000</td>\n",
       "      <td>1250.000000</td>\n",
       "      <td>...</td>\n",
       "      <td>1250.000000</td>\n",
       "      <td>1250.000000</td>\n",
       "      <td>10000.000000</td>\n",
       "      <td>10000.000000</td>\n",
       "      <td>10000.000000</td>\n",
       "      <td>10000.000000</td>\n",
       "      <td>10000.000000</td>\n",
       "      <td>10000.000000</td>\n",
       "      <td>10000.000000</td>\n",
       "      <td>10000.000000</td>\n",
       "    </tr>\n",
       "  </tbody>\n",
       "</table>\n",
       "<p>8 rows × 24 columns</p>\n",
       "</div>"
      ],
      "text/plain": [
       "       available_year_avg  available_winter_avg  available_spring_avg  \\\n",
       "count        47963.000000          47963.000000          47963.000000   \n",
       "mean             0.317361              0.271994              0.351256   \n",
       "std              0.365817              0.430120              0.368600   \n",
       "min              0.000000              0.000000              0.000000   \n",
       "25%              0.000000              0.000000              0.000000   \n",
       "50%              0.164384              0.000000              0.208791   \n",
       "75%              0.613699              0.813187              0.703297   \n",
       "max              1.000000              1.000000              1.000000   \n",
       "\n",
       "       available_summer_avg  available_fall_avg  available_jan_avg  \\\n",
       "count          47963.000000        47963.000000       47963.000000   \n",
       "mean               0.357900            0.287850           0.271966   \n",
       "std                0.429661            0.423971           0.440667   \n",
       "min                0.000000            0.000000           0.000000   \n",
       "25%                0.000000            0.000000           0.000000   \n",
       "50%                0.119565            0.000000           0.000000   \n",
       "75%                0.923913            0.813187           0.967742   \n",
       "max                1.000000            1.000000           1.000000   \n",
       "\n",
       "       available_jun_avg  available_dec_avg  min_nights_year_avg  \\\n",
       "count       47963.000000       47963.000000         47963.000000   \n",
       "mean            0.362674           0.268977             9.887199   \n",
       "std             0.427493           0.430418            44.262924   \n",
       "min             0.000000           0.000000             1.000000   \n",
       "25%             0.000000           0.000000             1.980822   \n",
       "50%             0.033333           0.000000             2.994521   \n",
       "75%             0.933333           0.806452             5.000000   \n",
       "max             1.000000           1.000000          1250.000000   \n",
       "\n",
       "       min_nights_winter_avg  ...  min_nights_jun_avg  min_nights_dec_avg  \\\n",
       "count           47963.000000  ...        47963.000000        47963.000000   \n",
       "mean               10.086818  ...            9.976670           10.100771   \n",
       "std                46.158385  ...           45.080187           46.305770   \n",
       "min                 1.000000  ...            1.000000            1.000000   \n",
       "25%                 2.000000  ...            2.000000            2.000000   \n",
       "50%                 3.000000  ...            3.000000            3.000000   \n",
       "75%                 5.000000  ...            5.000000            5.000000   \n",
       "max              1250.000000  ...         1250.000000         1250.000000   \n",
       "\n",
       "       price_year_avg  price_winter_avg  price_spring_avg  price_summer_avg  \\\n",
       "count    47963.000000      47960.000000      47963.000000      47959.000000   \n",
       "mean       156.363032        156.774582        151.648100        157.469176   \n",
       "std        250.721635        273.069386        231.135245        256.267187   \n",
       "min          0.000000          0.000000          0.000000          0.000000   \n",
       "25%         69.880822         70.000000         68.000000         69.978261   \n",
       "50%        110.000000        110.000000        107.000000        110.000000   \n",
       "75%        180.000000        179.285714        175.000000        180.000000   \n",
       "max      10000.000000      10000.000000      10000.000000      10000.000000   \n",
       "\n",
       "       price_fall_avg  price_jan_avg  price_jun_avg  price_dec_avg  \n",
       "count    47963.000000   47960.000000   47959.000000   47960.000000  \n",
       "mean       159.559367     155.834429     155.748163     159.050139  \n",
       "std        276.985170     275.479382     243.008040     269.386100  \n",
       "min          0.000000       0.000000       0.000000       0.000000  \n",
       "25%         70.000000      70.000000      69.000000      70.000000  \n",
       "50%        110.000000     110.000000     109.133333     110.000000  \n",
       "75%        180.000000     178.822581     180.000000     180.000000  \n",
       "max      10000.000000   10000.000000   10000.000000   10000.000000  \n",
       "\n",
       "[8 rows x 24 columns]"
      ]
     },
     "execution_count": 47,
     "metadata": {},
     "output_type": "execute_result"
    }
   ],
   "source": [
    "calendar_averages.info()\n",
    "calendar_averages.describe()"
   ]
  },
  {
   "cell_type": "code",
   "execution_count": 48,
   "metadata": {},
   "outputs": [
    {
     "data": {
      "text/plain": [
       "<matplotlib.axes._subplots.AxesSubplot at 0x14a11d09470>"
      ]
     },
     "execution_count": 48,
     "metadata": {},
     "output_type": "execute_result"
    },
    {
     "data": {
      "image/png": "[encoded data removed]",
      "text/plain": [
       "<Figure size 1440x720 with 1 Axes>"
      ]
     },
     "metadata": {
      "needs_background": "light"
     },
     "output_type": "display_data"
    }
   ],
   "source": [
    "calendar_averages.min_nights_year_avg.plot(kind='box', figsize=(20, 10))"
   ]
  },
  {
   "cell_type": "markdown",
   "metadata": {},
   "source": [
    "<p>1000+ <b>minimum_nights</b> is extremely high and unrealistic.  Box plot shows outliers above 10 nights, and the 3rd quartile level is 5 nights.</p>\n",
    "\n",
    "<p>Let's drop any entry that averages over 30 minimum nights.</p>"
   ]
  },
  {
   "cell_type": "code",
   "execution_count": 49,
   "metadata": {},
   "outputs": [],
   "source": [
    "calendar_averages = calendar_averages.loc[\n",
    "    (calendar_averages.min_nights_year_avg <= 30) & \n",
    "    (calendar_averages.min_nights_winter_avg <= 30) &\n",
    "    (calendar_averages.min_nights_spring_avg <= 30) &\n",
    "    (calendar_averages.min_nights_summer_avg <= 30) &\n",
    "    (calendar_averages.min_nights_fall_avg <= 30) &\n",
    "    (calendar_averages.min_nights_jan_avg <= 30) &\n",
    "    (calendar_averages.min_nights_jun_avg <= 30) &\n",
    "    (calendar_averages.min_nights_dec_avg <= 30)\n",
    "]"
   ]
  },
  {
   "cell_type": "markdown",
   "metadata": {},
   "source": [
    "<br/>\n",
    "<p>The box plot shows clear outliers above \\$1000 average nightly price, and the 3rd quartile level is \\$180.  Let's drop all listings above \\$1000</p>"
   ]
  },
  {
   "cell_type": "code",
   "execution_count": 50,
   "metadata": {},
   "outputs": [
    {
     "data": {
      "text/plain": [
       "<matplotlib.axes._subplots.AxesSubplot at 0x14a08913ef0>"
      ]
     },
     "execution_count": 50,
     "metadata": {},
     "output_type": "execute_result"
    },
    {
     "data": {
      "image/png": "[encoded data removed]",
      "text/plain": [
       "<Figure size 1440x720 with 1 Axes>"
      ]
     },
     "metadata": {
      "needs_background": "light"
     },
     "output_type": "display_data"
    }
   ],
   "source": [
    "calendar_averages.price_year_avg.plot(kind='box', figsize=(20, 10))"
   ]
  },
  {
   "cell_type": "code",
   "execution_count": 51,
   "metadata": {},
   "outputs": [],
   "source": [
    "calendar_averages = calendar_averages.loc[\n",
    "    (calendar_averages.price_year_avg <= 1000) &\n",
    "    (calendar_averages.price_winter_avg <= 1000) &\n",
    "    (calendar_averages.price_spring_avg <= 1000) &\n",
    "    (calendar_averages.price_summer_avg <= 1000) &\n",
    "    (calendar_averages.price_fall_avg <= 1000) &\n",
    "    (calendar_averages.price_jan_avg <= 1000) &\n",
    "    (calendar_averages.price_jun_avg <= 1000) &\n",
    "    (calendar_averages.price_dec_avg <= 1000)\n",
    "]"
   ]
  },
  {
   "cell_type": "code",
   "execution_count": 52,
   "metadata": {},
   "outputs": [
    {
     "name": "stdout",
     "output_type": "stream",
     "text": [
      "<class 'pandas.core.frame.DataFrame'>\n",
      "Int64Index: 46512 entries, 2595 to 42892717\n",
      "Data columns (total 24 columns):\n",
      " #   Column                 Non-Null Count  Dtype  \n",
      "---  ------                 --------------  -----  \n",
      " 0   available_year_avg     46512 non-null  float64\n",
      " 1   available_winter_avg   46512 non-null  float64\n",
      " 2   available_spring_avg   46512 non-null  float64\n",
      " 3   available_summer_avg   46512 non-null  float64\n",
      " 4   available_fall_avg     46512 non-null  float64\n",
      " 5   available_jan_avg      46512 non-null  float64\n",
      " 6   available_jun_avg      46512 non-null  float64\n",
      " 7   available_dec_avg      46512 non-null  float64\n",
      " 8   min_nights_year_avg    46512 non-null  float64\n",
      " 9   min_nights_winter_avg  46512 non-null  float64\n",
      " 10  min_nights_spring_avg  46512 non-null  float64\n",
      " 11  min_nights_summer_avg  46512 non-null  float64\n",
      " 12  min_nights_fall_avg    46512 non-null  float64\n",
      " 13  min_nights_jan_avg     46512 non-null  float64\n",
      " 14  min_nights_jun_avg     46512 non-null  float64\n",
      " 15  min_nights_dec_avg     46512 non-null  float64\n",
      " 16  price_year_avg         46512 non-null  float64\n",
      " 17  price_winter_avg       46512 non-null  float64\n",
      " 18  price_spring_avg       46512 non-null  float64\n",
      " 19  price_summer_avg       46512 non-null  float64\n",
      " 20  price_fall_avg         46512 non-null  float64\n",
      " 21  price_jan_avg          46512 non-null  float64\n",
      " 22  price_jun_avg          46512 non-null  float64\n",
      " 23  price_dec_avg          46512 non-null  float64\n",
      "dtypes: float64(24)\n",
      "memory usage: 8.9 MB\n"
     ]
    },
    {
     "data": {
      "text/html": [
       "<div>\n",
       "<style scoped>\n",
       "    .dataframe tbody tr th:only-of-type {\n",
       "        vertical-align: middle;\n",
       "    }\n",
       "\n",
       "    .dataframe tbody tr th {\n",
       "        vertical-align: top;\n",
       "    }\n",
       "\n",
       "    .dataframe thead th {\n",
       "        text-align: right;\n",
       "    }\n",
       "</style>\n",
       "<table border=\"1\" class=\"dataframe\">\n",
       "  <thead>\n",
       "    <tr style=\"text-align: right;\">\n",
       "      <th></th>\n",
       "      <th>available_year_avg</th>\n",
       "      <th>available_winter_avg</th>\n",
       "      <th>available_spring_avg</th>\n",
       "      <th>available_summer_avg</th>\n",
       "      <th>available_fall_avg</th>\n",
       "      <th>available_jan_avg</th>\n",
       "      <th>available_jun_avg</th>\n",
       "      <th>available_dec_avg</th>\n",
       "      <th>min_nights_year_avg</th>\n",
       "      <th>min_nights_winter_avg</th>\n",
       "      <th>...</th>\n",
       "      <th>min_nights_jun_avg</th>\n",
       "      <th>min_nights_dec_avg</th>\n",
       "      <th>price_year_avg</th>\n",
       "      <th>price_winter_avg</th>\n",
       "      <th>price_spring_avg</th>\n",
       "      <th>price_summer_avg</th>\n",
       "      <th>price_fall_avg</th>\n",
       "      <th>price_jan_avg</th>\n",
       "      <th>price_jun_avg</th>\n",
       "      <th>price_dec_avg</th>\n",
       "    </tr>\n",
       "  </thead>\n",
       "  <tbody>\n",
       "    <tr>\n",
       "      <th>count</th>\n",
       "      <td>46512.000000</td>\n",
       "      <td>46512.000000</td>\n",
       "      <td>46512.000000</td>\n",
       "      <td>46512.000000</td>\n",
       "      <td>46512.000000</td>\n",
       "      <td>46512.000000</td>\n",
       "      <td>46512.000000</td>\n",
       "      <td>46512.000000</td>\n",
       "      <td>46512.000000</td>\n",
       "      <td>46512.000000</td>\n",
       "      <td>...</td>\n",
       "      <td>46512.000000</td>\n",
       "      <td>46512.000000</td>\n",
       "      <td>46512.000000</td>\n",
       "      <td>46512.000000</td>\n",
       "      <td>46512.000000</td>\n",
       "      <td>46512.000000</td>\n",
       "      <td>46512.000000</td>\n",
       "      <td>46512.000000</td>\n",
       "      <td>46512.000000</td>\n",
       "      <td>46512.000000</td>\n",
       "    </tr>\n",
       "    <tr>\n",
       "      <th>mean</th>\n",
       "      <td>0.310104</td>\n",
       "      <td>0.264459</td>\n",
       "      <td>0.345794</td>\n",
       "      <td>0.350036</td>\n",
       "      <td>0.279688</td>\n",
       "      <td>0.264468</td>\n",
       "      <td>0.355417</td>\n",
       "      <td>0.261052</td>\n",
       "      <td>5.542132</td>\n",
       "      <td>5.549577</td>\n",
       "      <td>...</td>\n",
       "      <td>5.555782</td>\n",
       "      <td>5.553404</td>\n",
       "      <td>142.704208</td>\n",
       "      <td>142.376723</td>\n",
       "      <td>139.351435</td>\n",
       "      <td>143.930061</td>\n",
       "      <td>145.145132</td>\n",
       "      <td>141.425145</td>\n",
       "      <td>143.314967</td>\n",
       "      <td>145.172397</td>\n",
       "    </tr>\n",
       "    <tr>\n",
       "      <th>std</th>\n",
       "      <td>0.363201</td>\n",
       "      <td>0.426325</td>\n",
       "      <td>0.366932</td>\n",
       "      <td>0.427010</td>\n",
       "      <td>0.419698</td>\n",
       "      <td>0.436770</td>\n",
       "      <td>0.424458</td>\n",
       "      <td>0.426004</td>\n",
       "      <td>8.093845</td>\n",
       "      <td>8.131298</td>\n",
       "      <td>...</td>\n",
       "      <td>8.135043</td>\n",
       "      <td>8.142107</td>\n",
       "      <td>116.779630</td>\n",
       "      <td>116.320663</td>\n",
       "      <td>114.123780</td>\n",
       "      <td>119.382099</td>\n",
       "      <td>120.920436</td>\n",
       "      <td>115.528820</td>\n",
       "      <td>120.438195</td>\n",
       "      <td>121.907988</td>\n",
       "    </tr>\n",
       "    <tr>\n",
       "      <th>min</th>\n",
       "      <td>0.000000</td>\n",
       "      <td>0.000000</td>\n",
       "      <td>0.000000</td>\n",
       "      <td>0.000000</td>\n",
       "      <td>0.000000</td>\n",
       "      <td>0.000000</td>\n",
       "      <td>0.000000</td>\n",
       "      <td>0.000000</td>\n",
       "      <td>1.000000</td>\n",
       "      <td>1.000000</td>\n",
       "      <td>...</td>\n",
       "      <td>1.000000</td>\n",
       "      <td>1.000000</td>\n",
       "      <td>0.000000</td>\n",
       "      <td>0.000000</td>\n",
       "      <td>0.000000</td>\n",
       "      <td>0.000000</td>\n",
       "      <td>0.000000</td>\n",
       "      <td>0.000000</td>\n",
       "      <td>0.000000</td>\n",
       "      <td>0.000000</td>\n",
       "    </tr>\n",
       "    <tr>\n",
       "      <th>25%</th>\n",
       "      <td>0.000000</td>\n",
       "      <td>0.000000</td>\n",
       "      <td>0.000000</td>\n",
       "      <td>0.000000</td>\n",
       "      <td>0.000000</td>\n",
       "      <td>0.000000</td>\n",
       "      <td>0.000000</td>\n",
       "      <td>0.000000</td>\n",
       "      <td>1.575342</td>\n",
       "      <td>1.428571</td>\n",
       "      <td>...</td>\n",
       "      <td>1.533333</td>\n",
       "      <td>1.411290</td>\n",
       "      <td>69.115068</td>\n",
       "      <td>70.000000</td>\n",
       "      <td>67.373626</td>\n",
       "      <td>69.019022</td>\n",
       "      <td>70.000000</td>\n",
       "      <td>70.000000</td>\n",
       "      <td>68.191667</td>\n",
       "      <td>70.000000</td>\n",
       "    </tr>\n",
       "    <tr>\n",
       "      <th>50%</th>\n",
       "      <td>0.150685</td>\n",
       "      <td>0.000000</td>\n",
       "      <td>0.197802</td>\n",
       "      <td>0.108696</td>\n",
       "      <td>0.000000</td>\n",
       "      <td>0.000000</td>\n",
       "      <td>0.033333</td>\n",
       "      <td>0.000000</td>\n",
       "      <td>2.430137</td>\n",
       "      <td>2.329670</td>\n",
       "      <td>...</td>\n",
       "      <td>2.400000</td>\n",
       "      <td>2.387097</td>\n",
       "      <td>108.506849</td>\n",
       "      <td>108.000000</td>\n",
       "      <td>105.000000</td>\n",
       "      <td>108.717391</td>\n",
       "      <td>110.000000</td>\n",
       "      <td>108.000000</td>\n",
       "      <td>106.000000</td>\n",
       "      <td>109.177419</td>\n",
       "    </tr>\n",
       "    <tr>\n",
       "      <th>75%</th>\n",
       "      <td>0.580822</td>\n",
       "      <td>0.703297</td>\n",
       "      <td>0.692308</td>\n",
       "      <td>0.902174</td>\n",
       "      <td>0.736264</td>\n",
       "      <td>0.935484</td>\n",
       "      <td>0.900000</td>\n",
       "      <td>0.677419</td>\n",
       "      <td>5.000000</td>\n",
       "      <td>5.000000</td>\n",
       "      <td>...</td>\n",
       "      <td>5.000000</td>\n",
       "      <td>5.000000</td>\n",
       "      <td>175.657534</td>\n",
       "      <td>175.000000</td>\n",
       "      <td>174.304945</td>\n",
       "      <td>178.000000</td>\n",
       "      <td>179.000000</td>\n",
       "      <td>175.000000</td>\n",
       "      <td>175.066667</td>\n",
       "      <td>178.516129</td>\n",
       "    </tr>\n",
       "    <tr>\n",
       "      <th>max</th>\n",
       "      <td>1.000000</td>\n",
       "      <td>1.000000</td>\n",
       "      <td>1.000000</td>\n",
       "      <td>1.000000</td>\n",
       "      <td>1.000000</td>\n",
       "      <td>1.000000</td>\n",
       "      <td>1.000000</td>\n",
       "      <td>1.000000</td>\n",
       "      <td>30.000000</td>\n",
       "      <td>30.000000</td>\n",
       "      <td>...</td>\n",
       "      <td>30.000000</td>\n",
       "      <td>30.000000</td>\n",
       "      <td>1000.000000</td>\n",
       "      <td>1000.000000</td>\n",
       "      <td>1000.000000</td>\n",
       "      <td>1000.000000</td>\n",
       "      <td>1000.000000</td>\n",
       "      <td>1000.000000</td>\n",
       "      <td>1000.000000</td>\n",
       "      <td>1000.000000</td>\n",
       "    </tr>\n",
       "  </tbody>\n",
       "</table>\n",
       "<p>8 rows × 24 columns</p>\n",
       "</div>"
      ],
      "text/plain": [
       "       available_year_avg  available_winter_avg  available_spring_avg  \\\n",
       "count        46512.000000          46512.000000          46512.000000   \n",
       "mean             0.310104              0.264459              0.345794   \n",
       "std              0.363201              0.426325              0.366932   \n",
       "min              0.000000              0.000000              0.000000   \n",
       "25%              0.000000              0.000000              0.000000   \n",
       "50%              0.150685              0.000000              0.197802   \n",
       "75%              0.580822              0.703297              0.692308   \n",
       "max              1.000000              1.000000              1.000000   \n",
       "\n",
       "       available_summer_avg  available_fall_avg  available_jan_avg  \\\n",
       "count          46512.000000        46512.000000       46512.000000   \n",
       "mean               0.350036            0.279688           0.264468   \n",
       "std                0.427010            0.419698           0.436770   \n",
       "min                0.000000            0.000000           0.000000   \n",
       "25%                0.000000            0.000000           0.000000   \n",
       "50%                0.108696            0.000000           0.000000   \n",
       "75%                0.902174            0.736264           0.935484   \n",
       "max                1.000000            1.000000           1.000000   \n",
       "\n",
       "       available_jun_avg  available_dec_avg  min_nights_year_avg  \\\n",
       "count       46512.000000       46512.000000         46512.000000   \n",
       "mean            0.355417           0.261052             5.542132   \n",
       "std             0.424458           0.426004             8.093845   \n",
       "min             0.000000           0.000000             1.000000   \n",
       "25%             0.000000           0.000000             1.575342   \n",
       "50%             0.033333           0.000000             2.430137   \n",
       "75%             0.900000           0.677419             5.000000   \n",
       "max             1.000000           1.000000            30.000000   \n",
       "\n",
       "       min_nights_winter_avg  ...  min_nights_jun_avg  min_nights_dec_avg  \\\n",
       "count           46512.000000  ...        46512.000000        46512.000000   \n",
       "mean                5.549577  ...            5.555782            5.553404   \n",
       "std                 8.131298  ...            8.135043            8.142107   \n",
       "min                 1.000000  ...            1.000000            1.000000   \n",
       "25%                 1.428571  ...            1.533333            1.411290   \n",
       "50%                 2.329670  ...            2.400000            2.387097   \n",
       "75%                 5.000000  ...            5.000000            5.000000   \n",
       "max                30.000000  ...           30.000000           30.000000   \n",
       "\n",
       "       price_year_avg  price_winter_avg  price_spring_avg  price_summer_avg  \\\n",
       "count    46512.000000      46512.000000      46512.000000      46512.000000   \n",
       "mean       142.704208        142.376723        139.351435        143.930061   \n",
       "std        116.779630        116.320663        114.123780        119.382099   \n",
       "min          0.000000          0.000000          0.000000          0.000000   \n",
       "25%         69.115068         70.000000         67.373626         69.019022   \n",
       "50%        108.506849        108.000000        105.000000        108.717391   \n",
       "75%        175.657534        175.000000        174.304945        178.000000   \n",
       "max       1000.000000       1000.000000       1000.000000       1000.000000   \n",
       "\n",
       "       price_fall_avg  price_jan_avg  price_jun_avg  price_dec_avg  \n",
       "count    46512.000000   46512.000000   46512.000000   46512.000000  \n",
       "mean       145.145132     141.425145     143.314967     145.172397  \n",
       "std        120.920436     115.528820     120.438195     121.907988  \n",
       "min          0.000000       0.000000       0.000000       0.000000  \n",
       "25%         70.000000      70.000000      68.191667      70.000000  \n",
       "50%        110.000000     108.000000     106.000000     109.177419  \n",
       "75%        179.000000     175.000000     175.066667     178.516129  \n",
       "max       1000.000000    1000.000000    1000.000000    1000.000000  \n",
       "\n",
       "[8 rows x 24 columns]"
      ]
     },
     "execution_count": 52,
     "metadata": {},
     "output_type": "execute_result"
    }
   ],
   "source": [
    "calendar_averages.info()\n",
    "calendar_averages.describe()"
   ]
  },
  {
   "cell_type": "markdown",
   "metadata": {},
   "source": [
    "<p>We still have to deal with price outliers, but let's merge the <b>calendar_averages</b> and <b>listings_clean</b> tables on listing ID so we can use geographic data to average over nearest neighbors.</p>"
   ]
  },
  {
   "cell_type": "code",
   "execution_count": 53,
   "metadata": {},
   "outputs": [],
   "source": [
    "# https://chrisalbon.com/python/data_wrangling/pandas_join_merge_dataframe/\n",
    "\n",
    "listings_clean = listings_clean.loc[listings_clean.id != 15268792]\n",
    "listings_clean = listings_clean.loc[listings_clean.id.isin(calendar_averages.index)]\n",
    "listings_merge = pd.merge(listings_clean, calendar_averages, left_on='id', right_index=True)"
   ]
  },
  {
   "cell_type": "code",
   "execution_count": 54,
   "metadata": {},
   "outputs": [
    {
     "name": "stdout",
     "output_type": "stream",
     "text": [
      "<class 'pandas.core.frame.DataFrame'>\n",
      "Int64Index: 46512 entries, 1 to 48542\n",
      "Columns: 171 entries, id to price_dec_avg\n",
      "dtypes: float64(31), int16(1), int32(1), int64(134), object(4)\n",
      "memory usage: 60.6+ MB\n"
     ]
    },
    {
     "data": {
      "text/html": [
       "<div>\n",
       "<style scoped>\n",
       "    .dataframe tbody tr th:only-of-type {\n",
       "        vertical-align: middle;\n",
       "    }\n",
       "\n",
       "    .dataframe tbody tr th {\n",
       "        vertical-align: top;\n",
       "    }\n",
       "\n",
       "    .dataframe thead th {\n",
       "        text-align: right;\n",
       "    }\n",
       "</style>\n",
       "<table border=\"1\" class=\"dataframe\">\n",
       "  <thead>\n",
       "    <tr style=\"text-align: right;\">\n",
       "      <th></th>\n",
       "      <th>id</th>\n",
       "      <th>summary</th>\n",
       "      <th>neighbourhood</th>\n",
       "      <th>neighbourhood_group</th>\n",
       "      <th>latitude</th>\n",
       "      <th>longitude</th>\n",
       "      <th>room_type</th>\n",
       "      <th>accommodates</th>\n",
       "      <th>bathrooms</th>\n",
       "      <th>bedrooms</th>\n",
       "      <th>...</th>\n",
       "      <th>min_nights_jun_avg</th>\n",
       "      <th>min_nights_dec_avg</th>\n",
       "      <th>price_year_avg</th>\n",
       "      <th>price_winter_avg</th>\n",
       "      <th>price_spring_avg</th>\n",
       "      <th>price_summer_avg</th>\n",
       "      <th>price_fall_avg</th>\n",
       "      <th>price_jan_avg</th>\n",
       "      <th>price_jun_avg</th>\n",
       "      <th>price_dec_avg</th>\n",
       "    </tr>\n",
       "  </thead>\n",
       "  <tbody>\n",
       "    <tr>\n",
       "      <th>1</th>\n",
       "      <td>2595</td>\n",
       "      <td>Beautiful, spacious skylit studio in the heart...</td>\n",
       "      <td>128</td>\n",
       "      <td>Manhattan</td>\n",
       "      <td>40.75362</td>\n",
       "      <td>-73.98377</td>\n",
       "      <td>Entire home/apt</td>\n",
       "      <td>2</td>\n",
       "      <td>1.0</td>\n",
       "      <td>0.0</td>\n",
       "      <td>...</td>\n",
       "      <td>7.0</td>\n",
       "      <td>7.0</td>\n",
       "      <td>176.386301</td>\n",
       "      <td>177.714286</td>\n",
       "      <td>175.406593</td>\n",
       "      <td>175.000000</td>\n",
       "      <td>177.439560</td>\n",
       "      <td>177.741935</td>\n",
       "      <td>175.000000</td>\n",
       "      <td>177.741935</td>\n",
       "    </tr>\n",
       "    <tr>\n",
       "      <th>2</th>\n",
       "      <td>3831</td>\n",
       "      <td>Urban retreat: enjoy 500 s.f. floor in 1899 br...</td>\n",
       "      <td>40</td>\n",
       "      <td>Brooklyn</td>\n",
       "      <td>40.68514</td>\n",
       "      <td>-73.95976</td>\n",
       "      <td>Entire home/apt</td>\n",
       "      <td>3</td>\n",
       "      <td>1.0</td>\n",
       "      <td>1.0</td>\n",
       "      <td>...</td>\n",
       "      <td>1.0</td>\n",
       "      <td>1.0</td>\n",
       "      <td>81.320548</td>\n",
       "      <td>81.000000</td>\n",
       "      <td>81.483516</td>\n",
       "      <td>81.065217</td>\n",
       "      <td>81.736264</td>\n",
       "      <td>80.258065</td>\n",
       "      <td>80.433333</td>\n",
       "      <td>81.064516</td>\n",
       "    </tr>\n",
       "    <tr>\n",
       "      <th>3</th>\n",
       "      <td>5099</td>\n",
       "      <td>My large 1 bedroom apartment has a true New Yo...</td>\n",
       "      <td>138</td>\n",
       "      <td>Manhattan</td>\n",
       "      <td>40.74767</td>\n",
       "      <td>-73.97500</td>\n",
       "      <td>Entire home/apt</td>\n",
       "      <td>2</td>\n",
       "      <td>1.0</td>\n",
       "      <td>1.0</td>\n",
       "      <td>...</td>\n",
       "      <td>3.0</td>\n",
       "      <td>3.0</td>\n",
       "      <td>200.000000</td>\n",
       "      <td>200.000000</td>\n",
       "      <td>200.000000</td>\n",
       "      <td>200.000000</td>\n",
       "      <td>200.000000</td>\n",
       "      <td>200.000000</td>\n",
       "      <td>200.000000</td>\n",
       "      <td>200.000000</td>\n",
       "    </tr>\n",
       "    <tr>\n",
       "      <th>6</th>\n",
       "      <td>5178</td>\n",
       "      <td>Please don’t expect the luxury here just a bas...</td>\n",
       "      <td>96</td>\n",
       "      <td>Manhattan</td>\n",
       "      <td>40.76489</td>\n",
       "      <td>-73.98493</td>\n",
       "      <td>Private room</td>\n",
       "      <td>2</td>\n",
       "      <td>1.0</td>\n",
       "      <td>1.0</td>\n",
       "      <td>...</td>\n",
       "      <td>2.0</td>\n",
       "      <td>2.0</td>\n",
       "      <td>78.863014</td>\n",
       "      <td>79.000000</td>\n",
       "      <td>78.450549</td>\n",
       "      <td>79.000000</td>\n",
       "      <td>79.000000</td>\n",
       "      <td>79.000000</td>\n",
       "      <td>79.000000</td>\n",
       "      <td>79.000000</td>\n",
       "    </tr>\n",
       "    <tr>\n",
       "      <th>7</th>\n",
       "      <td>5203</td>\n",
       "      <td>Our best guests are seeking a safe, clean, spa...</td>\n",
       "      <td>203</td>\n",
       "      <td>Manhattan</td>\n",
       "      <td>40.80178</td>\n",
       "      <td>-73.96723</td>\n",
       "      <td>Private room</td>\n",
       "      <td>1</td>\n",
       "      <td>1.0</td>\n",
       "      <td>1.0</td>\n",
       "      <td>...</td>\n",
       "      <td>2.0</td>\n",
       "      <td>2.0</td>\n",
       "      <td>77.947945</td>\n",
       "      <td>79.428571</td>\n",
       "      <td>75.637363</td>\n",
       "      <td>77.304348</td>\n",
       "      <td>79.428571</td>\n",
       "      <td>79.483871</td>\n",
       "      <td>75.000000</td>\n",
       "      <td>79.387097</td>\n",
       "    </tr>\n",
       "  </tbody>\n",
       "</table>\n",
       "<p>5 rows × 171 columns</p>\n",
       "</div>"
      ],
      "text/plain": [
       "     id                                            summary  neighbourhood  \\\n",
       "1  2595  Beautiful, spacious skylit studio in the heart...            128   \n",
       "2  3831  Urban retreat: enjoy 500 s.f. floor in 1899 br...             40   \n",
       "3  5099  My large 1 bedroom apartment has a true New Yo...            138   \n",
       "6  5178  Please don’t expect the luxury here just a bas...             96   \n",
       "7  5203  Our best guests are seeking a safe, clean, spa...            203   \n",
       "\n",
       "  neighbourhood_group  latitude  longitude        room_type  accommodates  \\\n",
       "1           Manhattan  40.75362  -73.98377  Entire home/apt             2   \n",
       "2            Brooklyn  40.68514  -73.95976  Entire home/apt             3   \n",
       "3           Manhattan  40.74767  -73.97500  Entire home/apt             2   \n",
       "6           Manhattan  40.76489  -73.98493     Private room             2   \n",
       "7           Manhattan  40.80178  -73.96723     Private room             1   \n",
       "\n",
       "   bathrooms  bedrooms  ...  min_nights_jun_avg min_nights_dec_avg  \\\n",
       "1        1.0       0.0  ...                 7.0                7.0   \n",
       "2        1.0       1.0  ...                 1.0                1.0   \n",
       "3        1.0       1.0  ...                 3.0                3.0   \n",
       "6        1.0       1.0  ...                 2.0                2.0   \n",
       "7        1.0       1.0  ...                 2.0                2.0   \n",
       "\n",
       "   price_year_avg  price_winter_avg  price_spring_avg  price_summer_avg  \\\n",
       "1      176.386301        177.714286        175.406593        175.000000   \n",
       "2       81.320548         81.000000         81.483516         81.065217   \n",
       "3      200.000000        200.000000        200.000000        200.000000   \n",
       "6       78.863014         79.000000         78.450549         79.000000   \n",
       "7       77.947945         79.428571         75.637363         77.304348   \n",
       "\n",
       "   price_fall_avg  price_jan_avg  price_jun_avg  price_dec_avg  \n",
       "1      177.439560     177.741935     175.000000     177.741935  \n",
       "2       81.736264      80.258065      80.433333      81.064516  \n",
       "3      200.000000     200.000000     200.000000     200.000000  \n",
       "6       79.000000      79.000000      79.000000      79.000000  \n",
       "7       79.428571      79.483871      75.000000      79.387097  \n",
       "\n",
       "[5 rows x 171 columns]"
      ]
     },
     "execution_count": 54,
     "metadata": {},
     "output_type": "execute_result"
    }
   ],
   "source": [
    "listings_merge.info()\n",
    "listings_merge.head()"
   ]
  },
  {
   "cell_type": "code",
   "execution_count": 55,
   "metadata": {},
   "outputs": [
    {
     "data": {
      "text/html": [
       "<div>\n",
       "<style scoped>\n",
       "    .dataframe tbody tr th:only-of-type {\n",
       "        vertical-align: middle;\n",
       "    }\n",
       "\n",
       "    .dataframe tbody tr th {\n",
       "        vertical-align: top;\n",
       "    }\n",
       "\n",
       "    .dataframe thead th {\n",
       "        text-align: right;\n",
       "    }\n",
       "</style>\n",
       "<table border=\"1\" class=\"dataframe\">\n",
       "  <thead>\n",
       "    <tr style=\"text-align: right;\">\n",
       "      <th></th>\n",
       "      <th>id</th>\n",
       "      <th>neighbourhood</th>\n",
       "      <th>latitude</th>\n",
       "      <th>longitude</th>\n",
       "      <th>accommodates</th>\n",
       "      <th>bathrooms</th>\n",
       "      <th>bedrooms</th>\n",
       "      <th>beds</th>\n",
       "      <th>number_of_reviews</th>\n",
       "      <th>review_scores_rating</th>\n",
       "      <th>...</th>\n",
       "      <th>min_nights_jun_avg</th>\n",
       "      <th>min_nights_dec_avg</th>\n",
       "      <th>price_year_avg</th>\n",
       "      <th>price_winter_avg</th>\n",
       "      <th>price_spring_avg</th>\n",
       "      <th>price_summer_avg</th>\n",
       "      <th>price_fall_avg</th>\n",
       "      <th>price_jan_avg</th>\n",
       "      <th>price_jun_avg</th>\n",
       "      <th>price_dec_avg</th>\n",
       "    </tr>\n",
       "  </thead>\n",
       "  <tbody>\n",
       "    <tr>\n",
       "      <th>count</th>\n",
       "      <td>4.651200e+04</td>\n",
       "      <td>46512.000000</td>\n",
       "      <td>46512.000000</td>\n",
       "      <td>46512.000000</td>\n",
       "      <td>46512.000000</td>\n",
       "      <td>46512.000000</td>\n",
       "      <td>46512.000000</td>\n",
       "      <td>46512.000000</td>\n",
       "      <td>46512.000000</td>\n",
       "      <td>46512.000000</td>\n",
       "      <td>...</td>\n",
       "      <td>46512.000000</td>\n",
       "      <td>46512.000000</td>\n",
       "      <td>46512.000000</td>\n",
       "      <td>46512.000000</td>\n",
       "      <td>46512.000000</td>\n",
       "      <td>46512.000000</td>\n",
       "      <td>46512.000000</td>\n",
       "      <td>46512.000000</td>\n",
       "      <td>46512.000000</td>\n",
       "      <td>46512.000000</td>\n",
       "    </tr>\n",
       "    <tr>\n",
       "      <th>mean</th>\n",
       "      <td>2.216350e+07</td>\n",
       "      <td>106.547601</td>\n",
       "      <td>40.728619</td>\n",
       "      <td>-73.950165</td>\n",
       "      <td>2.866486</td>\n",
       "      <td>1.135460</td>\n",
       "      <td>1.177675</td>\n",
       "      <td>1.524940</td>\n",
       "      <td>26.141426</td>\n",
       "      <td>94.076992</td>\n",
       "      <td>...</td>\n",
       "      <td>5.555782</td>\n",
       "      <td>5.553404</td>\n",
       "      <td>142.704208</td>\n",
       "      <td>142.376723</td>\n",
       "      <td>139.351435</td>\n",
       "      <td>143.930061</td>\n",
       "      <td>145.145132</td>\n",
       "      <td>141.425145</td>\n",
       "      <td>143.314967</td>\n",
       "      <td>145.172397</td>\n",
       "    </tr>\n",
       "    <tr>\n",
       "      <th>std</th>\n",
       "      <td>1.308181e+07</td>\n",
       "      <td>69.533597</td>\n",
       "      <td>0.055158</td>\n",
       "      <td>0.047766</td>\n",
       "      <td>1.819444</td>\n",
       "      <td>0.383943</td>\n",
       "      <td>0.726102</td>\n",
       "      <td>1.039615</td>\n",
       "      <td>49.781665</td>\n",
       "      <td>7.581204</td>\n",
       "      <td>...</td>\n",
       "      <td>8.135043</td>\n",
       "      <td>8.142107</td>\n",
       "      <td>116.779630</td>\n",
       "      <td>116.320663</td>\n",
       "      <td>114.123780</td>\n",
       "      <td>119.382099</td>\n",
       "      <td>120.920436</td>\n",
       "      <td>115.528820</td>\n",
       "      <td>120.438195</td>\n",
       "      <td>121.907988</td>\n",
       "    </tr>\n",
       "    <tr>\n",
       "      <th>min</th>\n",
       "      <td>2.595000e+03</td>\n",
       "      <td>0.000000</td>\n",
       "      <td>40.499790</td>\n",
       "      <td>-74.240840</td>\n",
       "      <td>1.000000</td>\n",
       "      <td>0.000000</td>\n",
       "      <td>0.000000</td>\n",
       "      <td>0.000000</td>\n",
       "      <td>0.000000</td>\n",
       "      <td>20.000000</td>\n",
       "      <td>...</td>\n",
       "      <td>1.000000</td>\n",
       "      <td>1.000000</td>\n",
       "      <td>0.000000</td>\n",
       "      <td>0.000000</td>\n",
       "      <td>0.000000</td>\n",
       "      <td>0.000000</td>\n",
       "      <td>0.000000</td>\n",
       "      <td>0.000000</td>\n",
       "      <td>0.000000</td>\n",
       "      <td>0.000000</td>\n",
       "    </tr>\n",
       "    <tr>\n",
       "      <th>25%</th>\n",
       "      <td>1.026870e+07</td>\n",
       "      <td>50.000000</td>\n",
       "      <td>40.689000</td>\n",
       "      <td>-73.982400</td>\n",
       "      <td>2.000000</td>\n",
       "      <td>1.000000</td>\n",
       "      <td>1.000000</td>\n",
       "      <td>1.000000</td>\n",
       "      <td>1.000000</td>\n",
       "      <td>93.000000</td>\n",
       "      <td>...</td>\n",
       "      <td>1.533333</td>\n",
       "      <td>1.411290</td>\n",
       "      <td>69.115068</td>\n",
       "      <td>70.000000</td>\n",
       "      <td>67.373626</td>\n",
       "      <td>69.019022</td>\n",
       "      <td>70.000000</td>\n",
       "      <td>70.000000</td>\n",
       "      <td>68.191667</td>\n",
       "      <td>70.000000</td>\n",
       "    </tr>\n",
       "    <tr>\n",
       "      <th>50%</th>\n",
       "      <td>2.182269e+07</td>\n",
       "      <td>95.000000</td>\n",
       "      <td>40.722400</td>\n",
       "      <td>-73.954520</td>\n",
       "      <td>2.000000</td>\n",
       "      <td>1.000000</td>\n",
       "      <td>1.000000</td>\n",
       "      <td>1.000000</td>\n",
       "      <td>6.000000</td>\n",
       "      <td>95.000000</td>\n",
       "      <td>...</td>\n",
       "      <td>2.400000</td>\n",
       "      <td>2.387097</td>\n",
       "      <td>108.506849</td>\n",
       "      <td>108.000000</td>\n",
       "      <td>105.000000</td>\n",
       "      <td>108.717391</td>\n",
       "      <td>110.000000</td>\n",
       "      <td>108.000000</td>\n",
       "      <td>106.000000</td>\n",
       "      <td>109.177419</td>\n",
       "    </tr>\n",
       "    <tr>\n",
       "      <th>75%</th>\n",
       "      <td>3.435617e+07</td>\n",
       "      <td>177.000000</td>\n",
       "      <td>40.762963</td>\n",
       "      <td>-73.932928</td>\n",
       "      <td>4.000000</td>\n",
       "      <td>1.000000</td>\n",
       "      <td>1.000000</td>\n",
       "      <td>2.000000</td>\n",
       "      <td>27.000000</td>\n",
       "      <td>99.000000</td>\n",
       "      <td>...</td>\n",
       "      <td>5.000000</td>\n",
       "      <td>5.000000</td>\n",
       "      <td>175.657534</td>\n",
       "      <td>175.000000</td>\n",
       "      <td>174.304945</td>\n",
       "      <td>178.000000</td>\n",
       "      <td>179.000000</td>\n",
       "      <td>175.000000</td>\n",
       "      <td>175.066667</td>\n",
       "      <td>178.516129</td>\n",
       "    </tr>\n",
       "    <tr>\n",
       "      <th>max</th>\n",
       "      <td>4.289272e+07</td>\n",
       "      <td>221.000000</td>\n",
       "      <td>40.910550</td>\n",
       "      <td>-73.711560</td>\n",
       "      <td>16.000000</td>\n",
       "      <td>5.000000</td>\n",
       "      <td>10.000000</td>\n",
       "      <td>12.000000</td>\n",
       "      <td>695.000000</td>\n",
       "      <td>100.000000</td>\n",
       "      <td>...</td>\n",
       "      <td>30.000000</td>\n",
       "      <td>30.000000</td>\n",
       "      <td>1000.000000</td>\n",
       "      <td>1000.000000</td>\n",
       "      <td>1000.000000</td>\n",
       "      <td>1000.000000</td>\n",
       "      <td>1000.000000</td>\n",
       "      <td>1000.000000</td>\n",
       "      <td>1000.000000</td>\n",
       "      <td>1000.000000</td>\n",
       "    </tr>\n",
       "  </tbody>\n",
       "</table>\n",
       "<p>8 rows × 167 columns</p>\n",
       "</div>"
      ],
      "text/plain": [
       "                 id  neighbourhood      latitude     longitude  accommodates  \\\n",
       "count  4.651200e+04   46512.000000  46512.000000  46512.000000  46512.000000   \n",
       "mean   2.216350e+07     106.547601     40.728619    -73.950165      2.866486   \n",
       "std    1.308181e+07      69.533597      0.055158      0.047766      1.819444   \n",
       "min    2.595000e+03       0.000000     40.499790    -74.240840      1.000000   \n",
       "25%    1.026870e+07      50.000000     40.689000    -73.982400      2.000000   \n",
       "50%    2.182269e+07      95.000000     40.722400    -73.954520      2.000000   \n",
       "75%    3.435617e+07     177.000000     40.762963    -73.932928      4.000000   \n",
       "max    4.289272e+07     221.000000     40.910550    -73.711560     16.000000   \n",
       "\n",
       "          bathrooms      bedrooms          beds  number_of_reviews  \\\n",
       "count  46512.000000  46512.000000  46512.000000       46512.000000   \n",
       "mean       1.135460      1.177675      1.524940          26.141426   \n",
       "std        0.383943      0.726102      1.039615          49.781665   \n",
       "min        0.000000      0.000000      0.000000           0.000000   \n",
       "25%        1.000000      1.000000      1.000000           1.000000   \n",
       "50%        1.000000      1.000000      1.000000           6.000000   \n",
       "75%        1.000000      1.000000      2.000000          27.000000   \n",
       "max        5.000000     10.000000     12.000000         695.000000   \n",
       "\n",
       "       review_scores_rating  ...  min_nights_jun_avg  min_nights_dec_avg  \\\n",
       "count          46512.000000  ...        46512.000000        46512.000000   \n",
       "mean              94.076992  ...            5.555782            5.553404   \n",
       "std                7.581204  ...            8.135043            8.142107   \n",
       "min               20.000000  ...            1.000000            1.000000   \n",
       "25%               93.000000  ...            1.533333            1.411290   \n",
       "50%               95.000000  ...            2.400000            2.387097   \n",
       "75%               99.000000  ...            5.000000            5.000000   \n",
       "max              100.000000  ...           30.000000           30.000000   \n",
       "\n",
       "       price_year_avg  price_winter_avg  price_spring_avg  price_summer_avg  \\\n",
       "count    46512.000000      46512.000000      46512.000000      46512.000000   \n",
       "mean       142.704208        142.376723        139.351435        143.930061   \n",
       "std        116.779630        116.320663        114.123780        119.382099   \n",
       "min          0.000000          0.000000          0.000000          0.000000   \n",
       "25%         69.115068         70.000000         67.373626         69.019022   \n",
       "50%        108.506849        108.000000        105.000000        108.717391   \n",
       "75%        175.657534        175.000000        174.304945        178.000000   \n",
       "max       1000.000000       1000.000000       1000.000000       1000.000000   \n",
       "\n",
       "       price_fall_avg  price_jan_avg  price_jun_avg  price_dec_avg  \n",
       "count    46512.000000   46512.000000   46512.000000   46512.000000  \n",
       "mean       145.145132     141.425145     143.314967     145.172397  \n",
       "std        120.920436     115.528820     120.438195     121.907988  \n",
       "min          0.000000       0.000000       0.000000       0.000000  \n",
       "25%         70.000000      70.000000      68.191667      70.000000  \n",
       "50%        110.000000     108.000000     106.000000     109.177419  \n",
       "75%        179.000000     175.000000     175.066667     178.516129  \n",
       "max       1000.000000    1000.000000    1000.000000    1000.000000  \n",
       "\n",
       "[8 rows x 167 columns]"
      ]
     },
     "execution_count": 55,
     "metadata": {},
     "output_type": "execute_result"
    }
   ],
   "source": [
    "listings_merge.describe()"
   ]
  },
  {
   "cell_type": "markdown",
   "metadata": {},
   "source": [
    "<br/>\n",
    "<p>Availability seems to be a heavy tailed distribution, with most listings unavailable over the year.  This suggests a high average utilization of rentals in NYC, but there are still a lot of rentals available.</p>"
   ]
  },
  {
   "cell_type": "code",
   "execution_count": 56,
   "metadata": {},
   "outputs": [
    {
     "data": {
      "image/png": "[encoded data removed]",
      "text/plain": [
       "<Figure size 1440x720 with 1 Axes>"
      ]
     },
     "metadata": {
      "needs_background": "light"
     },
     "output_type": "display_data"
    }
   ],
   "source": [
    "plt = listings_merge.available_year_avg.plot(kind='hist', figsize=(20, 10))"
   ]
  },
  {
   "cell_type": "markdown",
   "metadata": {},
   "source": [
    "<br/>\n",
    "<p>Even in a low season like winter, there seems to be low availability.</p>"
   ]
  },
  {
   "cell_type": "code",
   "execution_count": 57,
   "metadata": {
    "scrolled": false
   },
   "outputs": [
    {
     "data": {
      "image/png": "[encoded data removed]",
      "text/plain": [
       "<Figure size 1440x720 with 1 Axes>"
      ]
     },
     "metadata": {
      "needs_background": "light"
     },
     "output_type": "display_data"
    }
   ],
   "source": [
    "plt = listings_merge.available_winter_avg.plot(kind='hist', figsize=(20, 10))"
   ]
  },
  {
   "cell_type": "markdown",
   "metadata": {},
   "source": [
    "<br/>\n",
    "<p>Plotting the log of the minimum nights required we see that it approximates an exponential distribution.</p>"
   ]
  },
  {
   "cell_type": "code",
   "execution_count": 58,
   "metadata": {
    "scrolled": false
   },
   "outputs": [
    {
     "name": "stdout",
     "output_type": "stream",
     "text": [
      "1.000000     11002\n",
      "2.000000     10779\n",
      "3.000000      7224\n",
      "30.000000     3360\n",
      "4.000000      2930\n",
      "             ...  \n",
      "6.641096         1\n",
      "29.539726        1\n",
      "1.832877         1\n",
      "13.558904        1\n",
      "3.175342         1\n",
      "Name: min_nights_year_avg, Length: 1356, dtype: int64\n",
      "30.000000    3360\n",
      "7.000000     1770\n",
      "6.000000      656\n",
      "14.000000     471\n",
      "10.000000     429\n",
      "             ... \n",
      "9.358904        1\n",
      "6.402740        1\n",
      "27.794521       1\n",
      "29.501370       1\n",
      "21.832877       1\n",
      "Name: min_nights_year_avg, Length: 614, dtype: int64\n"
     ]
    },
    {
     "data": {
      "image/png": "[encoded data removed]",
      "text/plain": [
       "<Figure size 1440x720 with 1 Axes>"
      ]
     },
     "metadata": {
      "needs_background": "light"
     },
     "output_type": "display_data"
    }
   ],
   "source": [
    "min_nights_75_perc = listings_merge.loc[listings_merge.min_nights_year_avg > 5].min_nights_year_avg.value_counts()\n",
    "print(listings_merge.min_nights_year_avg.value_counts())\n",
    "print(min_nights_75_perc)\n",
    "plt = listings_merge.min_nights_year_avg.plot(kind='hist', figsize=(20, 10))"
   ]
  },
  {
   "cell_type": "markdown",
   "metadata": {},
   "source": [
    "<br/>\n",
    "<p>There isn't much detail in plot of average prices over the year.  We can't plot the log of average prices due to some zero values that need to be cleaned up.</p>"
   ]
  },
  {
   "cell_type": "code",
   "execution_count": 59,
   "metadata": {
    "scrolled": false
   },
   "outputs": [
    {
     "name": "stdout",
     "output_type": "stream",
     "text": [
      "150.000000    881\n",
      "100.000000    847\n",
      "200.000000    655\n",
      "50.000000     601\n",
      "75.000000     546\n",
      "             ... \n",
      "323.301370      1\n",
      "100.246575      1\n",
      "97.816438       1\n",
      "118.479452      1\n",
      "214.408219      1\n",
      "Name: price_year_avg, Length: 22239, dtype: int64\n",
      "200.000000    655\n",
      "250.000000    494\n",
      "300.000000    269\n",
      "225.000000    185\n",
      "350.000000    152\n",
      "             ... \n",
      "236.342466      1\n",
      "204.953425      1\n",
      "951.621918      1\n",
      "425.479452      1\n",
      "194.287671      1\n",
      "Name: price_year_avg, Length: 6167, dtype: int64\n"
     ]
    },
    {
     "data": {
      "image/png": "[encoded data removed]",
      "text/plain": [
       "<Figure size 1440x720 with 1 Axes>"
      ]
     },
     "metadata": {
      "needs_background": "light"
     },
     "output_type": "display_data"
    }
   ],
   "source": [
    "price_75_perc = listings_merge.loc[listings_merge.price_year_avg > 180].price_year_avg.value_counts()\n",
    "print(listings_merge.price_year_avg.value_counts())\n",
    "print(price_75_perc)\n",
    "plt = listings_merge.price_year_avg.plot(kind='hist', figsize=(20, 10))"
   ]
  },
  {
   "cell_type": "markdown",
   "metadata": {},
   "source": [
    "<br/>\n",
    "<p>Use a similar method as with the <b>listings_clean</b> table to average over a 200 m radius from listings that have 0, missing, or outlier values for prices.</p>"
   ]
  },
  {
   "cell_type": "code",
   "execution_count": 60,
   "metadata": {},
   "outputs": [
    {
     "name": "stdout",
     "output_type": "stream",
     "text": [
      "price_year_avg price_dec_avg latitude longitude\n"
     ]
    }
   ],
   "source": [
    "# print(listings_merge.columns[384], listings_merge.columns[391], listings_merge.columns[4], listings_merge.columns[5])\n",
    "\n",
    "print(listings_merge.columns[163], listings_merge.columns[170], listings_merge.columns[4], listings_merge.columns[5])"
   ]
  },
  {
   "cell_type": "markdown",
   "metadata": {},
   "source": [
    "<br/>\n",
    "<p>Similar to how we handled <b>bedrooms</b>, we will average price over 200m radius from listings that have 0 or NaN values.  Again we will not consider <b>room_type</b></p>"
   ]
  },
  {
   "cell_type": "code",
   "execution_count": 64,
   "metadata": {},
   "outputs": [],
   "source": [
    "# https://gizmodo.com/how-precise-is-one-degree-of-longitude-or-latitude-1631241162\n",
    "# averaging over approximate radius of 200 m from listings\n",
    "# that have 0, NaN, or greater than threshold price values\n",
    "\n",
    "lat_diff = 0.002\n",
    "long_diff = 0.002\n",
    "def avg_of_neighbors_2(row, col_name, col_index):\n",
    "    item = row[col_index]\n",
    "    lat = row[4]\n",
    "    long = row[5]\n",
    "    if math.isnan(item) or item == 0:\n",
    "        item = listings_merge[col_name].loc[(listings_clean.latitude > lat - lat_diff) \\\n",
    "            & (listings_merge.latitude < lat + lat_diff) \\\n",
    "            & (listings_merge.longitude > long - long_diff) \\\n",
    "            & (listings_merge.longitude < long + long_diff)].groupby(by=listings_merge.neighbourhood).mean().round().iloc[0]\n",
    "        row[col_index] = item\n",
    "    return row\n",
    "\n",
    "listings_merge = listings_merge.apply(avg_of_neighbors_2, col_name='price_year_avg', col_index=163, axis=1)\n",
    "listings_merge = listings_merge.apply(avg_of_neighbors_2, col_name='price_winter_avg', col_index=164, axis=1)\n",
    "listings_merge = listings_merge.apply(avg_of_neighbors_2, col_name='price_spring_avg', col_index=165, axis=1)\n",
    "listings_merge = listings_merge.apply(avg_of_neighbors_2, col_name='price_summer_avg', col_index=166, axis=1)\n",
    "listings_merge = listings_merge.apply(avg_of_neighbors_2, col_name='price_fall_avg', col_index=167, axis=1)\n",
    "listings_merge = listings_merge.apply(avg_of_neighbors_2, col_name='price_jan_avg', col_index=168, axis=1)\n",
    "listings_merge = listings_merge.apply(avg_of_neighbors_2, col_name='price_jun_avg', col_index=169, axis=1)\n",
    "listings_merge = listings_merge.apply(avg_of_neighbors_2, col_name='price_dec_avg', col_index=170, axis=1)"
   ]
  },
  {
   "cell_type": "markdown",
   "metadata": {},
   "source": [
    "<br/>\n",
    "<p>After some cleanup and taking the log of prices averaged over the year, we see an approximate normal distribution.</p>"
   ]
  },
  {
   "cell_type": "code",
   "execution_count": 65,
   "metadata": {
    "scrolled": false
   },
   "outputs": [
    {
     "data": {
      "image/png": "[encoded data removed]",
      "text/plain": [
       "<Figure size 1440x720 with 1 Axes>"
      ]
     },
     "metadata": {
      "needs_background": "light"
     },
     "output_type": "display_data"
    }
   ],
   "source": [
    "plt = np.log(listings_merge.price_year_avg).plot(kind='hist', figsize=(20, 10))"
   ]
  },
  {
   "cell_type": "markdown",
   "metadata": {},
   "source": [
    "<br/>\n",
    "<p>Even after the cleaning process, we find that there is still a missing <b>price_fall_avg</b> value.  Averaging over nearest neighbors didn't catch everything!</p>"
   ]
  },
  {
   "cell_type": "code",
   "execution_count": 66,
   "metadata": {},
   "outputs": [
    {
     "name": "stdout",
     "output_type": "stream",
     "text": [
      "<class 'pandas.core.frame.DataFrame'>\n",
      "Int64Index: 46512 entries, 1 to 48542\n",
      "Columns: 171 entries, id to price_dec_avg\n",
      "dtypes: float64(31), int64(136), object(4)\n",
      "memory usage: 62.3+ MB\n"
     ]
    },
    {
     "data": {
      "text/html": [
       "<div>\n",
       "<style scoped>\n",
       "    .dataframe tbody tr th:only-of-type {\n",
       "        vertical-align: middle;\n",
       "    }\n",
       "\n",
       "    .dataframe tbody tr th {\n",
       "        vertical-align: top;\n",
       "    }\n",
       "\n",
       "    .dataframe thead th {\n",
       "        text-align: right;\n",
       "    }\n",
       "</style>\n",
       "<table border=\"1\" class=\"dataframe\">\n",
       "  <thead>\n",
       "    <tr style=\"text-align: right;\">\n",
       "      <th></th>\n",
       "      <th>id</th>\n",
       "      <th>neighbourhood</th>\n",
       "      <th>latitude</th>\n",
       "      <th>longitude</th>\n",
       "      <th>accommodates</th>\n",
       "      <th>bathrooms</th>\n",
       "      <th>bedrooms</th>\n",
       "      <th>beds</th>\n",
       "      <th>number_of_reviews</th>\n",
       "      <th>review_scores_rating</th>\n",
       "      <th>...</th>\n",
       "      <th>min_nights_jun_avg</th>\n",
       "      <th>min_nights_dec_avg</th>\n",
       "      <th>price_year_avg</th>\n",
       "      <th>price_winter_avg</th>\n",
       "      <th>price_spring_avg</th>\n",
       "      <th>price_summer_avg</th>\n",
       "      <th>price_fall_avg</th>\n",
       "      <th>price_jan_avg</th>\n",
       "      <th>price_jun_avg</th>\n",
       "      <th>price_dec_avg</th>\n",
       "    </tr>\n",
       "  </thead>\n",
       "  <tbody>\n",
       "    <tr>\n",
       "      <th>count</th>\n",
       "      <td>4.651200e+04</td>\n",
       "      <td>46512.000000</td>\n",
       "      <td>46512.000000</td>\n",
       "      <td>46512.000000</td>\n",
       "      <td>46512.000000</td>\n",
       "      <td>46512.000000</td>\n",
       "      <td>46512.000000</td>\n",
       "      <td>46512.000000</td>\n",
       "      <td>46512.000000</td>\n",
       "      <td>46512.000000</td>\n",
       "      <td>...</td>\n",
       "      <td>46512.000000</td>\n",
       "      <td>46512.000000</td>\n",
       "      <td>46512.000000</td>\n",
       "      <td>46512.000000</td>\n",
       "      <td>46512.000000</td>\n",
       "      <td>46512.000000</td>\n",
       "      <td>46512.000000</td>\n",
       "      <td>46512.000000</td>\n",
       "      <td>46512.000000</td>\n",
       "      <td>46512.000000</td>\n",
       "    </tr>\n",
       "    <tr>\n",
       "      <th>mean</th>\n",
       "      <td>2.216350e+07</td>\n",
       "      <td>106.547601</td>\n",
       "      <td>40.728619</td>\n",
       "      <td>-73.950165</td>\n",
       "      <td>2.866486</td>\n",
       "      <td>1.135460</td>\n",
       "      <td>1.177675</td>\n",
       "      <td>1.524940</td>\n",
       "      <td>26.141426</td>\n",
       "      <td>94.076992</td>\n",
       "      <td>...</td>\n",
       "      <td>5.555782</td>\n",
       "      <td>5.553404</td>\n",
       "      <td>142.715216</td>\n",
       "      <td>142.392891</td>\n",
       "      <td>139.362421</td>\n",
       "      <td>143.946423</td>\n",
       "      <td>145.161644</td>\n",
       "      <td>141.441227</td>\n",
       "      <td>143.331285</td>\n",
       "      <td>145.188909</td>\n",
       "    </tr>\n",
       "    <tr>\n",
       "      <th>std</th>\n",
       "      <td>1.308181e+07</td>\n",
       "      <td>69.533597</td>\n",
       "      <td>0.055158</td>\n",
       "      <td>0.047766</td>\n",
       "      <td>1.819444</td>\n",
       "      <td>0.383943</td>\n",
       "      <td>0.726102</td>\n",
       "      <td>1.039615</td>\n",
       "      <td>49.781665</td>\n",
       "      <td>7.581204</td>\n",
       "      <td>...</td>\n",
       "      <td>8.135043</td>\n",
       "      <td>8.142107</td>\n",
       "      <td>116.780159</td>\n",
       "      <td>116.320226</td>\n",
       "      <td>114.124759</td>\n",
       "      <td>119.381595</td>\n",
       "      <td>120.919873</td>\n",
       "      <td>115.528441</td>\n",
       "      <td>120.437775</td>\n",
       "      <td>121.907443</td>\n",
       "    </tr>\n",
       "    <tr>\n",
       "      <th>min</th>\n",
       "      <td>2.595000e+03</td>\n",
       "      <td>0.000000</td>\n",
       "      <td>40.499790</td>\n",
       "      <td>-74.240840</td>\n",
       "      <td>1.000000</td>\n",
       "      <td>0.000000</td>\n",
       "      <td>0.000000</td>\n",
       "      <td>0.000000</td>\n",
       "      <td>0.000000</td>\n",
       "      <td>20.000000</td>\n",
       "      <td>...</td>\n",
       "      <td>1.000000</td>\n",
       "      <td>1.000000</td>\n",
       "      <td>7.397260</td>\n",
       "      <td>10.000000</td>\n",
       "      <td>10.000000</td>\n",
       "      <td>10.000000</td>\n",
       "      <td>10.000000</td>\n",
       "      <td>10.000000</td>\n",
       "      <td>10.000000</td>\n",
       "      <td>10.000000</td>\n",
       "    </tr>\n",
       "    <tr>\n",
       "      <th>25%</th>\n",
       "      <td>1.026870e+07</td>\n",
       "      <td>50.000000</td>\n",
       "      <td>40.689000</td>\n",
       "      <td>-73.982400</td>\n",
       "      <td>2.000000</td>\n",
       "      <td>1.000000</td>\n",
       "      <td>1.000000</td>\n",
       "      <td>1.000000</td>\n",
       "      <td>1.000000</td>\n",
       "      <td>93.000000</td>\n",
       "      <td>...</td>\n",
       "      <td>1.533333</td>\n",
       "      <td>1.411290</td>\n",
       "      <td>69.127397</td>\n",
       "      <td>70.000000</td>\n",
       "      <td>67.373626</td>\n",
       "      <td>69.032609</td>\n",
       "      <td>70.000000</td>\n",
       "      <td>70.000000</td>\n",
       "      <td>68.200000</td>\n",
       "      <td>70.000000</td>\n",
       "    </tr>\n",
       "    <tr>\n",
       "      <th>50%</th>\n",
       "      <td>2.182269e+07</td>\n",
       "      <td>95.000000</td>\n",
       "      <td>40.722400</td>\n",
       "      <td>-73.954520</td>\n",
       "      <td>2.000000</td>\n",
       "      <td>1.000000</td>\n",
       "      <td>1.000000</td>\n",
       "      <td>1.000000</td>\n",
       "      <td>6.000000</td>\n",
       "      <td>95.000000</td>\n",
       "      <td>...</td>\n",
       "      <td>2.400000</td>\n",
       "      <td>2.387097</td>\n",
       "      <td>108.527397</td>\n",
       "      <td>108.000000</td>\n",
       "      <td>105.000000</td>\n",
       "      <td>108.760870</td>\n",
       "      <td>110.000000</td>\n",
       "      <td>108.000000</td>\n",
       "      <td>106.000000</td>\n",
       "      <td>109.258065</td>\n",
       "    </tr>\n",
       "    <tr>\n",
       "      <th>75%</th>\n",
       "      <td>3.435617e+07</td>\n",
       "      <td>177.000000</td>\n",
       "      <td>40.762963</td>\n",
       "      <td>-73.932928</td>\n",
       "      <td>4.000000</td>\n",
       "      <td>1.000000</td>\n",
       "      <td>1.000000</td>\n",
       "      <td>2.000000</td>\n",
       "      <td>27.000000</td>\n",
       "      <td>99.000000</td>\n",
       "      <td>...</td>\n",
       "      <td>5.000000</td>\n",
       "      <td>5.000000</td>\n",
       "      <td>175.657534</td>\n",
       "      <td>175.000000</td>\n",
       "      <td>174.329670</td>\n",
       "      <td>178.000000</td>\n",
       "      <td>179.000000</td>\n",
       "      <td>175.000000</td>\n",
       "      <td>175.075000</td>\n",
       "      <td>178.750000</td>\n",
       "    </tr>\n",
       "    <tr>\n",
       "      <th>max</th>\n",
       "      <td>4.289272e+07</td>\n",
       "      <td>221.000000</td>\n",
       "      <td>40.910550</td>\n",
       "      <td>-73.711560</td>\n",
       "      <td>16.000000</td>\n",
       "      <td>5.000000</td>\n",
       "      <td>10.000000</td>\n",
       "      <td>12.000000</td>\n",
       "      <td>695.000000</td>\n",
       "      <td>100.000000</td>\n",
       "      <td>...</td>\n",
       "      <td>30.000000</td>\n",
       "      <td>30.000000</td>\n",
       "      <td>1000.000000</td>\n",
       "      <td>1000.000000</td>\n",
       "      <td>1000.000000</td>\n",
       "      <td>1000.000000</td>\n",
       "      <td>1000.000000</td>\n",
       "      <td>1000.000000</td>\n",
       "      <td>1000.000000</td>\n",
       "      <td>1000.000000</td>\n",
       "    </tr>\n",
       "  </tbody>\n",
       "</table>\n",
       "<p>8 rows × 167 columns</p>\n",
       "</div>"
      ],
      "text/plain": [
       "                 id  neighbourhood      latitude     longitude  accommodates  \\\n",
       "count  4.651200e+04   46512.000000  46512.000000  46512.000000  46512.000000   \n",
       "mean   2.216350e+07     106.547601     40.728619    -73.950165      2.866486   \n",
       "std    1.308181e+07      69.533597      0.055158      0.047766      1.819444   \n",
       "min    2.595000e+03       0.000000     40.499790    -74.240840      1.000000   \n",
       "25%    1.026870e+07      50.000000     40.689000    -73.982400      2.000000   \n",
       "50%    2.182269e+07      95.000000     40.722400    -73.954520      2.000000   \n",
       "75%    3.435617e+07     177.000000     40.762963    -73.932928      4.000000   \n",
       "max    4.289272e+07     221.000000     40.910550    -73.711560     16.000000   \n",
       "\n",
       "          bathrooms      bedrooms          beds  number_of_reviews  \\\n",
       "count  46512.000000  46512.000000  46512.000000       46512.000000   \n",
       "mean       1.135460      1.177675      1.524940          26.141426   \n",
       "std        0.383943      0.726102      1.039615          49.781665   \n",
       "min        0.000000      0.000000      0.000000           0.000000   \n",
       "25%        1.000000      1.000000      1.000000           1.000000   \n",
       "50%        1.000000      1.000000      1.000000           6.000000   \n",
       "75%        1.000000      1.000000      2.000000          27.000000   \n",
       "max        5.000000     10.000000     12.000000         695.000000   \n",
       "\n",
       "       review_scores_rating  ...  min_nights_jun_avg  min_nights_dec_avg  \\\n",
       "count          46512.000000  ...        46512.000000        46512.000000   \n",
       "mean              94.076992  ...            5.555782            5.553404   \n",
       "std                7.581204  ...            8.135043            8.142107   \n",
       "min               20.000000  ...            1.000000            1.000000   \n",
       "25%               93.000000  ...            1.533333            1.411290   \n",
       "50%               95.000000  ...            2.400000            2.387097   \n",
       "75%               99.000000  ...            5.000000            5.000000   \n",
       "max              100.000000  ...           30.000000           30.000000   \n",
       "\n",
       "       price_year_avg  price_winter_avg  price_spring_avg  price_summer_avg  \\\n",
       "count    46512.000000      46512.000000      46512.000000      46512.000000   \n",
       "mean       142.715216        142.392891        139.362421        143.946423   \n",
       "std        116.780159        116.320226        114.124759        119.381595   \n",
       "min          7.397260         10.000000         10.000000         10.000000   \n",
       "25%         69.127397         70.000000         67.373626         69.032609   \n",
       "50%        108.527397        108.000000        105.000000        108.760870   \n",
       "75%        175.657534        175.000000        174.329670        178.000000   \n",
       "max       1000.000000       1000.000000       1000.000000       1000.000000   \n",
       "\n",
       "       price_fall_avg  price_jan_avg  price_jun_avg  price_dec_avg  \n",
       "count    46512.000000   46512.000000   46512.000000   46512.000000  \n",
       "mean       145.161644     141.441227     143.331285     145.188909  \n",
       "std        120.919873     115.528441     120.437775     121.907443  \n",
       "min         10.000000      10.000000      10.000000      10.000000  \n",
       "25%         70.000000      70.000000      68.200000      70.000000  \n",
       "50%        110.000000     108.000000     106.000000     109.258065  \n",
       "75%        179.000000     175.000000     175.075000     178.750000  \n",
       "max       1000.000000    1000.000000    1000.000000    1000.000000  \n",
       "\n",
       "[8 rows x 167 columns]"
      ]
     },
     "execution_count": 66,
     "metadata": {},
     "output_type": "execute_result"
    }
   ],
   "source": [
    "listings_merge.info()\n",
    "listings_merge.describe()"
   ]
  },
  {
   "cell_type": "code",
   "execution_count": 67,
   "metadata": {},
   "outputs": [
    {
     "name": "stdout",
     "output_type": "stream",
     "text": [
      "id\n",
      "summary\n",
      "neighbourhood\n",
      "neighbourhood_group\n",
      "latitude\n",
      "longitude\n",
      "room_type\n",
      "accommodates\n",
      "bathrooms\n",
      "bedrooms\n",
      "beds\n",
      "amenities\n",
      "number_of_reviews\n",
      "review_scores_rating\n",
      "reviews_per_month\n",
      "entire_home_apt\n",
      "24_hour_check_in\n",
      "_toilet\n",
      "accessible_height_bed\n",
      "accessible_height_toilet\n",
      "air_conditioning\n",
      "air_purifier\n",
      "baby_bath\n",
      "baby_monitor\n",
      "babysitter_recommendations\n",
      "baking_sheet\n",
      "barbecue_utensils\n",
      "bathtub\n",
      "bathtub_with_bath_chair\n",
      "bbq_grill\n",
      "beach_essentials\n",
      "beachfront\n",
      "bed_linens\n",
      "bread_maker\n",
      "breakfast\n",
      "building_staff\n",
      "buzzer_wireless_intercom\n",
      "cable_tv\n",
      "carbon_monoxide_detector\n",
      "cats\n",
      "changing_table\n",
      "childrens_books_and_toys\n",
      "childrens_dinnerware\n",
      "cleaning_before_checkout\n",
      "coffee_maker\n",
      "cooking_basics\n",
      "crib\n",
      "disabled_parking_spot\n",
      "dishes_and_silverware\n",
      "dishwasher\n",
      "dogs\n",
      "doorman\n",
      "dryer\n",
      "electric_profiling_bed\n",
      "elevator\n",
      "essentials\n",
      "ethernet_connection\n",
      "ev_charger\n",
      "extra_pillows_and_blankets\n",
      "extra_space_around_bed\n",
      "family_kid_friendly\n",
      "fire_extinguisher\n",
      "fireplace_guards\n",
      "firm_mattress\n",
      "first_aid_kit\n",
      "fixed_grab_bars_for_shower\n",
      "fixed_grab_bars_for_toilet\n",
      "flat_path_to_guest_entrance\n",
      "free_parking_on_premises\n",
      "free_street_parking\n",
      "full_kitchen\n",
      "game_console\n",
      "garden_or_backyard\n",
      "ground_floor_access\n",
      "gym\n",
      "hair_dryer\n",
      "handheld_shower_head\n",
      "hangers\n",
      "heating\n",
      "high_chair\n",
      "host_greets_you\n",
      "hot_tub\n",
      "hot_water\n",
      "hot_water_kettle\n",
      "indoor_fireplace\n",
      "internet\n",
      "iron\n",
      "keypad\n",
      "kitchen\n",
      "kitchenette\n",
      "lake_access\n",
      "laptop_friendly_workspace\n",
      "lock_on_bedroom_door\n",
      "lockbox\n",
      "long_term_stays_allowed\n",
      "luggage_dropoff_allowed\n",
      "microwave\n",
      "mobile_hoist\n",
      "no_stairs_or_steps_to_enter\n",
      "other\n",
      "other_pets\n",
      "outlet_covers\n",
      "oven\n",
      "pack_n_play_travel_crib\n",
      "paid_parking_off_premises\n",
      "paid_parking_on_premises\n",
      "patio_or_balcony\n",
      "pets_allowed\n",
      "pets_live_on_this_property\n",
      "pocket_wifi\n",
      "pool\n",
      "private_bathroom\n",
      "private_entrance\n",
      "private_living_room\n",
      "refrigerator\n",
      "room_darkening_shades\n",
      "safety_card\n",
      "self_check_in\n",
      "shampoo\n",
      "shower_chair\n",
      "shower_gel\n",
      "single_level_home\n",
      "ski_in_ski_out\n",
      "smart_lock\n",
      "smoke_detector\n",
      "smoking_allowed\n",
      "snacks\n",
      "stair_gates\n",
      "step_free_shower\n",
      "stove\n",
      "suitable_for_events\n",
      "table_corner_guards\n",
      "trash_can\n",
      "tv\n",
      "washer\n",
      "washer_dryer\n",
      "waterfront\n",
      "well_lit_path_to_entrance\n",
      "wheelchair_accessible\n",
      "wide_clearance_to_shower\n",
      "wide_doorway_to_guest_bathroom\n",
      "wide_entrance\n",
      "wide_entrance_for_guests\n",
      "wide_entryway\n",
      "wide_hallways\n",
      "wifi\n",
      "window_guards\n",
      "available_year_avg\n",
      "available_winter_avg\n",
      "available_spring_avg\n",
      "available_summer_avg\n",
      "available_fall_avg\n",
      "available_jan_avg\n",
      "available_jun_avg\n",
      "available_dec_avg\n",
      "min_nights_year_avg\n",
      "min_nights_winter_avg\n",
      "min_nights_spring_avg\n",
      "min_nights_summer_avg\n",
      "min_nights_fall_avg\n",
      "min_nights_jan_avg\n",
      "min_nights_jun_avg\n",
      "min_nights_dec_avg\n",
      "price_year_avg\n",
      "price_winter_avg\n",
      "price_spring_avg\n",
      "price_summer_avg\n",
      "price_fall_avg\n",
      "price_jan_avg\n",
      "price_jun_avg\n",
      "price_dec_avg\n"
     ]
    }
   ],
   "source": [
    "for c in listings_merge.columns:\n",
    "    print(c)"
   ]
  },
  {
   "cell_type": "code",
   "execution_count": 68,
   "metadata": {},
   "outputs": [],
   "source": [
    "listings_merge_backup = listings_merge"
   ]
  },
  {
   "cell_type": "code",
   "execution_count": 69,
   "metadata": {},
   "outputs": [],
   "source": [
    "listings_merge = listings_merge_backup"
   ]
  },
  {
   "cell_type": "code",
   "execution_count": 76,
   "metadata": {},
   "outputs": [
    {
     "data": {
      "image/png": "[encoded data removed]",
      "text/plain": [
       "<Figure size 432x288 with 1 Axes>"
      ]
     },
     "metadata": {
      "needs_background": "light"
     },
     "output_type": "display_data"
    },
    {
     "data": {
      "image/png": "[encoded data removed]",
      "text/plain": [
       "<Figure size 432x288 with 1 Axes>"
      ]
     },
     "metadata": {
      "needs_background": "light"
     },
     "output_type": "display_data"
    },
    {
     "data": {
      "image/png": "[encoded data removed]",
      "text/plain": [
       "<Figure size 432x288 with 1 Axes>"
      ]
     },
     "metadata": {
      "needs_background": "light"
     },
     "output_type": "display_data"
    },
    {
     "data": {
      "image/png": "[encoded data removed]",
      "text/plain": [
       "<Figure size 432x288 with 1 Axes>"
      ]
     },
     "metadata": {
      "needs_background": "light"
     },
     "output_type": "display_data"
    },
    {
     "data": {
      "image/png": "[encoded data removed]",
      "text/plain": [
       "<Figure size 432x288 with 1 Axes>"
      ]
     },
     "metadata": {
      "needs_background": "light"
     },
     "output_type": "display_data"
    },
    {
     "data": {
      "image/png": "[encoded data removed]",
      "text/plain": [
       "<Figure size 432x288 with 1 Axes>"
      ]
     },
     "metadata": {
      "needs_background": "light"
     },
     "output_type": "display_data"
    },
    {
     "data": {
      "image/png": "[encoded data removed]",
      "text/plain": [
       "<Figure size 432x288 with 1 Axes>"
      ]
     },
     "metadata": {
      "needs_background": "light"
     },
     "output_type": "display_data"
    },
    {
     "data": {
      "image/png": "[encoded data removed]",
      "text/plain": [
       "<Figure size 432x288 with 1 Axes>"
      ]
     },
     "metadata": {
      "needs_background": "light"
     },
     "output_type": "display_data"
    },
    {
     "data": {
      "image/png": "[encoded data removed]",
      "text/plain": [
       "<Figure size 432x288 with 1 Axes>"
      ]
     },
     "metadata": {
      "needs_background": "light"
     },
     "output_type": "display_data"
    },
    {
     "data": {
      "image/png": "[encoded data removed]",
      "text/plain": [
       "<Figure size 432x288 with 1 Axes>"
      ]
     },
     "metadata": {
      "needs_background": "light"
     },
     "output_type": "display_data"
    }
   ],
   "source": [
    "#Bronx 71812, 149777, Brooklyn 8490, 7726, Manhattan 2595, 5238, Queens 45910, 57166, Staten Island 225976, 639199\n",
    "# listings_clean.loc[\n",
    "#     (listings_clean.neighbourhood_group == 'Manhattan') &\n",
    "#     (listings_clean.room_type == 'Entire home/apt')].head()\n",
    "listings_ids = [71812, 149777, 8490, 7726, 2595, 5238, 45910, 57166, 225976, 639199]\n",
    "for listing_id in listings_ids:\n",
    "    calendar_clean.loc[calendar_clean.listing_id == listing_id].sort_values(by='date').plot(\n",
    "        x='date', y='price', style='o'\n",
    "    )"
   ]
  },
  {
   "cell_type": "markdown",
   "metadata": {},
   "source": [
    "<br/>\n",
    "<p>Let's do a final check for any correlated features.</p>"
   ]
  },
  {
   "cell_type": "code",
   "execution_count": 77,
   "metadata": {},
   "outputs": [
    {
     "data": {
      "text/plain": [
       "<matplotlib.axes._subplots.AxesSubplot at 0x14a13f556a0>"
      ]
     },
     "execution_count": 77,
     "metadata": {},
     "output_type": "execute_result"
    },
    {
     "data": {
      "image/png": "[encoded data removed]",
      "text/plain": [
       "<Figure size 792x648 with 2 Axes>"
      ]
     },
     "metadata": {},
     "output_type": "display_data"
    }
   ],
   "source": [
    "import seaborn as sns\n",
    "import matplotlib.pyplot as plt\n",
    "\n",
    "sns.set(style=\"white\")\n",
    "\n",
    "features = listings_merge[[\n",
    "    'summary', 'neighbourhood', 'neighbourhood_group', 'latitude', 'longitude',\n",
    "    'room_type', 'accommodates', 'bathrooms', 'bedrooms', 'beds',\n",
    "    'amenities', 'number_of_reviews', 'review_scores_rating', 'reviews_per_month',\n",
    "    'available_year_avg', 'available_winter_avg', 'available_spring_avg', 'available_summer_avg', 'available_fall_avg',\n",
    "    'available_jan_avg', 'available_jun_avg', 'available_dec_avg',\n",
    "    'min_nights_year_avg', 'min_nights_winter_avg', 'min_nights_spring_avg', 'min_nights_summer_avg', 'min_nights_fall_avg',\n",
    "    'min_nights_jan_avg', 'min_nights_jun_avg', 'min_nights_dec_avg'\n",
    "]]\n",
    "\n",
    "fig, ax = plt.subplots(figsize=(11, 9))\n",
    "cmap = sns.diverging_palette(220, 10, as_cmap=True)\n",
    "sns.heatmap(features.corr(), cmap=cmap, vmax=1, vmin=-1, center=0, square=True, linewidths=.5, cbar_kws={\"shrink\": .5})"
   ]
  },
  {
   "cell_type": "markdown",
   "metadata": {},
   "source": [
    "<p>We can see that <b>beds</b> and <b>accommodates</b> are heavily correlated with <b>bedrooms</b>.  We can drop those columns.  Other columns should be dropped as well to clean up any non-numerical data.</p>"
   ]
  },
  {
   "cell_type": "code",
   "execution_count": 78,
   "metadata": {},
   "outputs": [
    {
     "name": "stdout",
     "output_type": "stream",
     "text": [
      "Feature set: all amenities\n",
      "Target label: price_year_avg\n",
      "Gradient boost R^2: 0.30688379746405814\n",
      "Gradient boost MAE: 60.44829768848917\n"
     ]
    }
   ],
   "source": [
    "from xgboost.sklearn import XGBRegressor\n",
    "from sklearn.model_selection import train_test_split\n",
    "from sklearn.metrics import mean_absolute_error\n",
    "\n",
    "X_base = listings_merge.amenities.str.join('|').str.get_dummies()\n",
    "y = listings_merge.price_year_avg\n",
    "\n",
    "X_train, X_test, y_train, y_test = train_test_split(X_base, y, test_size=.25, random_state=42, shuffle=True)\n",
    "\n",
    "clf = XGBRegressor(\n",
    "    objective='reg:squarederror',\n",
    "    learning_rate=0.1,\n",
    "    max_depth=8,\n",
    "    n_estimators=200,\n",
    "    cv=5,\n",
    "    n_jobs=-1\n",
    ")\n",
    "\n",
    "clf.fit(X_train, y_train)\n",
    "print('Feature set: all amenities')\n",
    "print('Target label: price_year_avg')\n",
    "print('Gradient boost R^2:', clf.score(X_test, y_test))\n",
    "print('Gradient boost MAE:', mean_absolute_error(y_test, clf.predict(X_test)))"
   ]
  },
  {
   "cell_type": "code",
   "execution_count": 79,
   "metadata": {},
   "outputs": [
    {
     "name": "stderr",
     "output_type": "stream",
     "text": [
      "c:\\users\\bruce\\miniconda3\\envs\\capstone\\lib\\site-packages\\sklearn\\feature_selection\\_univariate_selection.py:115: RuntimeWarning: divide by zero encountered in true_divide\n",
      "  f = msb / msw\n"
     ]
    },
    {
     "name": "stdout",
     "output_type": "stream",
     "text": [
      "Feature set: 125 amenities\n",
      "Target label: price_year_avg\n",
      "Gradient boost R^2: 0.3082078948811855\n",
      "Gradient boost MAE: 60.48501918543924\n"
     ]
    },
    {
     "name": "stderr",
     "output_type": "stream",
     "text": [
      "c:\\users\\bruce\\miniconda3\\envs\\capstone\\lib\\site-packages\\sklearn\\feature_selection\\_univariate_selection.py:115: RuntimeWarning: divide by zero encountered in true_divide\n",
      "  f = msb / msw\n"
     ]
    },
    {
     "name": "stdout",
     "output_type": "stream",
     "text": [
      "Feature set: 100 amenities\n",
      "Target label: price_year_avg\n",
      "Gradient boost R^2: 0.27297747492263547\n",
      "Gradient boost MAE: 62.373794732068035\n"
     ]
    },
    {
     "name": "stderr",
     "output_type": "stream",
     "text": [
      "c:\\users\\bruce\\miniconda3\\envs\\capstone\\lib\\site-packages\\sklearn\\feature_selection\\_univariate_selection.py:115: RuntimeWarning: divide by zero encountered in true_divide\n",
      "  f = msb / msw\n"
     ]
    },
    {
     "name": "stdout",
     "output_type": "stream",
     "text": [
      "Feature set: 75 amenities\n",
      "Target label: price_year_avg\n",
      "Gradient boost R^2: 0.1604875858779875\n",
      "Gradient boost MAE: 69.27791174141849\n"
     ]
    },
    {
     "name": "stderr",
     "output_type": "stream",
     "text": [
      "c:\\users\\bruce\\miniconda3\\envs\\capstone\\lib\\site-packages\\sklearn\\feature_selection\\_univariate_selection.py:115: RuntimeWarning: divide by zero encountered in true_divide\n",
      "  f = msb / msw\n"
     ]
    },
    {
     "name": "stdout",
     "output_type": "stream",
     "text": [
      "Feature set: 50 amenities\n",
      "Target label: price_year_avg\n",
      "Gradient boost R^2: 0.09852452922113042\n",
      "Gradient boost MAE: 72.69948398105223\n"
     ]
    },
    {
     "name": "stderr",
     "output_type": "stream",
     "text": [
      "c:\\users\\bruce\\miniconda3\\envs\\capstone\\lib\\site-packages\\sklearn\\feature_selection\\_univariate_selection.py:115: RuntimeWarning: divide by zero encountered in true_divide\n",
      "  f = msb / msw\n"
     ]
    },
    {
     "name": "stdout",
     "output_type": "stream",
     "text": [
      "Feature set: 25 amenities\n",
      "Target label: price_year_avg\n",
      "Gradient boost R^2: 0.023745905209968\n",
      "Gradient boost MAE: 76.88828202534017\n"
     ]
    }
   ],
   "source": [
    "from sklearn.feature_selection import SelectKBest, f_classif\n",
    "from xgboost.sklearn import XGBRegressor\n",
    "from sklearn.model_selection import train_test_split\n",
    "from sklearn.metrics import mean_absolute_error\n",
    "\n",
    "for k in [125, 100, 75, 50, 25]:\n",
    "    X_base = listings_merge.amenities.str.join('|').str.get_dummies()\n",
    "    y = listings_merge.price_year_avg\n",
    "\n",
    "    selector = SelectKBest(f_classif, k=k)\n",
    "    X_kbest = selector.fit_transform(X_base, y)\n",
    "\n",
    "    X_train, X_test, y_train, y_test = train_test_split(X_kbest, y, test_size=.25, random_state=42, shuffle=True)\n",
    "\n",
    "    clf = XGBRegressor(\n",
    "        objective='reg:squarederror',\n",
    "        learning_rate=0.1,\n",
    "        max_depth=8,\n",
    "        n_estimators=200,\n",
    "        cv=5,\n",
    "        n_jobs=-1\n",
    "    )\n",
    "\n",
    "    clf.fit(X_train, y_train)\n",
    "    print('Feature set:', k, 'amenities')\n",
    "    print('Target label: price_year_avg')\n",
    "    print('Gradient boost R^2:', clf.score(X_test, y_test))\n",
    "    print('Gradient boost MAE:', mean_absolute_error(y_test, clf.predict(X_test)))"
   ]
  },
  {
   "cell_type": "code",
   "execution_count": 80,
   "metadata": {},
   "outputs": [],
   "source": [
    "listings_merge = listings_merge.drop(['beds', 'accommodates'], axis=1)\n",
    "listings_merge = listings_merge.drop(['id', 'room_type', 'neighbourhood_group'], axis=1)\n",
    "listings_merge = listings_merge.drop(['reviews_per_month'], axis=1)\n",
    "listings_merge = listings_merge.drop(['number_of_reviews'], axis=1)\n",
    "listings_merge = listings_merge.drop(['summary', 'amenities'], axis=1)\n",
    "\n",
    "# listings_merge = listings_merge.drop(['neighbourhood'], axis=1)\n",
    "# listings_merge = listings_merge.drop(['review_scores_rating'], axis=1)\n",
    "# listings_merge = listings_merge.drop(\n",
    "#     ['available_year_avg', 'available_winter_avg', 'available_spring_avg',\n",
    "#      'available_summer_avg', 'available_fall_avg', 'available_jan_avg',\n",
    "#      'available_jun_avg','available_dec_avg'], axis=1)"
   ]
  },
  {
   "cell_type": "code",
   "execution_count": 81,
   "metadata": {},
   "outputs": [
    {
     "data": {
      "text/plain": [
       "(46512, 138)"
      ]
     },
     "execution_count": 81,
     "metadata": {},
     "output_type": "execute_result"
    }
   ],
   "source": [
    "X_base = listings_merge.drop([\n",
    "    'price_year_avg', 'price_winter_avg', 'price_spring_avg', 'price_summer_avg', 'price_fall_avg',\n",
    "    'price_jan_avg', 'price_jun_avg', 'price_dec_avg',\n",
    "    'available_year_avg', 'available_winter_avg', 'available_spring_avg', 'available_summer_avg',\n",
    "    'available_fall_avg', 'available_jan_avg', 'available_jun_avg', 'available_dec_avg',\n",
    "    'min_nights_year_avg', 'min_nights_winter_avg', 'min_nights_spring_avg', 'min_nights_summer_avg',\n",
    "    'min_nights_fall_avg', 'min_nights_jan_avg', 'min_nights_jun_avg', 'min_nights_dec_avg',\n",
    "], axis=1)\n",
    "X_base.shape"
   ]
  },
  {
   "cell_type": "markdown",
   "metadata": {},
   "source": [
    "<p>Perhaps we can add more features like monthly or holiday averages for availability, minimum nights required, and price, but that would make the table size explode!<p>"
   ]
  },
  {
   "cell_type": "markdown",
   "metadata": {},
   "source": [
    "<h2>Modeling data with prices as target labels</h2>\n",
    "\n",
    "<p>Now that we've cleaned up the data, let's look at several possible models of linear and non-linear type.  We will use average price of each listing over the year 2019, as well as seasonal average price as the target labels.  The easiest ones to get started with are Linear Regression and Random Forest.</p>"
   ]
  },
  {
   "cell_type": "code",
   "execution_count": 82,
   "metadata": {},
   "outputs": [
    {
     "name": "stdout",
     "output_type": "stream",
     "text": [
      "Target label: price_year_avg\n",
      "Linear regression R^2: 0.4987559404681355\n",
      "Linear regression MAE: 50.82093914799921\n",
      "Target label: price_summer_avg\n",
      "Linear regression R^2: 0.4989648834120881\n",
      "Linear regression MAE: 51.95502955070159\n"
     ]
    }
   ],
   "source": [
    "from sklearn.linear_model import LinearRegression\n",
    "from sklearn.model_selection import train_test_split\n",
    "from sklearn.metrics import mean_absolute_error\n",
    "\n",
    "combo_list = [\n",
    "    ['available_year_avg', 'min_nights_year_avg', 'price_year_avg'],\n",
    "#     ['available_winter_avg', 'min_nights_winter_avg', 'price_winter_avg'],\n",
    "#     ['available_spring_avg', 'min_nights_spring_avg', 'price_spring_avg'],\n",
    "    ['available_summer_avg', 'min_nights_summer_avg', 'price_summer_avg'],\n",
    "#     ['available_fall_avg', 'min_nights_fall_avg', 'price_fall_avg'],\n",
    "#     ['available_jan_avg', 'min_nights_jan_avg', 'price_jan_avg'],\n",
    "#     ['available_jun_avg', 'min_nights_jun_avg', 'price_jun_avg'],\n",
    "#     ['available_dec_avg', 'min_nights_dec_avg', 'price_dec_avg']\n",
    "]\n",
    "\n",
    "for combo in combo_list:\n",
    "    X_base = listings_merge.drop([\n",
    "        'price_year_avg', 'price_winter_avg', 'price_spring_avg', 'price_summer_avg', 'price_fall_avg',\n",
    "        'price_jan_avg', 'price_jun_avg', 'price_dec_avg',\n",
    "        'available_year_avg', 'available_winter_avg', 'available_spring_avg', 'available_summer_avg',\n",
    "        'available_fall_avg', 'available_jan_avg', 'available_jun_avg', 'available_dec_avg',\n",
    "        'min_nights_year_avg', 'min_nights_winter_avg', 'min_nights_spring_avg', 'min_nights_summer_avg',\n",
    "        'min_nights_fall_avg', 'min_nights_jan_avg', 'min_nights_jun_avg', 'min_nights_dec_avg',\n",
    "    ], axis=1)\n",
    "    X_base[combo[0]] = listings_merge[combo[0]]\n",
    "    X_base[combo[1]] = listings_merge[combo[1]]\n",
    "    y = listings_merge[combo[2]]\n",
    "    \n",
    "    X_train, X_test, y_train, y_test = train_test_split(X_base, y, test_size=.25, random_state=42, shuffle=True)\n",
    "    print('Target label:', combo[2])\n",
    "    \n",
    "    clf = LinearRegression(n_jobs=-1)\n",
    "    clf.fit(X_train, y_train)\n",
    "    print(\"Linear regression R^2:\", clf.score(X_test, y_test))\n",
    "    print(\"Linear regression MAE:\", mean_absolute_error(y_test, clf.predict(X_test)))"
   ]
  },
  {
   "cell_type": "code",
   "execution_count": 83,
   "metadata": {},
   "outputs": [
    {
     "name": "stdout",
     "output_type": "stream",
     "text": [
      "Target label: price_year_avg\n",
      "Random forest R^2: 0.6345184419214557\n",
      "Random forest MAE: 38.681313033691644\n",
      "Target label: price_summer_avg\n",
      "Random forest R^2: 0.6311040523023018\n",
      "Random forest MAE: 39.619217116480456\n"
     ]
    }
   ],
   "source": [
    "from sklearn.ensemble import RandomForestRegressor\n",
    "from sklearn.model_selection import train_test_split\n",
    "from sklearn.metrics import mean_absolute_error\n",
    "\n",
    "combo_list = [\n",
    "    ['available_year_avg', 'min_nights_year_avg', 'price_year_avg'],\n",
    "#     ['available_winter_avg', 'min_nights_winter_avg', 'price_winter_avg'],\n",
    "#     ['available_spring_avg', 'min_nights_spring_avg', 'price_spring_avg'],\n",
    "    ['available_summer_avg', 'min_nights_summer_avg', 'price_summer_avg'],\n",
    "#     ['available_fall_avg', 'min_nights_fall_avg', 'price_fall_avg'],\n",
    "#     ['available_jan_avg', 'min_nights_jan_avg', 'price_jan_avg'],\n",
    "#     ['available_jun_avg', 'min_nights_jun_avg', 'price_jun_avg'],\n",
    "#     ['available_dec_avg', 'min_nights_dec_avg', 'price_dec_avg']\n",
    "]\n",
    "\n",
    "for combo in combo_list:\n",
    "    X_base = listings_merge.drop([\n",
    "        'price_year_avg', 'price_winter_avg', 'price_spring_avg', 'price_summer_avg', 'price_fall_avg',\n",
    "        'price_jan_avg', 'price_jun_avg', 'price_dec_avg',\n",
    "        'available_year_avg', 'available_winter_avg', 'available_spring_avg', 'available_summer_avg',\n",
    "        'available_fall_avg', 'available_jan_avg', 'available_jun_avg', 'available_dec_avg',\n",
    "        'min_nights_year_avg', 'min_nights_winter_avg', 'min_nights_spring_avg', 'min_nights_summer_avg',\n",
    "        'min_nights_fall_avg', 'min_nights_jan_avg', 'min_nights_jun_avg', 'min_nights_dec_avg',\n",
    "    ], axis=1)\n",
    "    X_base[combo[0]] = listings_merge[combo[0]]\n",
    "    X_base[combo[1]] = listings_merge[combo[1]]\n",
    "    y = listings_merge[combo[2]]\n",
    "    \n",
    "    X_train, X_test, y_train, y_test = train_test_split(X_base, y, test_size=.25, random_state=42, shuffle=True)\n",
    "    print('Target label:', combo[2])\n",
    "    \n",
    "    clf = RandomForestRegressor(n_jobs=-1)\n",
    "    clf.fit(X_train, y_train)\n",
    "    print(\"Random forest R^2:\", clf.score(X_test, y_test))\n",
    "    print(\"Random forest MAE:\", mean_absolute_error(y_test, clf.predict(X_test)))"
   ]
  },
  {
   "cell_type": "markdown",
   "metadata": {},
   "source": [
    "<p>We can see that Random Forest performs much better than Linear Regression in terms of R<sup>2</sup> score.</p>"
   ]
  },
  {
   "cell_type": "markdown",
   "metadata": {},
   "source": [
    "<br/>\n",
    "<p>Perhaps there will be an incremental improvement in R<sup>2</sup> by using Gradient Boosting (XGBoost in this case).</p>"
   ]
  },
  {
   "cell_type": "code",
   "execution_count": 84,
   "metadata": {},
   "outputs": [
    {
     "name": "stdout",
     "output_type": "stream",
     "text": [
      "Target label: price_year_avg\n",
      "Gradient boost R^2: 0.6700659131792424\n",
      "Gradient boost MAE: 37.1816335695034\n",
      "Target label: price_summer_avg\n",
      "Gradient boost R^2: 0.6658160830028064\n",
      "Gradient boost MAE: 38.021718832274075\n"
     ]
    }
   ],
   "source": [
    "from xgboost.sklearn import XGBRegressor\n",
    "from sklearn.model_selection import train_test_split\n",
    "from sklearn.metrics import mean_absolute_error\n",
    "\n",
    "combo_list = [\n",
    "    ['available_year_avg', 'min_nights_year_avg', 'price_year_avg'],\n",
    "#     ['available_winter_avg', 'min_nights_winter_avg', 'price_winter_avg'],\n",
    "#     ['available_spring_avg', 'min_nights_spring_avg', 'price_spring_avg'],\n",
    "    ['available_summer_avg', 'min_nights_summer_avg', 'price_summer_avg'],\n",
    "#     ['available_fall_avg', 'min_nights_fall_avg', 'price_fall_avg'],\n",
    "#     ['available_jan_avg', 'min_nights_jan_avg', 'price_jan_avg'],\n",
    "#     ['available_jun_avg', 'min_nights_jun_avg', 'price_jun_avg'],\n",
    "#     ['available_dec_avg', 'min_nights_dec_avg', 'price_dec_avg']\n",
    "]\n",
    "\n",
    "for combo in combo_list:\n",
    "    X_base = listings_merge.drop([\n",
    "        'price_year_avg', 'price_winter_avg', 'price_spring_avg', 'price_summer_avg', 'price_fall_avg',\n",
    "        'price_jan_avg', 'price_jun_avg', 'price_dec_avg',\n",
    "        'available_year_avg', 'available_winter_avg', 'available_spring_avg', 'available_summer_avg',\n",
    "        'available_fall_avg', 'available_jan_avg', 'available_jun_avg', 'available_dec_avg',\n",
    "        'min_nights_year_avg', 'min_nights_winter_avg', 'min_nights_spring_avg', 'min_nights_summer_avg',\n",
    "        'min_nights_fall_avg', 'min_nights_jan_avg', 'min_nights_jun_avg', 'min_nights_dec_avg',\n",
    "    ], axis=1)\n",
    "    X_base[combo[0]] = listings_merge[combo[0]]\n",
    "    X_base[combo[1]] = listings_merge[combo[1]]\n",
    "    y = listings_merge[combo[2]]\n",
    "    \n",
    "    X_train, X_test, y_train, y_test = train_test_split(X_base, y, test_size=.25, random_state=42, shuffle=True)\n",
    "\n",
    "    clf = XGBRegressor(\n",
    "        objective='reg:squarederror',\n",
    "        learning_rate=0.1,\n",
    "        max_depth=8,\n",
    "        n_estimators=200,\n",
    "        cv=5,\n",
    "        n_jobs=-1\n",
    "    )\n",
    "\n",
    "    clf.fit(X_train, y_train)\n",
    "    print('Target label:', combo[2])\n",
    "    print('Gradient boost R^2:', clf.score(X_test, y_test))\n",
    "    print('Gradient boost MAE:', mean_absolute_error(y_test, clf.predict(X_test)))"
   ]
  },
  {
   "cell_type": "markdown",
   "metadata": {},
   "source": [
    "<p>We get decent scores from a Gradient Boost model.</p>\n",
    "\n",
    "<p>Will polynomial regression provide any benefit?  Let's find out.</p>"
   ]
  },
  {
   "cell_type": "markdown",
   "metadata": {},
   "source": [
    "<p>It's odd that Polynomial Feature Transform + Linear Regresssion has such terrible scores.  Second degree Polynomial Feature Transform + Gradient Boosting performs close to Gradient Boosting alone.</p>"
   ]
  },
  {
   "cell_type": "markdown",
   "metadata": {},
   "source": [
    "<p>Now apply deep learning with a neural network made up mainly of dense layers.</p>"
   ]
  },
  {
   "cell_type": "code",
   "execution_count": 86,
   "metadata": {
    "scrolled": true
   },
   "outputs": [
    {
     "name": "stdout",
     "output_type": "stream",
     "text": [
      "Epoch 00040: early stopping\n",
      "Target label: price_year_avg\n",
      "Neural network MAE: 47.651157442136366\n"
     ]
    }
   ],
   "source": [
    "import tensorflow as tf\n",
    "from tensorflow.keras.models import Sequential\n",
    "from tensorflow.keras.layers import Dense, Dropout\n",
    "from tensorflow.keras.wrappers.scikit_learn import KerasRegressor\n",
    "from tensorflow.keras.optimizers import SGD, Adam\n",
    "from tensorflow.keras.callbacks import EarlyStopping\n",
    "from sklearn.preprocessing import MinMaxScaler\n",
    "from sklearn.model_selection import cross_val_score\n",
    "from sklearn.model_selection import KFold\n",
    "from sklearn.model_selection import train_test_split\n",
    "from sklearn.metrics import mean_absolute_error\n",
    "\n",
    "combo_list = [\n",
    "    ['available_year_avg', 'min_nights_year_avg', 'price_year_avg'],\n",
    "#     ['available_winter_avg', 'min_nights_winter_avg', 'price_winter_avg'],\n",
    "#     ['available_spring_avg', 'min_nights_spring_avg', 'price_spring_avg'],\n",
    "#     ['available_summer_avg', 'min_nights_summer_avg', 'price_summer_avg'],\n",
    "#     ['available_fall_avg', 'min_nights_fall_avg', 'price_fall_avg'],\n",
    "#     ['available_jan_avg', 'min_nights_jan_avg', 'price_jan_avg'],\n",
    "#     ['available_jun_avg', 'min_nights_jun_avg', 'price_jun_avg'],\n",
    "#     ['available_dec_avg', 'min_nights_dec_avg', 'price_dec_avg']\n",
    "]\n",
    "\n",
    "es = EarlyStopping(monitor='loss', mode='min', verbose=1, patience=2)\n",
    "adam = Adam(lr=0.001)\n",
    "sgd = SGD(lr=0.001)\n",
    "\n",
    "def base_model():\n",
    "    model = Sequential()\n",
    "    model.add(Dense(150, input_dim=140, activation='relu'))\n",
    "    model.add(Dense(100, activation='relu'))\n",
    "    model.add(Dropout(0.5))\n",
    "    model.add(Dense(100, activation='relu'))\n",
    "    model.add(Dropout(0.5))\n",
    "    model.add(Dense(10, activation='relu'))\n",
    "    model.add(Dense(1))\n",
    "    model.compile(loss='mean_squared_error', optimizer=adam, metrics=['mae'])\n",
    "    return model\n",
    "\n",
    "for combo in combo_list:\n",
    "    X_base = listings_merge.drop([\n",
    "        'price_year_avg', 'price_winter_avg', 'price_spring_avg', 'price_summer_avg', 'price_fall_avg',\n",
    "        'price_jan_avg', 'price_jun_avg', 'price_dec_avg',\n",
    "        'available_year_avg', 'available_winter_avg', 'available_spring_avg', 'available_summer_avg',\n",
    "        'available_fall_avg', 'available_jan_avg', 'available_jun_avg', 'available_dec_avg',\n",
    "        'min_nights_year_avg', 'min_nights_winter_avg', 'min_nights_spring_avg', 'min_nights_summer_avg',\n",
    "        'min_nights_fall_avg', 'min_nights_jan_avg', 'min_nights_jun_avg', 'min_nights_dec_avg',\n",
    "    ], axis=1)\n",
    "    X_base[combo[0]] = listings_merge[combo[0]]\n",
    "    X_base[combo[1]] = listings_merge[combo[1]]\n",
    "    y = listings_merge[combo[2]]\n",
    "    \n",
    "    scaler = MinMaxScaler()\n",
    "    X_scale = scaler.fit_transform(X_base.values)\n",
    "    \n",
    "    X_train, X_test, y_train, y_test = train_test_split(X_scale, y, test_size=.25, random_state=42, shuffle=True)\n",
    "\n",
    "    \n",
    "    clf = KerasRegressor(build_fn=base_model, epochs=100, batch_size=50, verbose=0, callbacks=[es], use_multiprocessing=1)\n",
    "#     kfold = KFold(n_splits=5)\n",
    "#     results = cross_val_score(clf, X_train, y_train, cv=kfold)\n",
    "#     print(results)\n",
    "\n",
    "    clf.fit(X_train, y_train)\n",
    "    print('Target label:', combo[2])\n",
    "    print('Neural network MAE:', mean_absolute_error(y_test, clf.predict(X_test)))"
   ]
  },
  {
   "cell_type": "markdown",
   "metadata": {},
   "source": [
    "<p>The best mean absolute error for average nightly price that can be achieved so far is around 42.  The mean of the average nightly price over the year is around 143.</p>"
   ]
  },
  {
   "cell_type": "markdown",
   "metadata": {},
   "source": []
  }
 ],
 "metadata": {
  "kernelspec": {
   "display_name": "Python 3",
   "language": "python",
   "name": "python3"
  },
  "language_info": {
   "codemirror_mode": {
    "name": "ipython",
    "version": 3
   },
   "file_extension": ".py",
   "mimetype": "text/x-python",
   "name": "python",
   "nbconvert_exporter": "python",
   "pygments_lexer": "ipython3",
   "version": "3.6.10"
  }
 },
 "nbformat": 4,
 "nbformat_minor": 4
}
