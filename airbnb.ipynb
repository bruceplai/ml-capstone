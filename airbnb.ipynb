{
 "cells": [
  {
   "cell_type": "markdown",
   "metadata": {},
   "source": [
    "<h1>Airbnb listing data for NYC 2019</h1>\n",
    "\n",
    "<p>Airbnb is one of the largest short-term rental services in the world.  As such, they have millions of listings, many of which are in metropolitan areas like LA and NYC.  They currently do not have a public API to get listing data, but fortunately a recent <a href=https://www.kaggle.com/dgomonov/new-york-city-airbnb-open-data>dataset</a> is available on Kaggle specifically for NYC, and the raw source for this data can be found <a href=\"http://data.insideairbnb.com/united-states/ny/new-york-city/2019-12-04/data/listings.csv.gz\">here</a>.  Data for other cities can also be found <a href=\"http://insideairbnb.com/get-the-data.html\">here</a>.</p>"
   ]
  },
  {
   "cell_type": "markdown",
   "metadata": {},
   "source": [
    "<p>Let's take a look at the <b>listings.csv</b> first, then we'll get to the time series data in <b>calendar.csv</b>"
   ]
  },
  {
   "cell_type": "code",
   "execution_count": 1,
   "metadata": {},
   "outputs": [
    {
     "name": "stderr",
     "output_type": "stream",
     "text": [
      "/Users/blai/miniconda3/envs/capstone/lib/python3.7/site-packages/IPython/core/interactiveshell.py:3063: DtypeWarning: Columns (61,62,94,95) have mixed types.Specify dtype option on import or set low_memory=False.\n",
      "  interactivity=interactivity, compiler=compiler, result=result)\n"
     ]
    }
   ],
   "source": [
    "import pandas as pd\n",
    "import numpy as np\n",
    "import matplotlib.pyplot as plt\n",
    "import math\n",
    "\n",
    "%matplotlib inline\n",
    "listings_df = pd.read_csv('listings.csv.gz')"
   ]
  },
  {
   "cell_type": "markdown",
   "metadata": {},
   "source": [
    "<br/>\n",
    "<p>There are certain columns that have mixed data. Lets take a look at the general structure of the listings as well as those columns.</p>"
   ]
  },
  {
   "cell_type": "code",
   "execution_count": 2,
   "metadata": {},
   "outputs": [
    {
     "name": "stdout",
     "output_type": "stream",
     "text": [
      "<class 'pandas.core.frame.DataFrame'>\n",
      "RangeIndex: 50599 entries, 0 to 50598\n",
      "Columns: 106 entries, id to reviews_per_month\n",
      "dtypes: float64(22), int64(21), object(63)\n",
      "memory usage: 40.9+ MB\n",
      "None\n",
      "Index(['id', 'listing_url', 'scrape_id', 'last_scraped', 'name', 'summary',\n",
      "       'space', 'description', 'experiences_offered', 'neighborhood_overview',\n",
      "       ...\n",
      "       'instant_bookable', 'is_business_travel_ready', 'cancellation_policy',\n",
      "       'require_guest_profile_picture', 'require_guest_phone_verification',\n",
      "       'calculated_host_listings_count',\n",
      "       'calculated_host_listings_count_entire_homes',\n",
      "       'calculated_host_listings_count_private_rooms',\n",
      "       'calculated_host_listings_count_shared_rooms', 'reviews_per_month'],\n",
      "      dtype='object', length=106)\n",
      "price\n",
      "weekly_price\n",
      "requires_license\n",
      "license\n"
     ]
    },
    {
     "data": {
      "text/html": [
       "<div>\n",
       "<style scoped>\n",
       "    .dataframe tbody tr th:only-of-type {\n",
       "        vertical-align: middle;\n",
       "    }\n",
       "\n",
       "    .dataframe tbody tr th {\n",
       "        vertical-align: top;\n",
       "    }\n",
       "\n",
       "    .dataframe thead th {\n",
       "        text-align: right;\n",
       "    }\n",
       "</style>\n",
       "<table border=\"1\" class=\"dataframe\">\n",
       "  <thead>\n",
       "    <tr style=\"text-align: right;\">\n",
       "      <th></th>\n",
       "      <th>id</th>\n",
       "      <th>listing_url</th>\n",
       "      <th>scrape_id</th>\n",
       "      <th>last_scraped</th>\n",
       "      <th>name</th>\n",
       "      <th>summary</th>\n",
       "      <th>space</th>\n",
       "      <th>description</th>\n",
       "      <th>experiences_offered</th>\n",
       "      <th>neighborhood_overview</th>\n",
       "      <th>...</th>\n",
       "      <th>instant_bookable</th>\n",
       "      <th>is_business_travel_ready</th>\n",
       "      <th>cancellation_policy</th>\n",
       "      <th>require_guest_profile_picture</th>\n",
       "      <th>require_guest_phone_verification</th>\n",
       "      <th>calculated_host_listings_count</th>\n",
       "      <th>calculated_host_listings_count_entire_homes</th>\n",
       "      <th>calculated_host_listings_count_private_rooms</th>\n",
       "      <th>calculated_host_listings_count_shared_rooms</th>\n",
       "      <th>reviews_per_month</th>\n",
       "    </tr>\n",
       "  </thead>\n",
       "  <tbody>\n",
       "    <tr>\n",
       "      <th>0</th>\n",
       "      <td>2595</td>\n",
       "      <td>https://www.airbnb.com/rooms/2595</td>\n",
       "      <td>20191204162729</td>\n",
       "      <td>2019-12-07</td>\n",
       "      <td>Skylit Midtown Castle</td>\n",
       "      <td>Beautiful, spacious skylit studio in the heart...</td>\n",
       "      <td>- Spacious (500+ft²), immaculate and nicely fu...</td>\n",
       "      <td>Beautiful, spacious skylit studio in the heart...</td>\n",
       "      <td>none</td>\n",
       "      <td>Centrally located in the heart of Manhattan ju...</td>\n",
       "      <td>...</td>\n",
       "      <td>f</td>\n",
       "      <td>f</td>\n",
       "      <td>strict_14_with_grace_period</td>\n",
       "      <td>t</td>\n",
       "      <td>t</td>\n",
       "      <td>1</td>\n",
       "      <td>1</td>\n",
       "      <td>0</td>\n",
       "      <td>0</td>\n",
       "      <td>0.39</td>\n",
       "    </tr>\n",
       "    <tr>\n",
       "      <th>1</th>\n",
       "      <td>3831</td>\n",
       "      <td>https://www.airbnb.com/rooms/3831</td>\n",
       "      <td>20191204162729</td>\n",
       "      <td>2019-12-07</td>\n",
       "      <td>Cozy Entire Floor of Brownstone</td>\n",
       "      <td>Urban retreat: enjoy 500 s.f. floor in 1899 br...</td>\n",
       "      <td>Greetings!      We own a double-duplex brownst...</td>\n",
       "      <td>Urban retreat: enjoy 500 s.f. floor in 1899 br...</td>\n",
       "      <td>none</td>\n",
       "      <td>Just the right mix of urban center and local n...</td>\n",
       "      <td>...</td>\n",
       "      <td>f</td>\n",
       "      <td>f</td>\n",
       "      <td>moderate</td>\n",
       "      <td>f</td>\n",
       "      <td>f</td>\n",
       "      <td>1</td>\n",
       "      <td>1</td>\n",
       "      <td>0</td>\n",
       "      <td>0</td>\n",
       "      <td>4.67</td>\n",
       "    </tr>\n",
       "    <tr>\n",
       "      <th>2</th>\n",
       "      <td>5099</td>\n",
       "      <td>https://www.airbnb.com/rooms/5099</td>\n",
       "      <td>20191204162729</td>\n",
       "      <td>2019-12-06</td>\n",
       "      <td>Large Cozy 1 BR Apartment In Midtown East</td>\n",
       "      <td>My large 1 bedroom apartment has a true New Yo...</td>\n",
       "      <td>I have a large 1 bedroom apartment centrally l...</td>\n",
       "      <td>My large 1 bedroom apartment has a true New Yo...</td>\n",
       "      <td>none</td>\n",
       "      <td>My neighborhood in Midtown East is called Murr...</td>\n",
       "      <td>...</td>\n",
       "      <td>f</td>\n",
       "      <td>f</td>\n",
       "      <td>moderate</td>\n",
       "      <td>t</td>\n",
       "      <td>t</td>\n",
       "      <td>1</td>\n",
       "      <td>1</td>\n",
       "      <td>0</td>\n",
       "      <td>0</td>\n",
       "      <td>0.60</td>\n",
       "    </tr>\n",
       "    <tr>\n",
       "      <th>3</th>\n",
       "      <td>5121</td>\n",
       "      <td>https://www.airbnb.com/rooms/5121</td>\n",
       "      <td>20191204162729</td>\n",
       "      <td>2019-12-06</td>\n",
       "      <td>BlissArtsSpace!</td>\n",
       "      <td>NaN</td>\n",
       "      <td>HELLO EVERYONE AND THANKS FOR VISITING BLISS A...</td>\n",
       "      <td>HELLO EVERYONE AND THANKS FOR VISITING BLISS A...</td>\n",
       "      <td>none</td>\n",
       "      <td>NaN</td>\n",
       "      <td>...</td>\n",
       "      <td>f</td>\n",
       "      <td>f</td>\n",
       "      <td>strict_14_with_grace_period</td>\n",
       "      <td>f</td>\n",
       "      <td>f</td>\n",
       "      <td>1</td>\n",
       "      <td>0</td>\n",
       "      <td>1</td>\n",
       "      <td>0</td>\n",
       "      <td>0.38</td>\n",
       "    </tr>\n",
       "    <tr>\n",
       "      <th>4</th>\n",
       "      <td>5178</td>\n",
       "      <td>https://www.airbnb.com/rooms/5178</td>\n",
       "      <td>20191204162729</td>\n",
       "      <td>2019-12-05</td>\n",
       "      <td>Large Furnished Room Near B'way</td>\n",
       "      <td>Please don’t expect the luxury here just a bas...</td>\n",
       "      <td>You will use one large, furnished, private roo...</td>\n",
       "      <td>Please don’t expect the luxury here just a bas...</td>\n",
       "      <td>none</td>\n",
       "      <td>Theater district, many restaurants around here.</td>\n",
       "      <td>...</td>\n",
       "      <td>f</td>\n",
       "      <td>f</td>\n",
       "      <td>strict_14_with_grace_period</td>\n",
       "      <td>f</td>\n",
       "      <td>f</td>\n",
       "      <td>1</td>\n",
       "      <td>0</td>\n",
       "      <td>1</td>\n",
       "      <td>0</td>\n",
       "      <td>3.52</td>\n",
       "    </tr>\n",
       "  </tbody>\n",
       "</table>\n",
       "<p>5 rows × 106 columns</p>\n",
       "</div>"
      ],
      "text/plain": [
       "     id                        listing_url       scrape_id last_scraped  \\\n",
       "0  2595  https://www.airbnb.com/rooms/2595  20191204162729   2019-12-07   \n",
       "1  3831  https://www.airbnb.com/rooms/3831  20191204162729   2019-12-07   \n",
       "2  5099  https://www.airbnb.com/rooms/5099  20191204162729   2019-12-06   \n",
       "3  5121  https://www.airbnb.com/rooms/5121  20191204162729   2019-12-06   \n",
       "4  5178  https://www.airbnb.com/rooms/5178  20191204162729   2019-12-05   \n",
       "\n",
       "                                        name  \\\n",
       "0                      Skylit Midtown Castle   \n",
       "1            Cozy Entire Floor of Brownstone   \n",
       "2  Large Cozy 1 BR Apartment In Midtown East   \n",
       "3                            BlissArtsSpace!   \n",
       "4           Large Furnished Room Near B'way    \n",
       "\n",
       "                                             summary  \\\n",
       "0  Beautiful, spacious skylit studio in the heart...   \n",
       "1  Urban retreat: enjoy 500 s.f. floor in 1899 br...   \n",
       "2  My large 1 bedroom apartment has a true New Yo...   \n",
       "3                                                NaN   \n",
       "4  Please don’t expect the luxury here just a bas...   \n",
       "\n",
       "                                               space  \\\n",
       "0  - Spacious (500+ft²), immaculate and nicely fu...   \n",
       "1  Greetings!      We own a double-duplex brownst...   \n",
       "2  I have a large 1 bedroom apartment centrally l...   \n",
       "3  HELLO EVERYONE AND THANKS FOR VISITING BLISS A...   \n",
       "4  You will use one large, furnished, private roo...   \n",
       "\n",
       "                                         description experiences_offered  \\\n",
       "0  Beautiful, spacious skylit studio in the heart...                none   \n",
       "1  Urban retreat: enjoy 500 s.f. floor in 1899 br...                none   \n",
       "2  My large 1 bedroom apartment has a true New Yo...                none   \n",
       "3  HELLO EVERYONE AND THANKS FOR VISITING BLISS A...                none   \n",
       "4  Please don’t expect the luxury here just a bas...                none   \n",
       "\n",
       "                               neighborhood_overview  ... instant_bookable  \\\n",
       "0  Centrally located in the heart of Manhattan ju...  ...                f   \n",
       "1  Just the right mix of urban center and local n...  ...                f   \n",
       "2  My neighborhood in Midtown East is called Murr...  ...                f   \n",
       "3                                                NaN  ...                f   \n",
       "4    Theater district, many restaurants around here.  ...                f   \n",
       "\n",
       "  is_business_travel_ready          cancellation_policy  \\\n",
       "0                        f  strict_14_with_grace_period   \n",
       "1                        f                     moderate   \n",
       "2                        f                     moderate   \n",
       "3                        f  strict_14_with_grace_period   \n",
       "4                        f  strict_14_with_grace_period   \n",
       "\n",
       "  require_guest_profile_picture require_guest_phone_verification  \\\n",
       "0                             t                                t   \n",
       "1                             f                                f   \n",
       "2                             t                                t   \n",
       "3                             f                                f   \n",
       "4                             f                                f   \n",
       "\n",
       "   calculated_host_listings_count  \\\n",
       "0                               1   \n",
       "1                               1   \n",
       "2                               1   \n",
       "3                               1   \n",
       "4                               1   \n",
       "\n",
       "   calculated_host_listings_count_entire_homes  \\\n",
       "0                                            1   \n",
       "1                                            1   \n",
       "2                                            1   \n",
       "3                                            0   \n",
       "4                                            0   \n",
       "\n",
       "  calculated_host_listings_count_private_rooms  \\\n",
       "0                                            0   \n",
       "1                                            0   \n",
       "2                                            0   \n",
       "3                                            1   \n",
       "4                                            1   \n",
       "\n",
       "   calculated_host_listings_count_shared_rooms  reviews_per_month  \n",
       "0                                            0               0.39  \n",
       "1                                            0               4.67  \n",
       "2                                            0               0.60  \n",
       "3                                            0               0.38  \n",
       "4                                            0               3.52  \n",
       "\n",
       "[5 rows x 106 columns]"
      ]
     },
     "execution_count": 2,
     "metadata": {},
     "output_type": "execute_result"
    }
   ],
   "source": [
    "print(listings_df.info())\n",
    "print(listings_df.columns)\n",
    "for col_index in [60, 61, 93, 94]:\n",
    "    print(listings_df.columns[col_index])\n",
    "listings_df.head()"
   ]
  },
  {
   "cell_type": "code",
   "execution_count": 3,
   "metadata": {},
   "outputs": [
    {
     "data": {
      "text/plain": [
       "11162"
      ]
     },
     "execution_count": 3,
     "metadata": {},
     "output_type": "execute_result"
    }
   ],
   "source": [
    "pd.isna(listings_df.review_scores_rating).sum()"
   ]
  },
  {
   "cell_type": "code",
   "execution_count": 4,
   "metadata": {},
   "outputs": [
    {
     "data": {
      "text/plain": [
       "2232"
      ]
     },
     "execution_count": 4,
     "metadata": {},
     "output_type": "execute_result"
    }
   ],
   "source": [
    "pd.isna(listings_df.summary).sum()"
   ]
  },
  {
   "cell_type": "markdown",
   "metadata": {},
   "source": [
    "<br/>\n",
    "<p>As we will see later, those mixed columns are not necessary.  There are also more entries than in the first dataset that we looked at (hopefully for more accurate modeling).  Let's drop the mixed columns and other columns that have irrelevant data, majority incomplete data, or data that can be found in other tables.</p>"
   ]
  },
  {
   "cell_type": "code",
   "execution_count": 5,
   "metadata": {},
   "outputs": [
    {
     "name": "stdout",
     "output_type": "stream",
     "text": [
      "<class 'pandas.core.frame.DataFrame'>\n",
      "RangeIndex: 50599 entries, 0 to 50598\n",
      "Data columns (total 15 columns):\n",
      " #   Column                        Non-Null Count  Dtype  \n",
      "---  ------                        --------------  -----  \n",
      " 0   id                            50599 non-null  int64  \n",
      " 1   summary                       48367 non-null  object \n",
      " 2   neighbourhood_cleansed        50599 non-null  object \n",
      " 3   neighbourhood_group_cleansed  50599 non-null  object \n",
      " 4   latitude                      50599 non-null  float64\n",
      " 5   longitude                     50599 non-null  float64\n",
      " 6   room_type                     50599 non-null  object \n",
      " 7   accommodates                  50599 non-null  int64  \n",
      " 8   bathrooms                     50548 non-null  float64\n",
      " 9   bedrooms                      50536 non-null  float64\n",
      " 10  beds                          50467 non-null  float64\n",
      " 11  amenities                     50599 non-null  object \n",
      " 12  number_of_reviews             50599 non-null  int64  \n",
      " 13  review_scores_rating          39437 non-null  float64\n",
      " 14  reviews_per_month             40379 non-null  float64\n",
      "dtypes: float64(7), int64(3), object(5)\n",
      "memory usage: 5.8+ MB\n",
      "None\n"
     ]
    }
   ],
   "source": [
    "# calendar values scraped in a small window between 2019-12-04 and 2019-12-07\n",
    "\n",
    "listings_clean = listings_df.drop(['listing_url', 'scrape_id', 'last_scraped', 'name', 'space', \\\n",
    "    'description', 'experiences_offered', 'neighborhood_overview', 'notes', 'transit', 'access', 'interaction', \\\n",
    "    'house_rules', 'thumbnail_url', 'medium_url', 'picture_url', 'xl_picture_url', 'host_id', 'host_url', \\\n",
    "    'host_name', 'host_location', 'host_about', 'host_response_time', 'host_response_rate', \\\n",
    "    'host_acceptance_rate', 'host_since', 'host_listings_count', 'host_total_listings_count', \\\n",
    "    'host_verifications', 'host_is_superhost', 'host_thumbnail_url', 'host_picture_url', 'host_has_profile_pic', \\\n",
    "    'host_identity_verified', 'host_neighbourhood', 'street', 'neighbourhood', 'city', 'state', 'zipcode', \\\n",
    "    'market', 'smart_location', 'country_code', 'country', 'is_location_exact', 'instant_bookable', \\\n",
    "    'is_business_travel_ready', 'license', 'jurisdiction_names', 'review_scores_value', 'requires_license', \\\n",
    "    'review_scores_communication', 'bed_type', 'weekly_price', 'monthly_price', \\\n",
    "    'security_deposit', 'guests_included', 'minimum_minimum_nights', 'maximum_minimum_nights', \\\n",
    "    'minimum_maximum_nights', 'maximum_maximum_nights', 'calendar_updated', 'has_availability', \\\n",
    "    'calendar_last_scraped', 'number_of_reviews_ltm', 'first_review', 'last_review', 'review_scores_accuracy', \\\n",
    "    'review_scores_cleanliness', 'review_scores_checkin', 'review_scores_location', 'cancellation_policy', \\\n",
    "    'require_guest_profile_picture', 'require_guest_phone_verification', 'calculated_host_listings_count', \\\n",
    "    'calculated_host_listings_count_entire_homes', 'calculated_host_listings_count_private_rooms', \\\n",
    "    'calculated_host_listings_count_shared_rooms', 'cleaning_fee', 'extra_people', \\\n",
    "    'square_feet', 'property_type', 'minimum_nights_avg_ntm', \\\n",
    "    'maximum_nights_avg_ntm', 'price', 'minimum_nights', 'maximum_nights', 'availability_30', \\\n",
    "    'availability_60', 'availability_90', 'availability_365'], axis=1)\n",
    "print(listings_clean.info())\n"
   ]
  },
  {
   "cell_type": "code",
   "execution_count": null,
   "metadata": {},
   "outputs": [],
   "source": []
  },
  {
   "cell_type": "markdown",
   "metadata": {},
   "source": [
    "<br/>\n",
    "<p>Columns <b>bathrooms, bedrooms, beds</b> have missing data, but thankfully not a lot.  We will try to clean that up.  Let's also rename a couple columns</p>"
   ]
  },
  {
   "cell_type": "code",
   "execution_count": 6,
   "metadata": {},
   "outputs": [
    {
     "name": "stdout",
     "output_type": "stream",
     "text": [
      "<class 'pandas.core.frame.DataFrame'>\n",
      "RangeIndex: 50599 entries, 0 to 50598\n",
      "Data columns (total 15 columns):\n",
      " #   Column                Non-Null Count  Dtype  \n",
      "---  ------                --------------  -----  \n",
      " 0   id                    50599 non-null  int64  \n",
      " 1   summary               48367 non-null  object \n",
      " 2   neighbourhood         50599 non-null  object \n",
      " 3   neighbourhood_group   50599 non-null  object \n",
      " 4   latitude              50599 non-null  float64\n",
      " 5   longitude             50599 non-null  float64\n",
      " 6   room_type             50599 non-null  object \n",
      " 7   accommodates          50599 non-null  int64  \n",
      " 8   bathrooms             50548 non-null  float64\n",
      " 9   bedrooms              50536 non-null  float64\n",
      " 10  beds                  50467 non-null  float64\n",
      " 11  amenities             50599 non-null  object \n",
      " 12  number_of_reviews     50599 non-null  int64  \n",
      " 13  review_scores_rating  39437 non-null  float64\n",
      " 14  reviews_per_month     40379 non-null  float64\n",
      "dtypes: float64(7), int64(3), object(5)\n",
      "memory usage: 5.8+ MB\n"
     ]
    }
   ],
   "source": [
    "listings_clean.rename(columns={\n",
    "    'neighbourhood_cleansed':'neighbourhood',\n",
    "    'neighbourhood_group_cleansed': 'neighbourhood_group'\n",
    "}, inplace=True)\n",
    "listings_clean.info()"
   ]
  },
  {
   "cell_type": "markdown",
   "metadata": {},
   "source": [
    "<br/>\n",
    "<p>Since the large majority of listings are homes/apts or private rooms, let's keep those listings.</p>"
   ]
  },
  {
   "cell_type": "code",
   "execution_count": 7,
   "metadata": {},
   "outputs": [
    {
     "name": "stdout",
     "output_type": "stream",
     "text": [
      "Entire home/apt    26141\n",
      "Private room       22785\n",
      "Shared room         1256\n",
      "Hotel room           417\n",
      "Name: room_type, dtype: int64\n"
     ]
    }
   ],
   "source": [
    "print(listings_clean.room_type.value_counts())\n",
    "listings_clean = listings_clean.loc[\n",
    "    (listings_clean.room_type == 'Entire home/apt') |\n",
    "    (listings_clean.room_type == 'Private room')\n",
    "]"
   ]
  },
  {
   "cell_type": "markdown",
   "metadata": {},
   "source": [
    "<br/>\n",
    "<p>We see some possible outliers for <b>accommodates, bathrooms, bedrooms, beds</b>.</p>"
   ]
  },
  {
   "cell_type": "code",
   "execution_count": 8,
   "metadata": {},
   "outputs": [
    {
     "data": {
      "text/html": [
       "<div>\n",
       "<style scoped>\n",
       "    .dataframe tbody tr th:only-of-type {\n",
       "        vertical-align: middle;\n",
       "    }\n",
       "\n",
       "    .dataframe tbody tr th {\n",
       "        vertical-align: top;\n",
       "    }\n",
       "\n",
       "    .dataframe thead th {\n",
       "        text-align: right;\n",
       "    }\n",
       "</style>\n",
       "<table border=\"1\" class=\"dataframe\">\n",
       "  <thead>\n",
       "    <tr style=\"text-align: right;\">\n",
       "      <th></th>\n",
       "      <th>id</th>\n",
       "      <th>latitude</th>\n",
       "      <th>longitude</th>\n",
       "      <th>accommodates</th>\n",
       "      <th>bathrooms</th>\n",
       "      <th>bedrooms</th>\n",
       "      <th>beds</th>\n",
       "      <th>number_of_reviews</th>\n",
       "      <th>review_scores_rating</th>\n",
       "      <th>reviews_per_month</th>\n",
       "    </tr>\n",
       "  </thead>\n",
       "  <tbody>\n",
       "    <tr>\n",
       "      <th>count</th>\n",
       "      <td>4.892600e+04</td>\n",
       "      <td>48926.000000</td>\n",
       "      <td>48926.000000</td>\n",
       "      <td>48926.000000</td>\n",
       "      <td>48879.000000</td>\n",
       "      <td>48863.000000</td>\n",
       "      <td>48798.000000</td>\n",
       "      <td>48926.000000</td>\n",
       "      <td>38259.000000</td>\n",
       "      <td>39182.000000</td>\n",
       "    </tr>\n",
       "    <tr>\n",
       "      <th>mean</th>\n",
       "      <td>2.117010e+07</td>\n",
       "      <td>40.728622</td>\n",
       "      <td>-73.950841</td>\n",
       "      <td>2.890161</td>\n",
       "      <td>1.147538</td>\n",
       "      <td>1.187872</td>\n",
       "      <td>1.548260</td>\n",
       "      <td>25.091546</td>\n",
       "      <td>93.968243</td>\n",
       "      <td>1.401085</td>\n",
       "    </tr>\n",
       "    <tr>\n",
       "      <th>std</th>\n",
       "      <td>1.242617e+07</td>\n",
       "      <td>0.054921</td>\n",
       "      <td>0.047503</td>\n",
       "      <td>1.910505</td>\n",
       "      <td>0.427225</td>\n",
       "      <td>0.771793</td>\n",
       "      <td>1.124263</td>\n",
       "      <td>47.629989</td>\n",
       "      <td>8.514763</td>\n",
       "      <td>1.670326</td>\n",
       "    </tr>\n",
       "    <tr>\n",
       "      <th>min</th>\n",
       "      <td>2.595000e+03</td>\n",
       "      <td>40.499790</td>\n",
       "      <td>-74.247870</td>\n",
       "      <td>1.000000</td>\n",
       "      <td>0.000000</td>\n",
       "      <td>0.000000</td>\n",
       "      <td>0.000000</td>\n",
       "      <td>0.000000</td>\n",
       "      <td>20.000000</td>\n",
       "      <td>0.010000</td>\n",
       "    </tr>\n",
       "    <tr>\n",
       "      <th>25%</th>\n",
       "      <td>9.977018e+06</td>\n",
       "      <td>40.689350</td>\n",
       "      <td>-73.982800</td>\n",
       "      <td>2.000000</td>\n",
       "      <td>1.000000</td>\n",
       "      <td>1.000000</td>\n",
       "      <td>1.000000</td>\n",
       "      <td>1.000000</td>\n",
       "      <td>92.000000</td>\n",
       "      <td>0.190000</td>\n",
       "    </tr>\n",
       "    <tr>\n",
       "      <th>50%</th>\n",
       "      <td>2.127600e+07</td>\n",
       "      <td>40.722460</td>\n",
       "      <td>-73.955020</td>\n",
       "      <td>2.000000</td>\n",
       "      <td>1.000000</td>\n",
       "      <td>1.000000</td>\n",
       "      <td>1.000000</td>\n",
       "      <td>6.000000</td>\n",
       "      <td>96.000000</td>\n",
       "      <td>0.730000</td>\n",
       "    </tr>\n",
       "    <tr>\n",
       "      <th>75%</th>\n",
       "      <td>3.244168e+07</td>\n",
       "      <td>40.762940</td>\n",
       "      <td>-73.934270</td>\n",
       "      <td>4.000000</td>\n",
       "      <td>1.000000</td>\n",
       "      <td>1.000000</td>\n",
       "      <td>2.000000</td>\n",
       "      <td>26.000000</td>\n",
       "      <td>100.000000</td>\n",
       "      <td>2.120000</td>\n",
       "    </tr>\n",
       "    <tr>\n",
       "      <th>max</th>\n",
       "      <td>4.058402e+07</td>\n",
       "      <td>40.916860</td>\n",
       "      <td>-73.712990</td>\n",
       "      <td>25.000000</td>\n",
       "      <td>15.500000</td>\n",
       "      <td>21.000000</td>\n",
       "      <td>40.000000</td>\n",
       "      <td>675.000000</td>\n",
       "      <td>100.000000</td>\n",
       "      <td>19.950000</td>\n",
       "    </tr>\n",
       "  </tbody>\n",
       "</table>\n",
       "</div>"
      ],
      "text/plain": [
       "                 id      latitude     longitude  accommodates     bathrooms  \\\n",
       "count  4.892600e+04  48926.000000  48926.000000  48926.000000  48879.000000   \n",
       "mean   2.117010e+07     40.728622    -73.950841      2.890161      1.147538   \n",
       "std    1.242617e+07      0.054921      0.047503      1.910505      0.427225   \n",
       "min    2.595000e+03     40.499790    -74.247870      1.000000      0.000000   \n",
       "25%    9.977018e+06     40.689350    -73.982800      2.000000      1.000000   \n",
       "50%    2.127600e+07     40.722460    -73.955020      2.000000      1.000000   \n",
       "75%    3.244168e+07     40.762940    -73.934270      4.000000      1.000000   \n",
       "max    4.058402e+07     40.916860    -73.712990     25.000000     15.500000   \n",
       "\n",
       "           bedrooms          beds  number_of_reviews  review_scores_rating  \\\n",
       "count  48863.000000  48798.000000       48926.000000          38259.000000   \n",
       "mean       1.187872      1.548260          25.091546             93.968243   \n",
       "std        0.771793      1.124263          47.629989              8.514763   \n",
       "min        0.000000      0.000000           0.000000             20.000000   \n",
       "25%        1.000000      1.000000           1.000000             92.000000   \n",
       "50%        1.000000      1.000000           6.000000             96.000000   \n",
       "75%        1.000000      2.000000          26.000000            100.000000   \n",
       "max       21.000000     40.000000         675.000000            100.000000   \n",
       "\n",
       "       reviews_per_month  \n",
       "count       39182.000000  \n",
       "mean            1.401085  \n",
       "std             1.670326  \n",
       "min             0.010000  \n",
       "25%             0.190000  \n",
       "50%             0.730000  \n",
       "75%             2.120000  \n",
       "max            19.950000  "
      ]
     },
     "execution_count": 8,
     "metadata": {},
     "output_type": "execute_result"
    }
   ],
   "source": [
    "listings_clean.describe()"
   ]
  },
  {
   "cell_type": "markdown",
   "metadata": {},
   "source": [
    "<br/>\n",
    "<p>Check for duplicate latitude and longitude value pairs, which most likely means duplicate listings</p>"
   ]
  },
  {
   "cell_type": "code",
   "execution_count": 9,
   "metadata": {},
   "outputs": [
    {
     "name": "stdout",
     "output_type": "stream",
     "text": [
      "<class 'pandas.core.frame.DataFrame'>\n",
      "RangeIndex: 48914 entries, 0 to 48913\n",
      "Data columns (total 15 columns):\n",
      " #   Column                Non-Null Count  Dtype  \n",
      "---  ------                --------------  -----  \n",
      " 0   id                    48914 non-null  int64  \n",
      " 1   summary               46766 non-null  object \n",
      " 2   neighbourhood         48914 non-null  object \n",
      " 3   neighbourhood_group   48914 non-null  object \n",
      " 4   latitude              48914 non-null  float64\n",
      " 5   longitude             48914 non-null  float64\n",
      " 6   room_type             48914 non-null  object \n",
      " 7   accommodates          48914 non-null  int64  \n",
      " 8   bathrooms             48867 non-null  float64\n",
      " 9   bedrooms              48851 non-null  float64\n",
      " 10  beds                  48786 non-null  float64\n",
      " 11  amenities             48914 non-null  object \n",
      " 12  number_of_reviews     48914 non-null  int64  \n",
      " 13  review_scores_rating  38249 non-null  float64\n",
      " 14  reviews_per_month     39172 non-null  float64\n",
      "dtypes: float64(7), int64(3), object(5)\n",
      "memory usage: 5.6+ MB\n"
     ]
    }
   ],
   "source": [
    "# https://stackoverflow.com/questions/44481768/remove-duplicate-rows-from-pandas-dataframe-where-only-some-columns-have-the-sam\n",
    "# https://stackoverflow.com/questions/16167829/in-pandas-how-can-i-reset-index-without-adding-a-new-column\n",
    "\n",
    "listings_clean = listings_clean.drop_duplicates(subset=['latitude', 'longitude']).reset_index(drop=True)\n",
    "listings_clean.info()"
   ]
  },
  {
   "cell_type": "markdown",
   "metadata": {},
   "source": [
    "<br/>\n",
    "<p>Look at non-numerical columns to see if they can be categorized.</p>"
   ]
  },
  {
   "cell_type": "code",
   "execution_count": 10,
   "metadata": {},
   "outputs": [
    {
     "name": "stdout",
     "output_type": "stream",
     "text": [
      "Entire home/apt    26134\n",
      "Private room       22780\n",
      "Name: room_type, dtype: int64\n",
      "Manhattan        21255\n",
      "Brooklyn         20194\n",
      "Queens            5943\n",
      "Bronx             1149\n",
      "Staten Island      373\n",
      "Name: neighbourhood_group, dtype: int64\n",
      "Williamsburg                  3903\n",
      "Bedford-Stuyvesant            3823\n",
      "Harlem                        2691\n",
      "Bushwick                      2431\n",
      "Upper West Side               1935\n",
      "                              ... \n",
      "Bay Terrace, Staten Island       1\n",
      "Woodrow                          1\n",
      "New Dorp                         1\n",
      "Country Club                     1\n",
      "Willowbrook                      1\n",
      "Name: neighbourhood, Length: 223, dtype: int64\n"
     ]
    }
   ],
   "source": [
    "# http://benalexkeen.com/mapping-categorical-data-in-pandas/\n",
    "\n",
    "print(listings_clean.room_type.value_counts())\n",
    "print(listings_clean.neighbourhood_group.value_counts())\n",
    "print(listings_clean.neighbourhood.value_counts())\n"
   ]
  },
  {
   "cell_type": "code",
   "execution_count": 11,
   "metadata": {},
   "outputs": [
    {
     "name": "stdout",
     "output_type": "stream",
     "text": [
      "1.0     13018\n",
      "2.0      6214\n",
      "0.0      4140\n",
      "3.0      2034\n",
      "4.0       476\n",
      "5.0       133\n",
      "6.0        41\n",
      "7.0        17\n",
      "8.0        10\n",
      "10.0        5\n",
      "9.0         4\n",
      "21.0        1\n",
      "14.0        1\n",
      "12.0        1\n",
      "Name: bedrooms, dtype: int64\n",
      "1.0     11605\n",
      "2.0      8097\n",
      "3.0      3258\n",
      "4.0      1428\n",
      "0.0       697\n",
      "5.0       521\n",
      "6.0       243\n",
      "7.0       104\n",
      "8.0        54\n",
      "9.0        36\n",
      "10.0       16\n",
      "11.0       14\n",
      "12.0       11\n",
      "13.0        7\n",
      "14.0        4\n",
      "16.0        3\n",
      "18.0        2\n",
      "17.0        2\n",
      "15.0        1\n",
      "26.0        1\n",
      "40.0        1\n",
      "21.0        1\n",
      "22.0        1\n",
      "Name: beds, dtype: int64\n",
      "1.0     22189\n",
      "2.0      2255\n",
      "1.5       889\n",
      "2.5       339\n",
      "3.0       208\n",
      "3.5        77\n",
      "4.0        49\n",
      "0.0        37\n",
      "0.5        26\n",
      "4.5        23\n",
      "5.0        13\n",
      "6.0         5\n",
      "5.5         4\n",
      "7.0         2\n",
      "8.0         1\n",
      "7.5         1\n",
      "6.5         1\n",
      "15.5        1\n",
      "Name: bathrooms, dtype: int64\n"
     ]
    }
   ],
   "source": [
    "home_listings = listings_clean.loc[listings_clean.room_type == 'Entire home/apt']\n",
    "print(home_listings.bedrooms.value_counts())\n",
    "print(home_listings.beds.value_counts())\n",
    "print(home_listings.bathrooms.value_counts())"
   ]
  },
  {
   "cell_type": "markdown",
   "metadata": {},
   "source": [
    "<p>We see some outliers that may skew any modeling, so let's remove any listing over 10 <b>bedrooms</b>, 12 <b>beds</b>, and 5 <b>bathrooms</b>.  Realistically the vast majority of property owners are not listing super mansions.</p>"
   ]
  },
  {
   "cell_type": "code",
   "execution_count": 12,
   "metadata": {},
   "outputs": [],
   "source": [
    "listings_clean = listings_clean.loc[\n",
    "    (listings_clean.bedrooms <= 10) & (listings_clean.beds <=12) & (listings_clean.bathrooms <= 5)\n",
    "]"
   ]
  },
  {
   "cell_type": "code",
   "execution_count": 13,
   "metadata": {},
   "outputs": [
    {
     "data": {
      "text/plain": [
       "<matplotlib.axes._subplots.AxesSubplot at 0x11b5eba20>"
      ]
     },
     "execution_count": 13,
     "metadata": {},
     "output_type": "execute_result"
    },
    {
     "data": {
      "image/png": "[encoded data removed]",
      "text/plain": [
       "<Figure size 1440x720 with 1 Axes>"
      ]
     },
     "metadata": {
      "needs_background": "light"
     },
     "output_type": "display_data"
    }
   ],
   "source": [
    "home_listings.bedrooms.plot(kind='hist', figsize=(20, 10))"
   ]
  },
  {
   "cell_type": "markdown",
   "metadata": {},
   "source": [
    "<p>Home listings are heavily skewed toward single bedroom.  Perhaps we can approximate <b>bedrooms, bathrooms, beds</b> as exponential distributions.</p>\n",
    "<p>Let's do the same analysis for single room type listings</p>"
   ]
  },
  {
   "cell_type": "code",
   "execution_count": 14,
   "metadata": {},
   "outputs": [
    {
     "name": "stdout",
     "output_type": "stream",
     "text": [
      "1.0    21426\n",
      "2.0      563\n",
      "0.0      457\n",
      "3.0      123\n",
      "4.0       44\n",
      "6.0       11\n",
      "5.0        7\n",
      "8.0        1\n",
      "Name: bedrooms, dtype: int64\n",
      "1.0     19078\n",
      "2.0      2295\n",
      "0.0       656\n",
      "3.0       409\n",
      "4.0       134\n",
      "5.0        28\n",
      "6.0        16\n",
      "7.0         8\n",
      "8.0         4\n",
      "11.0        1\n",
      "10.0        1\n",
      "9.0         1\n",
      "12.0        1\n",
      "Name: beds, dtype: int64\n",
      "1.0    18950\n",
      "2.0     1708\n",
      "1.5     1483\n",
      "3.0      151\n",
      "2.5      132\n",
      "0.0       75\n",
      "0.5       74\n",
      "4.0       41\n",
      "3.5       13\n",
      "5.0        4\n",
      "4.5        1\n",
      "Name: bathrooms, dtype: int64\n"
     ]
    }
   ],
   "source": [
    "room_listings = listings_clean.loc[listings_clean.room_type != 'Entire home/apt']\n",
    "print(room_listings.bedrooms.value_counts())\n",
    "print(room_listings.beds.value_counts())\n",
    "print(room_listings.bathrooms.value_counts())"
   ]
  },
  {
   "cell_type": "code",
   "execution_count": 15,
   "metadata": {},
   "outputs": [
    {
     "data": {
      "text/plain": [
       "<matplotlib.axes._subplots.AxesSubplot at 0x11ae39320>"
      ]
     },
     "execution_count": 15,
     "metadata": {},
     "output_type": "execute_result"
    },
    {
     "data": {
      "image/png": "[encoded data removed]",
      "text/plain": [
       "<Figure size 1440x720 with 1 Axes>"
      ]
     },
     "metadata": {
      "needs_background": "light"
     },
     "output_type": "display_data"
    }
   ],
   "source": [
    "room_listings.bedrooms.plot(kind='hist', figsize=(20, 10))"
   ]
  },
  {
   "cell_type": "markdown",
   "metadata": {},
   "source": [
    "<p>We get similar results to home listings, which is odd.  Perhaps some single room type listings were incorrectly listed.  That means we may not be able to rely on <b>room_type</b> as a factor in filling in any missing bedroom and bathroom values.</p>\n",
    "\n",
    "<p>Let's do some data cleaning by filling in the missing <b>bedrooms, bathrooms, beds</b> values (disregarding homes/apts vs. single room since <b>room_type</b> is not always indicative of multiple rooms vs. one room).  0 values can still be considered valid (e.g. studio apt, shared living area, shared bathroom, non-bed type sleeping arrangment).  We will assume that 0.001 degree latitude or longitude <a href=https://gizmodo.com/how-precise-is-one-degree-of-longitude-or-latitude-1631241162\">is about 100 m</a>.  Let's average over an area of 200 m radius from listings that have missing data.  We will group by <b>neighbourhood</b> when calculating the mean.</p>"
   ]
  },
  {
   "cell_type": "code",
   "execution_count": 16,
   "metadata": {},
   "outputs": [],
   "source": [
    "lat_diff = 0.002\n",
    "long_diff = 0.002\n",
    "def avg_of_neighbors(row, col_name, col_index):\n",
    "    item = row[col_index]\n",
    "    room_type = row[5]\n",
    "    lat = row[3]\n",
    "    long = row[4]\n",
    "    if math.isnan(item):\n",
    "        item = listings_clean[col_name].loc[(listings_clean.latitude > lat - lat_diff) \\\n",
    "            & (listings_clean.latitude < lat + lat_diff) \\\n",
    "            & (listings_clean.longitude > long - long_diff) \\\n",
    "            & (listings_clean.longitude < long + long_diff)].groupby(by=listings_clean.neighbourhood).mean().round()[0]\n",
    "        row[col_index] = item\n",
    "    return row\n",
    "\n",
    "listings_clean = listings_clean.apply(avg_of_neighbors, col_name='bathrooms', col_index=7, axis=1)\n",
    "listings_clean = listings_clean.apply(avg_of_neighbors, col_name='bedrooms', col_index=8, axis=1)\n",
    "listings_clean = listings_clean.apply(avg_of_neighbors, col_name='beds', col_index=9, axis=1)"
   ]
  },
  {
   "cell_type": "code",
   "execution_count": 17,
   "metadata": {},
   "outputs": [
    {
     "name": "stdout",
     "output_type": "stream",
     "text": [
      "1.0     34418\n",
      "2.0      6771\n",
      "0.0      4593\n",
      "3.0      2152\n",
      "4.0       518\n",
      "5.0       131\n",
      "6.0        46\n",
      "7.0        13\n",
      "8.0         8\n",
      "10.0        2\n",
      "9.0         2\n",
      "Name: bedrooms, dtype: int64\n",
      "1.0    41080\n",
      "2.0     3960\n",
      "1.5     2372\n",
      "2.5      467\n",
      "3.0      354\n",
      "0.0      110\n",
      "0.5      100\n",
      "3.5       88\n",
      "4.0       85\n",
      "4.5       24\n",
      "5.0       14\n",
      "Name: bathrooms, dtype: int64\n",
      "1.0     30644\n",
      "2.0     10381\n",
      "3.0      3667\n",
      "4.0      1562\n",
      "0.0      1353\n",
      "5.0       546\n",
      "6.0       258\n",
      "7.0       112\n",
      "8.0        57\n",
      "9.0        36\n",
      "11.0       15\n",
      "10.0       14\n",
      "12.0        9\n",
      "Name: beds, dtype: int64\n"
     ]
    }
   ],
   "source": [
    "print(listings_clean.bedrooms.value_counts())\n",
    "print(listings_clean.bathrooms.value_counts())\n",
    "print(listings_clean.beds.value_counts())"
   ]
  },
  {
   "cell_type": "code",
   "execution_count": 18,
   "metadata": {},
   "outputs": [
    {
     "data": {
      "text/plain": [
       "<matplotlib.axes._subplots.AxesSubplot at 0x11ce3c470>"
      ]
     },
     "execution_count": 18,
     "metadata": {},
     "output_type": "execute_result"
    },
    {
     "data": {
      "image/png": "[encoded data removed]",
      "text/plain": [
       "<Figure size 1440x720 with 1 Axes>"
      ]
     },
     "metadata": {
      "needs_background": "light"
     },
     "output_type": "display_data"
    }
   ],
   "source": [
    "listings_clean.bedrooms.plot(kind='hist', figsize=(20, 10))"
   ]
  },
  {
   "cell_type": "code",
   "execution_count": 19,
   "metadata": {},
   "outputs": [
    {
     "data": {
      "text/plain": [
       "<matplotlib.axes._subplots.AxesSubplot at 0x123526ba8>"
      ]
     },
     "execution_count": 19,
     "metadata": {},
     "output_type": "execute_result"
    },
    {
     "data": {
      "image/png": "[encoded data removed]",
      "text/plain": [
       "<Figure size 1440x720 with 1 Axes>"
      ]
     },
     "metadata": {
      "needs_background": "light"
     },
     "output_type": "display_data"
    }
   ],
   "source": [
    "listings_clean.bathrooms.plot(kind='hist', figsize=(20, 10))"
   ]
  },
  {
   "cell_type": "markdown",
   "metadata": {},
   "source": [
    "<p>After <b>bedrooms, bathrooms, beds</b> cleanup, we are able to see a bit more detail in the distributions.  They are approximately exponential (again skewed toward 1).</p>\n",
    "\n",
    "<p>Final check on the listings for any missing data.</p>"
   ]
  },
  {
   "cell_type": "code",
   "execution_count": 20,
   "metadata": {},
   "outputs": [
    {
     "name": "stdout",
     "output_type": "stream",
     "text": [
      "<class 'pandas.core.frame.DataFrame'>\n",
      "Int64Index: 48654 entries, 0 to 48913\n",
      "Data columns (total 15 columns):\n",
      " #   Column                Non-Null Count  Dtype  \n",
      "---  ------                --------------  -----  \n",
      " 0   id                    48654 non-null  int64  \n",
      " 1   summary               46577 non-null  object \n",
      " 2   neighbourhood         48654 non-null  object \n",
      " 3   neighbourhood_group   48654 non-null  object \n",
      " 4   latitude              48654 non-null  float64\n",
      " 5   longitude             48654 non-null  float64\n",
      " 6   room_type             48654 non-null  object \n",
      " 7   accommodates          48654 non-null  int64  \n",
      " 8   bathrooms             48654 non-null  float64\n",
      " 9   bedrooms              48654 non-null  float64\n",
      " 10  beds                  48654 non-null  float64\n",
      " 11  amenities             48654 non-null  object \n",
      " 12  number_of_reviews     48654 non-null  int64  \n",
      " 13  review_scores_rating  38120 non-null  float64\n",
      " 14  reviews_per_month     39034 non-null  float64\n",
      "dtypes: float64(7), int64(3), object(5)\n",
      "memory usage: 5.9+ MB\n",
      "Manhattan        21155\n",
      "Brooklyn         20077\n",
      "Queens            5909\n",
      "Bronx             1142\n",
      "Staten Island      371\n",
      "Name: neighbourhood_group, dtype: int64\n",
      "Williamsburg                  3882\n",
      "Bedford-Stuyvesant            3801\n",
      "Harlem                        2675\n",
      "Bushwick                      2420\n",
      "Upper West Side               1927\n",
      "                              ... \n",
      "New Dorp                         1\n",
      "Willowbrook                      1\n",
      "Woodrow                          1\n",
      "Country Club                     1\n",
      "Bay Terrace, Staten Island       1\n",
      "Name: neighbourhood, Length: 223, dtype: int64\n"
     ]
    }
   ],
   "source": [
    "listings_clean.info()\n",
    "print(listings_clean.neighbourhood_group.value_counts())\n",
    "print(listings_clean.neighbourhood.value_counts())"
   ]
  },
  {
   "cell_type": "code",
   "execution_count": 21,
   "metadata": {},
   "outputs": [
    {
     "data": {
      "text/plain": [
       "<matplotlib.axes._subplots.AxesSubplot at 0x123423a58>"
      ]
     },
     "execution_count": 21,
     "metadata": {},
     "output_type": "execute_result"
    },
    {
     "data": {
      "image/png": "[encoded data removed]",
      "text/plain": [
       "<Figure size 1440x720 with 1 Axes>"
      ]
     },
     "metadata": {
      "needs_background": "light"
     },
     "output_type": "display_data"
    }
   ],
   "source": [
    "listings_clean.review_scores_rating.plot(kind='hist', figsize=(20, 10))"
   ]
  },
  {
   "cell_type": "code",
   "execution_count": 22,
   "metadata": {},
   "outputs": [],
   "source": [
    "listings_clean['review_scores_rating'].fillna(listings_clean.review_scores_rating.mean(), inplace=True)"
   ]
  },
  {
   "cell_type": "markdown",
   "metadata": {},
   "source": [
    "<p>One hot encode the <b>neighbourhood</b> values.  Drop non-numerical columns as well as listing IDs (which do not have any meaning for modeling).  Also convert <b>room_type</b> to 1 and 0 valued <b>entire_home_apt</b>.</p>"
   ]
  },
  {
   "cell_type": "code",
   "execution_count": 23,
   "metadata": {},
   "outputs": [],
   "source": [
    "def cleanup_neighbourhood(val):\n",
    "    return val.replace(' ', '_').lower()\n",
    "\n",
    "listings_clean['neighbourhood'] = listings_clean.neighbourhood.apply(cleanup_neighbourhood)\n",
    "listings_clean['neighbourhood'] = listings_clean.neighbourhood.astype('category')\n",
    "listings_clean['neighbourhood'] = listings_clean.neighbourhood.cat.codes"
   ]
  },
  {
   "cell_type": "code",
   "execution_count": 24,
   "metadata": {},
   "outputs": [],
   "source": [
    "listings_clean['entire_home_apt'] = np.where(listings_clean.room_type == 'Entire home/apt', 1, 0)"
   ]
  },
  {
   "cell_type": "code",
   "execution_count": 25,
   "metadata": {},
   "outputs": [],
   "source": [
    "import string\n",
    "\n",
    "def cleanup_amenities(text):\n",
    "    remove = string.punctuation\n",
    "    remove = remove.replace(\"-\", \"\").replace(\",\", \"\").replace(\"/\", \"\")\n",
    "    text = text.lower().translate({ord(char): None for char in remove})\n",
    "    text = text.replace(\"translation missing enhostingamenity49\", \"\")\n",
    "    text = text.replace(\"translation missing enhostingamenity50\", \"\")\n",
    "    text = text.replace(\",,\", \",\").replace(\"’\", \"\").replace(' / ', ' ').replace('/', ' ')\n",
    "    text = text.replace(' ', '_').replace('-', '_')\n",
    "    return text.split(\",\")\n",
    "\n",
    "listings_clean['amenities'] = listings_clean['amenities'].apply(cleanup_amenities)"
   ]
  },
  {
   "cell_type": "code",
   "execution_count": 26,
   "metadata": {},
   "outputs": [],
   "source": [
    "amenities_sparse = listings_clean.amenities.str.join('|').str.get_dummies()\n",
    "listings_clean = listings_clean.join(amenities_sparse)"
   ]
  },
  {
   "cell_type": "code",
   "execution_count": 27,
   "metadata": {},
   "outputs": [
    {
     "name": "stdout",
     "output_type": "stream",
     "text": [
      "\n",
      "24_hour_check_in\n",
      "_toilet\n",
      "accessible_height_bed\n",
      "accessible_height_toilet\n",
      "air_conditioning\n",
      "air_purifier\n",
      "baby_bath\n",
      "baby_monitor\n",
      "babysitter_recommendations\n",
      "bathtub\n",
      "bathtub_with_bath_chair\n",
      "bbq_grill\n",
      "beach_essentials\n",
      "beachfront\n",
      "bed_linens\n",
      "breakfast\n",
      "building_staff\n",
      "buzzer_wireless_intercom\n",
      "cable_tv\n",
      "carbon_monoxide_detector\n",
      "cats\n",
      "ceiling_hoist\n",
      "changing_table\n",
      "childrens_books_and_toys\n",
      "childrens_dinnerware\n",
      "cleaning_before_checkout\n",
      "coffee_maker\n",
      "cooking_basics\n",
      "crib\n",
      "disabled_parking_spot\n",
      "dishes_and_silverware\n",
      "dishwasher\n",
      "dogs\n",
      "doorman\n",
      "dryer\n",
      "electric_profiling_bed\n",
      "elevator\n",
      "essentials\n",
      "ethernet_connection\n",
      "ev_charger\n",
      "extra_pillows_and_blankets\n",
      "extra_space_around_bed\n",
      "family_kid_friendly\n",
      "fire_extinguisher\n",
      "fireplace_guards\n",
      "firm_mattress\n",
      "first_aid_kit\n",
      "fixed_grab_bars_for_shower\n",
      "fixed_grab_bars_for_toilet\n",
      "flat_path_to_guest_entrance\n",
      "free_parking_on_premises\n",
      "free_street_parking\n",
      "full_kitchen\n",
      "game_console\n",
      "garden_or_backyard\n",
      "ground_floor_access\n",
      "gym\n",
      "hair_dryer\n",
      "handheld_shower_head\n",
      "hangers\n",
      "heating\n",
      "high_chair\n",
      "host_greets_you\n",
      "hot_tub\n",
      "hot_water\n",
      "hot_water_kettle\n",
      "indoor_fireplace\n",
      "internet\n",
      "iron\n",
      "keypad\n",
      "kitchen\n",
      "kitchenette\n",
      "lake_access\n",
      "laptop_friendly_workspace\n",
      "lock_on_bedroom_door\n",
      "lockbox\n",
      "long_term_stays_allowed\n",
      "luggage_dropoff_allowed\n",
      "microwave\n",
      "mobile_hoist\n",
      "no_stairs_or_steps_to_enter\n",
      "other\n",
      "other_pets\n",
      "outlet_covers\n",
      "oven\n",
      "pack_n_play_travel_crib\n",
      "paid_parking_off_premises\n",
      "paid_parking_on_premises\n",
      "patio_or_balcony\n",
      "pets_allowed\n",
      "pets_live_on_this_property\n",
      "pocket_wifi\n",
      "pool\n",
      "pool_with_pool_hoist\n",
      "private_bathroom\n",
      "private_entrance\n",
      "private_living_room\n",
      "refrigerator\n",
      "room_darkening_shades\n",
      "safety_card\n",
      "self_check_in\n",
      "shampoo\n",
      "shower_chair\n",
      "single_level_home\n",
      "ski_in_ski_out\n",
      "smart_lock\n",
      "smoke_detector\n",
      "smoking_allowed\n",
      "stair_gates\n",
      "step_free_shower\n",
      "stove\n",
      "suitable_for_events\n",
      "table_corner_guards\n",
      "tv\n",
      "washer\n",
      "washer_dryer\n",
      "waterfront\n",
      "well_lit_path_to_entrance\n",
      "wheelchair_accessible\n",
      "wide_clearance_to_shower\n",
      "wide_doorway_to_guest_bathroom\n",
      "wide_entrance\n",
      "wide_entrance_for_guests\n",
      "wide_entryway\n",
      "wide_hallways\n",
      "wifi\n",
      "window_guards\n"
     ]
    }
   ],
   "source": [
    "print()\n",
    "for c in amenities_sparse.columns:\n",
    "    print(c)"
   ]
  },
  {
   "cell_type": "code",
   "execution_count": 28,
   "metadata": {},
   "outputs": [],
   "source": [
    "# import re\n",
    "# import string\n",
    "# import nltk\n",
    "# from nltk.tokenize import word_tokenize\n",
    "# from nltk.corpus import stopwords\n",
    "# from nltk.stem import WordNetLemmatizer\n",
    "\n",
    "# nltk.download('punkt')\n",
    "# nltk.download('stopwords')\n",
    "# nltk.download('wordnet')\n",
    "# stop_words = set(stopwords.words('english'))\n",
    "# lemmatizer = WordNetLemmatizer()\n",
    "\n",
    "# remove = string.punctuation\n",
    "\n",
    "# def tokenize_summary(text):\n",
    "    \n",
    "#     text = str(text)\n",
    "#     text = text.lower().translate({ord(char): None for char in remove})\n",
    "#     text = re.sub(r'\\d+', '', text)\n",
    "#     text = lemmatizer.lemmatize(text)\n",
    "#     words = word_tokenize(text)\n",
    "#     return [w for w in words if w not in stop_words and re.sub('[\\W_]+', '', w)]\n",
    "\n",
    "# listings_clean['summary_tokenized'] = listings_clean['summary'].apply(tokenize_summary)"
   ]
  },
  {
   "cell_type": "code",
   "execution_count": 29,
   "metadata": {},
   "outputs": [],
   "source": [
    "# import re\n",
    "# from nltk.tokenize import word_tokenize, punkt\n",
    "# from nltk.corpus import stopwords\n",
    "# from nltk.stem import WordNetLemmatizer\n",
    "\n",
    "# nltk.download('punkt')\n",
    "# nltk.download('stopwords')\n",
    "# nltk.download('wordnet')\n",
    "# stop_words = stopwords.words('english')\n",
    "# stop_words = stop_words + ['ps', 'hello', 'go', 'everyone', 's', 'sf', 'nt', 'pmam', 'wown', 'see']\n",
    "# lemmatizer = WordNetLemmatizer()\n",
    "\n",
    "# def tokenize_summary(text):\n",
    "#     text = re.sub(r'\\d+', '', str(text))\n",
    "#     tokens = word_tokenize(text)\n",
    "#     tokens = list(filter(lambda token: punkt.PunktToken(token).is_non_punct, tokens))\n",
    "#     tokens = [token.translate({ord(char): None for char in remove}) for token in tokens]\n",
    "#     tokens = [token.lower() for token in tokens]\n",
    "#     tokens = list(filter(lambda token: token not in stop_words, tokens))\n",
    "#     tokens = [lemmatizer.lemmatize(token) for token in tokens]\n",
    "#     return tokens\n",
    "\n",
    "# text = listings_clean.summary[11]\n",
    "\n",
    "# tokenize_summary(text)"
   ]
  },
  {
   "cell_type": "code",
   "execution_count": 30,
   "metadata": {},
   "outputs": [],
   "source": [
    "# summary_tokenized = listings_clean.iloc[:1000,:].summary_tokenized.str.join('|').str.get_dummies()\n",
    "# print(\"Number of features from tokenized listing summaries:\", len(summary_tokenized.columns))\n",
    "# for c in summary_tokenized.columns:\n",
    "#     print(c)\n",
    "\n",
    "# listings_clean = listings_clean.join(summary_tokenized)"
   ]
  },
  {
   "cell_type": "markdown",
   "metadata": {},
   "source": [
    "<br/>\n",
    "<p>Now let's take a look at the time series data for availability, price, and nights.  <a href=http://data.insideairbnb.com/united-states/ny/new-york-city/2019-12-04/data/calendar.csv.gz><b>Calendar.csv</b></a> comes from the same <a href=\"http://insideairbnb.com/get-the-data.html\">source</a> as <b>listings.csv</b></p>."
   ]
  },
  {
   "cell_type": "code",
   "execution_count": 31,
   "metadata": {},
   "outputs": [],
   "source": [
    "import pandas as pd\n",
    "import numpy as np\n",
    "import matplotlib.pyplot as plt\n",
    "import math\n",
    "\n",
    "%matplotlib inline\n",
    "calendar_df = pd.read_csv('calendar.csv.gz', parse_dates=['date'])"
   ]
  },
  {
   "cell_type": "markdown",
   "metadata": {},
   "source": [
    "<br/>\n",
    "<p>This time we don't have to deal with columns of mixed data, nor do we have a large number of columns like in the <b>listings_clean</b> table.  We do, however, have over 18 million entries, which makes sense given that this is time series data over a year for 50,000+ listings.  We will have to clean up availability and price.</p>"
   ]
  },
  {
   "cell_type": "code",
   "execution_count": 32,
   "metadata": {},
   "outputs": [
    {
     "name": "stdout",
     "output_type": "stream",
     "text": [
      "<class 'pandas.core.frame.DataFrame'>\n",
      "RangeIndex: 18470156 entries, 0 to 18470155\n",
      "Data columns (total 7 columns):\n",
      " #   Column          Dtype         \n",
      "---  ------          -----         \n",
      " 0   listing_id      int64         \n",
      " 1   date            datetime64[ns]\n",
      " 2   available       object        \n",
      " 3   price           object        \n",
      " 4   adjusted_price  object        \n",
      " 5   minimum_nights  float64       \n",
      " 6   maximum_nights  float64       \n",
      "dtypes: datetime64[ns](1), float64(2), int64(1), object(3)\n",
      "memory usage: 986.4+ MB\n",
      "None\n",
      "Index(['listing_id', 'date', 'available', 'price', 'adjusted_price',\n",
      "       'minimum_nights', 'maximum_nights'],\n",
      "      dtype='object')\n"
     ]
    },
    {
     "data": {
      "text/html": [
       "<div>\n",
       "<style scoped>\n",
       "    .dataframe tbody tr th:only-of-type {\n",
       "        vertical-align: middle;\n",
       "    }\n",
       "\n",
       "    .dataframe tbody tr th {\n",
       "        vertical-align: top;\n",
       "    }\n",
       "\n",
       "    .dataframe thead th {\n",
       "        text-align: right;\n",
       "    }\n",
       "</style>\n",
       "<table border=\"1\" class=\"dataframe\">\n",
       "  <thead>\n",
       "    <tr style=\"text-align: right;\">\n",
       "      <th></th>\n",
       "      <th>listing_id</th>\n",
       "      <th>date</th>\n",
       "      <th>available</th>\n",
       "      <th>price</th>\n",
       "      <th>adjusted_price</th>\n",
       "      <th>minimum_nights</th>\n",
       "      <th>maximum_nights</th>\n",
       "    </tr>\n",
       "  </thead>\n",
       "  <tbody>\n",
       "    <tr>\n",
       "      <th>0</th>\n",
       "      <td>19812</td>\n",
       "      <td>2019-12-05</td>\n",
       "      <td>f</td>\n",
       "      <td>$105.00</td>\n",
       "      <td>$105.00</td>\n",
       "      <td>3.0</td>\n",
       "      <td>90.0</td>\n",
       "    </tr>\n",
       "    <tr>\n",
       "      <th>1</th>\n",
       "      <td>2595</td>\n",
       "      <td>2019-12-06</td>\n",
       "      <td>f</td>\n",
       "      <td>$175.00</td>\n",
       "      <td>$175.00</td>\n",
       "      <td>10.0</td>\n",
       "      <td>1125.0</td>\n",
       "    </tr>\n",
       "    <tr>\n",
       "      <th>2</th>\n",
       "      <td>2595</td>\n",
       "      <td>2019-12-07</td>\n",
       "      <td>f</td>\n",
       "      <td>$175.00</td>\n",
       "      <td>$175.00</td>\n",
       "      <td>10.0</td>\n",
       "      <td>1125.0</td>\n",
       "    </tr>\n",
       "    <tr>\n",
       "      <th>3</th>\n",
       "      <td>2595</td>\n",
       "      <td>2019-12-08</td>\n",
       "      <td>f</td>\n",
       "      <td>$175.00</td>\n",
       "      <td>$175.00</td>\n",
       "      <td>10.0</td>\n",
       "      <td>1125.0</td>\n",
       "    </tr>\n",
       "    <tr>\n",
       "      <th>4</th>\n",
       "      <td>2595</td>\n",
       "      <td>2019-12-09</td>\n",
       "      <td>f</td>\n",
       "      <td>$175.00</td>\n",
       "      <td>$175.00</td>\n",
       "      <td>10.0</td>\n",
       "      <td>1125.0</td>\n",
       "    </tr>\n",
       "  </tbody>\n",
       "</table>\n",
       "</div>"
      ],
      "text/plain": [
       "   listing_id       date available    price adjusted_price  minimum_nights  \\\n",
       "0       19812 2019-12-05         f  $105.00        $105.00             3.0   \n",
       "1        2595 2019-12-06         f  $175.00        $175.00            10.0   \n",
       "2        2595 2019-12-07         f  $175.00        $175.00            10.0   \n",
       "3        2595 2019-12-08         f  $175.00        $175.00            10.0   \n",
       "4        2595 2019-12-09         f  $175.00        $175.00            10.0   \n",
       "\n",
       "   maximum_nights  \n",
       "0            90.0  \n",
       "1          1125.0  \n",
       "2          1125.0  \n",
       "3          1125.0  \n",
       "4          1125.0  "
      ]
     },
     "execution_count": 32,
     "metadata": {},
     "output_type": "execute_result"
    }
   ],
   "source": [
    "print(calendar_df.info())\n",
    "print(calendar_df.columns)\n",
    "calendar_df.head()"
   ]
  },
  {
   "cell_type": "markdown",
   "metadata": {},
   "source": [
    "<br/>\n",
    "<p>On checking for equal distribution of all listings over the relevant time period (assumed for this step to be a year), we see a problem with <b>listing_id</b> 15268792.  Let's just remove it, since it is not worth the effort to build a year's worth of data for that one listing.</p>"
   ]
  },
  {
   "cell_type": "code",
   "execution_count": 33,
   "metadata": {},
   "outputs": [
    {
     "name": "stdout",
     "output_type": "stream",
     "text": [
      "25512622    368\n",
      "32678719    368\n",
      "28138840    368\n",
      "30069091    368\n",
      "24285044    368\n",
      "           ... \n",
      "27926502    365\n",
      "18992796    365\n",
      "21677053    365\n",
      "30226855    365\n",
      "15268792      6\n",
      "Name: listing_id, Length: 50599, dtype: int64\n"
     ]
    }
   ],
   "source": [
    "print(calendar_df.listing_id.value_counts())\n",
    "calendar_clean = calendar_df[calendar_df.listing_id != 15268792]\n"
   ]
  },
  {
   "cell_type": "markdown",
   "metadata": {},
   "source": [
    "<br/>\n",
    "<p>Since this data set was captured in 2019, we must clean up dates that have year 2020.  Then drop any duplicate <b>listing_id, date</b> combos.  Then check that all days add up to a calendar year for each <b>listing_id</b>.</p>"
   ]
  },
  {
   "cell_type": "code",
   "execution_count": 34,
   "metadata": {},
   "outputs": [
    {
     "name": "stderr",
     "output_type": "stream",
     "text": [
      "/Users/blai/miniconda3/envs/capstone/lib/python3.7/site-packages/ipykernel_launcher.py:5: SettingWithCopyWarning: \n",
      "A value is trying to be set on a copy of a slice from a DataFrame.\n",
      "Try using .loc[row_indexer,col_indexer] = value instead\n",
      "\n",
      "See the caveats in the documentation: https://pandas.pydata.org/pandas-docs/stable/user_guide/indexing.html#returning-a-view-versus-a-copy\n",
      "  \"\"\"\n",
      "/Users/blai/miniconda3/envs/capstone/lib/python3.7/site-packages/ipykernel_launcher.py:7: SettingWithCopyWarning: \n",
      "A value is trying to be set on a copy of a slice from a DataFrame.\n",
      "Try using .loc[row_indexer,col_indexer] = value instead\n",
      "\n",
      "See the caveats in the documentation: https://pandas.pydata.org/pandas-docs/stable/user_guide/indexing.html#returning-a-view-versus-a-copy\n",
      "  import sys\n"
     ]
    }
   ],
   "source": [
    "# https://stackoverflow.com/questions/50674011/replace-the-year-in-pandas-datetime-column\n",
    "# https://stackoverflow.com/questions/28773342/truncate-timestamp-column-to-hour-precision-in-pandas-dataframe\n",
    "\n",
    "calendar_clean['date'] = calendar_clean['date'].mask(calendar_clean['date'].dt.year == 2020,\n",
    "                            calendar_clean['date'] - pd.to_timedelta(365, unit='D') + pd.to_timedelta(12, unit='h'))\n",
    "# calendar_clean['date'] = calendar_clean['date'] - pd.to_timedelta(365, unit='D') + pd.to_timedelta(12, unit='h')\n",
    "calendar_clean['date'] = calendar_clean['date'].dt.floor('D')"
   ]
  },
  {
   "cell_type": "code",
   "execution_count": 35,
   "metadata": {},
   "outputs": [
    {
     "name": "stdout",
     "output_type": "stream",
     "text": [
      "327521      365\n",
      "7756711     365\n",
      "31877537    365\n",
      "14961122    365\n",
      "201992      365\n",
      "           ... \n",
      "37055580    365\n",
      "13186007    365\n",
      "18549136    365\n",
      "34646244    365\n",
      "30226855    365\n",
      "Name: listing_id, Length: 50598, dtype: int64\n"
     ]
    }
   ],
   "source": [
    "calendar_clean = calendar_clean.drop_duplicates(subset=['listing_id', 'date']).reset_index(drop=True)\n",
    "print(calendar_clean.listing_id.value_counts())"
   ]
  },
  {
   "cell_type": "markdown",
   "metadata": {},
   "source": [
    "<br/>\n",
    "<p>Verify that all listing_id values can be found in the <b>listings_clean</b> table.  If not, then remove rows with listing_id values don't exist in the other table.</p>"
   ]
  },
  {
   "cell_type": "code",
   "execution_count": 36,
   "metadata": {},
   "outputs": [
    {
     "name": "stdout",
     "output_type": "stream",
     "text": [
      "True     17758345\n",
      "False      709925\n",
      "Name: listing_id, dtype: int64\n"
     ]
    }
   ],
   "source": [
    "# https://stackoverflow.com/questions/28901683/pandas-get-rows-which-are-not-in-other-dataframe\n",
    "\n",
    "ids_match = calendar_clean.listing_id.isin(listings_clean.id)\n",
    "print(ids_match.value_counts())"
   ]
  },
  {
   "cell_type": "code",
   "execution_count": 37,
   "metadata": {},
   "outputs": [
    {
     "name": "stdout",
     "output_type": "stream",
     "text": [
      "<class 'pandas.core.frame.DataFrame'>\n",
      "Int64Index: 17758345 entries, 0 to 18468269\n",
      "Data columns (total 7 columns):\n",
      " #   Column          Dtype         \n",
      "---  ------          -----         \n",
      " 0   listing_id      int64         \n",
      " 1   date            datetime64[ns]\n",
      " 2   available       object        \n",
      " 3   price           object        \n",
      " 4   adjusted_price  object        \n",
      " 5   minimum_nights  float64       \n",
      " 6   maximum_nights  float64       \n",
      "dtypes: datetime64[ns](1), float64(2), int64(1), object(3)\n",
      "memory usage: 1.1+ GB\n"
     ]
    }
   ],
   "source": [
    "calendar_clean = calendar_clean[calendar_clean.listing_id.isin(listings_clean.id)]\n",
    "calendar_clean.info()"
   ]
  },
  {
   "cell_type": "markdown",
   "metadata": {},
   "source": [
    "<br/>\n",
    "<p>Translate all <b>available</b> values to 1 (available) or 0 (unavailable).</p>"
   ]
  },
  {
   "cell_type": "code",
   "execution_count": 38,
   "metadata": {},
   "outputs": [
    {
     "name": "stdout",
     "output_type": "stream",
     "text": [
      "f    11990442\n",
      "t     5767903\n",
      "Name: available, dtype: int64\n",
      "0    11990442\n",
      "1     5767903\n",
      "Name: available, dtype: int64\n"
     ]
    }
   ],
   "source": [
    "print(calendar_clean.available.value_counts())\n",
    "calendar_clean['available'] = np.where(calendar_clean.available == 't', 1, 0)\n",
    "print(calendar_clean.available.value_counts())"
   ]
  },
  {
   "cell_type": "markdown",
   "metadata": {},
   "source": [
    "<br/>\n",
    "<p>Less than 1% of the entries have <b>adjusted_price</b> not equal to <b>price</b>, but we will use <b>adjusted_price</b> anyway and clean it up to be numerical</p>"
   ]
  },
  {
   "cell_type": "code",
   "execution_count": 39,
   "metadata": {},
   "outputs": [
    {
     "data": {
      "text/html": [
       "<div>\n",
       "<style scoped>\n",
       "    .dataframe tbody tr th:only-of-type {\n",
       "        vertical-align: middle;\n",
       "    }\n",
       "\n",
       "    .dataframe tbody tr th {\n",
       "        vertical-align: top;\n",
       "    }\n",
       "\n",
       "    .dataframe thead th {\n",
       "        text-align: right;\n",
       "    }\n",
       "</style>\n",
       "<table border=\"1\" class=\"dataframe\">\n",
       "  <thead>\n",
       "    <tr style=\"text-align: right;\">\n",
       "      <th></th>\n",
       "      <th>listing_id</th>\n",
       "      <th>date</th>\n",
       "      <th>available</th>\n",
       "      <th>price</th>\n",
       "      <th>adjusted_price</th>\n",
       "      <th>minimum_nights</th>\n",
       "      <th>maximum_nights</th>\n",
       "    </tr>\n",
       "  </thead>\n",
       "  <tbody>\n",
       "    <tr>\n",
       "      <th>8232</th>\n",
       "      <td>20734</td>\n",
       "      <td>2019-12-06</td>\n",
       "      <td>0</td>\n",
       "      <td>$134.00</td>\n",
       "      <td>$127.00</td>\n",
       "      <td>3.0</td>\n",
       "      <td>29.0</td>\n",
       "    </tr>\n",
       "    <tr>\n",
       "      <th>8419</th>\n",
       "      <td>20734</td>\n",
       "      <td>2019-12-07</td>\n",
       "      <td>0</td>\n",
       "      <td>$134.00</td>\n",
       "      <td>$127.00</td>\n",
       "      <td>3.0</td>\n",
       "      <td>29.0</td>\n",
       "    </tr>\n",
       "    <tr>\n",
       "      <th>8420</th>\n",
       "      <td>20734</td>\n",
       "      <td>2019-12-08</td>\n",
       "      <td>0</td>\n",
       "      <td>$134.00</td>\n",
       "      <td>$127.00</td>\n",
       "      <td>3.0</td>\n",
       "      <td>29.0</td>\n",
       "    </tr>\n",
       "    <tr>\n",
       "      <th>8421</th>\n",
       "      <td>20734</td>\n",
       "      <td>2019-12-09</td>\n",
       "      <td>0</td>\n",
       "      <td>$134.00</td>\n",
       "      <td>$127.00</td>\n",
       "      <td>3.0</td>\n",
       "      <td>29.0</td>\n",
       "    </tr>\n",
       "    <tr>\n",
       "      <th>8422</th>\n",
       "      <td>20734</td>\n",
       "      <td>2019-12-10</td>\n",
       "      <td>0</td>\n",
       "      <td>$134.00</td>\n",
       "      <td>$127.00</td>\n",
       "      <td>3.0</td>\n",
       "      <td>29.0</td>\n",
       "    </tr>\n",
       "    <tr>\n",
       "      <th>...</th>\n",
       "      <td>...</td>\n",
       "      <td>...</td>\n",
       "      <td>...</td>\n",
       "      <td>...</td>\n",
       "      <td>...</td>\n",
       "      <td>...</td>\n",
       "      <td>...</td>\n",
       "    </tr>\n",
       "    <tr>\n",
       "      <th>18402175</th>\n",
       "      <td>40482221</td>\n",
       "      <td>2019-12-01</td>\n",
       "      <td>0</td>\n",
       "      <td>$74.00</td>\n",
       "      <td>$63.00</td>\n",
       "      <td>1.0</td>\n",
       "      <td>365.0</td>\n",
       "    </tr>\n",
       "    <tr>\n",
       "      <th>18402176</th>\n",
       "      <td>40482221</td>\n",
       "      <td>2019-12-02</td>\n",
       "      <td>0</td>\n",
       "      <td>$74.00</td>\n",
       "      <td>$63.00</td>\n",
       "      <td>1.0</td>\n",
       "      <td>365.0</td>\n",
       "    </tr>\n",
       "    <tr>\n",
       "      <th>18402177</th>\n",
       "      <td>40482221</td>\n",
       "      <td>2019-12-03</td>\n",
       "      <td>0</td>\n",
       "      <td>$74.00</td>\n",
       "      <td>$63.00</td>\n",
       "      <td>1.0</td>\n",
       "      <td>365.0</td>\n",
       "    </tr>\n",
       "    <tr>\n",
       "      <th>18402178</th>\n",
       "      <td>40482221</td>\n",
       "      <td>2019-12-04</td>\n",
       "      <td>0</td>\n",
       "      <td>$74.00</td>\n",
       "      <td>$63.00</td>\n",
       "      <td>1.0</td>\n",
       "      <td>365.0</td>\n",
       "    </tr>\n",
       "    <tr>\n",
       "      <th>18402179</th>\n",
       "      <td>40482221</td>\n",
       "      <td>2019-12-05</td>\n",
       "      <td>0</td>\n",
       "      <td>$79.00</td>\n",
       "      <td>$67.00</td>\n",
       "      <td>1.0</td>\n",
       "      <td>365.0</td>\n",
       "    </tr>\n",
       "  </tbody>\n",
       "</table>\n",
       "<p>111633 rows × 7 columns</p>\n",
       "</div>"
      ],
      "text/plain": [
       "          listing_id       date  available    price adjusted_price  \\\n",
       "8232           20734 2019-12-06          0  $134.00        $127.00   \n",
       "8419           20734 2019-12-07          0  $134.00        $127.00   \n",
       "8420           20734 2019-12-08          0  $134.00        $127.00   \n",
       "8421           20734 2019-12-09          0  $134.00        $127.00   \n",
       "8422           20734 2019-12-10          0  $134.00        $127.00   \n",
       "...              ...        ...        ...      ...            ...   \n",
       "18402175    40482221 2019-12-01          0   $74.00         $63.00   \n",
       "18402176    40482221 2019-12-02          0   $74.00         $63.00   \n",
       "18402177    40482221 2019-12-03          0   $74.00         $63.00   \n",
       "18402178    40482221 2019-12-04          0   $74.00         $63.00   \n",
       "18402179    40482221 2019-12-05          0   $79.00         $67.00   \n",
       "\n",
       "          minimum_nights  maximum_nights  \n",
       "8232                 3.0            29.0  \n",
       "8419                 3.0            29.0  \n",
       "8420                 3.0            29.0  \n",
       "8421                 3.0            29.0  \n",
       "8422                 3.0            29.0  \n",
       "...                  ...             ...  \n",
       "18402175             1.0           365.0  \n",
       "18402176             1.0           365.0  \n",
       "18402177             1.0           365.0  \n",
       "18402178             1.0           365.0  \n",
       "18402179             1.0           365.0  \n",
       "\n",
       "[111633 rows x 7 columns]"
      ]
     },
     "execution_count": 39,
     "metadata": {},
     "output_type": "execute_result"
    }
   ],
   "source": [
    "calendar_clean[calendar_clean.price != calendar_clean.adjusted_price]"
   ]
  },
  {
   "cell_type": "code",
   "execution_count": 40,
   "metadata": {},
   "outputs": [],
   "source": [
    "calendar_clean['price_cleansed'] = calendar_clean.adjusted_price\\\n",
    ".str.replace('$', '').str.replace(',', '').astype('float')"
   ]
  },
  {
   "cell_type": "code",
   "execution_count": 41,
   "metadata": {},
   "outputs": [],
   "source": [
    "calendar_clean = calendar_clean.drop(['adjusted_price', 'price'], axis=1)\n",
    "calendar_clean.rename(columns={'price_cleansed': 'price'}, inplace=True)"
   ]
  },
  {
   "cell_type": "markdown",
   "metadata": {},
   "source": [
    "<br/>\n",
    "<p>Now is a good time to check the state of the table.  All columns except for <b>maximum_nights</b> seem to have useful data.  The large majority of listings allowing over 1000 nights for a short-term rental means that, for practical purposes, it is limitless.</p>"
   ]
  },
  {
   "cell_type": "code",
   "execution_count": 42,
   "metadata": {},
   "outputs": [
    {
     "name": "stdout",
     "output_type": "stream",
     "text": [
      "<class 'pandas.core.frame.DataFrame'>\n",
      "Int64Index: 17758345 entries, 0 to 18468269\n",
      "Data columns (total 6 columns):\n",
      " #   Column          Dtype         \n",
      "---  ------          -----         \n",
      " 0   listing_id      int64         \n",
      " 1   date            datetime64[ns]\n",
      " 2   available       int64         \n",
      " 3   minimum_nights  float64       \n",
      " 4   maximum_nights  float64       \n",
      " 5   price           float64       \n",
      "dtypes: datetime64[ns](1), float64(3), int64(2)\n",
      "memory usage: 948.4 MB\n"
     ]
    },
    {
     "data": {
      "text/html": [
       "<div>\n",
       "<style scoped>\n",
       "    .dataframe tbody tr th:only-of-type {\n",
       "        vertical-align: middle;\n",
       "    }\n",
       "\n",
       "    .dataframe tbody tr th {\n",
       "        vertical-align: top;\n",
       "    }\n",
       "\n",
       "    .dataframe thead th {\n",
       "        text-align: right;\n",
       "    }\n",
       "</style>\n",
       "<table border=\"1\" class=\"dataframe\">\n",
       "  <thead>\n",
       "    <tr style=\"text-align: right;\">\n",
       "      <th></th>\n",
       "      <th>listing_id</th>\n",
       "      <th>date</th>\n",
       "      <th>available</th>\n",
       "      <th>minimum_nights</th>\n",
       "      <th>maximum_nights</th>\n",
       "      <th>price</th>\n",
       "    </tr>\n",
       "  </thead>\n",
       "  <tbody>\n",
       "    <tr>\n",
       "      <th>0</th>\n",
       "      <td>19812</td>\n",
       "      <td>2019-12-05</td>\n",
       "      <td>0</td>\n",
       "      <td>3.0</td>\n",
       "      <td>90.0</td>\n",
       "      <td>105.0</td>\n",
       "    </tr>\n",
       "    <tr>\n",
       "      <th>1</th>\n",
       "      <td>2595</td>\n",
       "      <td>2019-12-06</td>\n",
       "      <td>0</td>\n",
       "      <td>10.0</td>\n",
       "      <td>1125.0</td>\n",
       "      <td>175.0</td>\n",
       "    </tr>\n",
       "    <tr>\n",
       "      <th>2</th>\n",
       "      <td>2595</td>\n",
       "      <td>2019-12-07</td>\n",
       "      <td>0</td>\n",
       "      <td>10.0</td>\n",
       "      <td>1125.0</td>\n",
       "      <td>175.0</td>\n",
       "    </tr>\n",
       "    <tr>\n",
       "      <th>3</th>\n",
       "      <td>2595</td>\n",
       "      <td>2019-12-08</td>\n",
       "      <td>0</td>\n",
       "      <td>10.0</td>\n",
       "      <td>1125.0</td>\n",
       "      <td>175.0</td>\n",
       "    </tr>\n",
       "    <tr>\n",
       "      <th>4</th>\n",
       "      <td>2595</td>\n",
       "      <td>2019-12-09</td>\n",
       "      <td>0</td>\n",
       "      <td>10.0</td>\n",
       "      <td>1125.0</td>\n",
       "      <td>175.0</td>\n",
       "    </tr>\n",
       "  </tbody>\n",
       "</table>\n",
       "</div>"
      ],
      "text/plain": [
       "   listing_id       date  available  minimum_nights  maximum_nights  price\n",
       "0       19812 2019-12-05          0             3.0            90.0  105.0\n",
       "1        2595 2019-12-06          0            10.0          1125.0  175.0\n",
       "2        2595 2019-12-07          0            10.0          1125.0  175.0\n",
       "3        2595 2019-12-08          0            10.0          1125.0  175.0\n",
       "4        2595 2019-12-09          0            10.0          1125.0  175.0"
      ]
     },
     "execution_count": 42,
     "metadata": {},
     "output_type": "execute_result"
    }
   ],
   "source": [
    "calendar_clean.info()\n",
    "calendar_clean.head()"
   ]
  },
  {
   "cell_type": "code",
   "execution_count": 43,
   "metadata": {},
   "outputs": [
    {
     "data": {
      "text/html": [
       "<div>\n",
       "<style scoped>\n",
       "    .dataframe tbody tr th:only-of-type {\n",
       "        vertical-align: middle;\n",
       "    }\n",
       "\n",
       "    .dataframe tbody tr th {\n",
       "        vertical-align: top;\n",
       "    }\n",
       "\n",
       "    .dataframe thead th {\n",
       "        text-align: right;\n",
       "    }\n",
       "</style>\n",
       "<table border=\"1\" class=\"dataframe\">\n",
       "  <thead>\n",
       "    <tr style=\"text-align: right;\">\n",
       "      <th></th>\n",
       "      <th>listing_id</th>\n",
       "      <th>available</th>\n",
       "      <th>minimum_nights</th>\n",
       "      <th>maximum_nights</th>\n",
       "      <th>price</th>\n",
       "    </tr>\n",
       "  </thead>\n",
       "  <tbody>\n",
       "    <tr>\n",
       "      <th>count</th>\n",
       "      <td>1.775834e+07</td>\n",
       "      <td>1.775834e+07</td>\n",
       "      <td>1.775772e+07</td>\n",
       "      <td>1.775772e+07</td>\n",
       "      <td>1.775745e+07</td>\n",
       "    </tr>\n",
       "    <tr>\n",
       "      <th>mean</th>\n",
       "      <td>2.114076e+07</td>\n",
       "      <td>3.247996e-01</td>\n",
       "      <td>8.592398e+00</td>\n",
       "      <td>2.748719e+05</td>\n",
       "      <td>1.560488e+02</td>\n",
       "    </tr>\n",
       "    <tr>\n",
       "      <th>std</th>\n",
       "      <td>1.239078e+07</td>\n",
       "      <td>4.682999e-01</td>\n",
       "      <td>3.037026e+01</td>\n",
       "      <td>2.423063e+07</td>\n",
       "      <td>2.568249e+02</td>\n",
       "    </tr>\n",
       "    <tr>\n",
       "      <th>min</th>\n",
       "      <td>2.595000e+03</td>\n",
       "      <td>0.000000e+00</td>\n",
       "      <td>1.000000e+00</td>\n",
       "      <td>1.000000e+00</td>\n",
       "      <td>0.000000e+00</td>\n",
       "    </tr>\n",
       "    <tr>\n",
       "      <th>25%</th>\n",
       "      <td>9.979270e+06</td>\n",
       "      <td>0.000000e+00</td>\n",
       "      <td>2.000000e+00</td>\n",
       "      <td>2.900000e+01</td>\n",
       "      <td>7.000000e+01</td>\n",
       "    </tr>\n",
       "    <tr>\n",
       "      <th>50%</th>\n",
       "      <td>2.125183e+07</td>\n",
       "      <td>0.000000e+00</td>\n",
       "      <td>3.000000e+00</td>\n",
       "      <td>1.125000e+03</td>\n",
       "      <td>1.100000e+02</td>\n",
       "    </tr>\n",
       "    <tr>\n",
       "      <th>75%</th>\n",
       "      <td>3.234744e+07</td>\n",
       "      <td>1.000000e+00</td>\n",
       "      <td>5.000000e+00</td>\n",
       "      <td>1.125000e+03</td>\n",
       "      <td>1.800000e+02</td>\n",
       "    </tr>\n",
       "    <tr>\n",
       "      <th>max</th>\n",
       "      <td>4.058402e+07</td>\n",
       "      <td>1.000000e+00</td>\n",
       "      <td>3.456000e+03</td>\n",
       "      <td>2.147484e+09</td>\n",
       "      <td>1.000000e+04</td>\n",
       "    </tr>\n",
       "  </tbody>\n",
       "</table>\n",
       "</div>"
      ],
      "text/plain": [
       "         listing_id     available  minimum_nights  maximum_nights  \\\n",
       "count  1.775834e+07  1.775834e+07    1.775772e+07    1.775772e+07   \n",
       "mean   2.114076e+07  3.247996e-01    8.592398e+00    2.748719e+05   \n",
       "std    1.239078e+07  4.682999e-01    3.037026e+01    2.423063e+07   \n",
       "min    2.595000e+03  0.000000e+00    1.000000e+00    1.000000e+00   \n",
       "25%    9.979270e+06  0.000000e+00    2.000000e+00    2.900000e+01   \n",
       "50%    2.125183e+07  0.000000e+00    3.000000e+00    1.125000e+03   \n",
       "75%    3.234744e+07  1.000000e+00    5.000000e+00    1.125000e+03   \n",
       "max    4.058402e+07  1.000000e+00    3.456000e+03    2.147484e+09   \n",
       "\n",
       "              price  \n",
       "count  1.775745e+07  \n",
       "mean   1.560488e+02  \n",
       "std    2.568249e+02  \n",
       "min    0.000000e+00  \n",
       "25%    7.000000e+01  \n",
       "50%    1.100000e+02  \n",
       "75%    1.800000e+02  \n",
       "max    1.000000e+04  "
      ]
     },
     "execution_count": 43,
     "metadata": {},
     "output_type": "execute_result"
    }
   ],
   "source": [
    "calendar_clean.describe()"
   ]
  },
  {
   "cell_type": "code",
   "execution_count": 44,
   "metadata": {},
   "outputs": [
    {
     "name": "stdout",
     "output_type": "stream",
     "text": [
      "<class 'pandas.core.frame.DataFrame'>\n",
      "Int64Index: 17758345 entries, 0 to 18468269\n",
      "Data columns (total 6 columns):\n",
      " #   Column          Dtype         \n",
      "---  ------          -----         \n",
      " 0   listing_id      int64         \n",
      " 1   date            datetime64[ns]\n",
      " 2   available       int64         \n",
      " 3   minimum_nights  float64       \n",
      " 4   maximum_nights  float64       \n",
      " 5   price           float64       \n",
      "dtypes: datetime64[ns](1), float64(3), int64(2)\n",
      "memory usage: 948.4 MB\n"
     ]
    }
   ],
   "source": [
    "calendar_clean.info()"
   ]
  },
  {
   "cell_type": "markdown",
   "metadata": {},
   "source": [
    "<br/>\n",
    "<p>Since travel patterns are usually seasonal, let's average availability, min nights required, and price over each season and the whole year.</p>"
   ]
  },
  {
   "cell_type": "code",
   "execution_count": 45,
   "metadata": {},
   "outputs": [],
   "source": [
    "available_year_avg = calendar_clean.groupby(by='listing_id').available.mean()\n",
    "available_winter_avg = calendar_clean[(calendar_clean.date.dt.month == 1) | (calendar_clean.date.dt.month == 2) \\\n",
    "    | (calendar_clean.date.dt.month == 12)].groupby(by='listing_id').available.mean()\n",
    "available_spring_avg = calendar_clean[(calendar_clean.date.dt.month >= 3) & (calendar_clean.date.dt.month <= 5)]\\\n",
    ".groupby(by='listing_id').available.mean()\n",
    "available_summer_avg = calendar_clean[(calendar_clean.date.dt.month >= 6) & (calendar_clean.date.dt.month <= 8)]\\\n",
    ".groupby(by='listing_id').available.mean()\n",
    "available_fall_avg = calendar_clean[(calendar_clean.date.dt.month >= 9) & (calendar_clean.date.dt.month <= 11)]\\\n",
    ".groupby(by='listing_id').available.mean()\n",
    "available_jan_avg = calendar_clean[calendar_clean.date.dt.month == 1].groupby(by='listing_id').available.mean()\n",
    "available_jun_avg = calendar_clean[calendar_clean.date.dt.month == 6].groupby(by='listing_id').available.mean()\n",
    "available_dec_avg = calendar_clean[calendar_clean.date.dt.month == 12].groupby(by='listing_id').available.mean()\n",
    "\n",
    "calendar_averages = pd.DataFrame(available_year_avg)\n",
    "calendar_averages.rename(columns={'available': 'available_year_avg'}, inplace=True)\n",
    "calendar_averages['available_winter_avg'] = available_winter_avg\n",
    "calendar_averages['available_spring_avg'] = available_spring_avg\n",
    "calendar_averages['available_summer_avg'] = available_summer_avg\n",
    "calendar_averages['available_fall_avg'] = available_fall_avg\n",
    "calendar_averages['available_jan_avg'] = available_jan_avg\n",
    "calendar_averages['available_jun_avg'] = available_jun_avg\n",
    "calendar_averages['available_dec_avg'] = available_dec_avg\n"
   ]
  },
  {
   "cell_type": "code",
   "execution_count": 46,
   "metadata": {},
   "outputs": [],
   "source": [
    "min_nights_year_avg = calendar_clean.groupby(by='listing_id')['minimum_nights'].mean()\n",
    "min_nights_winter_avg = calendar_clean[(calendar_clean.date.dt.month == 1) | (calendar_clean.date.dt.month == 2) \\\n",
    "    | (calendar_clean.date.dt.month == 12)].groupby(by='listing_id')['minimum_nights'].mean()\n",
    "min_nights_spring_avg = calendar_clean[(calendar_clean.date.dt.month >= 3) & (calendar_clean.date.dt.month <= 5)]\\\n",
    ".groupby(by='listing_id')['minimum_nights'].mean()\n",
    "min_nights_summer_avg = calendar_clean[(calendar_clean.date.dt.month >= 6) & (calendar_clean.date.dt.month <= 8)]\\\n",
    ".groupby(by='listing_id')['minimum_nights'].mean()\n",
    "min_nights_fall_avg = calendar_clean[(calendar_clean.date.dt.month >= 9) & (calendar_clean.date.dt.month <= 11)]\\\n",
    ".groupby(by='listing_id')['minimum_nights'].mean()\n",
    "min_nights_jan_avg = calendar_clean[calendar_clean.date.dt.month == 1].groupby(by='listing_id')['minimum_nights'].mean()\n",
    "min_nights_jun_avg = calendar_clean[calendar_clean.date.dt.month == 6].groupby(by='listing_id')['minimum_nights'].mean()\n",
    "min_nights_dec_avg = calendar_clean[calendar_clean.date.dt.month == 12].groupby(by='listing_id')['minimum_nights'].mean()\n",
    "\n",
    "calendar_averages['min_nights_year_avg'] = min_nights_year_avg\n",
    "calendar_averages['min_nights_winter_avg'] = min_nights_winter_avg\n",
    "calendar_averages['min_nights_spring_avg'] = min_nights_spring_avg\n",
    "calendar_averages['min_nights_summer_avg'] = min_nights_summer_avg\n",
    "calendar_averages['min_nights_fall_avg'] = min_nights_fall_avg\n",
    "calendar_averages['min_nights_jan_avg'] = min_nights_jan_avg\n",
    "calendar_averages['min_nights_jun_avg'] = min_nights_jun_avg\n",
    "calendar_averages['min_nights_dec_avg'] = min_nights_dec_avg"
   ]
  },
  {
   "cell_type": "code",
   "execution_count": 47,
   "metadata": {},
   "outputs": [],
   "source": [
    "price_year_avg = calendar_clean.groupby(by='listing_id')['price'].mean()\n",
    "price_winter_avg = calendar_clean[(calendar_clean.date.dt.month == 1) | (calendar_clean.date.dt.month == 2) \\\n",
    "    | (calendar_clean.date.dt.month == 12)].groupby(by='listing_id')['price'].mean()\n",
    "price_spring_avg = calendar_clean[(calendar_clean.date.dt.month >= 3) & (calendar_clean.date.dt.month <= 5)]\\\n",
    ".groupby(by='listing_id')['price'].mean()\n",
    "price_summer_avg = calendar_clean[(calendar_clean.date.dt.month >= 6) & (calendar_clean.date.dt.month <= 8)]\\\n",
    ".groupby(by='listing_id')['price'].mean()\n",
    "price_fall_avg = calendar_clean[(calendar_clean.date.dt.month >= 9) & (calendar_clean.date.dt.month <= 11)]\\\n",
    ".groupby(by='listing_id')['price'].mean()\n",
    "price_jan_avg = calendar_clean[calendar_clean.date.dt.month == 1].groupby(by='listing_id')['price'].mean()\n",
    "price_jun_avg = calendar_clean[calendar_clean.date.dt.month == 6].groupby(by='listing_id')['price'].mean()\n",
    "price_dec_avg = calendar_clean[calendar_clean.date.dt.month == 12].groupby(by='listing_id')['price'].mean()\n",
    "\n",
    "calendar_averages['price_year_avg'] = price_year_avg\n",
    "calendar_averages['price_winter_avg'] = price_winter_avg\n",
    "calendar_averages['price_spring_avg'] = price_spring_avg\n",
    "calendar_averages['price_summer_avg'] = price_summer_avg\n",
    "calendar_averages['price_fall_avg'] = price_fall_avg\n",
    "calendar_averages['price_jan_avg'] = price_jan_avg\n",
    "calendar_averages['price_jun_avg'] = price_jun_avg\n",
    "calendar_averages['price_dec_avg'] = price_dec_avg"
   ]
  },
  {
   "cell_type": "code",
   "execution_count": 48,
   "metadata": {},
   "outputs": [
    {
     "name": "stdout",
     "output_type": "stream",
     "text": [
      "<class 'pandas.core.frame.DataFrame'>\n",
      "Int64Index: 48653 entries, 2595 to 40584021\n",
      "Data columns (total 24 columns):\n",
      " #   Column                 Non-Null Count  Dtype  \n",
      "---  ------                 --------------  -----  \n",
      " 0   available_year_avg     48653 non-null  float64\n",
      " 1   available_winter_avg   48653 non-null  float64\n",
      " 2   available_spring_avg   48653 non-null  float64\n",
      " 3   available_summer_avg   48653 non-null  float64\n",
      " 4   available_fall_avg     48653 non-null  float64\n",
      " 5   available_jan_avg      48653 non-null  float64\n",
      " 6   available_jun_avg      48653 non-null  float64\n",
      " 7   available_dec_avg      48653 non-null  float64\n",
      " 8   min_nights_year_avg    48653 non-null  float64\n",
      " 9   min_nights_winter_avg  48653 non-null  float64\n",
      " 10  min_nights_spring_avg  48653 non-null  float64\n",
      " 11  min_nights_summer_avg  48653 non-null  float64\n",
      " 12  min_nights_fall_avg    48653 non-null  float64\n",
      " 13  min_nights_jan_avg     48653 non-null  float64\n",
      " 14  min_nights_jun_avg     48653 non-null  float64\n",
      " 15  min_nights_dec_avg     48653 non-null  float64\n",
      " 16  price_year_avg         48653 non-null  float64\n",
      " 17  price_winter_avg       48653 non-null  float64\n",
      " 18  price_spring_avg       48651 non-null  float64\n",
      " 19  price_summer_avg       48653 non-null  float64\n",
      " 20  price_fall_avg         48650 non-null  float64\n",
      " 21  price_jan_avg          48651 non-null  float64\n",
      " 22  price_jun_avg          48653 non-null  float64\n",
      " 23  price_dec_avg          48653 non-null  float64\n",
      "dtypes: float64(24)\n",
      "memory usage: 9.3 MB\n"
     ]
    },
    {
     "data": {
      "text/html": [
       "<div>\n",
       "<style scoped>\n",
       "    .dataframe tbody tr th:only-of-type {\n",
       "        vertical-align: middle;\n",
       "    }\n",
       "\n",
       "    .dataframe tbody tr th {\n",
       "        vertical-align: top;\n",
       "    }\n",
       "\n",
       "    .dataframe thead th {\n",
       "        text-align: right;\n",
       "    }\n",
       "</style>\n",
       "<table border=\"1\" class=\"dataframe\">\n",
       "  <thead>\n",
       "    <tr style=\"text-align: right;\">\n",
       "      <th></th>\n",
       "      <th>available_year_avg</th>\n",
       "      <th>available_winter_avg</th>\n",
       "      <th>available_spring_avg</th>\n",
       "      <th>available_summer_avg</th>\n",
       "      <th>available_fall_avg</th>\n",
       "      <th>available_jan_avg</th>\n",
       "      <th>available_jun_avg</th>\n",
       "      <th>available_dec_avg</th>\n",
       "      <th>min_nights_year_avg</th>\n",
       "      <th>min_nights_winter_avg</th>\n",
       "      <th>...</th>\n",
       "      <th>min_nights_jun_avg</th>\n",
       "      <th>min_nights_dec_avg</th>\n",
       "      <th>price_year_avg</th>\n",
       "      <th>price_winter_avg</th>\n",
       "      <th>price_spring_avg</th>\n",
       "      <th>price_summer_avg</th>\n",
       "      <th>price_fall_avg</th>\n",
       "      <th>price_jan_avg</th>\n",
       "      <th>price_jun_avg</th>\n",
       "      <th>price_dec_avg</th>\n",
       "    </tr>\n",
       "  </thead>\n",
       "  <tbody>\n",
       "    <tr>\n",
       "      <th>count</th>\n",
       "      <td>48653.000000</td>\n",
       "      <td>48653.000000</td>\n",
       "      <td>48653.000000</td>\n",
       "      <td>48653.000000</td>\n",
       "      <td>48653.000000</td>\n",
       "      <td>48653.000000</td>\n",
       "      <td>48653.000000</td>\n",
       "      <td>48653.000000</td>\n",
       "      <td>48653.000000</td>\n",
       "      <td>48653.000000</td>\n",
       "      <td>...</td>\n",
       "      <td>48653.000000</td>\n",
       "      <td>48653.000000</td>\n",
       "      <td>48653.000000</td>\n",
       "      <td>48653.000000</td>\n",
       "      <td>48651.000000</td>\n",
       "      <td>48653.000000</td>\n",
       "      <td>48650.000000</td>\n",
       "      <td>48651.000000</td>\n",
       "      <td>48653.000000</td>\n",
       "      <td>48653.000000</td>\n",
       "    </tr>\n",
       "    <tr>\n",
       "      <th>mean</th>\n",
       "      <td>0.324800</td>\n",
       "      <td>0.367686</td>\n",
       "      <td>0.366178</td>\n",
       "      <td>0.292422</td>\n",
       "      <td>0.273285</td>\n",
       "      <td>0.416534</td>\n",
       "      <td>0.292684</td>\n",
       "      <td>0.239441</td>\n",
       "      <td>8.592328</td>\n",
       "      <td>8.046683</td>\n",
       "      <td>...</td>\n",
       "      <td>8.853276</td>\n",
       "      <td>7.725376</td>\n",
       "      <td>156.048575</td>\n",
       "      <td>149.758814</td>\n",
       "      <td>155.145125</td>\n",
       "      <td>157.516932</td>\n",
       "      <td>161.701132</td>\n",
       "      <td>146.408156</td>\n",
       "      <td>158.008192</td>\n",
       "      <td>156.069265</td>\n",
       "    </tr>\n",
       "    <tr>\n",
       "      <th>std</th>\n",
       "      <td>0.371980</td>\n",
       "      <td>0.368098</td>\n",
       "      <td>0.447648</td>\n",
       "      <td>0.440315</td>\n",
       "      <td>0.440492</td>\n",
       "      <td>0.444207</td>\n",
       "      <td>0.438403</td>\n",
       "      <td>0.294223</td>\n",
       "      <td>28.881280</td>\n",
       "      <td>25.667699</td>\n",
       "      <td>...</td>\n",
       "      <td>33.876058</td>\n",
       "      <td>23.435944</td>\n",
       "      <td>236.460285</td>\n",
       "      <td>228.505797</td>\n",
       "      <td>236.534638</td>\n",
       "      <td>233.831249</td>\n",
       "      <td>291.482058</td>\n",
       "      <td>228.250163</td>\n",
       "      <td>234.747373</td>\n",
       "      <td>234.521394</td>\n",
       "    </tr>\n",
       "    <tr>\n",
       "      <th>min</th>\n",
       "      <td>0.000000</td>\n",
       "      <td>0.000000</td>\n",
       "      <td>0.000000</td>\n",
       "      <td>0.000000</td>\n",
       "      <td>0.000000</td>\n",
       "      <td>0.000000</td>\n",
       "      <td>0.000000</td>\n",
       "      <td>0.000000</td>\n",
       "      <td>1.000000</td>\n",
       "      <td>1.000000</td>\n",
       "      <td>...</td>\n",
       "      <td>1.000000</td>\n",
       "      <td>1.000000</td>\n",
       "      <td>0.000000</td>\n",
       "      <td>0.000000</td>\n",
       "      <td>0.000000</td>\n",
       "      <td>0.000000</td>\n",
       "      <td>0.000000</td>\n",
       "      <td>0.000000</td>\n",
       "      <td>0.000000</td>\n",
       "      <td>0.000000</td>\n",
       "    </tr>\n",
       "    <tr>\n",
       "      <th>25%</th>\n",
       "      <td>0.000000</td>\n",
       "      <td>0.000000</td>\n",
       "      <td>0.000000</td>\n",
       "      <td>0.000000</td>\n",
       "      <td>0.000000</td>\n",
       "      <td>0.000000</td>\n",
       "      <td>0.000000</td>\n",
       "      <td>0.000000</td>\n",
       "      <td>1.991781</td>\n",
       "      <td>1.966667</td>\n",
       "      <td>...</td>\n",
       "      <td>2.000000</td>\n",
       "      <td>1.903226</td>\n",
       "      <td>70.000000</td>\n",
       "      <td>69.000000</td>\n",
       "      <td>70.000000</td>\n",
       "      <td>70.000000</td>\n",
       "      <td>70.000000</td>\n",
       "      <td>67.903226</td>\n",
       "      <td>70.000000</td>\n",
       "      <td>70.000000</td>\n",
       "    </tr>\n",
       "    <tr>\n",
       "      <th>50%</th>\n",
       "      <td>0.167123</td>\n",
       "      <td>0.266667</td>\n",
       "      <td>0.043478</td>\n",
       "      <td>0.000000</td>\n",
       "      <td>0.000000</td>\n",
       "      <td>0.129032</td>\n",
       "      <td>0.000000</td>\n",
       "      <td>0.129032</td>\n",
       "      <td>3.000000</td>\n",
       "      <td>3.000000</td>\n",
       "      <td>...</td>\n",
       "      <td>3.000000</td>\n",
       "      <td>3.000000</td>\n",
       "      <td>110.000000</td>\n",
       "      <td>108.166667</td>\n",
       "      <td>110.000000</td>\n",
       "      <td>110.673913</td>\n",
       "      <td>110.000000</td>\n",
       "      <td>105.000000</td>\n",
       "      <td>110.666667</td>\n",
       "      <td>110.516129</td>\n",
       "    </tr>\n",
       "    <tr>\n",
       "      <th>75%</th>\n",
       "      <td>0.665753</td>\n",
       "      <td>0.722222</td>\n",
       "      <td>1.000000</td>\n",
       "      <td>0.956522</td>\n",
       "      <td>0.989011</td>\n",
       "      <td>0.935484</td>\n",
       "      <td>1.000000</td>\n",
       "      <td>0.419355</td>\n",
       "      <td>5.000000</td>\n",
       "      <td>5.000000</td>\n",
       "      <td>...</td>\n",
       "      <td>5.000000</td>\n",
       "      <td>5.000000</td>\n",
       "      <td>180.000000</td>\n",
       "      <td>175.000000</td>\n",
       "      <td>180.000000</td>\n",
       "      <td>181.000000</td>\n",
       "      <td>180.000000</td>\n",
       "      <td>170.000000</td>\n",
       "      <td>181.100000</td>\n",
       "      <td>180.000000</td>\n",
       "    </tr>\n",
       "    <tr>\n",
       "      <th>max</th>\n",
       "      <td>1.000000</td>\n",
       "      <td>1.000000</td>\n",
       "      <td>1.000000</td>\n",
       "      <td>1.000000</td>\n",
       "      <td>1.000000</td>\n",
       "      <td>1.000000</td>\n",
       "      <td>1.000000</td>\n",
       "      <td>1.000000</td>\n",
       "      <td>1494.104110</td>\n",
       "      <td>1997.166667</td>\n",
       "      <td>...</td>\n",
       "      <td>3337.000000</td>\n",
       "      <td>1574.225806</td>\n",
       "      <td>10000.000000</td>\n",
       "      <td>10000.000000</td>\n",
       "      <td>10000.000000</td>\n",
       "      <td>10000.000000</td>\n",
       "      <td>10000.000000</td>\n",
       "      <td>10000.000000</td>\n",
       "      <td>10000.000000</td>\n",
       "      <td>10000.000000</td>\n",
       "    </tr>\n",
       "  </tbody>\n",
       "</table>\n",
       "<p>8 rows × 24 columns</p>\n",
       "</div>"
      ],
      "text/plain": [
       "       available_year_avg  available_winter_avg  available_spring_avg  \\\n",
       "count        48653.000000          48653.000000          48653.000000   \n",
       "mean             0.324800              0.367686              0.366178   \n",
       "std              0.371980              0.368098              0.447648   \n",
       "min              0.000000              0.000000              0.000000   \n",
       "25%              0.000000              0.000000              0.000000   \n",
       "50%              0.167123              0.266667              0.043478   \n",
       "75%              0.665753              0.722222              1.000000   \n",
       "max              1.000000              1.000000              1.000000   \n",
       "\n",
       "       available_summer_avg  available_fall_avg  available_jan_avg  \\\n",
       "count          48653.000000        48653.000000       48653.000000   \n",
       "mean               0.292422            0.273285           0.416534   \n",
       "std                0.440315            0.440492           0.444207   \n",
       "min                0.000000            0.000000           0.000000   \n",
       "25%                0.000000            0.000000           0.000000   \n",
       "50%                0.000000            0.000000           0.129032   \n",
       "75%                0.956522            0.989011           0.935484   \n",
       "max                1.000000            1.000000           1.000000   \n",
       "\n",
       "       available_jun_avg  available_dec_avg  min_nights_year_avg  \\\n",
       "count       48653.000000       48653.000000         48653.000000   \n",
       "mean            0.292684           0.239441             8.592328   \n",
       "std             0.438403           0.294223            28.881280   \n",
       "min             0.000000           0.000000             1.000000   \n",
       "25%             0.000000           0.000000             1.991781   \n",
       "50%             0.000000           0.129032             3.000000   \n",
       "75%             1.000000           0.419355             5.000000   \n",
       "max             1.000000           1.000000          1494.104110   \n",
       "\n",
       "       min_nights_winter_avg  ...  min_nights_jun_avg  min_nights_dec_avg  \\\n",
       "count           48653.000000  ...        48653.000000        48653.000000   \n",
       "mean                8.046683  ...            8.853276            7.725376   \n",
       "std                25.667699  ...           33.876058           23.435944   \n",
       "min                 1.000000  ...            1.000000            1.000000   \n",
       "25%                 1.966667  ...            2.000000            1.903226   \n",
       "50%                 3.000000  ...            3.000000            3.000000   \n",
       "75%                 5.000000  ...            5.000000            5.000000   \n",
       "max              1997.166667  ...         3337.000000         1574.225806   \n",
       "\n",
       "       price_year_avg  price_winter_avg  price_spring_avg  price_summer_avg  \\\n",
       "count    48653.000000      48653.000000      48651.000000      48653.000000   \n",
       "mean       156.048575        149.758814        155.145125        157.516932   \n",
       "std        236.460285        228.505797        236.534638        233.831249   \n",
       "min          0.000000          0.000000          0.000000          0.000000   \n",
       "25%         70.000000         69.000000         70.000000         70.000000   \n",
       "50%        110.000000        108.166667        110.000000        110.673913   \n",
       "75%        180.000000        175.000000        180.000000        181.000000   \n",
       "max      10000.000000      10000.000000      10000.000000      10000.000000   \n",
       "\n",
       "       price_fall_avg  price_jan_avg  price_jun_avg  price_dec_avg  \n",
       "count    48650.000000   48651.000000   48653.000000   48653.000000  \n",
       "mean       161.701132     146.408156     158.008192     156.069265  \n",
       "std        291.482058     228.250163     234.747373     234.521394  \n",
       "min          0.000000       0.000000       0.000000       0.000000  \n",
       "25%         70.000000      67.903226      70.000000      70.000000  \n",
       "50%        110.000000     105.000000     110.666667     110.516129  \n",
       "75%        180.000000     170.000000     181.100000     180.000000  \n",
       "max      10000.000000   10000.000000   10000.000000   10000.000000  \n",
       "\n",
       "[8 rows x 24 columns]"
      ]
     },
     "execution_count": 48,
     "metadata": {},
     "output_type": "execute_result"
    }
   ],
   "source": [
    "calendar_averages.info()\n",
    "calendar_averages.describe()"
   ]
  },
  {
   "cell_type": "code",
   "execution_count": 49,
   "metadata": {},
   "outputs": [
    {
     "data": {
      "text/plain": [
       "<matplotlib.axes._subplots.AxesSubplot at 0x12b014b00>"
      ]
     },
     "execution_count": 49,
     "metadata": {},
     "output_type": "execute_result"
    },
    {
     "data": {
      "image/png": "[encoded data removed]",
      "text/plain": [
       "<Figure size 1440x720 with 1 Axes>"
      ]
     },
     "metadata": {
      "needs_background": "light"
     },
     "output_type": "display_data"
    }
   ],
   "source": [
    "calendar_averages.min_nights_year_avg.plot(kind='box', figsize=(20, 10))"
   ]
  },
  {
   "cell_type": "markdown",
   "metadata": {},
   "source": [
    "<p>1000+ <b>minimum_nights</b> is extremely high and unrealistic.  Box plot shows outliers above 10 nights, and the 3rd quartile level is 5 nights.</p>\n",
    "\n",
    "<p>Let's drop any entry that averages over 30 minimum nights.</p>"
   ]
  },
  {
   "cell_type": "code",
   "execution_count": 50,
   "metadata": {},
   "outputs": [],
   "source": [
    "calendar_averages = calendar_averages.loc[\n",
    "    (calendar_averages.min_nights_year_avg <= 30) & \n",
    "    (calendar_averages.min_nights_winter_avg <= 30) &\n",
    "    (calendar_averages.min_nights_spring_avg <= 30) &\n",
    "    (calendar_averages.min_nights_summer_avg <= 30) &\n",
    "    (calendar_averages.min_nights_fall_avg <= 30) &\n",
    "    (calendar_averages.min_nights_jan_avg <= 30) &\n",
    "    (calendar_averages.min_nights_jun_avg <= 30) &\n",
    "    (calendar_averages.min_nights_dec_avg <= 30)\n",
    "]"
   ]
  },
  {
   "cell_type": "markdown",
   "metadata": {},
   "source": [
    "<br/>\n",
    "<p>The box plot shows outliers above \\$600 average nightly price, and the 3rd quartile level is \\$180.  Let's drop all listings above \\$600</p>"
   ]
  },
  {
   "cell_type": "code",
   "execution_count": 51,
   "metadata": {},
   "outputs": [
    {
     "data": {
      "text/plain": [
       "<matplotlib.axes._subplots.AxesSubplot at 0x122fbd0b8>"
      ]
     },
     "execution_count": 51,
     "metadata": {},
     "output_type": "execute_result"
    },
    {
     "data": {
      "image/png": "[encoded data removed]",
      "text/plain": [
       "<Figure size 1440x720 with 1 Axes>"
      ]
     },
     "metadata": {
      "needs_background": "light"
     },
     "output_type": "display_data"
    }
   ],
   "source": [
    "calendar_averages.price_year_avg.plot(kind='box', figsize=(20, 10))"
   ]
  },
  {
   "cell_type": "code",
   "execution_count": 52,
   "metadata": {},
   "outputs": [],
   "source": [
    "calendar_averages = calendar_averages.loc[\n",
    "    (calendar_averages.price_year_avg <= 600) &\n",
    "    (calendar_averages.price_winter_avg <= 600) &\n",
    "    (calendar_averages.price_spring_avg <= 600) &\n",
    "    (calendar_averages.price_summer_avg <= 600) &\n",
    "    (calendar_averages.price_fall_avg <= 600) &\n",
    "    (calendar_averages.price_jan_avg <= 600) &\n",
    "    (calendar_averages.price_jun_avg <= 600) &\n",
    "    (calendar_averages.price_dec_avg <= 600)\n",
    "]"
   ]
  },
  {
   "cell_type": "code",
   "execution_count": 53,
   "metadata": {},
   "outputs": [
    {
     "name": "stdout",
     "output_type": "stream",
     "text": [
      "<class 'pandas.core.frame.DataFrame'>\n",
      "Int64Index: 46401 entries, 2595 to 40584021\n",
      "Data columns (total 24 columns):\n",
      " #   Column                 Non-Null Count  Dtype  \n",
      "---  ------                 --------------  -----  \n",
      " 0   available_year_avg     46401 non-null  float64\n",
      " 1   available_winter_avg   46401 non-null  float64\n",
      " 2   available_spring_avg   46401 non-null  float64\n",
      " 3   available_summer_avg   46401 non-null  float64\n",
      " 4   available_fall_avg     46401 non-null  float64\n",
      " 5   available_jan_avg      46401 non-null  float64\n",
      " 6   available_jun_avg      46401 non-null  float64\n",
      " 7   available_dec_avg      46401 non-null  float64\n",
      " 8   min_nights_year_avg    46401 non-null  float64\n",
      " 9   min_nights_winter_avg  46401 non-null  float64\n",
      " 10  min_nights_spring_avg  46401 non-null  float64\n",
      " 11  min_nights_summer_avg  46401 non-null  float64\n",
      " 12  min_nights_fall_avg    46401 non-null  float64\n",
      " 13  min_nights_jan_avg     46401 non-null  float64\n",
      " 14  min_nights_jun_avg     46401 non-null  float64\n",
      " 15  min_nights_dec_avg     46401 non-null  float64\n",
      " 16  price_year_avg         46401 non-null  float64\n",
      " 17  price_winter_avg       46401 non-null  float64\n",
      " 18  price_spring_avg       46401 non-null  float64\n",
      " 19  price_summer_avg       46401 non-null  float64\n",
      " 20  price_fall_avg         46401 non-null  float64\n",
      " 21  price_jan_avg          46401 non-null  float64\n",
      " 22  price_jun_avg          46401 non-null  float64\n",
      " 23  price_dec_avg          46401 non-null  float64\n",
      "dtypes: float64(24)\n",
      "memory usage: 8.9 MB\n"
     ]
    },
    {
     "data": {
      "text/html": [
       "<div>\n",
       "<style scoped>\n",
       "    .dataframe tbody tr th:only-of-type {\n",
       "        vertical-align: middle;\n",
       "    }\n",
       "\n",
       "    .dataframe tbody tr th {\n",
       "        vertical-align: top;\n",
       "    }\n",
       "\n",
       "    .dataframe thead th {\n",
       "        text-align: right;\n",
       "    }\n",
       "</style>\n",
       "<table border=\"1\" class=\"dataframe\">\n",
       "  <thead>\n",
       "    <tr style=\"text-align: right;\">\n",
       "      <th></th>\n",
       "      <th>available_year_avg</th>\n",
       "      <th>available_winter_avg</th>\n",
       "      <th>available_spring_avg</th>\n",
       "      <th>available_summer_avg</th>\n",
       "      <th>available_fall_avg</th>\n",
       "      <th>available_jan_avg</th>\n",
       "      <th>available_jun_avg</th>\n",
       "      <th>available_dec_avg</th>\n",
       "      <th>min_nights_year_avg</th>\n",
       "      <th>min_nights_winter_avg</th>\n",
       "      <th>...</th>\n",
       "      <th>min_nights_jun_avg</th>\n",
       "      <th>min_nights_dec_avg</th>\n",
       "      <th>price_year_avg</th>\n",
       "      <th>price_winter_avg</th>\n",
       "      <th>price_spring_avg</th>\n",
       "      <th>price_summer_avg</th>\n",
       "      <th>price_fall_avg</th>\n",
       "      <th>price_jan_avg</th>\n",
       "      <th>price_jun_avg</th>\n",
       "      <th>price_dec_avg</th>\n",
       "    </tr>\n",
       "  </thead>\n",
       "  <tbody>\n",
       "    <tr>\n",
       "      <th>count</th>\n",
       "      <td>46401.000000</td>\n",
       "      <td>46401.000000</td>\n",
       "      <td>46401.000000</td>\n",
       "      <td>46401.000000</td>\n",
       "      <td>46401.000000</td>\n",
       "      <td>46401.000000</td>\n",
       "      <td>46401.000000</td>\n",
       "      <td>46401.000000</td>\n",
       "      <td>46401.000000</td>\n",
       "      <td>46401.000000</td>\n",
       "      <td>...</td>\n",
       "      <td>46401.000000</td>\n",
       "      <td>46401.000000</td>\n",
       "      <td>46401.000000</td>\n",
       "      <td>46401.000000</td>\n",
       "      <td>46401.000000</td>\n",
       "      <td>46401.000000</td>\n",
       "      <td>46401.000000</td>\n",
       "      <td>46401.000000</td>\n",
       "      <td>46401.000000</td>\n",
       "      <td>46401.000000</td>\n",
       "    </tr>\n",
       "    <tr>\n",
       "      <th>mean</th>\n",
       "      <td>0.311556</td>\n",
       "      <td>0.358653</td>\n",
       "      <td>0.353335</td>\n",
       "      <td>0.276291</td>\n",
       "      <td>0.258390</td>\n",
       "      <td>0.408007</td>\n",
       "      <td>0.277014</td>\n",
       "      <td>0.230060</td>\n",
       "      <td>5.571613</td>\n",
       "      <td>5.560203</td>\n",
       "      <td>...</td>\n",
       "      <td>5.575560</td>\n",
       "      <td>5.517929</td>\n",
       "      <td>134.750157</td>\n",
       "      <td>130.735378</td>\n",
       "      <td>134.613328</td>\n",
       "      <td>136.989974</td>\n",
       "      <td>136.594720</td>\n",
       "      <td>128.073883</td>\n",
       "      <td>137.198926</td>\n",
       "      <td>135.792997</td>\n",
       "    </tr>\n",
       "    <tr>\n",
       "      <th>std</th>\n",
       "      <td>0.366851</td>\n",
       "      <td>0.365035</td>\n",
       "      <td>0.443839</td>\n",
       "      <td>0.432568</td>\n",
       "      <td>0.432681</td>\n",
       "      <td>0.442277</td>\n",
       "      <td>0.430603</td>\n",
       "      <td>0.287246</td>\n",
       "      <td>8.099831</td>\n",
       "      <td>8.063092</td>\n",
       "      <td>...</td>\n",
       "      <td>8.136276</td>\n",
       "      <td>8.018748</td>\n",
       "      <td>91.034516</td>\n",
       "      <td>87.541580</td>\n",
       "      <td>91.885193</td>\n",
       "      <td>93.981040</td>\n",
       "      <td>93.639116</td>\n",
       "      <td>85.865829</td>\n",
       "      <td>94.519306</td>\n",
       "      <td>92.722882</td>\n",
       "    </tr>\n",
       "    <tr>\n",
       "      <th>min</th>\n",
       "      <td>0.000000</td>\n",
       "      <td>0.000000</td>\n",
       "      <td>0.000000</td>\n",
       "      <td>0.000000</td>\n",
       "      <td>0.000000</td>\n",
       "      <td>0.000000</td>\n",
       "      <td>0.000000</td>\n",
       "      <td>0.000000</td>\n",
       "      <td>1.000000</td>\n",
       "      <td>1.000000</td>\n",
       "      <td>...</td>\n",
       "      <td>1.000000</td>\n",
       "      <td>1.000000</td>\n",
       "      <td>0.000000</td>\n",
       "      <td>0.000000</td>\n",
       "      <td>0.000000</td>\n",
       "      <td>0.000000</td>\n",
       "      <td>0.000000</td>\n",
       "      <td>0.000000</td>\n",
       "      <td>0.000000</td>\n",
       "      <td>0.000000</td>\n",
       "    </tr>\n",
       "    <tr>\n",
       "      <th>25%</th>\n",
       "      <td>0.000000</td>\n",
       "      <td>0.000000</td>\n",
       "      <td>0.000000</td>\n",
       "      <td>0.000000</td>\n",
       "      <td>0.000000</td>\n",
       "      <td>0.000000</td>\n",
       "      <td>0.000000</td>\n",
       "      <td>0.000000</td>\n",
       "      <td>1.572603</td>\n",
       "      <td>1.666667</td>\n",
       "      <td>...</td>\n",
       "      <td>1.433333</td>\n",
       "      <td>1.580645</td>\n",
       "      <td>70.000000</td>\n",
       "      <td>68.000000</td>\n",
       "      <td>69.521739</td>\n",
       "      <td>70.000000</td>\n",
       "      <td>70.000000</td>\n",
       "      <td>66.612903</td>\n",
       "      <td>70.000000</td>\n",
       "      <td>69.806452</td>\n",
       "    </tr>\n",
       "    <tr>\n",
       "      <th>50%</th>\n",
       "      <td>0.145205</td>\n",
       "      <td>0.233333</td>\n",
       "      <td>0.043478</td>\n",
       "      <td>0.000000</td>\n",
       "      <td>0.000000</td>\n",
       "      <td>0.129032</td>\n",
       "      <td>0.000000</td>\n",
       "      <td>0.129032</td>\n",
       "      <td>2.715068</td>\n",
       "      <td>2.688889</td>\n",
       "      <td>...</td>\n",
       "      <td>2.733333</td>\n",
       "      <td>2.677419</td>\n",
       "      <td>107.547945</td>\n",
       "      <td>105.000000</td>\n",
       "      <td>106.608696</td>\n",
       "      <td>110.000000</td>\n",
       "      <td>109.285714</td>\n",
       "      <td>101.645161</td>\n",
       "      <td>110.000000</td>\n",
       "      <td>109.000000</td>\n",
       "    </tr>\n",
       "    <tr>\n",
       "      <th>75%</th>\n",
       "      <td>0.602740</td>\n",
       "      <td>0.711111</td>\n",
       "      <td>0.978261</td>\n",
       "      <td>0.869565</td>\n",
       "      <td>0.857143</td>\n",
       "      <td>0.935484</td>\n",
       "      <td>0.866667</td>\n",
       "      <td>0.387097</td>\n",
       "      <td>5.000000</td>\n",
       "      <td>5.000000</td>\n",
       "      <td>...</td>\n",
       "      <td>5.000000</td>\n",
       "      <td>5.000000</td>\n",
       "      <td>175.000000</td>\n",
       "      <td>169.633333</td>\n",
       "      <td>175.000000</td>\n",
       "      <td>175.000000</td>\n",
       "      <td>175.000000</td>\n",
       "      <td>163.838710</td>\n",
       "      <td>175.000000</td>\n",
       "      <td>175.000000</td>\n",
       "    </tr>\n",
       "    <tr>\n",
       "      <th>max</th>\n",
       "      <td>1.000000</td>\n",
       "      <td>1.000000</td>\n",
       "      <td>1.000000</td>\n",
       "      <td>1.000000</td>\n",
       "      <td>1.000000</td>\n",
       "      <td>1.000000</td>\n",
       "      <td>1.000000</td>\n",
       "      <td>1.000000</td>\n",
       "      <td>30.000000</td>\n",
       "      <td>30.000000</td>\n",
       "      <td>...</td>\n",
       "      <td>30.000000</td>\n",
       "      <td>30.000000</td>\n",
       "      <td>600.000000</td>\n",
       "      <td>600.000000</td>\n",
       "      <td>600.000000</td>\n",
       "      <td>600.000000</td>\n",
       "      <td>600.000000</td>\n",
       "      <td>600.000000</td>\n",
       "      <td>600.000000</td>\n",
       "      <td>600.000000</td>\n",
       "    </tr>\n",
       "  </tbody>\n",
       "</table>\n",
       "<p>8 rows × 24 columns</p>\n",
       "</div>"
      ],
      "text/plain": [
       "       available_year_avg  available_winter_avg  available_spring_avg  \\\n",
       "count        46401.000000          46401.000000          46401.000000   \n",
       "mean             0.311556              0.358653              0.353335   \n",
       "std              0.366851              0.365035              0.443839   \n",
       "min              0.000000              0.000000              0.000000   \n",
       "25%              0.000000              0.000000              0.000000   \n",
       "50%              0.145205              0.233333              0.043478   \n",
       "75%              0.602740              0.711111              0.978261   \n",
       "max              1.000000              1.000000              1.000000   \n",
       "\n",
       "       available_summer_avg  available_fall_avg  available_jan_avg  \\\n",
       "count          46401.000000        46401.000000       46401.000000   \n",
       "mean               0.276291            0.258390           0.408007   \n",
       "std                0.432568            0.432681           0.442277   \n",
       "min                0.000000            0.000000           0.000000   \n",
       "25%                0.000000            0.000000           0.000000   \n",
       "50%                0.000000            0.000000           0.129032   \n",
       "75%                0.869565            0.857143           0.935484   \n",
       "max                1.000000            1.000000           1.000000   \n",
       "\n",
       "       available_jun_avg  available_dec_avg  min_nights_year_avg  \\\n",
       "count       46401.000000       46401.000000         46401.000000   \n",
       "mean            0.277014           0.230060             5.571613   \n",
       "std             0.430603           0.287246             8.099831   \n",
       "min             0.000000           0.000000             1.000000   \n",
       "25%             0.000000           0.000000             1.572603   \n",
       "50%             0.000000           0.129032             2.715068   \n",
       "75%             0.866667           0.387097             5.000000   \n",
       "max             1.000000           1.000000            30.000000   \n",
       "\n",
       "       min_nights_winter_avg  ...  min_nights_jun_avg  min_nights_dec_avg  \\\n",
       "count           46401.000000  ...        46401.000000        46401.000000   \n",
       "mean                5.560203  ...            5.575560            5.517929   \n",
       "std                 8.063092  ...            8.136276            8.018748   \n",
       "min                 1.000000  ...            1.000000            1.000000   \n",
       "25%                 1.666667  ...            1.433333            1.580645   \n",
       "50%                 2.688889  ...            2.733333            2.677419   \n",
       "75%                 5.000000  ...            5.000000            5.000000   \n",
       "max                30.000000  ...           30.000000           30.000000   \n",
       "\n",
       "       price_year_avg  price_winter_avg  price_spring_avg  price_summer_avg  \\\n",
       "count    46401.000000      46401.000000      46401.000000      46401.000000   \n",
       "mean       134.750157        130.735378        134.613328        136.989974   \n",
       "std         91.034516         87.541580         91.885193         93.981040   \n",
       "min          0.000000          0.000000          0.000000          0.000000   \n",
       "25%         70.000000         68.000000         69.521739         70.000000   \n",
       "50%        107.547945        105.000000        106.608696        110.000000   \n",
       "75%        175.000000        169.633333        175.000000        175.000000   \n",
       "max        600.000000        600.000000        600.000000        600.000000   \n",
       "\n",
       "       price_fall_avg  price_jan_avg  price_jun_avg  price_dec_avg  \n",
       "count    46401.000000   46401.000000   46401.000000   46401.000000  \n",
       "mean       136.594720     128.073883     137.198926     135.792997  \n",
       "std         93.639116      85.865829      94.519306      92.722882  \n",
       "min          0.000000       0.000000       0.000000       0.000000  \n",
       "25%         70.000000      66.612903      70.000000      69.806452  \n",
       "50%        109.285714     101.645161     110.000000     109.000000  \n",
       "75%        175.000000     163.838710     175.000000     175.000000  \n",
       "max        600.000000     600.000000     600.000000     600.000000  \n",
       "\n",
       "[8 rows x 24 columns]"
      ]
     },
     "execution_count": 53,
     "metadata": {},
     "output_type": "execute_result"
    }
   ],
   "source": [
    "calendar_averages.info()\n",
    "calendar_averages.describe()"
   ]
  },
  {
   "cell_type": "markdown",
   "metadata": {},
   "source": [
    "<p>We still have to deal with price outliers, but let's merge the <b>calendar_averages</b> and <b>listings_clean</b> tables on listing ID so we can use geographic data to average over nearest neighbors.</p>"
   ]
  },
  {
   "cell_type": "code",
   "execution_count": 54,
   "metadata": {},
   "outputs": [],
   "source": [
    "# https://chrisalbon.com/python/data_wrangling/pandas_join_merge_dataframe/\n",
    "\n",
    "listings_clean = listings_clean.loc[listings_clean.id != 15268792]\n",
    "listings_clean = listings_clean.loc[listings_clean.id.isin(calendar_averages.index)]\n",
    "listings_merge = pd.merge(listings_clean, calendar_averages, left_on='id', right_index=True)"
   ]
  },
  {
   "cell_type": "code",
   "execution_count": 55,
   "metadata": {},
   "outputs": [
    {
     "name": "stdout",
     "output_type": "stream",
     "text": [
      "<class 'pandas.core.frame.DataFrame'>\n",
      "Int64Index: 46401 entries, 0 to 48913\n",
      "Columns: 167 entries, id to price_dec_avg\n",
      "dtypes: float64(31), int16(1), int64(131), object(4)\n",
      "memory usage: 59.2+ MB\n"
     ]
    },
    {
     "data": {
      "text/html": [
       "<div>\n",
       "<style scoped>\n",
       "    .dataframe tbody tr th:only-of-type {\n",
       "        vertical-align: middle;\n",
       "    }\n",
       "\n",
       "    .dataframe tbody tr th {\n",
       "        vertical-align: top;\n",
       "    }\n",
       "\n",
       "    .dataframe thead th {\n",
       "        text-align: right;\n",
       "    }\n",
       "</style>\n",
       "<table border=\"1\" class=\"dataframe\">\n",
       "  <thead>\n",
       "    <tr style=\"text-align: right;\">\n",
       "      <th></th>\n",
       "      <th>id</th>\n",
       "      <th>summary</th>\n",
       "      <th>neighbourhood</th>\n",
       "      <th>neighbourhood_group</th>\n",
       "      <th>latitude</th>\n",
       "      <th>longitude</th>\n",
       "      <th>room_type</th>\n",
       "      <th>accommodates</th>\n",
       "      <th>bathrooms</th>\n",
       "      <th>bedrooms</th>\n",
       "      <th>...</th>\n",
       "      <th>min_nights_jun_avg</th>\n",
       "      <th>min_nights_dec_avg</th>\n",
       "      <th>price_year_avg</th>\n",
       "      <th>price_winter_avg</th>\n",
       "      <th>price_spring_avg</th>\n",
       "      <th>price_summer_avg</th>\n",
       "      <th>price_fall_avg</th>\n",
       "      <th>price_jan_avg</th>\n",
       "      <th>price_jun_avg</th>\n",
       "      <th>price_dec_avg</th>\n",
       "    </tr>\n",
       "  </thead>\n",
       "  <tbody>\n",
       "    <tr>\n",
       "      <th>0</th>\n",
       "      <td>2595</td>\n",
       "      <td>Beautiful, spacious skylit studio in the heart...</td>\n",
       "      <td>129</td>\n",
       "      <td>Manhattan</td>\n",
       "      <td>40.75362</td>\n",
       "      <td>-73.98377</td>\n",
       "      <td>Entire home/apt</td>\n",
       "      <td>1</td>\n",
       "      <td>1.0</td>\n",
       "      <td>0.0</td>\n",
       "      <td>...</td>\n",
       "      <td>10.0</td>\n",
       "      <td>10.0</td>\n",
       "      <td>196.334247</td>\n",
       "      <td>177.255556</td>\n",
       "      <td>176.152174</td>\n",
       "      <td>215.728261</td>\n",
       "      <td>216.0</td>\n",
       "      <td>175.000000</td>\n",
       "      <td>215.1</td>\n",
       "      <td>181.548387</td>\n",
       "    </tr>\n",
       "    <tr>\n",
       "      <th>1</th>\n",
       "      <td>3831</td>\n",
       "      <td>Urban retreat: enjoy 500 s.f. floor in 1899 br...</td>\n",
       "      <td>41</td>\n",
       "      <td>Brooklyn</td>\n",
       "      <td>40.68514</td>\n",
       "      <td>-73.95976</td>\n",
       "      <td>Entire home/apt</td>\n",
       "      <td>3</td>\n",
       "      <td>1.0</td>\n",
       "      <td>1.0</td>\n",
       "      <td>...</td>\n",
       "      <td>1.0</td>\n",
       "      <td>1.0</td>\n",
       "      <td>86.224658</td>\n",
       "      <td>88.911111</td>\n",
       "      <td>86.032609</td>\n",
       "      <td>85.000000</td>\n",
       "      <td>85.0</td>\n",
       "      <td>86.516129</td>\n",
       "      <td>85.0</td>\n",
       "      <td>91.645161</td>\n",
       "    </tr>\n",
       "    <tr>\n",
       "      <th>2</th>\n",
       "      <td>5099</td>\n",
       "      <td>My large 1 bedroom apartment has a true New Yo...</td>\n",
       "      <td>139</td>\n",
       "      <td>Manhattan</td>\n",
       "      <td>40.74767</td>\n",
       "      <td>-73.97500</td>\n",
       "      <td>Entire home/apt</td>\n",
       "      <td>2</td>\n",
       "      <td>1.0</td>\n",
       "      <td>1.0</td>\n",
       "      <td>...</td>\n",
       "      <td>3.0</td>\n",
       "      <td>3.0</td>\n",
       "      <td>206.164384</td>\n",
       "      <td>225.000000</td>\n",
       "      <td>200.000000</td>\n",
       "      <td>200.000000</td>\n",
       "      <td>200.0</td>\n",
       "      <td>216.129032</td>\n",
       "      <td>200.0</td>\n",
       "      <td>256.451613</td>\n",
       "    </tr>\n",
       "    <tr>\n",
       "      <th>4</th>\n",
       "      <td>5178</td>\n",
       "      <td>Please don’t expect the luxury here just a bas...</td>\n",
       "      <td>97</td>\n",
       "      <td>Manhattan</td>\n",
       "      <td>40.76489</td>\n",
       "      <td>-73.98493</td>\n",
       "      <td>Private room</td>\n",
       "      <td>2</td>\n",
       "      <td>1.0</td>\n",
       "      <td>1.0</td>\n",
       "      <td>...</td>\n",
       "      <td>2.0</td>\n",
       "      <td>2.0</td>\n",
       "      <td>78.279452</td>\n",
       "      <td>77.233333</td>\n",
       "      <td>77.869565</td>\n",
       "      <td>79.000000</td>\n",
       "      <td>79.0</td>\n",
       "      <td>76.322581</td>\n",
       "      <td>79.0</td>\n",
       "      <td>79.000000</td>\n",
       "    </tr>\n",
       "    <tr>\n",
       "      <th>5</th>\n",
       "      <td>5203</td>\n",
       "      <td>Our best guests are seeking a safe, clean, spa...</td>\n",
       "      <td>204</td>\n",
       "      <td>Manhattan</td>\n",
       "      <td>40.80178</td>\n",
       "      <td>-73.96723</td>\n",
       "      <td>Private room</td>\n",
       "      <td>1</td>\n",
       "      <td>1.0</td>\n",
       "      <td>1.0</td>\n",
       "      <td>...</td>\n",
       "      <td>2.0</td>\n",
       "      <td>2.0</td>\n",
       "      <td>78.106849</td>\n",
       "      <td>75.222222</td>\n",
       "      <td>77.163043</td>\n",
       "      <td>80.000000</td>\n",
       "      <td>80.0</td>\n",
       "      <td>75.000000</td>\n",
       "      <td>80.0</td>\n",
       "      <td>75.645161</td>\n",
       "    </tr>\n",
       "  </tbody>\n",
       "</table>\n",
       "<p>5 rows × 167 columns</p>\n",
       "</div>"
      ],
      "text/plain": [
       "     id                                            summary  neighbourhood  \\\n",
       "0  2595  Beautiful, spacious skylit studio in the heart...            129   \n",
       "1  3831  Urban retreat: enjoy 500 s.f. floor in 1899 br...             41   \n",
       "2  5099  My large 1 bedroom apartment has a true New Yo...            139   \n",
       "4  5178  Please don’t expect the luxury here just a bas...             97   \n",
       "5  5203  Our best guests are seeking a safe, clean, spa...            204   \n",
       "\n",
       "  neighbourhood_group  latitude  longitude        room_type  accommodates  \\\n",
       "0           Manhattan  40.75362  -73.98377  Entire home/apt             1   \n",
       "1            Brooklyn  40.68514  -73.95976  Entire home/apt             3   \n",
       "2           Manhattan  40.74767  -73.97500  Entire home/apt             2   \n",
       "4           Manhattan  40.76489  -73.98493     Private room             2   \n",
       "5           Manhattan  40.80178  -73.96723     Private room             1   \n",
       "\n",
       "   bathrooms  bedrooms  ...  min_nights_jun_avg min_nights_dec_avg  \\\n",
       "0        1.0       0.0  ...                10.0               10.0   \n",
       "1        1.0       1.0  ...                 1.0                1.0   \n",
       "2        1.0       1.0  ...                 3.0                3.0   \n",
       "4        1.0       1.0  ...                 2.0                2.0   \n",
       "5        1.0       1.0  ...                 2.0                2.0   \n",
       "\n",
       "   price_year_avg  price_winter_avg  price_spring_avg  price_summer_avg  \\\n",
       "0      196.334247        177.255556        176.152174        215.728261   \n",
       "1       86.224658         88.911111         86.032609         85.000000   \n",
       "2      206.164384        225.000000        200.000000        200.000000   \n",
       "4       78.279452         77.233333         77.869565         79.000000   \n",
       "5       78.106849         75.222222         77.163043         80.000000   \n",
       "\n",
       "   price_fall_avg  price_jan_avg  price_jun_avg  price_dec_avg  \n",
       "0           216.0     175.000000          215.1     181.548387  \n",
       "1            85.0      86.516129           85.0      91.645161  \n",
       "2           200.0     216.129032          200.0     256.451613  \n",
       "4            79.0      76.322581           79.0      79.000000  \n",
       "5            80.0      75.000000           80.0      75.645161  \n",
       "\n",
       "[5 rows x 167 columns]"
      ]
     },
     "execution_count": 55,
     "metadata": {},
     "output_type": "execute_result"
    }
   ],
   "source": [
    "listings_merge.info()\n",
    "listings_merge.head()"
   ]
  },
  {
   "cell_type": "code",
   "execution_count": 56,
   "metadata": {},
   "outputs": [
    {
     "data": {
      "text/html": [
       "<div>\n",
       "<style scoped>\n",
       "    .dataframe tbody tr th:only-of-type {\n",
       "        vertical-align: middle;\n",
       "    }\n",
       "\n",
       "    .dataframe tbody tr th {\n",
       "        vertical-align: top;\n",
       "    }\n",
       "\n",
       "    .dataframe thead th {\n",
       "        text-align: right;\n",
       "    }\n",
       "</style>\n",
       "<table border=\"1\" class=\"dataframe\">\n",
       "  <thead>\n",
       "    <tr style=\"text-align: right;\">\n",
       "      <th></th>\n",
       "      <th>id</th>\n",
       "      <th>neighbourhood</th>\n",
       "      <th>latitude</th>\n",
       "      <th>longitude</th>\n",
       "      <th>accommodates</th>\n",
       "      <th>bathrooms</th>\n",
       "      <th>bedrooms</th>\n",
       "      <th>beds</th>\n",
       "      <th>number_of_reviews</th>\n",
       "      <th>review_scores_rating</th>\n",
       "      <th>...</th>\n",
       "      <th>min_nights_jun_avg</th>\n",
       "      <th>min_nights_dec_avg</th>\n",
       "      <th>price_year_avg</th>\n",
       "      <th>price_winter_avg</th>\n",
       "      <th>price_spring_avg</th>\n",
       "      <th>price_summer_avg</th>\n",
       "      <th>price_fall_avg</th>\n",
       "      <th>price_jan_avg</th>\n",
       "      <th>price_jun_avg</th>\n",
       "      <th>price_dec_avg</th>\n",
       "    </tr>\n",
       "  </thead>\n",
       "  <tbody>\n",
       "    <tr>\n",
       "      <th>count</th>\n",
       "      <td>4.640100e+04</td>\n",
       "      <td>46401.000000</td>\n",
       "      <td>46401.000000</td>\n",
       "      <td>46401.000000</td>\n",
       "      <td>46401.000000</td>\n",
       "      <td>46401.000000</td>\n",
       "      <td>46401.000000</td>\n",
       "      <td>46401.000000</td>\n",
       "      <td>46401.000000</td>\n",
       "      <td>46401.000000</td>\n",
       "      <td>...</td>\n",
       "      <td>46401.000000</td>\n",
       "      <td>46401.000000</td>\n",
       "      <td>46401.000000</td>\n",
       "      <td>46401.000000</td>\n",
       "      <td>46401.000000</td>\n",
       "      <td>46401.000000</td>\n",
       "      <td>46401.000000</td>\n",
       "      <td>46401.000000</td>\n",
       "      <td>46401.000000</td>\n",
       "      <td>46401.000000</td>\n",
       "    </tr>\n",
       "    <tr>\n",
       "      <th>mean</th>\n",
       "      <td>2.100278e+07</td>\n",
       "      <td>107.425788</td>\n",
       "      <td>40.728301</td>\n",
       "      <td>-73.949952</td>\n",
       "      <td>2.814573</td>\n",
       "      <td>1.125073</td>\n",
       "      <td>1.156268</td>\n",
       "      <td>1.506153</td>\n",
       "      <td>25.943600</td>\n",
       "      <td>93.995482</td>\n",
       "      <td>...</td>\n",
       "      <td>5.575560</td>\n",
       "      <td>5.517929</td>\n",
       "      <td>134.750157</td>\n",
       "      <td>130.735378</td>\n",
       "      <td>134.613328</td>\n",
       "      <td>136.989974</td>\n",
       "      <td>136.594720</td>\n",
       "      <td>128.073883</td>\n",
       "      <td>137.198926</td>\n",
       "      <td>135.792997</td>\n",
       "    </tr>\n",
       "    <tr>\n",
       "      <th>std</th>\n",
       "      <td>1.235335e+07</td>\n",
       "      <td>69.750280</td>\n",
       "      <td>0.055364</td>\n",
       "      <td>0.047765</td>\n",
       "      <td>1.733721</td>\n",
       "      <td>0.366010</td>\n",
       "      <td>0.697562</td>\n",
       "      <td>0.998258</td>\n",
       "      <td>48.428762</td>\n",
       "      <td>7.472623</td>\n",
       "      <td>...</td>\n",
       "      <td>8.136276</td>\n",
       "      <td>8.018748</td>\n",
       "      <td>91.034516</td>\n",
       "      <td>87.541580</td>\n",
       "      <td>91.885193</td>\n",
       "      <td>93.981040</td>\n",
       "      <td>93.639116</td>\n",
       "      <td>85.865829</td>\n",
       "      <td>94.519306</td>\n",
       "      <td>92.722882</td>\n",
       "    </tr>\n",
       "    <tr>\n",
       "      <th>min</th>\n",
       "      <td>2.595000e+03</td>\n",
       "      <td>0.000000</td>\n",
       "      <td>40.499790</td>\n",
       "      <td>-74.247870</td>\n",
       "      <td>1.000000</td>\n",
       "      <td>0.000000</td>\n",
       "      <td>0.000000</td>\n",
       "      <td>0.000000</td>\n",
       "      <td>0.000000</td>\n",
       "      <td>20.000000</td>\n",
       "      <td>...</td>\n",
       "      <td>1.000000</td>\n",
       "      <td>1.000000</td>\n",
       "      <td>0.000000</td>\n",
       "      <td>0.000000</td>\n",
       "      <td>0.000000</td>\n",
       "      <td>0.000000</td>\n",
       "      <td>0.000000</td>\n",
       "      <td>0.000000</td>\n",
       "      <td>0.000000</td>\n",
       "      <td>0.000000</td>\n",
       "    </tr>\n",
       "    <tr>\n",
       "      <th>25%</th>\n",
       "      <td>9.920626e+06</td>\n",
       "      <td>52.000000</td>\n",
       "      <td>40.688820</td>\n",
       "      <td>-73.982050</td>\n",
       "      <td>2.000000</td>\n",
       "      <td>1.000000</td>\n",
       "      <td>1.000000</td>\n",
       "      <td>1.000000</td>\n",
       "      <td>1.000000</td>\n",
       "      <td>93.000000</td>\n",
       "      <td>...</td>\n",
       "      <td>1.433333</td>\n",
       "      <td>1.580645</td>\n",
       "      <td>70.000000</td>\n",
       "      <td>68.000000</td>\n",
       "      <td>69.521739</td>\n",
       "      <td>70.000000</td>\n",
       "      <td>70.000000</td>\n",
       "      <td>66.612903</td>\n",
       "      <td>70.000000</td>\n",
       "      <td>69.806452</td>\n",
       "    </tr>\n",
       "    <tr>\n",
       "      <th>50%</th>\n",
       "      <td>2.106716e+07</td>\n",
       "      <td>96.000000</td>\n",
       "      <td>40.721940</td>\n",
       "      <td>-73.954330</td>\n",
       "      <td>2.000000</td>\n",
       "      <td>1.000000</td>\n",
       "      <td>1.000000</td>\n",
       "      <td>1.000000</td>\n",
       "      <td>6.000000</td>\n",
       "      <td>94.000000</td>\n",
       "      <td>...</td>\n",
       "      <td>2.733333</td>\n",
       "      <td>2.677419</td>\n",
       "      <td>107.547945</td>\n",
       "      <td>105.000000</td>\n",
       "      <td>106.608696</td>\n",
       "      <td>110.000000</td>\n",
       "      <td>109.285714</td>\n",
       "      <td>101.645161</td>\n",
       "      <td>110.000000</td>\n",
       "      <td>109.000000</td>\n",
       "    </tr>\n",
       "    <tr>\n",
       "      <th>75%</th>\n",
       "      <td>3.201758e+07</td>\n",
       "      <td>180.000000</td>\n",
       "      <td>40.763100</td>\n",
       "      <td>-73.933100</td>\n",
       "      <td>4.000000</td>\n",
       "      <td>1.000000</td>\n",
       "      <td>1.000000</td>\n",
       "      <td>2.000000</td>\n",
       "      <td>27.000000</td>\n",
       "      <td>99.000000</td>\n",
       "      <td>...</td>\n",
       "      <td>5.000000</td>\n",
       "      <td>5.000000</td>\n",
       "      <td>175.000000</td>\n",
       "      <td>169.633333</td>\n",
       "      <td>175.000000</td>\n",
       "      <td>175.000000</td>\n",
       "      <td>175.000000</td>\n",
       "      <td>163.838710</td>\n",
       "      <td>175.000000</td>\n",
       "      <td>175.000000</td>\n",
       "    </tr>\n",
       "    <tr>\n",
       "      <th>max</th>\n",
       "      <td>4.058402e+07</td>\n",
       "      <td>222.000000</td>\n",
       "      <td>40.916860</td>\n",
       "      <td>-73.712990</td>\n",
       "      <td>16.000000</td>\n",
       "      <td>5.000000</td>\n",
       "      <td>10.000000</td>\n",
       "      <td>12.000000</td>\n",
       "      <td>675.000000</td>\n",
       "      <td>100.000000</td>\n",
       "      <td>...</td>\n",
       "      <td>30.000000</td>\n",
       "      <td>30.000000</td>\n",
       "      <td>600.000000</td>\n",
       "      <td>600.000000</td>\n",
       "      <td>600.000000</td>\n",
       "      <td>600.000000</td>\n",
       "      <td>600.000000</td>\n",
       "      <td>600.000000</td>\n",
       "      <td>600.000000</td>\n",
       "      <td>600.000000</td>\n",
       "    </tr>\n",
       "  </tbody>\n",
       "</table>\n",
       "<p>8 rows × 163 columns</p>\n",
       "</div>"
      ],
      "text/plain": [
       "                 id  neighbourhood      latitude     longitude  accommodates  \\\n",
       "count  4.640100e+04   46401.000000  46401.000000  46401.000000  46401.000000   \n",
       "mean   2.100278e+07     107.425788     40.728301    -73.949952      2.814573   \n",
       "std    1.235335e+07      69.750280      0.055364      0.047765      1.733721   \n",
       "min    2.595000e+03       0.000000     40.499790    -74.247870      1.000000   \n",
       "25%    9.920626e+06      52.000000     40.688820    -73.982050      2.000000   \n",
       "50%    2.106716e+07      96.000000     40.721940    -73.954330      2.000000   \n",
       "75%    3.201758e+07     180.000000     40.763100    -73.933100      4.000000   \n",
       "max    4.058402e+07     222.000000     40.916860    -73.712990     16.000000   \n",
       "\n",
       "          bathrooms      bedrooms          beds  number_of_reviews  \\\n",
       "count  46401.000000  46401.000000  46401.000000       46401.000000   \n",
       "mean       1.125073      1.156268      1.506153          25.943600   \n",
       "std        0.366010      0.697562      0.998258          48.428762   \n",
       "min        0.000000      0.000000      0.000000           0.000000   \n",
       "25%        1.000000      1.000000      1.000000           1.000000   \n",
       "50%        1.000000      1.000000      1.000000           6.000000   \n",
       "75%        1.000000      1.000000      2.000000          27.000000   \n",
       "max        5.000000     10.000000     12.000000         675.000000   \n",
       "\n",
       "       review_scores_rating  ...  min_nights_jun_avg  min_nights_dec_avg  \\\n",
       "count          46401.000000  ...        46401.000000        46401.000000   \n",
       "mean              93.995482  ...            5.575560            5.517929   \n",
       "std                7.472623  ...            8.136276            8.018748   \n",
       "min               20.000000  ...            1.000000            1.000000   \n",
       "25%               93.000000  ...            1.433333            1.580645   \n",
       "50%               94.000000  ...            2.733333            2.677419   \n",
       "75%               99.000000  ...            5.000000            5.000000   \n",
       "max              100.000000  ...           30.000000           30.000000   \n",
       "\n",
       "       price_year_avg  price_winter_avg  price_spring_avg  price_summer_avg  \\\n",
       "count    46401.000000      46401.000000      46401.000000      46401.000000   \n",
       "mean       134.750157        130.735378        134.613328        136.989974   \n",
       "std         91.034516         87.541580         91.885193         93.981040   \n",
       "min          0.000000          0.000000          0.000000          0.000000   \n",
       "25%         70.000000         68.000000         69.521739         70.000000   \n",
       "50%        107.547945        105.000000        106.608696        110.000000   \n",
       "75%        175.000000        169.633333        175.000000        175.000000   \n",
       "max        600.000000        600.000000        600.000000        600.000000   \n",
       "\n",
       "       price_fall_avg  price_jan_avg  price_jun_avg  price_dec_avg  \n",
       "count    46401.000000   46401.000000   46401.000000   46401.000000  \n",
       "mean       136.594720     128.073883     137.198926     135.792997  \n",
       "std         93.639116      85.865829      94.519306      92.722882  \n",
       "min          0.000000       0.000000       0.000000       0.000000  \n",
       "25%         70.000000      66.612903      70.000000      69.806452  \n",
       "50%        109.285714     101.645161     110.000000     109.000000  \n",
       "75%        175.000000     163.838710     175.000000     175.000000  \n",
       "max        600.000000     600.000000     600.000000     600.000000  \n",
       "\n",
       "[8 rows x 163 columns]"
      ]
     },
     "execution_count": 56,
     "metadata": {},
     "output_type": "execute_result"
    }
   ],
   "source": [
    "listings_merge.describe()"
   ]
  },
  {
   "cell_type": "markdown",
   "metadata": {},
   "source": [
    "<br/>\n",
    "<p>Availability seems to be a heavy tailed distribution, with most listings unavailable over the year.  This suggests a high average utilization of rentals in NYC, but there are still a lot of rentals available.</p>"
   ]
  },
  {
   "cell_type": "code",
   "execution_count": 57,
   "metadata": {},
   "outputs": [
    {
     "data": {
      "image/png": "[encoded data removed]",
      "text/plain": [
       "<Figure size 1440x720 with 1 Axes>"
      ]
     },
     "metadata": {
      "needs_background": "light"
     },
     "output_type": "display_data"
    }
   ],
   "source": [
    "plt = listings_merge.available_year_avg.plot(kind='hist', figsize=(20, 10))"
   ]
  },
  {
   "cell_type": "markdown",
   "metadata": {},
   "source": [
    "<br/>\n",
    "<p>Even in a low season like winter, there seems to be low availability.</p>"
   ]
  },
  {
   "cell_type": "code",
   "execution_count": 58,
   "metadata": {
    "scrolled": false
   },
   "outputs": [
    {
     "data": {
      "image/png": "[encoded data removed]",
      "text/plain": [
       "<Figure size 1440x720 with 1 Axes>"
      ]
     },
     "metadata": {
      "needs_background": "light"
     },
     "output_type": "display_data"
    }
   ],
   "source": [
    "plt = listings_merge.available_winter_avg.plot(kind='hist', figsize=(20, 10))"
   ]
  },
  {
   "cell_type": "markdown",
   "metadata": {},
   "source": [
    "<br/>\n",
    "<p>Plotting the log of the minimum nights required we see that it approximates an exponential distribution.</p>"
   ]
  },
  {
   "cell_type": "code",
   "execution_count": 59,
   "metadata": {
    "scrolled": false
   },
   "outputs": [
    {
     "name": "stdout",
     "output_type": "stream",
     "text": [
      "1.000000     10851\n",
      "2.000000     10507\n",
      "3.000000      7030\n",
      "30.000000     3497\n",
      "4.000000      2952\n",
      "             ...  \n",
      "5.178082         1\n",
      "9.145205         1\n",
      "4.260274         1\n",
      "5.547945         1\n",
      "3.109589         1\n",
      "Name: min_nights_year_avg, Length: 1477, dtype: int64\n",
      "30.000000    3497\n",
      "7.000000     1842\n",
      "6.000000      670\n",
      "14.000000     498\n",
      "10.000000     443\n",
      "             ... \n",
      "13.750685       1\n",
      "23.641096       1\n",
      "27.002740       1\n",
      "25.210959       1\n",
      "13.808219       1\n",
      "Name: min_nights_year_avg, Length: 640, dtype: int64\n"
     ]
    },
    {
     "data": {
      "image/png": "[encoded data removed]",
      "text/plain": [
       "<Figure size 1440x720 with 1 Axes>"
      ]
     },
     "metadata": {
      "needs_background": "light"
     },
     "output_type": "display_data"
    }
   ],
   "source": [
    "min_nights_75_perc = listings_merge.loc[listings_merge.min_nights_year_avg > 5].min_nights_year_avg.value_counts()\n",
    "print(listings_merge.min_nights_year_avg.value_counts())\n",
    "print(min_nights_75_perc)\n",
    "plt = listings_merge.min_nights_year_avg.plot(kind='hist', figsize=(20, 10))"
   ]
  },
  {
   "cell_type": "markdown",
   "metadata": {},
   "source": [
    "<br/>\n",
    "<p>The distribution of annual average prices is somewhat normal with a long tail on the upper end of the price range.  Hopefully removing the high priced outliers earlier is sufficient cleaning.</p>"
   ]
  },
  {
   "cell_type": "code",
   "execution_count": 60,
   "metadata": {
    "scrolled": false
   },
   "outputs": [
    {
     "name": "stdout",
     "output_type": "stream",
     "text": [
      "150.000000    893\n",
      "100.000000    814\n",
      "200.000000    675\n",
      "50.000000     551\n",
      "60.000000     524\n",
      "             ... \n",
      "97.816438       1\n",
      "146.139726      1\n",
      "32.997260       1\n",
      "101.753425      1\n",
      "24.000000       1\n",
      "Name: price_year_avg, Length: 22605, dtype: int64\n",
      "200.000000    675\n",
      "250.000000    447\n",
      "300.000000    237\n",
      "225.000000    169\n",
      "350.000000    164\n",
      "             ... \n",
      "208.501370      1\n",
      "403.150685      1\n",
      "203.035616      1\n",
      "185.684932      1\n",
      "218.109589      1\n",
      "Name: price_year_avg, Length: 6115, dtype: int64\n"
     ]
    },
    {
     "data": {
      "image/png": "[encoded data removed]",
      "text/plain": [
       "<Figure size 1440x720 with 1 Axes>"
      ]
     },
     "metadata": {
      "needs_background": "light"
     },
     "output_type": "display_data"
    }
   ],
   "source": [
    "price_75_perc = listings_merge.loc[listings_merge.price_year_avg > 180].price_year_avg.value_counts()\n",
    "print(listings_merge.price_year_avg.value_counts())\n",
    "print(price_75_perc)\n",
    "plt = listings_merge.price_year_avg.plot(kind='hist', figsize=(20, 10))"
   ]
  },
  {
   "cell_type": "markdown",
   "metadata": {},
   "source": [
    "<br/>\n",
    "<p>Use a similar method as with the <b>listings_clean</b> table to average over a 200 m radius from listings that have 0, missing, or outlier values for prices.</p>"
   ]
  },
  {
   "cell_type": "code",
   "execution_count": 61,
   "metadata": {},
   "outputs": [
    {
     "name": "stdout",
     "output_type": "stream",
     "text": [
      "price_year_avg price_dec_avg latitude longitude\n"
     ]
    }
   ],
   "source": [
    "# print(listings_merge.columns[384], listings_merge.columns[391], listings_merge.columns[4], listings_merge.columns[5])\n",
    "\n",
    "print(listings_merge.columns[159], listings_merge.columns[166], listings_merge.columns[4], listings_merge.columns[5])"
   ]
  },
  {
   "cell_type": "markdown",
   "metadata": {},
   "source": [
    "<br/>\n",
    "<p>Similar to how we handled <b>bedrooms</b>, we will average price over 200m radius from listings that have 0 or NaN values.  Again we will not consider <b>room_type</b></p>"
   ]
  },
  {
   "cell_type": "code",
   "execution_count": 62,
   "metadata": {},
   "outputs": [],
   "source": [
    "# https://gizmodo.com/how-precise-is-one-degree-of-longitude-or-latitude-1631241162\n",
    "# averaging over approximate radius of 200 m from listings\n",
    "# that have 0, NaN, or greater than threshold price values\n",
    "\n",
    "lat_diff = 0.002\n",
    "long_diff = 0.002\n",
    "def avg_of_neighbors_2(row, col_name, col_index):\n",
    "    item = row[col_index]\n",
    "    lat = row[4]\n",
    "    long = row[5]\n",
    "    if math.isnan(item) or item == 0:\n",
    "        item = listings_merge[col_name].loc[(listings_clean.latitude > lat - lat_diff) \\\n",
    "            & (listings_merge.latitude < lat + lat_diff) \\\n",
    "            & (listings_merge.longitude > long - long_diff) \\\n",
    "            & (listings_merge.longitude < long + long_diff)].groupby(by=listings_merge.neighbourhood).mean().round().iloc[0]\n",
    "        row[col_index] = item\n",
    "    return row\n",
    "\n",
    "listings_merge = listings_merge.apply(avg_of_neighbors_2, col_name='price_year_avg', col_index=159, axis=1)\n",
    "listings_merge = listings_merge.apply(avg_of_neighbors_2, col_name='price_winter_avg', col_index=160, axis=1)\n",
    "listings_merge = listings_merge.apply(avg_of_neighbors_2, col_name='price_spring_avg', col_index=161, axis=1)\n",
    "listings_merge = listings_merge.apply(avg_of_neighbors_2, col_name='price_summer_avg', col_index=162, axis=1)\n",
    "listings_merge = listings_merge.apply(avg_of_neighbors_2, col_name='price_fall_avg', col_index=163, axis=1)\n",
    "listings_merge = listings_merge.apply(avg_of_neighbors_2, col_name='price_jan_avg', col_index=164, axis=1)\n",
    "listings_merge = listings_merge.apply(avg_of_neighbors_2, col_name='price_jun_avg', col_index=165, axis=1)\n",
    "listings_merge = listings_merge.apply(avg_of_neighbors_2, col_name='price_dec_avg', col_index=166, axis=1)"
   ]
  },
  {
   "cell_type": "markdown",
   "metadata": {},
   "source": [
    "<br/>\n",
    "<p>After some cleanup and taking the log of prices averaged over the year, we see an approximate normal distribution.</p>"
   ]
  },
  {
   "cell_type": "code",
   "execution_count": 63,
   "metadata": {
    "scrolled": false
   },
   "outputs": [
    {
     "data": {
      "image/png": "[encoded data removed]",
      "text/plain": [
       "<Figure size 1440x720 with 1 Axes>"
      ]
     },
     "metadata": {
      "needs_background": "light"
     },
     "output_type": "display_data"
    }
   ],
   "source": [
    "plt = np.log(listings_merge.price_year_avg).plot(kind='hist', figsize=(20, 10))"
   ]
  },
  {
   "cell_type": "markdown",
   "metadata": {},
   "source": [
    "<br/>\n",
    "<p>Even after the cleaning process, we find that there is still a missing <b>price_fall_avg</b> value.  Averaging over nearest neighbors didn't catch everything!</p>"
   ]
  },
  {
   "cell_type": "code",
   "execution_count": 64,
   "metadata": {},
   "outputs": [
    {
     "name": "stdout",
     "output_type": "stream",
     "text": [
      "<class 'pandas.core.frame.DataFrame'>\n",
      "Int64Index: 46401 entries, 0 to 48913\n",
      "Columns: 167 entries, id to price_dec_avg\n",
      "dtypes: float64(31), int64(132), object(4)\n",
      "memory usage: 60.7+ MB\n"
     ]
    },
    {
     "data": {
      "text/html": [
       "<div>\n",
       "<style scoped>\n",
       "    .dataframe tbody tr th:only-of-type {\n",
       "        vertical-align: middle;\n",
       "    }\n",
       "\n",
       "    .dataframe tbody tr th {\n",
       "        vertical-align: top;\n",
       "    }\n",
       "\n",
       "    .dataframe thead th {\n",
       "        text-align: right;\n",
       "    }\n",
       "</style>\n",
       "<table border=\"1\" class=\"dataframe\">\n",
       "  <thead>\n",
       "    <tr style=\"text-align: right;\">\n",
       "      <th></th>\n",
       "      <th>id</th>\n",
       "      <th>neighbourhood</th>\n",
       "      <th>latitude</th>\n",
       "      <th>longitude</th>\n",
       "      <th>accommodates</th>\n",
       "      <th>bathrooms</th>\n",
       "      <th>bedrooms</th>\n",
       "      <th>beds</th>\n",
       "      <th>number_of_reviews</th>\n",
       "      <th>review_scores_rating</th>\n",
       "      <th>...</th>\n",
       "      <th>min_nights_jun_avg</th>\n",
       "      <th>min_nights_dec_avg</th>\n",
       "      <th>price_year_avg</th>\n",
       "      <th>price_winter_avg</th>\n",
       "      <th>price_spring_avg</th>\n",
       "      <th>price_summer_avg</th>\n",
       "      <th>price_fall_avg</th>\n",
       "      <th>price_jan_avg</th>\n",
       "      <th>price_jun_avg</th>\n",
       "      <th>price_dec_avg</th>\n",
       "    </tr>\n",
       "  </thead>\n",
       "  <tbody>\n",
       "    <tr>\n",
       "      <th>count</th>\n",
       "      <td>4.640100e+04</td>\n",
       "      <td>46401.000000</td>\n",
       "      <td>46401.000000</td>\n",
       "      <td>46401.000000</td>\n",
       "      <td>46401.000000</td>\n",
       "      <td>46401.000000</td>\n",
       "      <td>46401.000000</td>\n",
       "      <td>46401.000000</td>\n",
       "      <td>46401.000000</td>\n",
       "      <td>46401.000000</td>\n",
       "      <td>...</td>\n",
       "      <td>46401.000000</td>\n",
       "      <td>46401.000000</td>\n",
       "      <td>46401.000000</td>\n",
       "      <td>46401.000000</td>\n",
       "      <td>46401.000000</td>\n",
       "      <td>46401.000000</td>\n",
       "      <td>46401.000000</td>\n",
       "      <td>46401.000000</td>\n",
       "      <td>46401.000000</td>\n",
       "      <td>46401.000000</td>\n",
       "    </tr>\n",
       "    <tr>\n",
       "      <th>mean</th>\n",
       "      <td>2.100278e+07</td>\n",
       "      <td>107.425788</td>\n",
       "      <td>40.728301</td>\n",
       "      <td>-73.949952</td>\n",
       "      <td>2.814573</td>\n",
       "      <td>1.125073</td>\n",
       "      <td>1.156268</td>\n",
       "      <td>1.506153</td>\n",
       "      <td>25.943600</td>\n",
       "      <td>93.995482</td>\n",
       "      <td>...</td>\n",
       "      <td>5.575560</td>\n",
       "      <td>5.517929</td>\n",
       "      <td>134.753993</td>\n",
       "      <td>130.739236</td>\n",
       "      <td>134.617228</td>\n",
       "      <td>136.993810</td>\n",
       "      <td>136.598513</td>\n",
       "      <td>128.077806</td>\n",
       "      <td>137.202827</td>\n",
       "      <td>135.796790</td>\n",
       "    </tr>\n",
       "    <tr>\n",
       "      <th>std</th>\n",
       "      <td>1.235335e+07</td>\n",
       "      <td>69.750280</td>\n",
       "      <td>0.055364</td>\n",
       "      <td>0.047765</td>\n",
       "      <td>1.733721</td>\n",
       "      <td>0.366010</td>\n",
       "      <td>0.697562</td>\n",
       "      <td>0.998258</td>\n",
       "      <td>48.428762</td>\n",
       "      <td>7.472623</td>\n",
       "      <td>...</td>\n",
       "      <td>8.136276</td>\n",
       "      <td>8.018748</td>\n",
       "      <td>91.032588</td>\n",
       "      <td>87.539763</td>\n",
       "      <td>91.883320</td>\n",
       "      <td>93.979081</td>\n",
       "      <td>93.637148</td>\n",
       "      <td>85.864135</td>\n",
       "      <td>94.517379</td>\n",
       "      <td>92.720927</td>\n",
       "    </tr>\n",
       "    <tr>\n",
       "      <th>min</th>\n",
       "      <td>2.595000e+03</td>\n",
       "      <td>0.000000</td>\n",
       "      <td>40.499790</td>\n",
       "      <td>-74.247870</td>\n",
       "      <td>1.000000</td>\n",
       "      <td>0.000000</td>\n",
       "      <td>0.000000</td>\n",
       "      <td>0.000000</td>\n",
       "      <td>0.000000</td>\n",
       "      <td>20.000000</td>\n",
       "      <td>...</td>\n",
       "      <td>1.000000</td>\n",
       "      <td>1.000000</td>\n",
       "      <td>10.000000</td>\n",
       "      <td>10.000000</td>\n",
       "      <td>10.000000</td>\n",
       "      <td>10.000000</td>\n",
       "      <td>10.000000</td>\n",
       "      <td>10.000000</td>\n",
       "      <td>10.000000</td>\n",
       "      <td>10.000000</td>\n",
       "    </tr>\n",
       "    <tr>\n",
       "      <th>25%</th>\n",
       "      <td>9.920626e+06</td>\n",
       "      <td>52.000000</td>\n",
       "      <td>40.688820</td>\n",
       "      <td>-73.982050</td>\n",
       "      <td>2.000000</td>\n",
       "      <td>1.000000</td>\n",
       "      <td>1.000000</td>\n",
       "      <td>1.000000</td>\n",
       "      <td>1.000000</td>\n",
       "      <td>93.000000</td>\n",
       "      <td>...</td>\n",
       "      <td>1.433333</td>\n",
       "      <td>1.580645</td>\n",
       "      <td>70.000000</td>\n",
       "      <td>68.000000</td>\n",
       "      <td>69.543478</td>\n",
       "      <td>70.000000</td>\n",
       "      <td>70.000000</td>\n",
       "      <td>66.612903</td>\n",
       "      <td>70.000000</td>\n",
       "      <td>69.806452</td>\n",
       "    </tr>\n",
       "    <tr>\n",
       "      <th>50%</th>\n",
       "      <td>2.106716e+07</td>\n",
       "      <td>96.000000</td>\n",
       "      <td>40.721940</td>\n",
       "      <td>-73.954330</td>\n",
       "      <td>2.000000</td>\n",
       "      <td>1.000000</td>\n",
       "      <td>1.000000</td>\n",
       "      <td>1.000000</td>\n",
       "      <td>6.000000</td>\n",
       "      <td>94.000000</td>\n",
       "      <td>...</td>\n",
       "      <td>2.733333</td>\n",
       "      <td>2.677419</td>\n",
       "      <td>107.547945</td>\n",
       "      <td>105.000000</td>\n",
       "      <td>106.619565</td>\n",
       "      <td>110.000000</td>\n",
       "      <td>109.285714</td>\n",
       "      <td>101.645161</td>\n",
       "      <td>110.000000</td>\n",
       "      <td>109.000000</td>\n",
       "    </tr>\n",
       "    <tr>\n",
       "      <th>75%</th>\n",
       "      <td>3.201758e+07</td>\n",
       "      <td>180.000000</td>\n",
       "      <td>40.763100</td>\n",
       "      <td>-73.933100</td>\n",
       "      <td>4.000000</td>\n",
       "      <td>1.000000</td>\n",
       "      <td>1.000000</td>\n",
       "      <td>2.000000</td>\n",
       "      <td>27.000000</td>\n",
       "      <td>99.000000</td>\n",
       "      <td>...</td>\n",
       "      <td>5.000000</td>\n",
       "      <td>5.000000</td>\n",
       "      <td>175.000000</td>\n",
       "      <td>169.644444</td>\n",
       "      <td>175.000000</td>\n",
       "      <td>175.000000</td>\n",
       "      <td>175.000000</td>\n",
       "      <td>163.870968</td>\n",
       "      <td>175.000000</td>\n",
       "      <td>175.000000</td>\n",
       "    </tr>\n",
       "    <tr>\n",
       "      <th>max</th>\n",
       "      <td>4.058402e+07</td>\n",
       "      <td>222.000000</td>\n",
       "      <td>40.916860</td>\n",
       "      <td>-73.712990</td>\n",
       "      <td>16.000000</td>\n",
       "      <td>5.000000</td>\n",
       "      <td>10.000000</td>\n",
       "      <td>12.000000</td>\n",
       "      <td>675.000000</td>\n",
       "      <td>100.000000</td>\n",
       "      <td>...</td>\n",
       "      <td>30.000000</td>\n",
       "      <td>30.000000</td>\n",
       "      <td>600.000000</td>\n",
       "      <td>600.000000</td>\n",
       "      <td>600.000000</td>\n",
       "      <td>600.000000</td>\n",
       "      <td>600.000000</td>\n",
       "      <td>600.000000</td>\n",
       "      <td>600.000000</td>\n",
       "      <td>600.000000</td>\n",
       "    </tr>\n",
       "  </tbody>\n",
       "</table>\n",
       "<p>8 rows × 163 columns</p>\n",
       "</div>"
      ],
      "text/plain": [
       "                 id  neighbourhood      latitude     longitude  accommodates  \\\n",
       "count  4.640100e+04   46401.000000  46401.000000  46401.000000  46401.000000   \n",
       "mean   2.100278e+07     107.425788     40.728301    -73.949952      2.814573   \n",
       "std    1.235335e+07      69.750280      0.055364      0.047765      1.733721   \n",
       "min    2.595000e+03       0.000000     40.499790    -74.247870      1.000000   \n",
       "25%    9.920626e+06      52.000000     40.688820    -73.982050      2.000000   \n",
       "50%    2.106716e+07      96.000000     40.721940    -73.954330      2.000000   \n",
       "75%    3.201758e+07     180.000000     40.763100    -73.933100      4.000000   \n",
       "max    4.058402e+07     222.000000     40.916860    -73.712990     16.000000   \n",
       "\n",
       "          bathrooms      bedrooms          beds  number_of_reviews  \\\n",
       "count  46401.000000  46401.000000  46401.000000       46401.000000   \n",
       "mean       1.125073      1.156268      1.506153          25.943600   \n",
       "std        0.366010      0.697562      0.998258          48.428762   \n",
       "min        0.000000      0.000000      0.000000           0.000000   \n",
       "25%        1.000000      1.000000      1.000000           1.000000   \n",
       "50%        1.000000      1.000000      1.000000           6.000000   \n",
       "75%        1.000000      1.000000      2.000000          27.000000   \n",
       "max        5.000000     10.000000     12.000000         675.000000   \n",
       "\n",
       "       review_scores_rating  ...  min_nights_jun_avg  min_nights_dec_avg  \\\n",
       "count          46401.000000  ...        46401.000000        46401.000000   \n",
       "mean              93.995482  ...            5.575560            5.517929   \n",
       "std                7.472623  ...            8.136276            8.018748   \n",
       "min               20.000000  ...            1.000000            1.000000   \n",
       "25%               93.000000  ...            1.433333            1.580645   \n",
       "50%               94.000000  ...            2.733333            2.677419   \n",
       "75%               99.000000  ...            5.000000            5.000000   \n",
       "max              100.000000  ...           30.000000           30.000000   \n",
       "\n",
       "       price_year_avg  price_winter_avg  price_spring_avg  price_summer_avg  \\\n",
       "count    46401.000000      46401.000000      46401.000000      46401.000000   \n",
       "mean       134.753993        130.739236        134.617228        136.993810   \n",
       "std         91.032588         87.539763         91.883320         93.979081   \n",
       "min         10.000000         10.000000         10.000000         10.000000   \n",
       "25%         70.000000         68.000000         69.543478         70.000000   \n",
       "50%        107.547945        105.000000        106.619565        110.000000   \n",
       "75%        175.000000        169.644444        175.000000        175.000000   \n",
       "max        600.000000        600.000000        600.000000        600.000000   \n",
       "\n",
       "       price_fall_avg  price_jan_avg  price_jun_avg  price_dec_avg  \n",
       "count    46401.000000   46401.000000   46401.000000   46401.000000  \n",
       "mean       136.598513     128.077806     137.202827     135.796790  \n",
       "std         93.637148      85.864135      94.517379      92.720927  \n",
       "min         10.000000      10.000000      10.000000      10.000000  \n",
       "25%         70.000000      66.612903      70.000000      69.806452  \n",
       "50%        109.285714     101.645161     110.000000     109.000000  \n",
       "75%        175.000000     163.870968     175.000000     175.000000  \n",
       "max        600.000000     600.000000     600.000000     600.000000  \n",
       "\n",
       "[8 rows x 163 columns]"
      ]
     },
     "execution_count": 64,
     "metadata": {},
     "output_type": "execute_result"
    }
   ],
   "source": [
    "listings_merge.info()\n",
    "listings_merge.describe()"
   ]
  },
  {
   "cell_type": "code",
   "execution_count": 65,
   "metadata": {},
   "outputs": [
    {
     "name": "stdout",
     "output_type": "stream",
     "text": [
      "id\n",
      "summary\n",
      "neighbourhood\n",
      "neighbourhood_group\n",
      "latitude\n",
      "longitude\n",
      "room_type\n",
      "accommodates\n",
      "bathrooms\n",
      "bedrooms\n",
      "beds\n",
      "amenities\n",
      "number_of_reviews\n",
      "review_scores_rating\n",
      "reviews_per_month\n",
      "entire_home_apt\n",
      "24_hour_check_in\n",
      "_toilet\n",
      "accessible_height_bed\n",
      "accessible_height_toilet\n",
      "air_conditioning\n",
      "air_purifier\n",
      "baby_bath\n",
      "baby_monitor\n",
      "babysitter_recommendations\n",
      "bathtub\n",
      "bathtub_with_bath_chair\n",
      "bbq_grill\n",
      "beach_essentials\n",
      "beachfront\n",
      "bed_linens\n",
      "breakfast\n",
      "building_staff\n",
      "buzzer_wireless_intercom\n",
      "cable_tv\n",
      "carbon_monoxide_detector\n",
      "cats\n",
      "ceiling_hoist\n",
      "changing_table\n",
      "childrens_books_and_toys\n",
      "childrens_dinnerware\n",
      "cleaning_before_checkout\n",
      "coffee_maker\n",
      "cooking_basics\n",
      "crib\n",
      "disabled_parking_spot\n",
      "dishes_and_silverware\n",
      "dishwasher\n",
      "dogs\n",
      "doorman\n",
      "dryer\n",
      "electric_profiling_bed\n",
      "elevator\n",
      "essentials\n",
      "ethernet_connection\n",
      "ev_charger\n",
      "extra_pillows_and_blankets\n",
      "extra_space_around_bed\n",
      "family_kid_friendly\n",
      "fire_extinguisher\n",
      "fireplace_guards\n",
      "firm_mattress\n",
      "first_aid_kit\n",
      "fixed_grab_bars_for_shower\n",
      "fixed_grab_bars_for_toilet\n",
      "flat_path_to_guest_entrance\n",
      "free_parking_on_premises\n",
      "free_street_parking\n",
      "full_kitchen\n",
      "game_console\n",
      "garden_or_backyard\n",
      "ground_floor_access\n",
      "gym\n",
      "hair_dryer\n",
      "handheld_shower_head\n",
      "hangers\n",
      "heating\n",
      "high_chair\n",
      "host_greets_you\n",
      "hot_tub\n",
      "hot_water\n",
      "hot_water_kettle\n",
      "indoor_fireplace\n",
      "internet\n",
      "iron\n",
      "keypad\n",
      "kitchen\n",
      "kitchenette\n",
      "lake_access\n",
      "laptop_friendly_workspace\n",
      "lock_on_bedroom_door\n",
      "lockbox\n",
      "long_term_stays_allowed\n",
      "luggage_dropoff_allowed\n",
      "microwave\n",
      "mobile_hoist\n",
      "no_stairs_or_steps_to_enter\n",
      "other\n",
      "other_pets\n",
      "outlet_covers\n",
      "oven\n",
      "pack_n_play_travel_crib\n",
      "paid_parking_off_premises\n",
      "paid_parking_on_premises\n",
      "patio_or_balcony\n",
      "pets_allowed\n",
      "pets_live_on_this_property\n",
      "pocket_wifi\n",
      "pool\n",
      "pool_with_pool_hoist\n",
      "private_bathroom\n",
      "private_entrance\n",
      "private_living_room\n",
      "refrigerator\n",
      "room_darkening_shades\n",
      "safety_card\n",
      "self_check_in\n",
      "shampoo\n",
      "shower_chair\n",
      "single_level_home\n",
      "ski_in_ski_out\n",
      "smart_lock\n",
      "smoke_detector\n",
      "smoking_allowed\n",
      "stair_gates\n",
      "step_free_shower\n",
      "stove\n",
      "suitable_for_events\n",
      "table_corner_guards\n",
      "tv\n",
      "washer\n",
      "washer_dryer\n",
      "waterfront\n",
      "well_lit_path_to_entrance\n",
      "wheelchair_accessible\n",
      "wide_clearance_to_shower\n",
      "wide_doorway_to_guest_bathroom\n",
      "wide_entrance\n",
      "wide_entrance_for_guests\n",
      "wide_entryway\n",
      "wide_hallways\n",
      "wifi\n",
      "window_guards\n",
      "available_year_avg\n",
      "available_winter_avg\n",
      "available_spring_avg\n",
      "available_summer_avg\n",
      "available_fall_avg\n",
      "available_jan_avg\n",
      "available_jun_avg\n",
      "available_dec_avg\n",
      "min_nights_year_avg\n",
      "min_nights_winter_avg\n",
      "min_nights_spring_avg\n",
      "min_nights_summer_avg\n",
      "min_nights_fall_avg\n",
      "min_nights_jan_avg\n",
      "min_nights_jun_avg\n",
      "min_nights_dec_avg\n",
      "price_year_avg\n",
      "price_winter_avg\n",
      "price_spring_avg\n",
      "price_summer_avg\n",
      "price_fall_avg\n",
      "price_jan_avg\n",
      "price_jun_avg\n",
      "price_dec_avg\n"
     ]
    }
   ],
   "source": [
    "for c in listings_merge.columns:\n",
    "    print(c)"
   ]
  },
  {
   "cell_type": "code",
   "execution_count": 66,
   "metadata": {},
   "outputs": [],
   "source": [
    "listings_merge_backup = listings_merge"
   ]
  },
  {
   "cell_type": "code",
   "execution_count": 67,
   "metadata": {},
   "outputs": [],
   "source": [
    "listings_merge = listings_merge_backup"
   ]
  },
  {
   "cell_type": "code",
   "execution_count": 68,
   "metadata": {},
   "outputs": [
    {
     "data": {
      "image/png": "[encoded data removed]",
      "text/plain": [
       "<Figure size 432x288 with 1 Axes>"
      ]
     },
     "metadata": {
      "needs_background": "light"
     },
     "output_type": "display_data"
    },
    {
     "data": {
      "image/png": "[encoded data removed]",
      "text/plain": [
       "<Figure size 432x288 with 1 Axes>"
      ]
     },
     "metadata": {
      "needs_background": "light"
     },
     "output_type": "display_data"
    },
    {
     "data": {
      "image/png": "[encoded data removed]",
      "text/plain": [
       "<Figure size 432x288 with 1 Axes>"
      ]
     },
     "metadata": {
      "needs_background": "light"
     },
     "output_type": "display_data"
    },
    {
     "data": {
      "image/png": "[encoded data removed]",
      "text/plain": [
       "<Figure size 432x288 with 1 Axes>"
      ]
     },
     "metadata": {
      "needs_background": "light"
     },
     "output_type": "display_data"
    },
    {
     "data": {
      "image/png": "[encoded data removed]",
      "text/plain": [
       "<Figure size 432x288 with 1 Axes>"
      ]
     },
     "metadata": {
      "needs_background": "light"
     },
     "output_type": "display_data"
    },
    {
     "data": {
      "image/png": "[encoded data removed]",
      "text/plain": [
       "<Figure size 432x288 with 1 Axes>"
      ]
     },
     "metadata": {
      "needs_background": "light"
     },
     "output_type": "display_data"
    },
    {
     "data": {
      "image/png": "[encoded data removed]",
      "text/plain": [
       "<Figure size 432x288 with 1 Axes>"
      ]
     },
     "metadata": {
      "needs_background": "light"
     },
     "output_type": "display_data"
    },
    {
     "data": {
      "image/png": "[encoded data removed]",
      "text/plain": [
       "<Figure size 432x288 with 1 Axes>"
      ]
     },
     "metadata": {
      "needs_background": "light"
     },
     "output_type": "display_data"
    },
    {
     "data": {
      "image/png": "[encoded data removed]",
      "text/plain": [
       "<Figure size 432x288 with 1 Axes>"
      ]
     },
     "metadata": {
      "needs_background": "light"
     },
     "output_type": "display_data"
    },
    {
     "data": {
      "image/png": "[encoded data removed]",
      "text/plain": [
       "<Figure size 432x288 with 1 Axes>"
      ]
     },
     "metadata": {
      "needs_background": "light"
     },
     "output_type": "display_data"
    }
   ],
   "source": [
    "#Bronx 71812, 149777, Brooklyn 8490, 7726, Manhattan 2595, 5238, Queens 45910, 57166, Staten Island 225976, 639199\n",
    "# listings_clean.loc[\n",
    "#     (listings_clean.neighbourhood_group == 'Manhattan') &\n",
    "#     (listings_clean.room_type == 'Entire home/apt')].head()\n",
    "listings_ids = [71812, 149777, 8490, 7726, 2595, 5238, 45910, 57166, 225976, 639199]\n",
    "for listing_id in listings_ids:\n",
    "    calendar_clean.loc[calendar_clean.listing_id == listing_id].sort_values(by='date').plot(\n",
    "        x='date', y='price', style='o'\n",
    "    )"
   ]
  },
  {
   "cell_type": "markdown",
   "metadata": {},
   "source": [
    "<br/>\n",
    "<p>Let's do a final check for any correlated features.</p>"
   ]
  },
  {
   "cell_type": "code",
   "execution_count": 69,
   "metadata": {},
   "outputs": [
    {
     "data": {
      "text/plain": [
       "<matplotlib.axes._subplots.AxesSubplot at 0x12c29d9e8>"
      ]
     },
     "execution_count": 69,
     "metadata": {},
     "output_type": "execute_result"
    },
    {
     "data": {
      "image/png": "[encoded data removed]",
      "text/plain": [
       "<Figure size 792x648 with 2 Axes>"
      ]
     },
     "metadata": {},
     "output_type": "display_data"
    }
   ],
   "source": [
    "import seaborn as sns\n",
    "import matplotlib.pyplot as plt\n",
    "\n",
    "sns.set(style=\"white\")\n",
    "\n",
    "features = listings_merge[[\n",
    "    'summary', 'neighbourhood', 'neighbourhood_group', 'latitude', 'longitude',\n",
    "    'room_type', 'accommodates', 'bathrooms', 'bedrooms', 'beds',\n",
    "    'amenities', 'number_of_reviews', 'review_scores_rating', 'reviews_per_month',\n",
    "    'available_year_avg', 'available_winter_avg', 'available_spring_avg', 'available_summer_avg', 'available_fall_avg',\n",
    "    'available_jan_avg', 'available_jun_avg', 'available_dec_avg',\n",
    "    'min_nights_year_avg', 'min_nights_winter_avg', 'min_nights_spring_avg', 'min_nights_summer_avg', 'min_nights_fall_avg',\n",
    "    'min_nights_jan_avg', 'min_nights_jun_avg', 'min_nights_dec_avg'\n",
    "]]\n",
    "\n",
    "fig, ax = plt.subplots(figsize=(11, 9))\n",
    "cmap = sns.diverging_palette(220, 10, as_cmap=True)\n",
    "sns.heatmap(features.corr(), cmap=cmap, vmax=1, vmin=-1, center=0, square=True, linewidths=.5, cbar_kws={\"shrink\": .5})"
   ]
  },
  {
   "cell_type": "markdown",
   "metadata": {},
   "source": [
    "<p>We can see that <b>beds</b> and <b>accommodates</b> are heavily correlated with <b>bedrooms</b>.  We can drop those columns.  Other columns should be dropped as well to clean up any non-numerical data.</p>"
   ]
  },
  {
   "cell_type": "code",
   "execution_count": 70,
   "metadata": {},
   "outputs": [
    {
     "name": "stdout",
     "output_type": "stream",
     "text": [
      "Feature set: all amenities\n",
      "Target label: price_year_avg\n",
      "Gradient boost R^2: 0.3271167953387577\n",
      "Gradient boost MAE: 52.49823033454533\n"
     ]
    }
   ],
   "source": [
    "from xgboost.sklearn import XGBRegressor\n",
    "from sklearn.model_selection import train_test_split\n",
    "from sklearn.metrics import mean_absolute_error\n",
    "\n",
    "X_base = listings_merge.amenities.str.join('|').str.get_dummies()\n",
    "y = listings_merge.price_year_avg\n",
    "\n",
    "X_train, X_test, y_train, y_test = train_test_split(X_base, y, test_size=.25, random_state=42, shuffle=True)\n",
    "\n",
    "clf = XGBRegressor(\n",
    "    objective='reg:squarederror',\n",
    "    learning_rate=0.1,\n",
    "    max_depth=8,\n",
    "    n_estimators=200,\n",
    "    cv=5,\n",
    "    n_jobs=-1\n",
    ")\n",
    "\n",
    "clf.fit(X_train, y_train)\n",
    "print('Feature set: all amenities')\n",
    "print('Target label: price_year_avg')\n",
    "print('Gradient boost R^2:', clf.score(X_test, y_test))\n",
    "print('Gradient boost MAE:', mean_absolute_error(y_test, clf.predict(X_test)))"
   ]
  },
  {
   "cell_type": "code",
   "execution_count": 71,
   "metadata": {},
   "outputs": [
    {
     "name": "stderr",
     "output_type": "stream",
     "text": [
      "/Users/blai/miniconda3/envs/capstone/lib/python3.7/site-packages/sklearn/feature_selection/_univariate_selection.py:115: RuntimeWarning: divide by zero encountered in true_divide\n",
      "  f = msb / msw\n"
     ]
    },
    {
     "name": "stdout",
     "output_type": "stream",
     "text": [
      "Feature set: 125 amenities\n",
      "Target label: price_year_avg\n",
      "Gradient boost R^2: 0.3298486274861433\n",
      "Gradient boost MAE: 52.45986645376716\n"
     ]
    },
    {
     "name": "stderr",
     "output_type": "stream",
     "text": [
      "/Users/blai/miniconda3/envs/capstone/lib/python3.7/site-packages/sklearn/feature_selection/_univariate_selection.py:115: RuntimeWarning: divide by zero encountered in true_divide\n",
      "  f = msb / msw\n"
     ]
    },
    {
     "name": "stdout",
     "output_type": "stream",
     "text": [
      "Feature set: 124 amenities\n",
      "Target label: price_year_avg\n",
      "Gradient boost R^2: 0.33024786307891774\n",
      "Gradient boost MAE: 52.31310736715118\n"
     ]
    },
    {
     "name": "stderr",
     "output_type": "stream",
     "text": [
      "/Users/blai/miniconda3/envs/capstone/lib/python3.7/site-packages/sklearn/feature_selection/_univariate_selection.py:115: RuntimeWarning: divide by zero encountered in true_divide\n",
      "  f = msb / msw\n"
     ]
    },
    {
     "name": "stdout",
     "output_type": "stream",
     "text": [
      "Feature set: 123 amenities\n",
      "Target label: price_year_avg\n",
      "Gradient boost R^2: 0.32872635801135774\n",
      "Gradient boost MAE: 52.400104289223314\n"
     ]
    },
    {
     "name": "stderr",
     "output_type": "stream",
     "text": [
      "/Users/blai/miniconda3/envs/capstone/lib/python3.7/site-packages/sklearn/feature_selection/_univariate_selection.py:115: RuntimeWarning: divide by zero encountered in true_divide\n",
      "  f = msb / msw\n"
     ]
    },
    {
     "name": "stdout",
     "output_type": "stream",
     "text": [
      "Feature set: 122 amenities\n",
      "Target label: price_year_avg\n",
      "Gradient boost R^2: 0.32578404080754864\n",
      "Gradient boost MAE: 52.58413207558084\n"
     ]
    },
    {
     "name": "stderr",
     "output_type": "stream",
     "text": [
      "/Users/blai/miniconda3/envs/capstone/lib/python3.7/site-packages/sklearn/feature_selection/_univariate_selection.py:115: RuntimeWarning: divide by zero encountered in true_divide\n",
      "  f = msb / msw\n"
     ]
    },
    {
     "name": "stdout",
     "output_type": "stream",
     "text": [
      "Feature set: 121 amenities\n",
      "Target label: price_year_avg\n",
      "Gradient boost R^2: 0.32833071105789813\n",
      "Gradient boost MAE: 52.406762201384666\n"
     ]
    },
    {
     "name": "stderr",
     "output_type": "stream",
     "text": [
      "/Users/blai/miniconda3/envs/capstone/lib/python3.7/site-packages/sklearn/feature_selection/_univariate_selection.py:115: RuntimeWarning: divide by zero encountered in true_divide\n",
      "  f = msb / msw\n"
     ]
    },
    {
     "name": "stdout",
     "output_type": "stream",
     "text": [
      "Feature set: 100 amenities\n",
      "Target label: price_year_avg\n",
      "Gradient boost R^2: 0.2875433957829505\n",
      "Gradient boost MAE: 54.20437975051868\n"
     ]
    },
    {
     "name": "stderr",
     "output_type": "stream",
     "text": [
      "/Users/blai/miniconda3/envs/capstone/lib/python3.7/site-packages/sklearn/feature_selection/_univariate_selection.py:115: RuntimeWarning: divide by zero encountered in true_divide\n",
      "  f = msb / msw\n"
     ]
    },
    {
     "name": "stdout",
     "output_type": "stream",
     "text": [
      "Feature set: 75 amenities\n",
      "Target label: price_year_avg\n",
      "Gradient boost R^2: 0.14595298615931263\n",
      "Gradient boost MAE: 61.18966244455955\n"
     ]
    }
   ],
   "source": [
    "from sklearn.feature_selection import SelectKBest, f_classif\n",
    "from xgboost.sklearn import XGBRegressor\n",
    "from sklearn.model_selection import train_test_split\n",
    "from sklearn.metrics import mean_absolute_error\n",
    "\n",
    "for k in [125, 124, 123, 122, 121, 100, 75]:\n",
    "    X_base = listings_merge.amenities.str.join('|').str.get_dummies()\n",
    "    y = listings_merge.price_year_avg\n",
    "\n",
    "    selector = SelectKBest(f_classif, k=k)\n",
    "    X_kbest = selector.fit_transform(X_base, y)\n",
    "\n",
    "    X_train, X_test, y_train, y_test = train_test_split(X_kbest, y, test_size=.25, random_state=42, shuffle=True)\n",
    "\n",
    "    clf = XGBRegressor(\n",
    "        objective='reg:squarederror',\n",
    "        learning_rate=0.1,\n",
    "        max_depth=8,\n",
    "        n_estimators=200,\n",
    "        cv=5,\n",
    "        n_jobs=-1\n",
    "    )\n",
    "\n",
    "    clf.fit(X_train, y_train)\n",
    "    print('Feature set:', k, 'amenities')\n",
    "    print('Target label: price_year_avg')\n",
    "    print('Gradient boost R^2:', clf.score(X_test, y_test))\n",
    "    print('Gradient boost MAE:', mean_absolute_error(y_test, clf.predict(X_test)))"
   ]
  },
  {
   "cell_type": "code",
   "execution_count": 72,
   "metadata": {},
   "outputs": [],
   "source": [
    "listings_merge = listings_merge.drop(['beds', 'accommodates'], axis=1)\n",
    "listings_merge = listings_merge.drop(['id', 'room_type', 'neighbourhood_group'], axis=1)\n",
    "listings_merge = listings_merge.drop(['reviews_per_month'], axis=1)\n",
    "listings_merge = listings_merge.drop(['number_of_reviews'], axis=1)\n",
    "listings_merge = listings_merge.drop(['summary', 'amenities'], axis=1)\n",
    "\n",
    "# listings_merge = listings_merge.drop(['neighbourhood'], axis=1)\n",
    "# listings_merge = listings_merge.drop(['review_scores_rating'], axis=1)\n",
    "# listings_merge = listings_merge.drop(\n",
    "#     ['available_year_avg', 'available_winter_avg', 'available_spring_avg',\n",
    "#      'available_summer_avg', 'available_fall_avg', 'available_jan_avg',\n",
    "#      'available_jun_avg','available_dec_avg'], axis=1)"
   ]
  },
  {
   "cell_type": "code",
   "execution_count": 73,
   "metadata": {},
   "outputs": [
    {
     "data": {
      "text/plain": [
       "(46401, 134)"
      ]
     },
     "execution_count": 73,
     "metadata": {},
     "output_type": "execute_result"
    }
   ],
   "source": [
    "X_base = listings_merge.drop([\n",
    "    'price_year_avg', 'price_winter_avg', 'price_spring_avg', 'price_summer_avg', 'price_fall_avg',\n",
    "    'price_jan_avg', 'price_jun_avg', 'price_dec_avg',\n",
    "    'available_year_avg', 'available_winter_avg', 'available_spring_avg', 'available_summer_avg',\n",
    "    'available_fall_avg', 'available_jan_avg', 'available_jun_avg', 'available_dec_avg',\n",
    "    'min_nights_year_avg', 'min_nights_winter_avg', 'min_nights_spring_avg', 'min_nights_summer_avg',\n",
    "    'min_nights_fall_avg', 'min_nights_jan_avg', 'min_nights_jun_avg', 'min_nights_dec_avg',\n",
    "], axis=1)\n",
    "X_base.shape"
   ]
  },
  {
   "cell_type": "markdown",
   "metadata": {},
   "source": [
    "<p>Perhaps we can add more features like monthly or holiday averages for availability, minimum nights required, and price, but that would make the table size explode!<p>"
   ]
  },
  {
   "cell_type": "markdown",
   "metadata": {},
   "source": [
    "<h2>Modeling data with prices as target labels</h2>\n",
    "\n",
    "<p>Now that we've cleaned up the data, let's look at several possible models of linear and non-linear type.  We will use average price of each listing over the year 2019, as well as seasonal average price as the target labels.  The easiest ones to get started with are Linear Regression and Random Forest.</p>"
   ]
  },
  {
   "cell_type": "code",
   "execution_count": 74,
   "metadata": {},
   "outputs": [
    {
     "name": "stdout",
     "output_type": "stream",
     "text": [
      "Target label: price_year_avg\n",
      "Linear regression R^2: 0.5535179718290513\n",
      "Linear regression MAE: 42.24961644872412\n",
      "Target label: price_winter_avg\n",
      "Linear regression R^2: 0.5367591839726259\n",
      "Linear regression MAE: 40.65257967372111\n",
      "Target label: price_spring_avg\n",
      "Linear regression R^2: 0.5438435900932614\n",
      "Linear regression MAE: 42.750165747982805\n",
      "Target label: price_summer_avg\n",
      "Linear regression R^2: 0.5514947945359909\n",
      "Linear regression MAE: 43.72317055780371\n",
      "Target label: price_fall_avg\n",
      "Linear regression R^2: 0.5417139579870613\n",
      "Linear regression MAE: 43.89680680179348\n",
      "Target label: price_jan_avg\n",
      "Linear regression R^2: 0.5122204058844533\n",
      "Linear regression MAE: 40.47971939979149\n",
      "Target label: price_jun_avg\n",
      "Linear regression R^2: 0.5504267007615049\n",
      "Linear regression MAE: 43.99301012150329\n",
      "Target label: price_dec_avg\n",
      "Linear regression R^2: 0.5527769696740756\n",
      "Linear regression MAE: 43.008004017732084\n"
     ]
    }
   ],
   "source": [
    "from sklearn.linear_model import LinearRegression\n",
    "from sklearn.model_selection import train_test_split\n",
    "from sklearn.metrics import mean_absolute_error\n",
    "\n",
    "combo_list = [\n",
    "    ['available_year_avg', 'min_nights_year_avg', 'price_year_avg'],\n",
    "    ['available_winter_avg', 'min_nights_winter_avg', 'price_winter_avg'],\n",
    "    ['available_spring_avg', 'min_nights_spring_avg', 'price_spring_avg'],\n",
    "    ['available_summer_avg', 'min_nights_summer_avg', 'price_summer_avg'],\n",
    "    ['available_fall_avg', 'min_nights_fall_avg', 'price_fall_avg'],\n",
    "    ['available_jan_avg', 'min_nights_jan_avg', 'price_jan_avg'],\n",
    "    ['available_jun_avg', 'min_nights_jun_avg', 'price_jun_avg'],\n",
    "    ['available_dec_avg', 'min_nights_dec_avg', 'price_dec_avg']\n",
    "]\n",
    "\n",
    "for combo in combo_list:\n",
    "    X_base = listings_merge.drop([\n",
    "        'price_year_avg', 'price_winter_avg', 'price_spring_avg', 'price_summer_avg', 'price_fall_avg',\n",
    "        'price_jan_avg', 'price_jun_avg', 'price_dec_avg',\n",
    "        'available_year_avg', 'available_winter_avg', 'available_spring_avg', 'available_summer_avg',\n",
    "        'available_fall_avg', 'available_jan_avg', 'available_jun_avg', 'available_dec_avg',\n",
    "        'min_nights_year_avg', 'min_nights_winter_avg', 'min_nights_spring_avg', 'min_nights_summer_avg',\n",
    "        'min_nights_fall_avg', 'min_nights_jan_avg', 'min_nights_jun_avg', 'min_nights_dec_avg',\n",
    "    ], axis=1)\n",
    "    X_base[combo[0]] = listings_merge[combo[0]]\n",
    "    X_base[combo[1]] = listings_merge[combo[1]]\n",
    "    y = listings_merge[combo[2]]\n",
    "    \n",
    "    X_train, X_test, y_train, y_test = train_test_split(X_base, y, test_size=.25, random_state=42, shuffle=True)\n",
    "    print('Target label:', combo[2])\n",
    "    \n",
    "    clf = LinearRegression(n_jobs=-1)\n",
    "    clf.fit(X_train, y_train)\n",
    "    print(\"Linear regression R^2:\", clf.score(X_test, y_test))\n",
    "    print(\"Linear regression MAE:\", mean_absolute_error(y_test, clf.predict(X_test)))"
   ]
  },
  {
   "cell_type": "code",
   "execution_count": 75,
   "metadata": {},
   "outputs": [
    {
     "name": "stdout",
     "output_type": "stream",
     "text": [
      "Target label: price_year_avg\n",
      "Random forest R^2: 0.6873944817731898\n",
      "Random forest MAE: 32.68039537923632\n",
      "Target label: price_winter_avg\n",
      "Random forest R^2: 0.6691698624808634\n",
      "Random forest MAE: 31.990306190079398\n",
      "Target label: price_spring_avg\n",
      "Random forest R^2: 0.6774274555295446\n",
      "Random forest MAE: 33.28309750283896\n",
      "Target label: price_summer_avg\n",
      "Random forest R^2: 0.6822639462643851\n",
      "Random forest MAE: 33.897902973132005\n",
      "Target label: price_fall_avg\n",
      "Random forest R^2: 0.6725846025569632\n",
      "Random forest MAE: 34.10971635639595\n",
      "Target label: price_jan_avg\n",
      "Random forest R^2: 0.6351675169435624\n",
      "Random forest MAE: 32.92271430994547\n",
      "Target label: price_jun_avg\n",
      "Random forest R^2: 0.6832023026191106\n",
      "Random forest MAE: 34.07896655460736\n",
      "Target label: price_dec_avg\n",
      "Random forest R^2: 0.6911601506599364\n",
      "Random forest MAE: 33.13678528825379\n"
     ]
    }
   ],
   "source": [
    "from sklearn.ensemble import RandomForestRegressor\n",
    "from sklearn.model_selection import train_test_split\n",
    "from sklearn.metrics import mean_absolute_error\n",
    "\n",
    "combo_list = [\n",
    "    ['available_year_avg', 'min_nights_year_avg', 'price_year_avg'],\n",
    "    ['available_winter_avg', 'min_nights_winter_avg', 'price_winter_avg'],\n",
    "    ['available_spring_avg', 'min_nights_spring_avg', 'price_spring_avg'],\n",
    "    ['available_summer_avg', 'min_nights_summer_avg', 'price_summer_avg'],\n",
    "    ['available_fall_avg', 'min_nights_fall_avg', 'price_fall_avg'],\n",
    "    ['available_jan_avg', 'min_nights_jan_avg', 'price_jan_avg'],\n",
    "    ['available_jun_avg', 'min_nights_jun_avg', 'price_jun_avg'],\n",
    "    ['available_dec_avg', 'min_nights_dec_avg', 'price_dec_avg']\n",
    "]\n",
    "\n",
    "for combo in combo_list:\n",
    "    X_base = listings_merge.drop([\n",
    "        'price_year_avg', 'price_winter_avg', 'price_spring_avg', 'price_summer_avg', 'price_fall_avg',\n",
    "        'price_jan_avg', 'price_jun_avg', 'price_dec_avg',\n",
    "        'available_year_avg', 'available_winter_avg', 'available_spring_avg', 'available_summer_avg',\n",
    "        'available_fall_avg', 'available_jan_avg', 'available_jun_avg', 'available_dec_avg',\n",
    "        'min_nights_year_avg', 'min_nights_winter_avg', 'min_nights_spring_avg', 'min_nights_summer_avg',\n",
    "        'min_nights_fall_avg', 'min_nights_jan_avg', 'min_nights_jun_avg', 'min_nights_dec_avg',\n",
    "    ], axis=1)\n",
    "    X_base[combo[0]] = listings_merge[combo[0]]\n",
    "    X_base[combo[1]] = listings_merge[combo[1]]\n",
    "    y = listings_merge[combo[2]]\n",
    "    \n",
    "    X_train, X_test, y_train, y_test = train_test_split(X_base, y, test_size=.25, random_state=42, shuffle=True)\n",
    "    print('Target label:', combo[2])\n",
    "    \n",
    "    clf = RandomForestRegressor(n_jobs=-1)\n",
    "    clf.fit(X_train, y_train)\n",
    "    print(\"Random forest R^2:\", clf.score(X_test, y_test))\n",
    "    print(\"Random forest MAE:\", mean_absolute_error(y_test, clf.predict(X_test)))"
   ]
  },
  {
   "cell_type": "markdown",
   "metadata": {},
   "source": [
    "<p>We can see that Random Forest performs much better than Linear Regression in terms of R<sup>2</sup> score.</p>"
   ]
  },
  {
   "cell_type": "markdown",
   "metadata": {},
   "source": [
    "<br/>\n",
    "<p>Perhaps there will be an incremental improvement in R<sup>2</sup> by using Gradient Boosting (XGBoost in this case).</p>"
   ]
  },
  {
   "cell_type": "code",
   "execution_count": 76,
   "metadata": {},
   "outputs": [
    {
     "name": "stdout",
     "output_type": "stream",
     "text": [
      "Target label: price_year_avg\n",
      "Gradient boost R^2: 0.7090145127551618\n",
      "Gradient boost MAE: 31.55644892062025\n",
      "Target label: price_winter_avg\n",
      "Gradient boost R^2: 0.6852796682152962\n",
      "Gradient boost MAE: 31.243488096906102\n",
      "Target label: price_spring_avg\n",
      "Gradient boost R^2: 0.6939653750936806\n",
      "Gradient boost MAE: 32.28379391901023\n",
      "Target label: price_summer_avg\n",
      "Gradient boost R^2: 0.6984352137329055\n",
      "Gradient boost MAE: 32.97797739677552\n",
      "Target label: price_fall_avg\n",
      "Gradient boost R^2: 0.6877630291552541\n",
      "Gradient boost MAE: 33.44313924438979\n",
      "Target label: price_jan_avg\n",
      "Gradient boost R^2: 0.6515929591881782\n",
      "Gradient boost MAE: 32.14133107582215\n",
      "Target label: price_jun_avg\n",
      "Gradient boost R^2: 0.7016564003886366\n",
      "Gradient boost MAE: 33.05883491346658\n",
      "Target label: price_dec_avg\n",
      "Gradient boost R^2: 0.7036492913497223\n",
      "Gradient boost MAE: 32.325081683108536\n"
     ]
    }
   ],
   "source": [
    "from xgboost.sklearn import XGBRegressor\n",
    "from sklearn.model_selection import train_test_split\n",
    "from sklearn.metrics import mean_absolute_error\n",
    "\n",
    "combo_list = [\n",
    "    ['available_year_avg', 'min_nights_year_avg', 'price_year_avg'],\n",
    "    ['available_winter_avg', 'min_nights_winter_avg', 'price_winter_avg'],\n",
    "    ['available_spring_avg', 'min_nights_spring_avg', 'price_spring_avg'],\n",
    "    ['available_summer_avg', 'min_nights_summer_avg', 'price_summer_avg'],\n",
    "    ['available_fall_avg', 'min_nights_fall_avg', 'price_fall_avg'],\n",
    "    ['available_jan_avg', 'min_nights_jan_avg', 'price_jan_avg'],\n",
    "    ['available_jun_avg', 'min_nights_jun_avg', 'price_jun_avg'],\n",
    "    ['available_dec_avg', 'min_nights_dec_avg', 'price_dec_avg']\n",
    "]\n",
    "\n",
    "for combo in combo_list:\n",
    "    X_base = listings_merge.drop([\n",
    "        'price_year_avg', 'price_winter_avg', 'price_spring_avg', 'price_summer_avg', 'price_fall_avg',\n",
    "        'price_jan_avg', 'price_jun_avg', 'price_dec_avg',\n",
    "        'available_year_avg', 'available_winter_avg', 'available_spring_avg', 'available_summer_avg',\n",
    "        'available_fall_avg', 'available_jan_avg', 'available_jun_avg', 'available_dec_avg',\n",
    "        'min_nights_year_avg', 'min_nights_winter_avg', 'min_nights_spring_avg', 'min_nights_summer_avg',\n",
    "        'min_nights_fall_avg', 'min_nights_jan_avg', 'min_nights_jun_avg', 'min_nights_dec_avg',\n",
    "    ], axis=1)\n",
    "    X_base[combo[0]] = listings_merge[combo[0]]\n",
    "    X_base[combo[1]] = listings_merge[combo[1]]\n",
    "    y = listings_merge[combo[2]]\n",
    "    \n",
    "    X_train, X_test, y_train, y_test = train_test_split(X_base, y, test_size=.25, random_state=42, shuffle=True)\n",
    "\n",
    "    clf = XGBRegressor(\n",
    "        objective='reg:squarederror',\n",
    "        learning_rate=0.1,\n",
    "        max_depth=8,\n",
    "        n_estimators=200,\n",
    "        cv=5,\n",
    "        n_jobs=-1\n",
    "    )\n",
    "\n",
    "    clf.fit(X_train, y_train)\n",
    "    print('Target label:', combo[2])\n",
    "    print('Gradient boost R^2:', clf.score(X_test, y_test))\n",
    "    print('Gradient boost MAE:', mean_absolute_error(y_test, clf.predict(X_test)))"
   ]
  },
  {
   "cell_type": "markdown",
   "metadata": {},
   "source": [
    "<p>We get decent scores from a Gradient Boost model.</p>\n"
   ]
  },
  {
   "cell_type": "markdown",
   "metadata": {},
   "source": [
    "<p>Now apply deep learning with a neural network made up mainly of dense layers.</p>"
   ]
  },
  {
   "cell_type": "code",
   "execution_count": 77,
   "metadata": {
    "scrolled": true
   },
   "outputs": [
    {
     "name": "stdout",
     "output_type": "stream",
     "text": [
      "Epoch 00083: early stopping\n",
      "Target label: price_year_avg\n",
      "Neural network MAE: 40.65318778678739\n"
     ]
    }
   ],
   "source": [
    "import tensorflow as tf\n",
    "from tensorflow.keras.models import Sequential\n",
    "from tensorflow.keras.layers import Dense, Dropout\n",
    "from tensorflow.keras.wrappers.scikit_learn import KerasRegressor\n",
    "from tensorflow.keras.optimizers import SGD, Adam\n",
    "from tensorflow.keras.callbacks import EarlyStopping\n",
    "from sklearn.preprocessing import MinMaxScaler\n",
    "from sklearn.model_selection import cross_val_score\n",
    "from sklearn.model_selection import KFold\n",
    "from sklearn.model_selection import train_test_split\n",
    "from sklearn.metrics import mean_absolute_error\n",
    "\n",
    "combo_list = [\n",
    "    ['available_year_avg', 'min_nights_year_avg', 'price_year_avg'],\n",
    "#     ['available_winter_avg', 'min_nights_winter_avg', 'price_winter_avg'],\n",
    "#     ['available_spring_avg', 'min_nights_spring_avg', 'price_spring_avg'],\n",
    "#     ['available_summer_avg', 'min_nights_summer_avg', 'price_summer_avg'],\n",
    "#     ['available_fall_avg', 'min_nights_fall_avg', 'price_fall_avg'],\n",
    "#     ['available_jan_avg', 'min_nights_jan_avg', 'price_jan_avg'],\n",
    "#     ['available_jun_avg', 'min_nights_jun_avg', 'price_jun_avg'],\n",
    "#     ['available_dec_avg', 'min_nights_dec_avg', 'price_dec_avg']\n",
    "]\n",
    "\n",
    "es = EarlyStopping(monitor='loss', mode='min', verbose=1, patience=4)\n",
    "adam = Adam(lr=0.001)\n",
    "sgd = SGD(lr=0.001)\n",
    "\n",
    "def base_model():\n",
    "    model = Sequential()\n",
    "    model.add(Dense(150, input_dim=136, activation='relu'))\n",
    "    model.add(Dense(100, activation='relu'))\n",
    "    model.add(Dropout(0.5))\n",
    "    model.add(Dense(100, activation='relu'))\n",
    "    model.add(Dropout(0.5))\n",
    "    model.add(Dense(10, activation='relu'))\n",
    "    model.add(Dense(1))\n",
    "    model.compile(loss='mean_squared_error', optimizer=adam, metrics=['mae'])\n",
    "    return model\n",
    "\n",
    "for combo in combo_list:\n",
    "    X_base = listings_merge.drop([\n",
    "        'price_year_avg', 'price_winter_avg', 'price_spring_avg', 'price_summer_avg', 'price_fall_avg',\n",
    "        'price_jan_avg', 'price_jun_avg', 'price_dec_avg',\n",
    "        'available_year_avg', 'available_winter_avg', 'available_spring_avg', 'available_summer_avg',\n",
    "        'available_fall_avg', 'available_jan_avg', 'available_jun_avg', 'available_dec_avg',\n",
    "        'min_nights_year_avg', 'min_nights_winter_avg', 'min_nights_spring_avg', 'min_nights_summer_avg',\n",
    "        'min_nights_fall_avg', 'min_nights_jan_avg', 'min_nights_jun_avg', 'min_nights_dec_avg',\n",
    "    ], axis=1)\n",
    "    X_base[combo[0]] = listings_merge[combo[0]]\n",
    "    X_base[combo[1]] = listings_merge[combo[1]]\n",
    "    y = listings_merge[combo[2]]\n",
    "    \n",
    "    scaler = MinMaxScaler()\n",
    "    X_scale = scaler.fit_transform(X_base.values)\n",
    "    \n",
    "    X_train, X_test, y_train, y_test = train_test_split(X_scale, y, test_size=.25, random_state=42, shuffle=True)\n",
    "\n",
    "    \n",
    "    clf = KerasRegressor(build_fn=base_model, epochs=100, batch_size=50, verbose=0, callbacks=[es], use_multiprocessing=1)\n",
    "#     kfold = KFold(n_splits=5)\n",
    "#     results = cross_val_score(clf, X_train, y_train, cv=kfold)\n",
    "#     print(results)\n",
    "\n",
    "    clf.fit(X_train, y_train)\n",
    "    print('Target label:', combo[2])\n",
    "    print('Neural network MAE:', mean_absolute_error(y_test, clf.predict(X_test)))"
   ]
  },
  {
   "cell_type": "markdown",
   "metadata": {},
   "source": [
    "<p>The best mean absolute error for average nightly price that can be achieved so far is around 42.  The mean of the average nightly price over the year is around 143.</p>"
   ]
  },
  {
   "cell_type": "markdown",
   "metadata": {},
   "source": []
  }
 ],
 "metadata": {
  "kernelspec": {
   "display_name": "Python 3",
   "language": "python",
   "name": "python3"
  },
  "language_info": {
   "codemirror_mode": {
    "name": "ipython",
    "version": 3
   },
   "file_extension": ".py",
   "mimetype": "text/x-python",
   "name": "python",
   "nbconvert_exporter": "python",
   "pygments_lexer": "ipython3",
   "version": "3.7.0"
  }
 },
 "nbformat": 4,
 "nbformat_minor": 4
}
