{
 "cells": [
  {
   "cell_type": "markdown",
   "metadata": {},
   "source": [
    "<h1>Airbnb listing data for NYC 2019</h1>\n",
    "\n",
    "<p>Airbnb is one of the largest short-term rental services in the world.  As such, they have millions of listings, many of which are in metropolitan areas like LA and NYC.  They currently do not have a public API to get listing data, but fortunately a recent <a href=https://www.kaggle.com/dgomonov/new-york-city-airbnb-open-data>dataset</a> is available on Kaggle specifically for NYC, and the raw source for this data can be found <a href=\"http://data.insideairbnb.com/united-states/ny/new-york-city/2019-12-04/data/listings.csv.gz\">here</a>.  Data for other cities can also be found <a href=\"http://insideairbnb.com/get-the-data.html\">here</a>.</p>"
   ]
  },
  {
   "cell_type": "markdown",
   "metadata": {},
   "source": [
    "<p>Let's take a look at the <b>listings.csv</b> first, then we'll get to the time series data in <b>calendar.csv</b>"
   ]
  },
  {
   "cell_type": "code",
   "execution_count": 2,
   "metadata": {},
   "outputs": [
    {
     "name": "stderr",
     "output_type": "stream",
     "text": [
      "c:\\users\\bruce\\miniconda3\\envs\\capstone\\lib\\site-packages\\IPython\\core\\interactiveshell.py:3063: DtypeWarning: Columns (61,62,94,95) have mixed types.Specify dtype option on import or set low_memory=False.\n",
      "  interactivity=interactivity, compiler=compiler, result=result)\n"
     ]
    }
   ],
   "source": [
    "import pandas as pd\n",
    "import numpy as np\n",
    "import matplotlib.pyplot as plt\n",
    "import math\n",
    "\n",
    "# pd.set_option('display.max_rows', None)\n",
    "# pd.set_option('display.max_columns', None)\n",
    "\n",
    "%matplotlib inline\n",
    "listing_url = 'http://data.insideairbnb.com/united-states/ny/new-york-city/2019-12-04/data/listings.csv.gz'\n",
    "calendar_url = 'http://data.insideairbnb.com/united-states/ny/new-york-city/2019-12-04/data/calendar.csv.gz'\n",
    "listings_df = pd.read_csv(listing_url)"
   ]
  },
  {
   "cell_type": "code",
   "execution_count": 3,
   "metadata": {},
   "outputs": [
    {
     "data": {
      "text/plain": [
       "False    49567\n",
       "True      1032\n",
       "Name: description, dtype: int64"
      ]
     },
     "execution_count": 3,
     "metadata": {},
     "output_type": "execute_result"
    }
   ],
   "source": [
    "pd.isna(listings_df['description']).value_counts()"
   ]
  },
  {
   "cell_type": "code",
   "execution_count": 4,
   "metadata": {},
   "outputs": [
    {
     "data": {
      "text/plain": [
       "0      10220\n",
       "1       5315\n",
       "2       3419\n",
       "3       2531\n",
       "4       1994\n",
       "       ...  \n",
       "457        1\n",
       "278        1\n",
       "373        1\n",
       "341        1\n",
       "351        1\n",
       "Name: number_of_reviews, Length: 412, dtype: int64"
      ]
     },
     "execution_count": 4,
     "metadata": {},
     "output_type": "execute_result"
    }
   ],
   "source": [
    "listings_df['number_of_reviews'].value_counts()"
   ]
  },
  {
   "cell_type": "markdown",
   "metadata": {},
   "source": [
    "<br/>\n",
    "<p>There are certain columns that have mixed data. Lets take a look at the general structure of the listings as well as those columns.</p>"
   ]
  },
  {
   "cell_type": "code",
   "execution_count": 5,
   "metadata": {},
   "outputs": [
    {
     "name": "stdout",
     "output_type": "stream",
     "text": [
      "<class 'pandas.core.frame.DataFrame'>\n",
      "RangeIndex: 50599 entries, 0 to 50598\n",
      "Columns: 106 entries, id to reviews_per_month\n",
      "dtypes: float64(22), int64(21), object(63)\n",
      "memory usage: 40.9+ MB\n",
      "None\n",
      "Index(['id', 'listing_url', 'scrape_id', 'last_scraped', 'name', 'summary',\n",
      "       'space', 'description', 'experiences_offered', 'neighborhood_overview',\n",
      "       ...\n",
      "       'instant_bookable', 'is_business_travel_ready', 'cancellation_policy',\n",
      "       'require_guest_profile_picture', 'require_guest_phone_verification',\n",
      "       'calculated_host_listings_count',\n",
      "       'calculated_host_listings_count_entire_homes',\n",
      "       'calculated_host_listings_count_private_rooms',\n",
      "       'calculated_host_listings_count_shared_rooms', 'reviews_per_month'],\n",
      "      dtype='object', length=106)\n",
      "price\n",
      "weekly_price\n",
      "requires_license\n",
      "license\n"
     ]
    },
    {
     "data": {
      "text/html": [
       "<div>\n",
       "<style scoped>\n",
       "    .dataframe tbody tr th:only-of-type {\n",
       "        vertical-align: middle;\n",
       "    }\n",
       "\n",
       "    .dataframe tbody tr th {\n",
       "        vertical-align: top;\n",
       "    }\n",
       "\n",
       "    .dataframe thead th {\n",
       "        text-align: right;\n",
       "    }\n",
       "</style>\n",
       "<table border=\"1\" class=\"dataframe\">\n",
       "  <thead>\n",
       "    <tr style=\"text-align: right;\">\n",
       "      <th></th>\n",
       "      <th>id</th>\n",
       "      <th>listing_url</th>\n",
       "      <th>scrape_id</th>\n",
       "      <th>last_scraped</th>\n",
       "      <th>name</th>\n",
       "      <th>summary</th>\n",
       "      <th>space</th>\n",
       "      <th>description</th>\n",
       "      <th>experiences_offered</th>\n",
       "      <th>neighborhood_overview</th>\n",
       "      <th>...</th>\n",
       "      <th>instant_bookable</th>\n",
       "      <th>is_business_travel_ready</th>\n",
       "      <th>cancellation_policy</th>\n",
       "      <th>require_guest_profile_picture</th>\n",
       "      <th>require_guest_phone_verification</th>\n",
       "      <th>calculated_host_listings_count</th>\n",
       "      <th>calculated_host_listings_count_entire_homes</th>\n",
       "      <th>calculated_host_listings_count_private_rooms</th>\n",
       "      <th>calculated_host_listings_count_shared_rooms</th>\n",
       "      <th>reviews_per_month</th>\n",
       "    </tr>\n",
       "  </thead>\n",
       "  <tbody>\n",
       "    <tr>\n",
       "      <th>0</th>\n",
       "      <td>2595</td>\n",
       "      <td>https://www.airbnb.com/rooms/2595</td>\n",
       "      <td>20191204162729</td>\n",
       "      <td>2019-12-07</td>\n",
       "      <td>Skylit Midtown Castle</td>\n",
       "      <td>Beautiful, spacious skylit studio in the heart...</td>\n",
       "      <td>- Spacious (500+ft²), immaculate and nicely fu...</td>\n",
       "      <td>Beautiful, spacious skylit studio in the heart...</td>\n",
       "      <td>none</td>\n",
       "      <td>Centrally located in the heart of Manhattan ju...</td>\n",
       "      <td>...</td>\n",
       "      <td>f</td>\n",
       "      <td>f</td>\n",
       "      <td>strict_14_with_grace_period</td>\n",
       "      <td>t</td>\n",
       "      <td>t</td>\n",
       "      <td>1</td>\n",
       "      <td>1</td>\n",
       "      <td>0</td>\n",
       "      <td>0</td>\n",
       "      <td>0.39</td>\n",
       "    </tr>\n",
       "    <tr>\n",
       "      <th>1</th>\n",
       "      <td>3831</td>\n",
       "      <td>https://www.airbnb.com/rooms/3831</td>\n",
       "      <td>20191204162729</td>\n",
       "      <td>2019-12-07</td>\n",
       "      <td>Cozy Entire Floor of Brownstone</td>\n",
       "      <td>Urban retreat: enjoy 500 s.f. floor in 1899 br...</td>\n",
       "      <td>Greetings!      We own a double-duplex brownst...</td>\n",
       "      <td>Urban retreat: enjoy 500 s.f. floor in 1899 br...</td>\n",
       "      <td>none</td>\n",
       "      <td>Just the right mix of urban center and local n...</td>\n",
       "      <td>...</td>\n",
       "      <td>f</td>\n",
       "      <td>f</td>\n",
       "      <td>moderate</td>\n",
       "      <td>f</td>\n",
       "      <td>f</td>\n",
       "      <td>1</td>\n",
       "      <td>1</td>\n",
       "      <td>0</td>\n",
       "      <td>0</td>\n",
       "      <td>4.67</td>\n",
       "    </tr>\n",
       "    <tr>\n",
       "      <th>2</th>\n",
       "      <td>5099</td>\n",
       "      <td>https://www.airbnb.com/rooms/5099</td>\n",
       "      <td>20191204162729</td>\n",
       "      <td>2019-12-06</td>\n",
       "      <td>Large Cozy 1 BR Apartment In Midtown East</td>\n",
       "      <td>My large 1 bedroom apartment has a true New Yo...</td>\n",
       "      <td>I have a large 1 bedroom apartment centrally l...</td>\n",
       "      <td>My large 1 bedroom apartment has a true New Yo...</td>\n",
       "      <td>none</td>\n",
       "      <td>My neighborhood in Midtown East is called Murr...</td>\n",
       "      <td>...</td>\n",
       "      <td>f</td>\n",
       "      <td>f</td>\n",
       "      <td>moderate</td>\n",
       "      <td>t</td>\n",
       "      <td>t</td>\n",
       "      <td>1</td>\n",
       "      <td>1</td>\n",
       "      <td>0</td>\n",
       "      <td>0</td>\n",
       "      <td>0.60</td>\n",
       "    </tr>\n",
       "    <tr>\n",
       "      <th>3</th>\n",
       "      <td>5121</td>\n",
       "      <td>https://www.airbnb.com/rooms/5121</td>\n",
       "      <td>20191204162729</td>\n",
       "      <td>2019-12-06</td>\n",
       "      <td>BlissArtsSpace!</td>\n",
       "      <td>NaN</td>\n",
       "      <td>HELLO EVERYONE AND THANKS FOR VISITING BLISS A...</td>\n",
       "      <td>HELLO EVERYONE AND THANKS FOR VISITING BLISS A...</td>\n",
       "      <td>none</td>\n",
       "      <td>NaN</td>\n",
       "      <td>...</td>\n",
       "      <td>f</td>\n",
       "      <td>f</td>\n",
       "      <td>strict_14_with_grace_period</td>\n",
       "      <td>f</td>\n",
       "      <td>f</td>\n",
       "      <td>1</td>\n",
       "      <td>0</td>\n",
       "      <td>1</td>\n",
       "      <td>0</td>\n",
       "      <td>0.38</td>\n",
       "    </tr>\n",
       "    <tr>\n",
       "      <th>4</th>\n",
       "      <td>5178</td>\n",
       "      <td>https://www.airbnb.com/rooms/5178</td>\n",
       "      <td>20191204162729</td>\n",
       "      <td>2019-12-05</td>\n",
       "      <td>Large Furnished Room Near B'way</td>\n",
       "      <td>Please don’t expect the luxury here just a bas...</td>\n",
       "      <td>You will use one large, furnished, private roo...</td>\n",
       "      <td>Please don’t expect the luxury here just a bas...</td>\n",
       "      <td>none</td>\n",
       "      <td>Theater district, many restaurants around here.</td>\n",
       "      <td>...</td>\n",
       "      <td>f</td>\n",
       "      <td>f</td>\n",
       "      <td>strict_14_with_grace_period</td>\n",
       "      <td>f</td>\n",
       "      <td>f</td>\n",
       "      <td>1</td>\n",
       "      <td>0</td>\n",
       "      <td>1</td>\n",
       "      <td>0</td>\n",
       "      <td>3.52</td>\n",
       "    </tr>\n",
       "  </tbody>\n",
       "</table>\n",
       "<p>5 rows × 106 columns</p>\n",
       "</div>"
      ],
      "text/plain": [
       "     id                        listing_url       scrape_id last_scraped  \\\n",
       "0  2595  https://www.airbnb.com/rooms/2595  20191204162729   2019-12-07   \n",
       "1  3831  https://www.airbnb.com/rooms/3831  20191204162729   2019-12-07   \n",
       "2  5099  https://www.airbnb.com/rooms/5099  20191204162729   2019-12-06   \n",
       "3  5121  https://www.airbnb.com/rooms/5121  20191204162729   2019-12-06   \n",
       "4  5178  https://www.airbnb.com/rooms/5178  20191204162729   2019-12-05   \n",
       "\n",
       "                                        name  \\\n",
       "0                      Skylit Midtown Castle   \n",
       "1            Cozy Entire Floor of Brownstone   \n",
       "2  Large Cozy 1 BR Apartment In Midtown East   \n",
       "3                            BlissArtsSpace!   \n",
       "4           Large Furnished Room Near B'way    \n",
       "\n",
       "                                             summary  \\\n",
       "0  Beautiful, spacious skylit studio in the heart...   \n",
       "1  Urban retreat: enjoy 500 s.f. floor in 1899 br...   \n",
       "2  My large 1 bedroom apartment has a true New Yo...   \n",
       "3                                                NaN   \n",
       "4  Please don’t expect the luxury here just a bas...   \n",
       "\n",
       "                                               space  \\\n",
       "0  - Spacious (500+ft²), immaculate and nicely fu...   \n",
       "1  Greetings!      We own a double-duplex brownst...   \n",
       "2  I have a large 1 bedroom apartment centrally l...   \n",
       "3  HELLO EVERYONE AND THANKS FOR VISITING BLISS A...   \n",
       "4  You will use one large, furnished, private roo...   \n",
       "\n",
       "                                         description experiences_offered  \\\n",
       "0  Beautiful, spacious skylit studio in the heart...                none   \n",
       "1  Urban retreat: enjoy 500 s.f. floor in 1899 br...                none   \n",
       "2  My large 1 bedroom apartment has a true New Yo...                none   \n",
       "3  HELLO EVERYONE AND THANKS FOR VISITING BLISS A...                none   \n",
       "4  Please don’t expect the luxury here just a bas...                none   \n",
       "\n",
       "                               neighborhood_overview  ... instant_bookable  \\\n",
       "0  Centrally located in the heart of Manhattan ju...  ...                f   \n",
       "1  Just the right mix of urban center and local n...  ...                f   \n",
       "2  My neighborhood in Midtown East is called Murr...  ...                f   \n",
       "3                                                NaN  ...                f   \n",
       "4    Theater district, many restaurants around here.  ...                f   \n",
       "\n",
       "  is_business_travel_ready          cancellation_policy  \\\n",
       "0                        f  strict_14_with_grace_period   \n",
       "1                        f                     moderate   \n",
       "2                        f                     moderate   \n",
       "3                        f  strict_14_with_grace_period   \n",
       "4                        f  strict_14_with_grace_period   \n",
       "\n",
       "  require_guest_profile_picture require_guest_phone_verification  \\\n",
       "0                             t                                t   \n",
       "1                             f                                f   \n",
       "2                             t                                t   \n",
       "3                             f                                f   \n",
       "4                             f                                f   \n",
       "\n",
       "   calculated_host_listings_count  \\\n",
       "0                               1   \n",
       "1                               1   \n",
       "2                               1   \n",
       "3                               1   \n",
       "4                               1   \n",
       "\n",
       "   calculated_host_listings_count_entire_homes  \\\n",
       "0                                            1   \n",
       "1                                            1   \n",
       "2                                            1   \n",
       "3                                            0   \n",
       "4                                            0   \n",
       "\n",
       "  calculated_host_listings_count_private_rooms  \\\n",
       "0                                            0   \n",
       "1                                            0   \n",
       "2                                            0   \n",
       "3                                            1   \n",
       "4                                            1   \n",
       "\n",
       "   calculated_host_listings_count_shared_rooms  reviews_per_month  \n",
       "0                                            0               0.39  \n",
       "1                                            0               4.67  \n",
       "2                                            0               0.60  \n",
       "3                                            0               0.38  \n",
       "4                                            0               3.52  \n",
       "\n",
       "[5 rows x 106 columns]"
      ]
     },
     "execution_count": 5,
     "metadata": {},
     "output_type": "execute_result"
    }
   ],
   "source": [
    "print(listings_df.info())\n",
    "print(listings_df.columns)\n",
    "for col_index in [60, 61, 93, 94]:\n",
    "    print(listings_df.columns[col_index])\n",
    "listings_df.head()"
   ]
  },
  {
   "cell_type": "markdown",
   "metadata": {},
   "source": [
    "<br/>\n",
    "<p>As we will see later, those mixed columns are not necessary.  There are also more entries than in the first dataset that we looked at (hopefully for more accurate modeling).  Let's drop the mixed columns and other columns that have irrelevant data, majority incomplete data, or data that can be found in other tables.</p>"
   ]
  },
  {
   "cell_type": "code",
   "execution_count": 6,
   "metadata": {},
   "outputs": [
    {
     "name": "stdout",
     "output_type": "stream",
     "text": [
      "<class 'pandas.core.frame.DataFrame'>\n",
      "RangeIndex: 50599 entries, 0 to 50598\n",
      "Data columns (total 17 columns):\n",
      " #   Column                        Non-Null Count  Dtype  \n",
      "---  ------                        --------------  -----  \n",
      " 0   id                            50599 non-null  int64  \n",
      " 1   summary                       48367 non-null  object \n",
      " 2   description                   49567 non-null  object \n",
      " 3   host_is_superhost             50036 non-null  object \n",
      " 4   neighbourhood_cleansed        50599 non-null  object \n",
      " 5   neighbourhood_group_cleansed  50599 non-null  object \n",
      " 6   latitude                      50599 non-null  float64\n",
      " 7   longitude                     50599 non-null  float64\n",
      " 8   room_type                     50599 non-null  object \n",
      " 9   accommodates                  50599 non-null  int64  \n",
      " 10  bathrooms                     50548 non-null  float64\n",
      " 11  bedrooms                      50536 non-null  float64\n",
      " 12  beds                          50467 non-null  float64\n",
      " 13  amenities                     50599 non-null  object \n",
      " 14  number_of_reviews             50599 non-null  int64  \n",
      " 15  review_scores_rating          39437 non-null  float64\n",
      " 16  reviews_per_month             40379 non-null  float64\n",
      "dtypes: float64(7), int64(3), object(7)\n",
      "memory usage: 6.6+ MB\n",
      "None\n"
     ]
    }
   ],
   "source": [
    "# calendar values scraped in a small window between 2019-12-04 and 2019-12-07\n",
    "\n",
    "listings_clean = listings_df.drop(['listing_url', 'scrape_id', 'last_scraped', 'name', 'space', \\\n",
    "    'experiences_offered', 'neighborhood_overview', 'notes', 'transit', 'access', 'interaction', \\\n",
    "    'house_rules', 'thumbnail_url', 'medium_url', 'picture_url', 'xl_picture_url', 'host_id', 'host_url', \\\n",
    "    'host_name', 'host_location', 'host_about', 'host_response_time', 'host_response_rate', \\\n",
    "    'host_acceptance_rate', 'host_since', 'host_listings_count', 'host_total_listings_count', \\\n",
    "    'host_verifications', 'host_thumbnail_url', 'host_picture_url', 'host_has_profile_pic', \\\n",
    "    'host_identity_verified', 'host_neighbourhood', 'street', 'neighbourhood', 'city', 'state', 'zipcode', \\\n",
    "    'market', 'smart_location', 'country_code', 'country', 'is_location_exact', 'instant_bookable', \\\n",
    "    'is_business_travel_ready', 'license', 'jurisdiction_names', 'review_scores_value', 'requires_license', \\\n",
    "    'review_scores_communication', 'bed_type', 'weekly_price', 'monthly_price', \\\n",
    "    'security_deposit', 'guests_included', 'minimum_minimum_nights', 'maximum_minimum_nights', \\\n",
    "    'minimum_maximum_nights', 'maximum_maximum_nights', 'calendar_updated', 'has_availability', \\\n",
    "    'calendar_last_scraped', 'number_of_reviews_ltm', 'first_review', 'last_review', 'review_scores_accuracy', \\\n",
    "    'review_scores_cleanliness', 'review_scores_checkin', 'review_scores_location', 'cancellation_policy', \\\n",
    "    'require_guest_profile_picture', 'require_guest_phone_verification', 'calculated_host_listings_count', \\\n",
    "    'calculated_host_listings_count_entire_homes', 'calculated_host_listings_count_private_rooms', \\\n",
    "    'calculated_host_listings_count_shared_rooms', 'cleaning_fee', 'extra_people', \\\n",
    "    'square_feet', 'property_type', 'minimum_nights_avg_ntm', \\\n",
    "    'maximum_nights_avg_ntm', 'price', 'minimum_nights', 'maximum_nights', 'availability_30', \\\n",
    "    'availability_60', 'availability_90', 'availability_365'], axis=1)\n",
    "print(listings_clean.info())\n"
   ]
  },
  {
   "cell_type": "markdown",
   "metadata": {},
   "source": [
    "<br/>\n",
    "<p>Columns <b>bathrooms, bedrooms, beds</b> have missing data, but thankfully not a lot.  We will try to clean that up.  Let's also rename a couple columns</p>"
   ]
  },
  {
   "cell_type": "code",
   "execution_count": 7,
   "metadata": {},
   "outputs": [
    {
     "name": "stdout",
     "output_type": "stream",
     "text": [
      "<class 'pandas.core.frame.DataFrame'>\n",
      "RangeIndex: 50599 entries, 0 to 50598\n",
      "Data columns (total 17 columns):\n",
      " #   Column                Non-Null Count  Dtype  \n",
      "---  ------                --------------  -----  \n",
      " 0   id                    50599 non-null  int64  \n",
      " 1   summary               48367 non-null  object \n",
      " 2   description           49567 non-null  object \n",
      " 3   host_is_superhost     50036 non-null  object \n",
      " 4   neighbourhood         50599 non-null  object \n",
      " 5   neighbourhood_group   50599 non-null  object \n",
      " 6   latitude              50599 non-null  float64\n",
      " 7   longitude             50599 non-null  float64\n",
      " 8   room_type             50599 non-null  object \n",
      " 9   accommodates          50599 non-null  int64  \n",
      " 10  bathrooms             50548 non-null  float64\n",
      " 11  bedrooms              50536 non-null  float64\n",
      " 12  beds                  50467 non-null  float64\n",
      " 13  amenities             50599 non-null  object \n",
      " 14  number_of_reviews     50599 non-null  int64  \n",
      " 15  review_scores_rating  39437 non-null  float64\n",
      " 16  reviews_per_month     40379 non-null  float64\n",
      "dtypes: float64(7), int64(3), object(7)\n",
      "memory usage: 6.6+ MB\n"
     ]
    }
   ],
   "source": [
    "listings_clean.rename(columns={\n",
    "    'neighbourhood_cleansed':'neighbourhood',\n",
    "    'neighbourhood_group_cleansed': 'neighbourhood_group'\n",
    "}, inplace=True)\n",
    "listings_clean.info()"
   ]
  },
  {
   "cell_type": "markdown",
   "metadata": {},
   "source": [
    "<br/>\n",
    "<p>Since the large majority of listings are homes/apts or private rooms, let's keep those listings.</p>"
   ]
  },
  {
   "cell_type": "code",
   "execution_count": 8,
   "metadata": {},
   "outputs": [
    {
     "name": "stdout",
     "output_type": "stream",
     "text": [
      "Entire home/apt    26141\n",
      "Private room       22785\n",
      "Shared room         1256\n",
      "Hotel room           417\n",
      "Name: room_type, dtype: int64\n"
     ]
    }
   ],
   "source": [
    "print(listings_clean.room_type.value_counts())\n",
    "listings_clean = listings_clean.loc[\n",
    "    (listings_clean.room_type == 'Entire home/apt') |\n",
    "    (listings_clean.room_type == 'Private room')\n",
    "]"
   ]
  },
  {
   "cell_type": "markdown",
   "metadata": {},
   "source": [
    "<br/>\n",
    "<p>We see some possible outliers for <b>accommodates, bathrooms, bedrooms, beds</b>.</p>"
   ]
  },
  {
   "cell_type": "code",
   "execution_count": 9,
   "metadata": {},
   "outputs": [
    {
     "data": {
      "text/html": [
       "<div>\n",
       "<style scoped>\n",
       "    .dataframe tbody tr th:only-of-type {\n",
       "        vertical-align: middle;\n",
       "    }\n",
       "\n",
       "    .dataframe tbody tr th {\n",
       "        vertical-align: top;\n",
       "    }\n",
       "\n",
       "    .dataframe thead th {\n",
       "        text-align: right;\n",
       "    }\n",
       "</style>\n",
       "<table border=\"1\" class=\"dataframe\">\n",
       "  <thead>\n",
       "    <tr style=\"text-align: right;\">\n",
       "      <th></th>\n",
       "      <th>id</th>\n",
       "      <th>latitude</th>\n",
       "      <th>longitude</th>\n",
       "      <th>accommodates</th>\n",
       "      <th>bathrooms</th>\n",
       "      <th>bedrooms</th>\n",
       "      <th>beds</th>\n",
       "      <th>number_of_reviews</th>\n",
       "      <th>review_scores_rating</th>\n",
       "      <th>reviews_per_month</th>\n",
       "    </tr>\n",
       "  </thead>\n",
       "  <tbody>\n",
       "    <tr>\n",
       "      <th>count</th>\n",
       "      <td>4.892600e+04</td>\n",
       "      <td>48926.000000</td>\n",
       "      <td>48926.000000</td>\n",
       "      <td>48926.000000</td>\n",
       "      <td>48879.000000</td>\n",
       "      <td>48863.000000</td>\n",
       "      <td>48798.000000</td>\n",
       "      <td>48926.000000</td>\n",
       "      <td>38259.000000</td>\n",
       "      <td>39182.000000</td>\n",
       "    </tr>\n",
       "    <tr>\n",
       "      <th>mean</th>\n",
       "      <td>2.117010e+07</td>\n",
       "      <td>40.728622</td>\n",
       "      <td>-73.950841</td>\n",
       "      <td>2.890161</td>\n",
       "      <td>1.147538</td>\n",
       "      <td>1.187872</td>\n",
       "      <td>1.548260</td>\n",
       "      <td>25.091546</td>\n",
       "      <td>93.968243</td>\n",
       "      <td>1.401085</td>\n",
       "    </tr>\n",
       "    <tr>\n",
       "      <th>std</th>\n",
       "      <td>1.242617e+07</td>\n",
       "      <td>0.054921</td>\n",
       "      <td>0.047503</td>\n",
       "      <td>1.910505</td>\n",
       "      <td>0.427225</td>\n",
       "      <td>0.771793</td>\n",
       "      <td>1.124263</td>\n",
       "      <td>47.629989</td>\n",
       "      <td>8.514763</td>\n",
       "      <td>1.670326</td>\n",
       "    </tr>\n",
       "    <tr>\n",
       "      <th>min</th>\n",
       "      <td>2.595000e+03</td>\n",
       "      <td>40.499790</td>\n",
       "      <td>-74.247870</td>\n",
       "      <td>1.000000</td>\n",
       "      <td>0.000000</td>\n",
       "      <td>0.000000</td>\n",
       "      <td>0.000000</td>\n",
       "      <td>0.000000</td>\n",
       "      <td>20.000000</td>\n",
       "      <td>0.010000</td>\n",
       "    </tr>\n",
       "    <tr>\n",
       "      <th>25%</th>\n",
       "      <td>9.977018e+06</td>\n",
       "      <td>40.689350</td>\n",
       "      <td>-73.982800</td>\n",
       "      <td>2.000000</td>\n",
       "      <td>1.000000</td>\n",
       "      <td>1.000000</td>\n",
       "      <td>1.000000</td>\n",
       "      <td>1.000000</td>\n",
       "      <td>92.000000</td>\n",
       "      <td>0.190000</td>\n",
       "    </tr>\n",
       "    <tr>\n",
       "      <th>50%</th>\n",
       "      <td>2.127600e+07</td>\n",
       "      <td>40.722460</td>\n",
       "      <td>-73.955020</td>\n",
       "      <td>2.000000</td>\n",
       "      <td>1.000000</td>\n",
       "      <td>1.000000</td>\n",
       "      <td>1.000000</td>\n",
       "      <td>6.000000</td>\n",
       "      <td>96.000000</td>\n",
       "      <td>0.730000</td>\n",
       "    </tr>\n",
       "    <tr>\n",
       "      <th>75%</th>\n",
       "      <td>3.244168e+07</td>\n",
       "      <td>40.762940</td>\n",
       "      <td>-73.934270</td>\n",
       "      <td>4.000000</td>\n",
       "      <td>1.000000</td>\n",
       "      <td>1.000000</td>\n",
       "      <td>2.000000</td>\n",
       "      <td>26.000000</td>\n",
       "      <td>100.000000</td>\n",
       "      <td>2.120000</td>\n",
       "    </tr>\n",
       "    <tr>\n",
       "      <th>max</th>\n",
       "      <td>4.058402e+07</td>\n",
       "      <td>40.916860</td>\n",
       "      <td>-73.712990</td>\n",
       "      <td>25.000000</td>\n",
       "      <td>15.500000</td>\n",
       "      <td>21.000000</td>\n",
       "      <td>40.000000</td>\n",
       "      <td>675.000000</td>\n",
       "      <td>100.000000</td>\n",
       "      <td>19.950000</td>\n",
       "    </tr>\n",
       "  </tbody>\n",
       "</table>\n",
       "</div>"
      ],
      "text/plain": [
       "                 id      latitude     longitude  accommodates     bathrooms  \\\n",
       "count  4.892600e+04  48926.000000  48926.000000  48926.000000  48879.000000   \n",
       "mean   2.117010e+07     40.728622    -73.950841      2.890161      1.147538   \n",
       "std    1.242617e+07      0.054921      0.047503      1.910505      0.427225   \n",
       "min    2.595000e+03     40.499790    -74.247870      1.000000      0.000000   \n",
       "25%    9.977018e+06     40.689350    -73.982800      2.000000      1.000000   \n",
       "50%    2.127600e+07     40.722460    -73.955020      2.000000      1.000000   \n",
       "75%    3.244168e+07     40.762940    -73.934270      4.000000      1.000000   \n",
       "max    4.058402e+07     40.916860    -73.712990     25.000000     15.500000   \n",
       "\n",
       "           bedrooms          beds  number_of_reviews  review_scores_rating  \\\n",
       "count  48863.000000  48798.000000       48926.000000          38259.000000   \n",
       "mean       1.187872      1.548260          25.091546             93.968243   \n",
       "std        0.771793      1.124263          47.629989              8.514763   \n",
       "min        0.000000      0.000000           0.000000             20.000000   \n",
       "25%        1.000000      1.000000           1.000000             92.000000   \n",
       "50%        1.000000      1.000000           6.000000             96.000000   \n",
       "75%        1.000000      2.000000          26.000000            100.000000   \n",
       "max       21.000000     40.000000         675.000000            100.000000   \n",
       "\n",
       "       reviews_per_month  \n",
       "count       39182.000000  \n",
       "mean            1.401085  \n",
       "std             1.670326  \n",
       "min             0.010000  \n",
       "25%             0.190000  \n",
       "50%             0.730000  \n",
       "75%             2.120000  \n",
       "max            19.950000  "
      ]
     },
     "execution_count": 9,
     "metadata": {},
     "output_type": "execute_result"
    }
   ],
   "source": [
    "listings_clean.describe()"
   ]
  },
  {
   "cell_type": "markdown",
   "metadata": {},
   "source": [
    "<br/>\n",
    "<p>Check for duplicate latitude and longitude value pairs, which most likely means duplicate listings</p>"
   ]
  },
  {
   "cell_type": "code",
   "execution_count": 10,
   "metadata": {},
   "outputs": [
    {
     "name": "stdout",
     "output_type": "stream",
     "text": [
      "<class 'pandas.core.frame.DataFrame'>\n",
      "RangeIndex: 48914 entries, 0 to 48913\n",
      "Data columns (total 17 columns):\n",
      " #   Column                Non-Null Count  Dtype  \n",
      "---  ------                --------------  -----  \n",
      " 0   id                    48914 non-null  int64  \n",
      " 1   summary               46766 non-null  object \n",
      " 2   description           47926 non-null  object \n",
      " 3   host_is_superhost     48376 non-null  object \n",
      " 4   neighbourhood         48914 non-null  object \n",
      " 5   neighbourhood_group   48914 non-null  object \n",
      " 6   latitude              48914 non-null  float64\n",
      " 7   longitude             48914 non-null  float64\n",
      " 8   room_type             48914 non-null  object \n",
      " 9   accommodates          48914 non-null  int64  \n",
      " 10  bathrooms             48867 non-null  float64\n",
      " 11  bedrooms              48851 non-null  float64\n",
      " 12  beds                  48786 non-null  float64\n",
      " 13  amenities             48914 non-null  object \n",
      " 14  number_of_reviews     48914 non-null  int64  \n",
      " 15  review_scores_rating  38249 non-null  float64\n",
      " 16  reviews_per_month     39172 non-null  float64\n",
      "dtypes: float64(7), int64(3), object(7)\n",
      "memory usage: 6.3+ MB\n"
     ]
    }
   ],
   "source": [
    "# https://stackoverflow.com/questions/44481768/remove-duplicate-rows-from-pandas-dataframe-where-only-some-columns-have-the-sam\n",
    "# https://stackoverflow.com/questions/16167829/in-pandas-how-can-i-reset-index-without-adding-a-new-column\n",
    "\n",
    "listings_clean = listings_clean.drop_duplicates(subset=['latitude', 'longitude']).reset_index(drop=True)\n",
    "listings_clean.info()"
   ]
  },
  {
   "cell_type": "markdown",
   "metadata": {},
   "source": [
    "<br/>\n",
    "<p>Look at non-numerical columns to see if they can be categorized.</p>"
   ]
  },
  {
   "cell_type": "code",
   "execution_count": 11,
   "metadata": {},
   "outputs": [
    {
     "name": "stdout",
     "output_type": "stream",
     "text": [
      "Entire home/apt    26134\n",
      "Private room       22780\n",
      "Name: room_type, dtype: int64\n",
      "Manhattan        21255\n",
      "Brooklyn         20194\n",
      "Queens            5943\n",
      "Bronx             1149\n",
      "Staten Island      373\n",
      "Name: neighbourhood_group, dtype: int64\n",
      "Williamsburg                  3903\n",
      "Bedford-Stuyvesant            3823\n",
      "Harlem                        2691\n",
      "Bushwick                      2431\n",
      "Upper West Side               1935\n",
      "                              ... \n",
      "Fort Wadsworth                   1\n",
      "Bay Terrace, Staten Island       1\n",
      "Willowbrook                      1\n",
      "New Dorp                         1\n",
      "Woodrow                          1\n",
      "Name: neighbourhood, Length: 223, dtype: int64\n"
     ]
    }
   ],
   "source": [
    "# http://benalexkeen.com/mapping-categorical-data-in-pandas/\n",
    "\n",
    "print(listings_clean.room_type.value_counts())\n",
    "print(listings_clean.neighbourhood_group.value_counts())\n",
    "print(listings_clean.neighbourhood.value_counts())\n"
   ]
  },
  {
   "cell_type": "code",
   "execution_count": 12,
   "metadata": {},
   "outputs": [
    {
     "name": "stdout",
     "output_type": "stream",
     "text": [
      "1.0     13018\n",
      "2.0      6214\n",
      "0.0      4140\n",
      "3.0      2034\n",
      "4.0       476\n",
      "5.0       133\n",
      "6.0        41\n",
      "7.0        17\n",
      "8.0        10\n",
      "10.0        5\n",
      "9.0         4\n",
      "21.0        1\n",
      "14.0        1\n",
      "12.0        1\n",
      "Name: bedrooms, dtype: int64\n",
      "1.0     11605\n",
      "2.0      8097\n",
      "3.0      3258\n",
      "4.0      1428\n",
      "0.0       697\n",
      "5.0       521\n",
      "6.0       243\n",
      "7.0       104\n",
      "8.0        54\n",
      "9.0        36\n",
      "10.0       16\n",
      "11.0       14\n",
      "12.0       11\n",
      "13.0        7\n",
      "14.0        4\n",
      "16.0        3\n",
      "18.0        2\n",
      "17.0        2\n",
      "15.0        1\n",
      "26.0        1\n",
      "40.0        1\n",
      "21.0        1\n",
      "22.0        1\n",
      "Name: beds, dtype: int64\n",
      "1.0     22189\n",
      "2.0      2255\n",
      "1.5       889\n",
      "2.5       339\n",
      "3.0       208\n",
      "3.5        77\n",
      "4.0        49\n",
      "0.0        37\n",
      "0.5        26\n",
      "4.5        23\n",
      "5.0        13\n",
      "6.0         5\n",
      "5.5         4\n",
      "7.0         2\n",
      "8.0         1\n",
      "7.5         1\n",
      "6.5         1\n",
      "15.5        1\n",
      "Name: bathrooms, dtype: int64\n"
     ]
    }
   ],
   "source": [
    "home_listings = listings_clean.loc[listings_clean.room_type == 'Entire home/apt']\n",
    "print(home_listings.bedrooms.value_counts())\n",
    "print(home_listings.beds.value_counts())\n",
    "print(home_listings.bathrooms.value_counts())"
   ]
  },
  {
   "cell_type": "markdown",
   "metadata": {},
   "source": [
    "<p>We see some outliers that may skew any modeling, so let's remove any listing over 10 <b>bedrooms</b>, 12 <b>beds</b>, and 5 <b>bathrooms</b>.  Realistically the vast majority of property owners are not listing super mansions.</p>"
   ]
  },
  {
   "cell_type": "code",
   "execution_count": 13,
   "metadata": {},
   "outputs": [],
   "source": [
    "listings_clean = listings_clean.loc[\n",
    "    (listings_clean.bedrooms <= 10) & (listings_clean.beds <=12) & (listings_clean.bathrooms <= 5)\n",
    "]"
   ]
  },
  {
   "cell_type": "code",
   "execution_count": 14,
   "metadata": {},
   "outputs": [
    {
     "data": {
      "text/plain": [
       "<matplotlib.axes._subplots.AxesSubplot at 0x1e1e34856d8>"
      ]
     },
     "execution_count": 14,
     "metadata": {},
     "output_type": "execute_result"
    },
    {
     "data": {
      "image/png": "[encoded data removed]",
      "text/plain": [
       "<Figure size 1440x720 with 1 Axes>"
      ]
     },
     "metadata": {
      "needs_background": "light"
     },
     "output_type": "display_data"
    }
   ],
   "source": [
    "home_listings.bedrooms.plot(kind='hist', figsize=(20, 10))"
   ]
  },
  {
   "cell_type": "markdown",
   "metadata": {},
   "source": [
    "<p>Home listings are heavily skewed toward single bedroom.  Perhaps we can approximate <b>bedrooms, bathrooms, beds</b> as exponential distributions.</p>\n",
    "<p>Let's do the same analysis for single room type listings</p>"
   ]
  },
  {
   "cell_type": "code",
   "execution_count": 15,
   "metadata": {},
   "outputs": [
    {
     "name": "stdout",
     "output_type": "stream",
     "text": [
      "1.0    21426\n",
      "2.0      563\n",
      "0.0      457\n",
      "3.0      123\n",
      "4.0       44\n",
      "6.0       11\n",
      "5.0        7\n",
      "8.0        1\n",
      "Name: bedrooms, dtype: int64\n",
      "1.0     19078\n",
      "2.0      2295\n",
      "0.0       656\n",
      "3.0       409\n",
      "4.0       134\n",
      "5.0        28\n",
      "6.0        16\n",
      "7.0         8\n",
      "8.0         4\n",
      "11.0        1\n",
      "10.0        1\n",
      "9.0         1\n",
      "12.0        1\n",
      "Name: beds, dtype: int64\n",
      "1.0    18950\n",
      "2.0     1708\n",
      "1.5     1483\n",
      "3.0      151\n",
      "2.5      132\n",
      "0.0       75\n",
      "0.5       74\n",
      "4.0       41\n",
      "3.5       13\n",
      "5.0        4\n",
      "4.5        1\n",
      "Name: bathrooms, dtype: int64\n"
     ]
    }
   ],
   "source": [
    "room_listings = listings_clean.loc[listings_clean.room_type != 'Entire home/apt']\n",
    "print(room_listings.bedrooms.value_counts())\n",
    "print(room_listings.beds.value_counts())\n",
    "print(room_listings.bathrooms.value_counts())"
   ]
  },
  {
   "cell_type": "code",
   "execution_count": 16,
   "metadata": {},
   "outputs": [
    {
     "data": {
      "text/plain": [
       "<matplotlib.axes._subplots.AxesSubplot at 0x1e1e353e6a0>"
      ]
     },
     "execution_count": 16,
     "metadata": {},
     "output_type": "execute_result"
    },
    {
     "data": {
      "image/png": "[encoded data removed]",
      "text/plain": [
       "<Figure size 1440x720 with 1 Axes>"
      ]
     },
     "metadata": {
      "needs_background": "light"
     },
     "output_type": "display_data"
    }
   ],
   "source": [
    "room_listings.bedrooms.plot(kind='hist', figsize=(20, 10))"
   ]
  },
  {
   "cell_type": "markdown",
   "metadata": {},
   "source": [
    "<p>We get similar results to home listings, which is odd.  Perhaps some single room type listings were incorrectly listed.  That means we may not be able to rely on <b>room_type</b> as a factor in filling in any missing bedroom and bathroom values.</p>\n",
    "\n",
    "<p>Let's do some data cleaning by filling in the missing <b>bedrooms, bathrooms, beds</b> values (disregarding homes/apts vs. single room since <b>room_type</b> is not always indicative of multiple rooms vs. one room).  0 values can still be considered valid (e.g. studio apt, shared living area, shared bathroom, non-bed type sleeping arrangment).  We will assume that 0.001 degree latitude or longitude <a href=https://gizmodo.com/how-precise-is-one-degree-of-longitude-or-latitude-1631241162\">is about 100 m</a>.  Let's average over an area of 200 m radius from listings that have missing data.  We will group by <b>neighbourhood</b> when calculating the mean.</p>"
   ]
  },
  {
   "cell_type": "code",
   "execution_count": 17,
   "metadata": {},
   "outputs": [],
   "source": [
    "lat_diff = 0.002\n",
    "long_diff = 0.002\n",
    "cols = list(listings_clean.columns)\n",
    "\n",
    "def avg_of_neighbors(row, col_name):\n",
    "    item = row[cols.index(col_name)]\n",
    "    room_type = row[cols.index('room_type')]\n",
    "    lat = row[cols.index('latitude')]\n",
    "    long = row[cols.index('longitude')]\n",
    "    if math.isnan(item):\n",
    "        item = listings_clean[col_name].loc[(listings_clean.latitude > lat - lat_diff) \\\n",
    "            & (listings_clean.latitude < lat + lat_diff) \\\n",
    "            & (listings_clean.longitude > long - long_diff) \\\n",
    "            & (listings_clean.longitude < long + long_diff)\n",
    "            & (listings_clean.room_type == room_type)].mean().round()\n",
    "        row[cols.index(col_name)] = item\n",
    "    return row\n",
    "\n",
    "listings_clean = listings_clean.apply(avg_of_neighbors, col_name='bathrooms', axis=1)\n",
    "listings_clean = listings_clean.apply(avg_of_neighbors, col_name='bedrooms', axis=1)\n",
    "listings_clean = listings_clean.apply(avg_of_neighbors, col_name='beds', axis=1)"
   ]
  },
  {
   "cell_type": "code",
   "execution_count": 18,
   "metadata": {},
   "outputs": [
    {
     "name": "stdout",
     "output_type": "stream",
     "text": [
      "1.0     34418\n",
      "2.0      6771\n",
      "0.0      4593\n",
      "3.0      2152\n",
      "4.0       518\n",
      "5.0       131\n",
      "6.0        46\n",
      "7.0        13\n",
      "8.0         8\n",
      "10.0        2\n",
      "9.0         2\n",
      "Name: bedrooms, dtype: int64\n",
      "1.0    41080\n",
      "2.0     3960\n",
      "1.5     2372\n",
      "2.5      467\n",
      "3.0      354\n",
      "0.0      110\n",
      "0.5      100\n",
      "3.5       88\n",
      "4.0       85\n",
      "4.5       24\n",
      "5.0       14\n",
      "Name: bathrooms, dtype: int64\n",
      "1.0     30644\n",
      "2.0     10381\n",
      "3.0      3667\n",
      "4.0      1562\n",
      "0.0      1353\n",
      "5.0       546\n",
      "6.0       258\n",
      "7.0       112\n",
      "8.0        57\n",
      "9.0        36\n",
      "11.0       15\n",
      "10.0       14\n",
      "12.0        9\n",
      "Name: beds, dtype: int64\n"
     ]
    }
   ],
   "source": [
    "print(listings_clean.bedrooms.value_counts())\n",
    "print(listings_clean.bathrooms.value_counts())\n",
    "print(listings_clean.beds.value_counts())"
   ]
  },
  {
   "cell_type": "code",
   "execution_count": 19,
   "metadata": {},
   "outputs": [
    {
     "data": {
      "text/plain": [
       "<matplotlib.axes._subplots.AxesSubplot at 0x1e1e3899a90>"
      ]
     },
     "execution_count": 19,
     "metadata": {},
     "output_type": "execute_result"
    },
    {
     "data": {
      "image/png": "[encoded data removed]",
      "text/plain": [
       "<Figure size 1440x720 with 1 Axes>"
      ]
     },
     "metadata": {
      "needs_background": "light"
     },
     "output_type": "display_data"
    }
   ],
   "source": [
    "listings_clean.bedrooms.plot(kind='hist', figsize=(20, 10))"
   ]
  },
  {
   "cell_type": "code",
   "execution_count": 20,
   "metadata": {},
   "outputs": [
    {
     "data": {
      "text/plain": [
       "<matplotlib.axes._subplots.AxesSubplot at 0x1e1e7e097b8>"
      ]
     },
     "execution_count": 20,
     "metadata": {},
     "output_type": "execute_result"
    },
    {
     "data": {
      "image/png": "[encoded data removed]",
      "text/plain": [
       "<Figure size 1440x720 with 1 Axes>"
      ]
     },
     "metadata": {
      "needs_background": "light"
     },
     "output_type": "display_data"
    }
   ],
   "source": [
    "listings_clean.bathrooms.plot(kind='hist', figsize=(20, 10))"
   ]
  },
  {
   "cell_type": "markdown",
   "metadata": {},
   "source": [
    "<p>After <b>bedrooms, bathrooms, beds</b> cleanup, we are able to see a bit more detail in the distributions.  They are approximately exponential (again skewed toward 1).</p>\n",
    "\n",
    "<p>Final check on the listings for any missing data.</p>"
   ]
  },
  {
   "cell_type": "code",
   "execution_count": 21,
   "metadata": {},
   "outputs": [
    {
     "name": "stdout",
     "output_type": "stream",
     "text": [
      "<class 'pandas.core.frame.DataFrame'>\n",
      "Int64Index: 48654 entries, 0 to 48913\n",
      "Data columns (total 17 columns):\n",
      " #   Column                Non-Null Count  Dtype  \n",
      "---  ------                --------------  -----  \n",
      " 0   id                    48654 non-null  int64  \n",
      " 1   summary               46577 non-null  object \n",
      " 2   description           47705 non-null  object \n",
      " 3   host_is_superhost     48120 non-null  object \n",
      " 4   neighbourhood         48654 non-null  object \n",
      " 5   neighbourhood_group   48654 non-null  object \n",
      " 6   latitude              48654 non-null  float64\n",
      " 7   longitude             48654 non-null  float64\n",
      " 8   room_type             48654 non-null  object \n",
      " 9   accommodates          48654 non-null  int64  \n",
      " 10  bathrooms             48654 non-null  float64\n",
      " 11  bedrooms              48654 non-null  float64\n",
      " 12  beds                  48654 non-null  float64\n",
      " 13  amenities             48654 non-null  object \n",
      " 14  number_of_reviews     48654 non-null  int64  \n",
      " 15  review_scores_rating  38120 non-null  float64\n",
      " 16  reviews_per_month     39034 non-null  float64\n",
      "dtypes: float64(7), int64(3), object(7)\n",
      "memory usage: 6.7+ MB\n",
      "Manhattan        21155\n",
      "Brooklyn         20077\n",
      "Queens            5909\n",
      "Bronx             1142\n",
      "Staten Island      371\n",
      "Name: neighbourhood_group, dtype: int64\n",
      "Williamsburg                  3882\n",
      "Bedford-Stuyvesant            3801\n",
      "Harlem                        2675\n",
      "Bushwick                      2420\n",
      "Upper West Side               1927\n",
      "                              ... \n",
      "Fort Wadsworth                   1\n",
      "Bay Terrace, Staten Island       1\n",
      "Willowbrook                      1\n",
      "New Dorp                         1\n",
      "Woodrow                          1\n",
      "Name: neighbourhood, Length: 223, dtype: int64\n"
     ]
    }
   ],
   "source": [
    "listings_clean.info()\n",
    "print(listings_clean.neighbourhood_group.value_counts())\n",
    "print(listings_clean.neighbourhood.value_counts())"
   ]
  },
  {
   "cell_type": "code",
   "execution_count": 22,
   "metadata": {},
   "outputs": [
    {
     "data": {
      "text/plain": [
       "<matplotlib.axes._subplots.AxesSubplot at 0x1e1e7cfd278>"
      ]
     },
     "execution_count": 22,
     "metadata": {},
     "output_type": "execute_result"
    },
    {
     "data": {
      "image/png": "[encoded data removed]",
      "text/plain": [
       "<Figure size 1440x720 with 1 Axes>"
      ]
     },
     "metadata": {
      "needs_background": "light"
     },
     "output_type": "display_data"
    }
   ],
   "source": [
    "listings_clean.review_scores_rating.plot(kind='hist', figsize=(20, 10))"
   ]
  },
  {
   "cell_type": "code",
   "execution_count": 23,
   "metadata": {},
   "outputs": [],
   "source": [
    "listings_clean['review_scores_rating'].fillna(listings_clean.review_scores_rating.mean(), inplace=True)"
   ]
  },
  {
   "cell_type": "code",
   "execution_count": 24,
   "metadata": {},
   "outputs": [],
   "source": [
    "listings_clean['host_is_superhost'] = np.where(listings_clean.host_is_superhost == 't', 1, 0)"
   ]
  },
  {
   "cell_type": "code",
   "execution_count": 25,
   "metadata": {},
   "outputs": [
    {
     "name": "stdout",
     "output_type": "stream",
     "text": [
      "949\n"
     ]
    }
   ],
   "source": [
    "print(pd.isna(listings_clean.description).sum())\n",
    "listings_clean = listings_clean.loc[pd.notna(listings_clean.description)]"
   ]
  },
  {
   "cell_type": "markdown",
   "metadata": {},
   "source": [
    "<p>One hot encode the <b>neighbourhood</b> values.  Drop non-numerical columns as well as listing IDs (which do not have any meaning for modeling).  Also convert <b>room_type</b> to binary valued <b>entire_home_apt</b>.</p>"
   ]
  },
  {
   "cell_type": "code",
   "execution_count": 26,
   "metadata": {},
   "outputs": [],
   "source": [
    "def cleanup_neighbourhood(val):\n",
    "    return val.replace(' ', '_').lower()\n",
    "\n",
    "listings_clean['neighbourhood_id'] = listings_clean.neighbourhood.apply(cleanup_neighbourhood)\n",
    "listings_clean['neighbourhood_id'] = listings_clean.neighbourhood_id.astype('category')\n",
    "listings_clean['neighbourhood_id'] = listings_clean.neighbourhood_id.cat.codes"
   ]
  },
  {
   "cell_type": "code",
   "execution_count": 27,
   "metadata": {},
   "outputs": [],
   "source": [
    "listings_clean['entire_home_apt'] = np.where(listings_clean.room_type == 'Entire home/apt', 1, 0)"
   ]
  },
  {
   "cell_type": "code",
   "execution_count": 28,
   "metadata": {},
   "outputs": [],
   "source": [
    "import string\n",
    "\n",
    "def cleanup_amenities(text):\n",
    "    remove = string.punctuation\n",
    "    remove = remove.replace(\"-\", \"\").replace(\",\", \"\").replace(\"/\", \"\")\n",
    "    text = text.lower().translate({ord(char): None for char in remove})\n",
    "    text = text.replace(\"translation missing enhostingamenity49\", \"\")\n",
    "    text = text.replace(\"translation missing enhostingamenity50\", \"\")\n",
    "    text = text.replace(\",,\", \",\").replace(\"’\", \"\").replace(' / ', ' ').replace('/', ' ')\n",
    "    text = text.replace(' ', '_').replace('-', '_')\n",
    "    return text.split(\",\")\n",
    "\n",
    "listings_clean['amenities'] = listings_clean['amenities'].apply(cleanup_amenities)"
   ]
  },
  {
   "cell_type": "code",
   "execution_count": 29,
   "metadata": {},
   "outputs": [],
   "source": [
    "amenities_sparse = listings_clean.amenities.str.join('|').str.get_dummies()\n",
    "listings_clean = listings_clean.join(amenities_sparse)"
   ]
  },
  {
   "cell_type": "code",
   "execution_count": 30,
   "metadata": {},
   "outputs": [
    {
     "name": "stderr",
     "output_type": "stream",
     "text": [
      "[nltk_data] Downloading package punkt to\n",
      "[nltk_data]     C:\\Users\\bruce\\AppData\\Roaming\\nltk_data...\n",
      "[nltk_data]   Package punkt is already up-to-date!\n",
      "[nltk_data] Downloading package stopwords to\n",
      "[nltk_data]     C:\\Users\\bruce\\AppData\\Roaming\\nltk_data...\n",
      "[nltk_data]   Package stopwords is already up-to-date!\n",
      "[nltk_data] Downloading package wordnet to\n",
      "[nltk_data]     C:\\Users\\bruce\\AppData\\Roaming\\nltk_data...\n",
      "[nltk_data]   Package wordnet is already up-to-date!\n"
     ]
    }
   ],
   "source": [
    "import re\n",
    "import string\n",
    "import nltk\n",
    "from nltk import ngrams\n",
    "from nltk.tokenize import word_tokenize\n",
    "from nltk.corpus import stopwords\n",
    "from nltk.stem import WordNetLemmatizer\n",
    "\n",
    "nltk.download('punkt')\n",
    "nltk.download('stopwords')\n",
    "nltk.download('wordnet')\n",
    "stop_words = set(stopwords.words('english'))\n",
    "lemmatizer = WordNetLemmatizer()\n",
    "\n",
    "remove = string.punctuation\n",
    "\n",
    "def tokenize_summary(text, n=1):\n",
    "    text = str(text)\n",
    "    text = text.lower()\n",
    "    text = re.sub(r'\\d+', '', text)\n",
    "    words = word_tokenize(text)\n",
    "    tokens = [w for w in words if re.sub('[\\W_]+', '', w)]\n",
    "    grams = []\n",
    "    for gram in ngrams(tokens, n):\n",
    "        keep = True\n",
    "        for subgram in gram:\n",
    "            if subgram in stop_words or subgram in remove:\n",
    "                keep = False\n",
    "                break\n",
    "        if keep:\n",
    "            grams.append(gram)\n",
    "    return grams"
   ]
  },
  {
   "cell_type": "code",
   "execution_count": 31,
   "metadata": {},
   "outputs": [],
   "source": [
    "listings_clean['summary_bigram'] = listings_clean['summary'].apply(tokenize_summary, n=2)\n",
    "listings_clean['summary_trigram'] = listings_clean['summary'].apply(tokenize_summary, n=3)"
   ]
  },
  {
   "cell_type": "code",
   "execution_count": 32,
   "metadata": {},
   "outputs": [],
   "source": [
    "# cols = list(listings_clean.columns)\n",
    "# def match_amenities(row, col_name, match_subgram=False):\n",
    "#     grams = row[cols.index(col_name)]\n",
    "#     for gram in grams:\n",
    "#         if match_subgram:\n",
    "#             for subgram in gram:\n",
    "#                 if subgram in cols:\n",
    "#                     row[cols.index(subgram)] = 1\n",
    "#         if '_'.join(gram) in cols:\n",
    "#             row[cols.index('_'.join(gram))] = 1\n",
    "#     return row"
   ]
  },
  {
   "cell_type": "code",
   "execution_count": 33,
   "metadata": {},
   "outputs": [],
   "source": [
    "# listings_clean.apply(match_amenities, col_name='summary_bigram', match_subgram=True, axis=1)\n",
    "# listings_clean.apply(match_amenities, col_name='summary_trigram', match_subgram=False, axis=1)"
   ]
  },
  {
   "cell_type": "code",
   "execution_count": 34,
   "metadata": {},
   "outputs": [],
   "source": [
    "# import re\n",
    "# from nltk.tokenize import word_tokenize, punkt\n",
    "# from nltk.corpus import stopwords\n",
    "# from nltk.stem import WordNetLemmatizer\n",
    "\n",
    "# nltk.download('punkt')\n",
    "# nltk.download('stopwords')\n",
    "# nltk.download('wordnet')\n",
    "# stop_words = stopwords.words('english')\n",
    "# stop_words = stop_words + ['ps', 'hello', 'go', 'everyone', 's', 'sf', 'nt', 'pmam', 'wown', 'see']\n",
    "# lemmatizer = WordNetLemmatizer()\n",
    "\n",
    "# def tokenize_summary(text):\n",
    "#     text = re.sub(r'\\d+', '', str(text))\n",
    "#     tokens = word_tokenize(text)\n",
    "#     tokens = list(filter(lambda token: punkt.PunktToken(token).is_non_punct, tokens))\n",
    "#     tokens = [token.translate({ord(char): None for char in remove}) for token in tokens]\n",
    "#     tokens = [token.lower() for token in tokens]\n",
    "#     tokens = list(filter(lambda token: token not in stop_words, tokens))\n",
    "#     tokens = [lemmatizer.lemmatize(token) for token in tokens]\n",
    "#     return tokens\n",
    "\n",
    "# text = listings_clean.summary[11]\n",
    "\n",
    "# tokenize_summary(text)"
   ]
  },
  {
   "cell_type": "markdown",
   "metadata": {},
   "source": [
    "<br/>\n",
    "<p>Now let's take a look at the time series data for availability, price, and nights.  <a href=http://data.insideairbnb.com/united-states/ny/new-york-city/2019-12-04/data/calendar.csv.gz><b>Calendar.csv</b></a> comes from the same <a href=\"http://insideairbnb.com/get-the-data.html\">source</a> as <b>listings.csv</b></p>."
   ]
  },
  {
   "cell_type": "code",
   "execution_count": 35,
   "metadata": {},
   "outputs": [],
   "source": [
    "import pandas as pd\n",
    "import numpy as np\n",
    "import matplotlib.pyplot as plt\n",
    "import math\n",
    "\n",
    "%matplotlib inline\n",
    "calendar_df = pd.read_csv(calendar_url, parse_dates=['date'])"
   ]
  },
  {
   "cell_type": "markdown",
   "metadata": {},
   "source": [
    "<br/>\n",
    "<p>This time we don't have to deal with columns of mixed data, nor do we have a large number of columns like in the <b>listings_clean</b> table.  We do, however, have over 18 million entries, which makes sense given that this is time series data over a year for 50,000+ listings.  We will have to clean up availability and price.</p>"
   ]
  },
  {
   "cell_type": "code",
   "execution_count": 36,
   "metadata": {},
   "outputs": [
    {
     "name": "stdout",
     "output_type": "stream",
     "text": [
      "<class 'pandas.core.frame.DataFrame'>\n",
      "RangeIndex: 18470156 entries, 0 to 18470155\n",
      "Data columns (total 7 columns):\n",
      " #   Column          Dtype         \n",
      "---  ------          -----         \n",
      " 0   listing_id      int64         \n",
      " 1   date            datetime64[ns]\n",
      " 2   available       object        \n",
      " 3   price           object        \n",
      " 4   adjusted_price  object        \n",
      " 5   minimum_nights  float64       \n",
      " 6   maximum_nights  float64       \n",
      "dtypes: datetime64[ns](1), float64(2), int64(1), object(3)\n",
      "memory usage: 986.4+ MB\n",
      "None\n",
      "Index(['listing_id', 'date', 'available', 'price', 'adjusted_price',\n",
      "       'minimum_nights', 'maximum_nights'],\n",
      "      dtype='object')\n"
     ]
    },
    {
     "data": {
      "text/html": [
       "<div>\n",
       "<style scoped>\n",
       "    .dataframe tbody tr th:only-of-type {\n",
       "        vertical-align: middle;\n",
       "    }\n",
       "\n",
       "    .dataframe tbody tr th {\n",
       "        vertical-align: top;\n",
       "    }\n",
       "\n",
       "    .dataframe thead th {\n",
       "        text-align: right;\n",
       "    }\n",
       "</style>\n",
       "<table border=\"1\" class=\"dataframe\">\n",
       "  <thead>\n",
       "    <tr style=\"text-align: right;\">\n",
       "      <th></th>\n",
       "      <th>listing_id</th>\n",
       "      <th>date</th>\n",
       "      <th>available</th>\n",
       "      <th>price</th>\n",
       "      <th>adjusted_price</th>\n",
       "      <th>minimum_nights</th>\n",
       "      <th>maximum_nights</th>\n",
       "    </tr>\n",
       "  </thead>\n",
       "  <tbody>\n",
       "    <tr>\n",
       "      <th>0</th>\n",
       "      <td>19812</td>\n",
       "      <td>2019-12-05</td>\n",
       "      <td>f</td>\n",
       "      <td>$105.00</td>\n",
       "      <td>$105.00</td>\n",
       "      <td>3.0</td>\n",
       "      <td>90.0</td>\n",
       "    </tr>\n",
       "    <tr>\n",
       "      <th>1</th>\n",
       "      <td>2595</td>\n",
       "      <td>2019-12-06</td>\n",
       "      <td>f</td>\n",
       "      <td>$175.00</td>\n",
       "      <td>$175.00</td>\n",
       "      <td>10.0</td>\n",
       "      <td>1125.0</td>\n",
       "    </tr>\n",
       "    <tr>\n",
       "      <th>2</th>\n",
       "      <td>2595</td>\n",
       "      <td>2019-12-07</td>\n",
       "      <td>f</td>\n",
       "      <td>$175.00</td>\n",
       "      <td>$175.00</td>\n",
       "      <td>10.0</td>\n",
       "      <td>1125.0</td>\n",
       "    </tr>\n",
       "    <tr>\n",
       "      <th>3</th>\n",
       "      <td>2595</td>\n",
       "      <td>2019-12-08</td>\n",
       "      <td>f</td>\n",
       "      <td>$175.00</td>\n",
       "      <td>$175.00</td>\n",
       "      <td>10.0</td>\n",
       "      <td>1125.0</td>\n",
       "    </tr>\n",
       "    <tr>\n",
       "      <th>4</th>\n",
       "      <td>2595</td>\n",
       "      <td>2019-12-09</td>\n",
       "      <td>f</td>\n",
       "      <td>$175.00</td>\n",
       "      <td>$175.00</td>\n",
       "      <td>10.0</td>\n",
       "      <td>1125.0</td>\n",
       "    </tr>\n",
       "  </tbody>\n",
       "</table>\n",
       "</div>"
      ],
      "text/plain": [
       "   listing_id       date available    price adjusted_price  minimum_nights  \\\n",
       "0       19812 2019-12-05         f  $105.00        $105.00             3.0   \n",
       "1        2595 2019-12-06         f  $175.00        $175.00            10.0   \n",
       "2        2595 2019-12-07         f  $175.00        $175.00            10.0   \n",
       "3        2595 2019-12-08         f  $175.00        $175.00            10.0   \n",
       "4        2595 2019-12-09         f  $175.00        $175.00            10.0   \n",
       "\n",
       "   maximum_nights  \n",
       "0            90.0  \n",
       "1          1125.0  \n",
       "2          1125.0  \n",
       "3          1125.0  \n",
       "4          1125.0  "
      ]
     },
     "execution_count": 36,
     "metadata": {},
     "output_type": "execute_result"
    }
   ],
   "source": [
    "print(calendar_df.info())\n",
    "print(calendar_df.columns)\n",
    "calendar_df.head()"
   ]
  },
  {
   "cell_type": "markdown",
   "metadata": {},
   "source": [
    "<br/>\n",
    "<p>On checking for equal distribution of all listings over the relevant time period (assumed for this step to be a year), we see a problem with <b>listing_id</b> 15268792.  Let's just remove it, since it is not worth the effort to build a year's worth of data for that one listing.</p>"
   ]
  },
  {
   "cell_type": "code",
   "execution_count": 37,
   "metadata": {},
   "outputs": [
    {
     "name": "stdout",
     "output_type": "stream",
     "text": [
      "25512622    368\n",
      "32678719    368\n",
      "28138840    368\n",
      "30069091    368\n",
      "24285044    368\n",
      "           ... \n",
      "27926502    365\n",
      "18992796    365\n",
      "21677053    365\n",
      "30226855    365\n",
      "15268792      6\n",
      "Name: listing_id, Length: 50599, dtype: int64\n"
     ]
    }
   ],
   "source": [
    "print(calendar_df.listing_id.value_counts())\n",
    "calendar_clean = calendar_df[calendar_df.listing_id != 15268792]\n"
   ]
  },
  {
   "cell_type": "markdown",
   "metadata": {},
   "source": [
    "<br/>\n",
    "<p>Since this data set was captured in 2019, we must clean up dates that have year 2020.  Then drop any duplicate <b>listing_id, date</b> combos.  Then check that all days add up to a calendar year for each <b>listing_id</b>.</p>"
   ]
  },
  {
   "cell_type": "code",
   "execution_count": 38,
   "metadata": {},
   "outputs": [
    {
     "name": "stderr",
     "output_type": "stream",
     "text": [
      "c:\\users\\bruce\\miniconda3\\envs\\capstone\\lib\\site-packages\\ipykernel_launcher.py:5: SettingWithCopyWarning: \n",
      "A value is trying to be set on a copy of a slice from a DataFrame.\n",
      "Try using .loc[row_indexer,col_indexer] = value instead\n",
      "\n",
      "See the caveats in the documentation: https://pandas.pydata.org/pandas-docs/stable/user_guide/indexing.html#returning-a-view-versus-a-copy\n",
      "  \"\"\"\n",
      "c:\\users\\bruce\\miniconda3\\envs\\capstone\\lib\\site-packages\\ipykernel_launcher.py:7: SettingWithCopyWarning: \n",
      "A value is trying to be set on a copy of a slice from a DataFrame.\n",
      "Try using .loc[row_indexer,col_indexer] = value instead\n",
      "\n",
      "See the caveats in the documentation: https://pandas.pydata.org/pandas-docs/stable/user_guide/indexing.html#returning-a-view-versus-a-copy\n",
      "  import sys\n"
     ]
    }
   ],
   "source": [
    "# https://stackoverflow.com/questions/50674011/replace-the-year-in-pandas-datetime-column\n",
    "# https://stackoverflow.com/questions/28773342/truncate-timestamp-column-to-hour-precision-in-pandas-dataframe\n",
    "\n",
    "calendar_clean['date'] = calendar_clean['date'].mask(calendar_clean['date'].dt.year == 2020,\n",
    "                            calendar_clean['date'] - pd.to_timedelta(365, unit='D') + pd.to_timedelta(12, unit='h'))\n",
    "# calendar_clean['date'] = calendar_clean['date'] - pd.to_timedelta(365, unit='D') + pd.to_timedelta(12, unit='h')\n",
    "calendar_clean['date'] = calendar_clean['date'].dt.floor('D')"
   ]
  },
  {
   "cell_type": "code",
   "execution_count": 39,
   "metadata": {},
   "outputs": [
    {
     "name": "stdout",
     "output_type": "stream",
     "text": [
      "327521      365\n",
      "7756711     365\n",
      "31877537    365\n",
      "14961122    365\n",
      "201992      365\n",
      "           ... \n",
      "37055580    365\n",
      "13186007    365\n",
      "18549136    365\n",
      "34646244    365\n",
      "30226855    365\n",
      "Name: listing_id, Length: 50598, dtype: int64\n"
     ]
    }
   ],
   "source": [
    "calendar_clean = calendar_clean.drop_duplicates(subset=['listing_id', 'date']).reset_index(drop=True)\n",
    "print(calendar_clean.listing_id.value_counts())"
   ]
  },
  {
   "cell_type": "markdown",
   "metadata": {},
   "source": [
    "<br/>\n",
    "<p>Verify that all listing_id values can be found in the <b>listings_clean</b> table.  If not, then remove rows with listing_id values don't exist in the other table.</p>"
   ]
  },
  {
   "cell_type": "code",
   "execution_count": 40,
   "metadata": {},
   "outputs": [
    {
     "name": "stdout",
     "output_type": "stream",
     "text": [
      "True     17411960\n",
      "False     1056310\n",
      "Name: listing_id, dtype: int64\n"
     ]
    }
   ],
   "source": [
    "# https://stackoverflow.com/questions/28901683/pandas-get-rows-which-are-not-in-other-dataframe\n",
    "\n",
    "ids_match = calendar_clean.listing_id.isin(listings_clean.id)\n",
    "print(ids_match.value_counts())"
   ]
  },
  {
   "cell_type": "code",
   "execution_count": 41,
   "metadata": {},
   "outputs": [
    {
     "name": "stdout",
     "output_type": "stream",
     "text": [
      "<class 'pandas.core.frame.DataFrame'>\n",
      "Int64Index: 17411960 entries, 0 to 18468269\n",
      "Data columns (total 7 columns):\n",
      " #   Column          Dtype         \n",
      "---  ------          -----         \n",
      " 0   listing_id      int64         \n",
      " 1   date            datetime64[ns]\n",
      " 2   available       object        \n",
      " 3   price           object        \n",
      " 4   adjusted_price  object        \n",
      " 5   minimum_nights  float64       \n",
      " 6   maximum_nights  float64       \n",
      "dtypes: datetime64[ns](1), float64(2), int64(1), object(3)\n",
      "memory usage: 1.0+ GB\n"
     ]
    }
   ],
   "source": [
    "calendar_clean = calendar_clean[calendar_clean.listing_id.isin(listings_clean.id)]\n",
    "calendar_clean.info()"
   ]
  },
  {
   "cell_type": "markdown",
   "metadata": {},
   "source": [
    "<br/>\n",
    "<p>Translate all <b>available</b> values to 1 (available) or 0 (unavailable).</p>"
   ]
  },
  {
   "cell_type": "code",
   "execution_count": 42,
   "metadata": {},
   "outputs": [
    {
     "name": "stdout",
     "output_type": "stream",
     "text": [
      "f    11775387\n",
      "t     5636573\n",
      "Name: available, dtype: int64\n",
      "0    11775387\n",
      "1     5636573\n",
      "Name: available, dtype: int64\n"
     ]
    }
   ],
   "source": [
    "print(calendar_clean.available.value_counts())\n",
    "calendar_clean['available'] = np.where(calendar_clean.available == 't', 1, 0)\n",
    "print(calendar_clean.available.value_counts())"
   ]
  },
  {
   "cell_type": "markdown",
   "metadata": {},
   "source": [
    "<br/>\n",
    "<p>Less than 1% of the entries have <b>adjusted_price</b> not equal to <b>price</b>, but we will use <b>adjusted_price</b> anyway and clean it up to be numerical</p>"
   ]
  },
  {
   "cell_type": "code",
   "execution_count": 43,
   "metadata": {},
   "outputs": [
    {
     "data": {
      "text/html": [
       "<div>\n",
       "<style scoped>\n",
       "    .dataframe tbody tr th:only-of-type {\n",
       "        vertical-align: middle;\n",
       "    }\n",
       "\n",
       "    .dataframe tbody tr th {\n",
       "        vertical-align: top;\n",
       "    }\n",
       "\n",
       "    .dataframe thead th {\n",
       "        text-align: right;\n",
       "    }\n",
       "</style>\n",
       "<table border=\"1\" class=\"dataframe\">\n",
       "  <thead>\n",
       "    <tr style=\"text-align: right;\">\n",
       "      <th></th>\n",
       "      <th>listing_id</th>\n",
       "      <th>date</th>\n",
       "      <th>available</th>\n",
       "      <th>price</th>\n",
       "      <th>adjusted_price</th>\n",
       "      <th>minimum_nights</th>\n",
       "      <th>maximum_nights</th>\n",
       "    </tr>\n",
       "  </thead>\n",
       "  <tbody>\n",
       "    <tr>\n",
       "      <th>8232</th>\n",
       "      <td>20734</td>\n",
       "      <td>2019-12-06</td>\n",
       "      <td>0</td>\n",
       "      <td>$134.00</td>\n",
       "      <td>$127.00</td>\n",
       "      <td>3.0</td>\n",
       "      <td>29.0</td>\n",
       "    </tr>\n",
       "    <tr>\n",
       "      <th>8419</th>\n",
       "      <td>20734</td>\n",
       "      <td>2019-12-07</td>\n",
       "      <td>0</td>\n",
       "      <td>$134.00</td>\n",
       "      <td>$127.00</td>\n",
       "      <td>3.0</td>\n",
       "      <td>29.0</td>\n",
       "    </tr>\n",
       "    <tr>\n",
       "      <th>8420</th>\n",
       "      <td>20734</td>\n",
       "      <td>2019-12-08</td>\n",
       "      <td>0</td>\n",
       "      <td>$134.00</td>\n",
       "      <td>$127.00</td>\n",
       "      <td>3.0</td>\n",
       "      <td>29.0</td>\n",
       "    </tr>\n",
       "    <tr>\n",
       "      <th>8421</th>\n",
       "      <td>20734</td>\n",
       "      <td>2019-12-09</td>\n",
       "      <td>0</td>\n",
       "      <td>$134.00</td>\n",
       "      <td>$127.00</td>\n",
       "      <td>3.0</td>\n",
       "      <td>29.0</td>\n",
       "    </tr>\n",
       "    <tr>\n",
       "      <th>8422</th>\n",
       "      <td>20734</td>\n",
       "      <td>2019-12-10</td>\n",
       "      <td>0</td>\n",
       "      <td>$134.00</td>\n",
       "      <td>$127.00</td>\n",
       "      <td>3.0</td>\n",
       "      <td>29.0</td>\n",
       "    </tr>\n",
       "    <tr>\n",
       "      <th>...</th>\n",
       "      <td>...</td>\n",
       "      <td>...</td>\n",
       "      <td>...</td>\n",
       "      <td>...</td>\n",
       "      <td>...</td>\n",
       "      <td>...</td>\n",
       "      <td>...</td>\n",
       "    </tr>\n",
       "    <tr>\n",
       "      <th>18402175</th>\n",
       "      <td>40482221</td>\n",
       "      <td>2019-12-01</td>\n",
       "      <td>0</td>\n",
       "      <td>$74.00</td>\n",
       "      <td>$63.00</td>\n",
       "      <td>1.0</td>\n",
       "      <td>365.0</td>\n",
       "    </tr>\n",
       "    <tr>\n",
       "      <th>18402176</th>\n",
       "      <td>40482221</td>\n",
       "      <td>2019-12-02</td>\n",
       "      <td>0</td>\n",
       "      <td>$74.00</td>\n",
       "      <td>$63.00</td>\n",
       "      <td>1.0</td>\n",
       "      <td>365.0</td>\n",
       "    </tr>\n",
       "    <tr>\n",
       "      <th>18402177</th>\n",
       "      <td>40482221</td>\n",
       "      <td>2019-12-03</td>\n",
       "      <td>0</td>\n",
       "      <td>$74.00</td>\n",
       "      <td>$63.00</td>\n",
       "      <td>1.0</td>\n",
       "      <td>365.0</td>\n",
       "    </tr>\n",
       "    <tr>\n",
       "      <th>18402178</th>\n",
       "      <td>40482221</td>\n",
       "      <td>2019-12-04</td>\n",
       "      <td>0</td>\n",
       "      <td>$74.00</td>\n",
       "      <td>$63.00</td>\n",
       "      <td>1.0</td>\n",
       "      <td>365.0</td>\n",
       "    </tr>\n",
       "    <tr>\n",
       "      <th>18402179</th>\n",
       "      <td>40482221</td>\n",
       "      <td>2019-12-05</td>\n",
       "      <td>0</td>\n",
       "      <td>$79.00</td>\n",
       "      <td>$67.00</td>\n",
       "      <td>1.0</td>\n",
       "      <td>365.0</td>\n",
       "    </tr>\n",
       "  </tbody>\n",
       "</table>\n",
       "<p>111298 rows × 7 columns</p>\n",
       "</div>"
      ],
      "text/plain": [
       "          listing_id       date  available    price adjusted_price  \\\n",
       "8232           20734 2019-12-06          0  $134.00        $127.00   \n",
       "8419           20734 2019-12-07          0  $134.00        $127.00   \n",
       "8420           20734 2019-12-08          0  $134.00        $127.00   \n",
       "8421           20734 2019-12-09          0  $134.00        $127.00   \n",
       "8422           20734 2019-12-10          0  $134.00        $127.00   \n",
       "...              ...        ...        ...      ...            ...   \n",
       "18402175    40482221 2019-12-01          0   $74.00         $63.00   \n",
       "18402176    40482221 2019-12-02          0   $74.00         $63.00   \n",
       "18402177    40482221 2019-12-03          0   $74.00         $63.00   \n",
       "18402178    40482221 2019-12-04          0   $74.00         $63.00   \n",
       "18402179    40482221 2019-12-05          0   $79.00         $67.00   \n",
       "\n",
       "          minimum_nights  maximum_nights  \n",
       "8232                 3.0            29.0  \n",
       "8419                 3.0            29.0  \n",
       "8420                 3.0            29.0  \n",
       "8421                 3.0            29.0  \n",
       "8422                 3.0            29.0  \n",
       "...                  ...             ...  \n",
       "18402175             1.0           365.0  \n",
       "18402176             1.0           365.0  \n",
       "18402177             1.0           365.0  \n",
       "18402178             1.0           365.0  \n",
       "18402179             1.0           365.0  \n",
       "\n",
       "[111298 rows x 7 columns]"
      ]
     },
     "execution_count": 43,
     "metadata": {},
     "output_type": "execute_result"
    }
   ],
   "source": [
    "calendar_clean[calendar_clean.price != calendar_clean.adjusted_price]"
   ]
  },
  {
   "cell_type": "code",
   "execution_count": 44,
   "metadata": {},
   "outputs": [],
   "source": [
    "calendar_clean['price_cleansed'] = calendar_clean.adjusted_price\\\n",
    ".str.replace('$', '').str.replace(',', '').astype('float')"
   ]
  },
  {
   "cell_type": "code",
   "execution_count": 45,
   "metadata": {},
   "outputs": [],
   "source": [
    "calendar_clean = calendar_clean.drop(['adjusted_price', 'price'], axis=1)\n",
    "calendar_clean.rename(columns={'price_cleansed': 'price'}, inplace=True)"
   ]
  },
  {
   "cell_type": "markdown",
   "metadata": {},
   "source": [
    "<br/>\n",
    "<p>Now is a good time to check the state of the table.  All columns except for <b>maximum_nights</b> seem to have useful data.  The large majority of listings allowing over 1000 nights for a short-term rental means that, for practical purposes, it is limitless.</p>"
   ]
  },
  {
   "cell_type": "code",
   "execution_count": 46,
   "metadata": {},
   "outputs": [
    {
     "name": "stdout",
     "output_type": "stream",
     "text": [
      "<class 'pandas.core.frame.DataFrame'>\n",
      "Int64Index: 17411960 entries, 0 to 18468269\n",
      "Data columns (total 6 columns):\n",
      " #   Column          Dtype         \n",
      "---  ------          -----         \n",
      " 0   listing_id      int64         \n",
      " 1   date            datetime64[ns]\n",
      " 2   available       int32         \n",
      " 3   minimum_nights  float64       \n",
      " 4   maximum_nights  float64       \n",
      " 5   price           float64       \n",
      "dtypes: datetime64[ns](1), float64(3), int32(1), int64(1)\n",
      "memory usage: 863.5 MB\n"
     ]
    },
    {
     "data": {
      "text/html": [
       "<div>\n",
       "<style scoped>\n",
       "    .dataframe tbody tr th:only-of-type {\n",
       "        vertical-align: middle;\n",
       "    }\n",
       "\n",
       "    .dataframe tbody tr th {\n",
       "        vertical-align: top;\n",
       "    }\n",
       "\n",
       "    .dataframe thead th {\n",
       "        text-align: right;\n",
       "    }\n",
       "</style>\n",
       "<table border=\"1\" class=\"dataframe\">\n",
       "  <thead>\n",
       "    <tr style=\"text-align: right;\">\n",
       "      <th></th>\n",
       "      <th>listing_id</th>\n",
       "      <th>date</th>\n",
       "      <th>available</th>\n",
       "      <th>minimum_nights</th>\n",
       "      <th>maximum_nights</th>\n",
       "      <th>price</th>\n",
       "    </tr>\n",
       "  </thead>\n",
       "  <tbody>\n",
       "    <tr>\n",
       "      <th>0</th>\n",
       "      <td>19812</td>\n",
       "      <td>2019-12-05</td>\n",
       "      <td>0</td>\n",
       "      <td>3.0</td>\n",
       "      <td>90.0</td>\n",
       "      <td>105.0</td>\n",
       "    </tr>\n",
       "    <tr>\n",
       "      <th>1</th>\n",
       "      <td>2595</td>\n",
       "      <td>2019-12-06</td>\n",
       "      <td>0</td>\n",
       "      <td>10.0</td>\n",
       "      <td>1125.0</td>\n",
       "      <td>175.0</td>\n",
       "    </tr>\n",
       "    <tr>\n",
       "      <th>2</th>\n",
       "      <td>2595</td>\n",
       "      <td>2019-12-07</td>\n",
       "      <td>0</td>\n",
       "      <td>10.0</td>\n",
       "      <td>1125.0</td>\n",
       "      <td>175.0</td>\n",
       "    </tr>\n",
       "    <tr>\n",
       "      <th>3</th>\n",
       "      <td>2595</td>\n",
       "      <td>2019-12-08</td>\n",
       "      <td>0</td>\n",
       "      <td>10.0</td>\n",
       "      <td>1125.0</td>\n",
       "      <td>175.0</td>\n",
       "    </tr>\n",
       "    <tr>\n",
       "      <th>4</th>\n",
       "      <td>2595</td>\n",
       "      <td>2019-12-09</td>\n",
       "      <td>0</td>\n",
       "      <td>10.0</td>\n",
       "      <td>1125.0</td>\n",
       "      <td>175.0</td>\n",
       "    </tr>\n",
       "  </tbody>\n",
       "</table>\n",
       "</div>"
      ],
      "text/plain": [
       "   listing_id       date  available  minimum_nights  maximum_nights  price\n",
       "0       19812 2019-12-05          0             3.0            90.0  105.0\n",
       "1        2595 2019-12-06          0            10.0          1125.0  175.0\n",
       "2        2595 2019-12-07          0            10.0          1125.0  175.0\n",
       "3        2595 2019-12-08          0            10.0          1125.0  175.0\n",
       "4        2595 2019-12-09          0            10.0          1125.0  175.0"
      ]
     },
     "execution_count": 46,
     "metadata": {},
     "output_type": "execute_result"
    }
   ],
   "source": [
    "calendar_clean.info()\n",
    "calendar_clean.head()"
   ]
  },
  {
   "cell_type": "code",
   "execution_count": 47,
   "metadata": {},
   "outputs": [
    {
     "data": {
      "text/html": [
       "<div>\n",
       "<style scoped>\n",
       "    .dataframe tbody tr th:only-of-type {\n",
       "        vertical-align: middle;\n",
       "    }\n",
       "\n",
       "    .dataframe tbody tr th {\n",
       "        vertical-align: top;\n",
       "    }\n",
       "\n",
       "    .dataframe thead th {\n",
       "        text-align: right;\n",
       "    }\n",
       "</style>\n",
       "<table border=\"1\" class=\"dataframe\">\n",
       "  <thead>\n",
       "    <tr style=\"text-align: right;\">\n",
       "      <th></th>\n",
       "      <th>listing_id</th>\n",
       "      <th>available</th>\n",
       "      <th>minimum_nights</th>\n",
       "      <th>maximum_nights</th>\n",
       "      <th>price</th>\n",
       "    </tr>\n",
       "  </thead>\n",
       "  <tbody>\n",
       "    <tr>\n",
       "      <th>count</th>\n",
       "      <td>1.741196e+07</td>\n",
       "      <td>1.741196e+07</td>\n",
       "      <td>1.741135e+07</td>\n",
       "      <td>1.741135e+07</td>\n",
       "      <td>1.741106e+07</td>\n",
       "    </tr>\n",
       "    <tr>\n",
       "      <th>mean</th>\n",
       "      <td>2.087245e+07</td>\n",
       "      <td>3.237185e-01</td>\n",
       "      <td>8.631743e+00</td>\n",
       "      <td>2.803257e+05</td>\n",
       "      <td>1.565330e+02</td>\n",
       "    </tr>\n",
       "    <tr>\n",
       "      <th>std</th>\n",
       "      <td>1.233324e+07</td>\n",
       "      <td>4.678940e-01</td>\n",
       "      <td>3.050296e+01</td>\n",
       "      <td>2.447043e+07</td>\n",
       "      <td>2.584295e+02</td>\n",
       "    </tr>\n",
       "    <tr>\n",
       "      <th>min</th>\n",
       "      <td>2.595000e+03</td>\n",
       "      <td>0.000000e+00</td>\n",
       "      <td>1.000000e+00</td>\n",
       "      <td>1.000000e+00</td>\n",
       "      <td>0.000000e+00</td>\n",
       "    </tr>\n",
       "    <tr>\n",
       "      <th>25%</th>\n",
       "      <td>9.861291e+06</td>\n",
       "      <td>0.000000e+00</td>\n",
       "      <td>2.000000e+00</td>\n",
       "      <td>2.900000e+01</td>\n",
       "      <td>7.000000e+01</td>\n",
       "    </tr>\n",
       "    <tr>\n",
       "      <th>50%</th>\n",
       "      <td>2.093357e+07</td>\n",
       "      <td>0.000000e+00</td>\n",
       "      <td>3.000000e+00</td>\n",
       "      <td>1.125000e+03</td>\n",
       "      <td>1.100000e+02</td>\n",
       "    </tr>\n",
       "    <tr>\n",
       "      <th>75%</th>\n",
       "      <td>3.187873e+07</td>\n",
       "      <td>1.000000e+00</td>\n",
       "      <td>5.000000e+00</td>\n",
       "      <td>1.125000e+03</td>\n",
       "      <td>1.800000e+02</td>\n",
       "    </tr>\n",
       "    <tr>\n",
       "      <th>max</th>\n",
       "      <td>4.058402e+07</td>\n",
       "      <td>1.000000e+00</td>\n",
       "      <td>3.456000e+03</td>\n",
       "      <td>2.147484e+09</td>\n",
       "      <td>1.000000e+04</td>\n",
       "    </tr>\n",
       "  </tbody>\n",
       "</table>\n",
       "</div>"
      ],
      "text/plain": [
       "         listing_id     available  minimum_nights  maximum_nights  \\\n",
       "count  1.741196e+07  1.741196e+07    1.741135e+07    1.741135e+07   \n",
       "mean   2.087245e+07  3.237185e-01    8.631743e+00    2.803257e+05   \n",
       "std    1.233324e+07  4.678940e-01    3.050296e+01    2.447043e+07   \n",
       "min    2.595000e+03  0.000000e+00    1.000000e+00    1.000000e+00   \n",
       "25%    9.861291e+06  0.000000e+00    2.000000e+00    2.900000e+01   \n",
       "50%    2.093357e+07  0.000000e+00    3.000000e+00    1.125000e+03   \n",
       "75%    3.187873e+07  1.000000e+00    5.000000e+00    1.125000e+03   \n",
       "max    4.058402e+07  1.000000e+00    3.456000e+03    2.147484e+09   \n",
       "\n",
       "              price  \n",
       "count  1.741106e+07  \n",
       "mean   1.565330e+02  \n",
       "std    2.584295e+02  \n",
       "min    0.000000e+00  \n",
       "25%    7.000000e+01  \n",
       "50%    1.100000e+02  \n",
       "75%    1.800000e+02  \n",
       "max    1.000000e+04  "
      ]
     },
     "execution_count": 47,
     "metadata": {},
     "output_type": "execute_result"
    }
   ],
   "source": [
    "calendar_clean.describe()"
   ]
  },
  {
   "cell_type": "code",
   "execution_count": 48,
   "metadata": {},
   "outputs": [
    {
     "name": "stdout",
     "output_type": "stream",
     "text": [
      "<class 'pandas.core.frame.DataFrame'>\n",
      "Int64Index: 17411960 entries, 0 to 18468269\n",
      "Data columns (total 6 columns):\n",
      " #   Column          Dtype         \n",
      "---  ------          -----         \n",
      " 0   listing_id      int64         \n",
      " 1   date            datetime64[ns]\n",
      " 2   available       int32         \n",
      " 3   minimum_nights  float64       \n",
      " 4   maximum_nights  float64       \n",
      " 5   price           float64       \n",
      "dtypes: datetime64[ns](1), float64(3), int32(1), int64(1)\n",
      "memory usage: 863.5 MB\n"
     ]
    }
   ],
   "source": [
    "calendar_clean.info()"
   ]
  },
  {
   "cell_type": "markdown",
   "metadata": {},
   "source": [
    "<br/>\n",
    "<p>Since travel patterns are usually seasonal, let's average availability, min nights required, and price over each season and the whole year.</p>"
   ]
  },
  {
   "cell_type": "code",
   "execution_count": 49,
   "metadata": {},
   "outputs": [],
   "source": [
    "available_year_avg = calendar_clean.groupby(by='listing_id').available.mean()\n",
    "available_winter_avg = calendar_clean[(calendar_clean.date.dt.month == 1) | (calendar_clean.date.dt.month == 2) \\\n",
    "    | (calendar_clean.date.dt.month == 12)].groupby(by='listing_id').available.mean()\n",
    "available_spring_avg = calendar_clean[(calendar_clean.date.dt.month >= 3) & (calendar_clean.date.dt.month <= 5)]\\\n",
    ".groupby(by='listing_id').available.mean()\n",
    "available_summer_avg = calendar_clean[(calendar_clean.date.dt.month >= 6) & (calendar_clean.date.dt.month <= 8)]\\\n",
    ".groupby(by='listing_id').available.mean()\n",
    "available_fall_avg = calendar_clean[(calendar_clean.date.dt.month >= 9) & (calendar_clean.date.dt.month <= 11)]\\\n",
    ".groupby(by='listing_id').available.mean()\n",
    "available_jan_avg = calendar_clean[calendar_clean.date.dt.month == 1].groupby(by='listing_id').available.mean()\n",
    "available_jun_avg = calendar_clean[calendar_clean.date.dt.month == 6].groupby(by='listing_id').available.mean()\n",
    "available_dec_avg = calendar_clean[calendar_clean.date.dt.month == 12].groupby(by='listing_id').available.mean()\n",
    "\n",
    "calendar_averages = pd.DataFrame(available_year_avg)\n",
    "calendar_averages.rename(columns={'available': 'available_year_avg'}, inplace=True)\n",
    "calendar_averages['available_winter_avg'] = available_winter_avg\n",
    "calendar_averages['available_spring_avg'] = available_spring_avg\n",
    "calendar_averages['available_summer_avg'] = available_summer_avg\n",
    "calendar_averages['available_fall_avg'] = available_fall_avg\n",
    "calendar_averages['available_jan_avg'] = available_jan_avg\n",
    "calendar_averages['available_jun_avg'] = available_jun_avg\n",
    "calendar_averages['available_dec_avg'] = available_dec_avg\n"
   ]
  },
  {
   "cell_type": "code",
   "execution_count": 50,
   "metadata": {},
   "outputs": [],
   "source": [
    "min_nights_year_avg = calendar_clean.groupby(by='listing_id')['minimum_nights'].mean()\n",
    "min_nights_winter_avg = calendar_clean[(calendar_clean.date.dt.month == 1) | (calendar_clean.date.dt.month == 2) \\\n",
    "    | (calendar_clean.date.dt.month == 12)].groupby(by='listing_id')['minimum_nights'].mean()\n",
    "min_nights_spring_avg = calendar_clean[(calendar_clean.date.dt.month >= 3) & (calendar_clean.date.dt.month <= 5)]\\\n",
    ".groupby(by='listing_id')['minimum_nights'].mean()\n",
    "min_nights_summer_avg = calendar_clean[(calendar_clean.date.dt.month >= 6) & (calendar_clean.date.dt.month <= 8)]\\\n",
    ".groupby(by='listing_id')['minimum_nights'].mean()\n",
    "min_nights_fall_avg = calendar_clean[(calendar_clean.date.dt.month >= 9) & (calendar_clean.date.dt.month <= 11)]\\\n",
    ".groupby(by='listing_id')['minimum_nights'].mean()\n",
    "min_nights_jan_avg = calendar_clean[calendar_clean.date.dt.month == 1].groupby(by='listing_id')['minimum_nights'].mean()\n",
    "min_nights_jun_avg = calendar_clean[calendar_clean.date.dt.month == 6].groupby(by='listing_id')['minimum_nights'].mean()\n",
    "min_nights_dec_avg = calendar_clean[calendar_clean.date.dt.month == 12].groupby(by='listing_id')['minimum_nights'].mean()\n",
    "\n",
    "calendar_averages['min_nights_year_avg'] = min_nights_year_avg\n",
    "calendar_averages['min_nights_winter_avg'] = min_nights_winter_avg\n",
    "calendar_averages['min_nights_spring_avg'] = min_nights_spring_avg\n",
    "calendar_averages['min_nights_summer_avg'] = min_nights_summer_avg\n",
    "calendar_averages['min_nights_fall_avg'] = min_nights_fall_avg\n",
    "calendar_averages['min_nights_jan_avg'] = min_nights_jan_avg\n",
    "calendar_averages['min_nights_jun_avg'] = min_nights_jun_avg\n",
    "calendar_averages['min_nights_dec_avg'] = min_nights_dec_avg"
   ]
  },
  {
   "cell_type": "code",
   "execution_count": 51,
   "metadata": {},
   "outputs": [],
   "source": [
    "price_year_avg = calendar_clean.groupby(by='listing_id')['price'].mean()\n",
    "price_winter_avg = calendar_clean[(calendar_clean.date.dt.month == 1) | (calendar_clean.date.dt.month == 2) \\\n",
    "    | (calendar_clean.date.dt.month == 12)].groupby(by='listing_id')['price'].mean()\n",
    "price_spring_avg = calendar_clean[(calendar_clean.date.dt.month >= 3) & (calendar_clean.date.dt.month <= 5)]\\\n",
    ".groupby(by='listing_id')['price'].mean()\n",
    "price_summer_avg = calendar_clean[(calendar_clean.date.dt.month >= 6) & (calendar_clean.date.dt.month <= 8)]\\\n",
    ".groupby(by='listing_id')['price'].mean()\n",
    "price_fall_avg = calendar_clean[(calendar_clean.date.dt.month >= 9) & (calendar_clean.date.dt.month <= 11)]\\\n",
    ".groupby(by='listing_id')['price'].mean()\n",
    "price_jan_avg = calendar_clean[calendar_clean.date.dt.month == 1].groupby(by='listing_id')['price'].mean()\n",
    "price_jun_avg = calendar_clean[calendar_clean.date.dt.month == 6].groupby(by='listing_id')['price'].mean()\n",
    "price_dec_avg = calendar_clean[calendar_clean.date.dt.month == 12].groupby(by='listing_id')['price'].mean()\n",
    "\n",
    "calendar_averages['price_year_avg'] = price_year_avg\n",
    "calendar_averages['price_winter_avg'] = price_winter_avg\n",
    "calendar_averages['price_spring_avg'] = price_spring_avg\n",
    "calendar_averages['price_summer_avg'] = price_summer_avg\n",
    "calendar_averages['price_fall_avg'] = price_fall_avg\n",
    "calendar_averages['price_jan_avg'] = price_jan_avg\n",
    "calendar_averages['price_jun_avg'] = price_jun_avg\n",
    "calendar_averages['price_dec_avg'] = price_dec_avg"
   ]
  },
  {
   "cell_type": "code",
   "execution_count": 52,
   "metadata": {},
   "outputs": [
    {
     "name": "stdout",
     "output_type": "stream",
     "text": [
      "<class 'pandas.core.frame.DataFrame'>\n",
      "Int64Index: 47704 entries, 2595 to 40584021\n",
      "Data columns (total 24 columns):\n",
      " #   Column                 Non-Null Count  Dtype  \n",
      "---  ------                 --------------  -----  \n",
      " 0   available_year_avg     47704 non-null  float64\n",
      " 1   available_winter_avg   47704 non-null  float64\n",
      " 2   available_spring_avg   47704 non-null  float64\n",
      " 3   available_summer_avg   47704 non-null  float64\n",
      " 4   available_fall_avg     47704 non-null  float64\n",
      " 5   available_jan_avg      47704 non-null  float64\n",
      " 6   available_jun_avg      47704 non-null  float64\n",
      " 7   available_dec_avg      47704 non-null  float64\n",
      " 8   min_nights_year_avg    47704 non-null  float64\n",
      " 9   min_nights_winter_avg  47704 non-null  float64\n",
      " 10  min_nights_spring_avg  47704 non-null  float64\n",
      " 11  min_nights_summer_avg  47704 non-null  float64\n",
      " 12  min_nights_fall_avg    47704 non-null  float64\n",
      " 13  min_nights_jan_avg     47704 non-null  float64\n",
      " 14  min_nights_jun_avg     47704 non-null  float64\n",
      " 15  min_nights_dec_avg     47704 non-null  float64\n",
      " 16  price_year_avg         47704 non-null  float64\n",
      " 17  price_winter_avg       47704 non-null  float64\n",
      " 18  price_spring_avg       47702 non-null  float64\n",
      " 19  price_summer_avg       47704 non-null  float64\n",
      " 20  price_fall_avg         47701 non-null  float64\n",
      " 21  price_jan_avg          47702 non-null  float64\n",
      " 22  price_jun_avg          47704 non-null  float64\n",
      " 23  price_dec_avg          47704 non-null  float64\n",
      "dtypes: float64(24)\n",
      "memory usage: 9.1 MB\n"
     ]
    },
    {
     "data": {
      "text/html": [
       "<div>\n",
       "<style scoped>\n",
       "    .dataframe tbody tr th:only-of-type {\n",
       "        vertical-align: middle;\n",
       "    }\n",
       "\n",
       "    .dataframe tbody tr th {\n",
       "        vertical-align: top;\n",
       "    }\n",
       "\n",
       "    .dataframe thead th {\n",
       "        text-align: right;\n",
       "    }\n",
       "</style>\n",
       "<table border=\"1\" class=\"dataframe\">\n",
       "  <thead>\n",
       "    <tr style=\"text-align: right;\">\n",
       "      <th></th>\n",
       "      <th>available_year_avg</th>\n",
       "      <th>available_winter_avg</th>\n",
       "      <th>available_spring_avg</th>\n",
       "      <th>available_summer_avg</th>\n",
       "      <th>available_fall_avg</th>\n",
       "      <th>available_jan_avg</th>\n",
       "      <th>available_jun_avg</th>\n",
       "      <th>available_dec_avg</th>\n",
       "      <th>min_nights_year_avg</th>\n",
       "      <th>min_nights_winter_avg</th>\n",
       "      <th>...</th>\n",
       "      <th>min_nights_jun_avg</th>\n",
       "      <th>min_nights_dec_avg</th>\n",
       "      <th>price_year_avg</th>\n",
       "      <th>price_winter_avg</th>\n",
       "      <th>price_spring_avg</th>\n",
       "      <th>price_summer_avg</th>\n",
       "      <th>price_fall_avg</th>\n",
       "      <th>price_jan_avg</th>\n",
       "      <th>price_jun_avg</th>\n",
       "      <th>price_dec_avg</th>\n",
       "    </tr>\n",
       "  </thead>\n",
       "  <tbody>\n",
       "    <tr>\n",
       "      <th>count</th>\n",
       "      <td>47704.000000</td>\n",
       "      <td>47704.000000</td>\n",
       "      <td>47704.000000</td>\n",
       "      <td>47704.000000</td>\n",
       "      <td>47704.000000</td>\n",
       "      <td>47704.000000</td>\n",
       "      <td>47704.000000</td>\n",
       "      <td>47704.000000</td>\n",
       "      <td>47704.000000</td>\n",
       "      <td>47704.000000</td>\n",
       "      <td>...</td>\n",
       "      <td>47704.000000</td>\n",
       "      <td>47704.000000</td>\n",
       "      <td>47704.000000</td>\n",
       "      <td>47704.000000</td>\n",
       "      <td>47702.000000</td>\n",
       "      <td>47704.000000</td>\n",
       "      <td>47701.000000</td>\n",
       "      <td>47702.000000</td>\n",
       "      <td>47704.000000</td>\n",
       "      <td>47704.000000</td>\n",
       "    </tr>\n",
       "    <tr>\n",
       "      <th>mean</th>\n",
       "      <td>0.323718</td>\n",
       "      <td>0.365216</td>\n",
       "      <td>0.364684</td>\n",
       "      <td>0.292337</td>\n",
       "      <td>0.272988</td>\n",
       "      <td>0.413939</td>\n",
       "      <td>0.292452</td>\n",
       "      <td>0.237007</td>\n",
       "      <td>8.631673</td>\n",
       "      <td>8.076291</td>\n",
       "      <td>...</td>\n",
       "      <td>8.897250</td>\n",
       "      <td>7.748732</td>\n",
       "      <td>156.532717</td>\n",
       "      <td>150.129226</td>\n",
       "      <td>155.624845</td>\n",
       "      <td>158.014825</td>\n",
       "      <td>162.288441</td>\n",
       "      <td>146.732350</td>\n",
       "      <td>158.514728</td>\n",
       "      <td>156.507643</td>\n",
       "    </tr>\n",
       "    <tr>\n",
       "      <th>std</th>\n",
       "      <td>0.371719</td>\n",
       "      <td>0.367203</td>\n",
       "      <td>0.447064</td>\n",
       "      <td>0.440169</td>\n",
       "      <td>0.440276</td>\n",
       "      <td>0.443516</td>\n",
       "      <td>0.438309</td>\n",
       "      <td>0.292483</td>\n",
       "      <td>28.990838</td>\n",
       "      <td>25.724295</td>\n",
       "      <td>...</td>\n",
       "      <td>34.060552</td>\n",
       "      <td>23.452019</td>\n",
       "      <td>237.790091</td>\n",
       "      <td>229.748092</td>\n",
       "      <td>237.865209</td>\n",
       "      <td>235.104518</td>\n",
       "      <td>293.532033</td>\n",
       "      <td>229.503380</td>\n",
       "      <td>236.032673</td>\n",
       "      <td>235.804745</td>\n",
       "    </tr>\n",
       "    <tr>\n",
       "      <th>min</th>\n",
       "      <td>0.000000</td>\n",
       "      <td>0.000000</td>\n",
       "      <td>0.000000</td>\n",
       "      <td>0.000000</td>\n",
       "      <td>0.000000</td>\n",
       "      <td>0.000000</td>\n",
       "      <td>0.000000</td>\n",
       "      <td>0.000000</td>\n",
       "      <td>1.000000</td>\n",
       "      <td>1.000000</td>\n",
       "      <td>...</td>\n",
       "      <td>1.000000</td>\n",
       "      <td>1.000000</td>\n",
       "      <td>10.000000</td>\n",
       "      <td>10.000000</td>\n",
       "      <td>10.000000</td>\n",
       "      <td>0.000000</td>\n",
       "      <td>0.000000</td>\n",
       "      <td>10.000000</td>\n",
       "      <td>0.000000</td>\n",
       "      <td>0.000000</td>\n",
       "    </tr>\n",
       "    <tr>\n",
       "      <th>25%</th>\n",
       "      <td>0.000000</td>\n",
       "      <td>0.000000</td>\n",
       "      <td>0.000000</td>\n",
       "      <td>0.000000</td>\n",
       "      <td>0.000000</td>\n",
       "      <td>0.000000</td>\n",
       "      <td>0.000000</td>\n",
       "      <td>0.000000</td>\n",
       "      <td>2.000000</td>\n",
       "      <td>2.000000</td>\n",
       "      <td>...</td>\n",
       "      <td>2.000000</td>\n",
       "      <td>2.000000</td>\n",
       "      <td>70.000000</td>\n",
       "      <td>69.052778</td>\n",
       "      <td>70.000000</td>\n",
       "      <td>70.000000</td>\n",
       "      <td>70.000000</td>\n",
       "      <td>68.064516</td>\n",
       "      <td>70.000000</td>\n",
       "      <td>70.000000</td>\n",
       "    </tr>\n",
       "    <tr>\n",
       "      <th>50%</th>\n",
       "      <td>0.164384</td>\n",
       "      <td>0.255556</td>\n",
       "      <td>0.043478</td>\n",
       "      <td>0.000000</td>\n",
       "      <td>0.000000</td>\n",
       "      <td>0.129032</td>\n",
       "      <td>0.000000</td>\n",
       "      <td>0.129032</td>\n",
       "      <td>3.000000</td>\n",
       "      <td>3.000000</td>\n",
       "      <td>...</td>\n",
       "      <td>3.000000</td>\n",
       "      <td>3.000000</td>\n",
       "      <td>110.139726</td>\n",
       "      <td>109.000000</td>\n",
       "      <td>110.000000</td>\n",
       "      <td>112.000000</td>\n",
       "      <td>111.000000</td>\n",
       "      <td>105.483871</td>\n",
       "      <td>112.000000</td>\n",
       "      <td>111.161290</td>\n",
       "    </tr>\n",
       "    <tr>\n",
       "      <th>75%</th>\n",
       "      <td>0.663014</td>\n",
       "      <td>0.722222</td>\n",
       "      <td>0.989130</td>\n",
       "      <td>0.956522</td>\n",
       "      <td>0.989011</td>\n",
       "      <td>0.935484</td>\n",
       "      <td>1.000000</td>\n",
       "      <td>0.419355</td>\n",
       "      <td>5.000000</td>\n",
       "      <td>5.000000</td>\n",
       "      <td>...</td>\n",
       "      <td>5.000000</td>\n",
       "      <td>5.000000</td>\n",
       "      <td>180.000000</td>\n",
       "      <td>175.000000</td>\n",
       "      <td>180.000000</td>\n",
       "      <td>182.065217</td>\n",
       "      <td>180.230769</td>\n",
       "      <td>170.000000</td>\n",
       "      <td>182.000000</td>\n",
       "      <td>180.161290</td>\n",
       "    </tr>\n",
       "    <tr>\n",
       "      <th>max</th>\n",
       "      <td>1.000000</td>\n",
       "      <td>1.000000</td>\n",
       "      <td>1.000000</td>\n",
       "      <td>1.000000</td>\n",
       "      <td>1.000000</td>\n",
       "      <td>1.000000</td>\n",
       "      <td>1.000000</td>\n",
       "      <td>1.000000</td>\n",
       "      <td>1494.104110</td>\n",
       "      <td>1997.166667</td>\n",
       "      <td>...</td>\n",
       "      <td>3337.000000</td>\n",
       "      <td>1574.225806</td>\n",
       "      <td>10000.000000</td>\n",
       "      <td>10000.000000</td>\n",
       "      <td>10000.000000</td>\n",
       "      <td>10000.000000</td>\n",
       "      <td>10000.000000</td>\n",
       "      <td>10000.000000</td>\n",
       "      <td>10000.000000</td>\n",
       "      <td>10000.000000</td>\n",
       "    </tr>\n",
       "  </tbody>\n",
       "</table>\n",
       "<p>8 rows × 24 columns</p>\n",
       "</div>"
      ],
      "text/plain": [
       "       available_year_avg  available_winter_avg  available_spring_avg  \\\n",
       "count        47704.000000          47704.000000          47704.000000   \n",
       "mean             0.323718              0.365216              0.364684   \n",
       "std              0.371719              0.367203              0.447064   \n",
       "min              0.000000              0.000000              0.000000   \n",
       "25%              0.000000              0.000000              0.000000   \n",
       "50%              0.164384              0.255556              0.043478   \n",
       "75%              0.663014              0.722222              0.989130   \n",
       "max              1.000000              1.000000              1.000000   \n",
       "\n",
       "       available_summer_avg  available_fall_avg  available_jan_avg  \\\n",
       "count          47704.000000        47704.000000       47704.000000   \n",
       "mean               0.292337            0.272988           0.413939   \n",
       "std                0.440169            0.440276           0.443516   \n",
       "min                0.000000            0.000000           0.000000   \n",
       "25%                0.000000            0.000000           0.000000   \n",
       "50%                0.000000            0.000000           0.129032   \n",
       "75%                0.956522            0.989011           0.935484   \n",
       "max                1.000000            1.000000           1.000000   \n",
       "\n",
       "       available_jun_avg  available_dec_avg  min_nights_year_avg  \\\n",
       "count       47704.000000       47704.000000         47704.000000   \n",
       "mean            0.292452           0.237007             8.631673   \n",
       "std             0.438309           0.292483            28.990838   \n",
       "min             0.000000           0.000000             1.000000   \n",
       "25%             0.000000           0.000000             2.000000   \n",
       "50%             0.000000           0.129032             3.000000   \n",
       "75%             1.000000           0.419355             5.000000   \n",
       "max             1.000000           1.000000          1494.104110   \n",
       "\n",
       "       min_nights_winter_avg  ...  min_nights_jun_avg  min_nights_dec_avg  \\\n",
       "count           47704.000000  ...        47704.000000        47704.000000   \n",
       "mean                8.076291  ...            8.897250            7.748732   \n",
       "std                25.724295  ...           34.060552           23.452019   \n",
       "min                 1.000000  ...            1.000000            1.000000   \n",
       "25%                 2.000000  ...            2.000000            2.000000   \n",
       "50%                 3.000000  ...            3.000000            3.000000   \n",
       "75%                 5.000000  ...            5.000000            5.000000   \n",
       "max              1997.166667  ...         3337.000000         1574.225806   \n",
       "\n",
       "       price_year_avg  price_winter_avg  price_spring_avg  price_summer_avg  \\\n",
       "count    47704.000000      47704.000000      47702.000000      47704.000000   \n",
       "mean       156.532717        150.129226        155.624845        158.014825   \n",
       "std        237.790091        229.748092        237.865209        235.104518   \n",
       "min         10.000000         10.000000         10.000000          0.000000   \n",
       "25%         70.000000         69.052778         70.000000         70.000000   \n",
       "50%        110.139726        109.000000        110.000000        112.000000   \n",
       "75%        180.000000        175.000000        180.000000        182.065217   \n",
       "max      10000.000000      10000.000000      10000.000000      10000.000000   \n",
       "\n",
       "       price_fall_avg  price_jan_avg  price_jun_avg  price_dec_avg  \n",
       "count    47701.000000   47702.000000   47704.000000   47704.000000  \n",
       "mean       162.288441     146.732350     158.514728     156.507643  \n",
       "std        293.532033     229.503380     236.032673     235.804745  \n",
       "min          0.000000      10.000000       0.000000       0.000000  \n",
       "25%         70.000000      68.064516      70.000000      70.000000  \n",
       "50%        111.000000     105.483871     112.000000     111.161290  \n",
       "75%        180.230769     170.000000     182.000000     180.161290  \n",
       "max      10000.000000   10000.000000   10000.000000   10000.000000  \n",
       "\n",
       "[8 rows x 24 columns]"
      ]
     },
     "execution_count": 52,
     "metadata": {},
     "output_type": "execute_result"
    }
   ],
   "source": [
    "calendar_averages.info()\n",
    "calendar_averages.describe()"
   ]
  },
  {
   "cell_type": "code",
   "execution_count": 53,
   "metadata": {},
   "outputs": [
    {
     "data": {
      "text/plain": [
       "<matplotlib.axes._subplots.AxesSubplot at 0x1e1e7dfd2b0>"
      ]
     },
     "execution_count": 53,
     "metadata": {},
     "output_type": "execute_result"
    },
    {
     "data": {
      "image/png": "[encoded data removed]",
      "text/plain": [
       "<Figure size 1440x720 with 1 Axes>"
      ]
     },
     "metadata": {
      "needs_background": "light"
     },
     "output_type": "display_data"
    }
   ],
   "source": [
    "calendar_averages.min_nights_year_avg.plot(kind='box', figsize=(20, 10))"
   ]
  },
  {
   "cell_type": "markdown",
   "metadata": {},
   "source": [
    "<p>1000+ <b>minimum_nights</b> is extremely high and unrealistic.  Box plot shows outliers above 10 nights, and the 3rd quartile level is 5 nights.</p>\n",
    "\n",
    "<p>Let's drop any entry that averages over 30 minimum nights.</p>"
   ]
  },
  {
   "cell_type": "code",
   "execution_count": 54,
   "metadata": {},
   "outputs": [],
   "source": [
    "calendar_averages = calendar_averages.loc[\n",
    "    (calendar_averages.min_nights_year_avg <= 30) & \n",
    "    (calendar_averages.min_nights_winter_avg <= 30) &\n",
    "    (calendar_averages.min_nights_spring_avg <= 30) &\n",
    "    (calendar_averages.min_nights_summer_avg <= 30) &\n",
    "    (calendar_averages.min_nights_fall_avg <= 30) &\n",
    "    (calendar_averages.min_nights_jan_avg <= 30) &\n",
    "    (calendar_averages.min_nights_jun_avg <= 30) &\n",
    "    (calendar_averages.min_nights_dec_avg <= 30)\n",
    "]"
   ]
  },
  {
   "cell_type": "markdown",
   "metadata": {},
   "source": [
    "<br/>\n",
    "<p>The box plot shows outliers above \\$600 average nightly price, and the 3rd quartile level is \\$180.  Let's drop all listings above \\$600</p>"
   ]
  },
  {
   "cell_type": "code",
   "execution_count": 55,
   "metadata": {},
   "outputs": [
    {
     "data": {
      "text/plain": [
       "<matplotlib.axes._subplots.AxesSubplot at 0x1e1ff98ecc0>"
      ]
     },
     "execution_count": 55,
     "metadata": {},
     "output_type": "execute_result"
    },
    {
     "data": {
      "image/png": "[encoded data removed]",
      "text/plain": [
       "<Figure size 1440x720 with 1 Axes>"
      ]
     },
     "metadata": {
      "needs_background": "light"
     },
     "output_type": "display_data"
    }
   ],
   "source": [
    "calendar_averages.price_year_avg.plot(kind='box', figsize=(20, 10))"
   ]
  },
  {
   "cell_type": "code",
   "execution_count": 56,
   "metadata": {},
   "outputs": [
    {
     "name": "stdout",
     "output_type": "stream",
     "text": [
      "3\n"
     ]
    }
   ],
   "source": [
    "print(calendar_averages.loc[calendar_averages.price_year_avg < 20].price_year_avg.count())\n",
    "calendar_averages = calendar_averages.loc[\n",
    "    (calendar_averages.price_year_avg >= 20) & \n",
    "    (calendar_averages.price_winter_avg >= 20) & \n",
    "    (calendar_averages.price_spring_avg >= 20) & \n",
    "    (calendar_averages.price_summer_avg >= 20) & \n",
    "    (calendar_averages.price_fall_avg >= 20) & \n",
    "    (calendar_averages.price_jan_avg >= 20) & \n",
    "    (calendar_averages.price_jun_avg >= 20) & \n",
    "    (calendar_averages.price_dec_avg >= 20) \n",
    "]"
   ]
  },
  {
   "cell_type": "code",
   "execution_count": 57,
   "metadata": {},
   "outputs": [
    {
     "name": "stdout",
     "output_type": "stream",
     "text": [
      "1157\n"
     ]
    }
   ],
   "source": [
    "print(calendar_averages.loc[calendar_averages.price_year_avg > 500].price_year_avg.count())\n",
    "calendar_averages = calendar_averages.loc[\n",
    "    (calendar_averages.price_year_avg <= 500) & \n",
    "    (calendar_averages.price_winter_avg <= 500) & \n",
    "    (calendar_averages.price_spring_avg <= 500) & \n",
    "    (calendar_averages.price_summer_avg <= 500) & \n",
    "    (calendar_averages.price_fall_avg <= 500) & \n",
    "    (calendar_averages.price_jan_avg <= 500) & \n",
    "    (calendar_averages.price_jun_avg <= 500) & \n",
    "    (calendar_averages.price_dec_avg <= 500) \n",
    "]"
   ]
  },
  {
   "cell_type": "code",
   "execution_count": 60,
   "metadata": {},
   "outputs": [
    {
     "data": {
      "text/plain": [
       "Int64Index([    2595,     3831,     5099,     5178,     5203,     5238,\n",
       "                5441,     5803,     7097,     7322,\n",
       "            ...\n",
       "            40568428, 40568521, 40569037, 40569773, 40569952, 40570168,\n",
       "            40570350, 40570935, 40572303, 40584021],\n",
       "           dtype='int64', name='listing_id', length=45082)"
      ]
     },
     "execution_count": 60,
     "metadata": {},
     "output_type": "execute_result"
    }
   ],
   "source": [
    "calendar_averages.index"
   ]
  },
  {
   "cell_type": "code",
   "execution_count": null,
   "metadata": {},
   "outputs": [],
   "source": [
    "calendar_averages.info()\n",
    "calendar_averages.describe()"
   ]
  },
  {
   "cell_type": "markdown",
   "metadata": {},
   "source": [
    "<p>We still have to deal with price outliers, but let's merge the <b>calendar_averages</b> and <b>listings_clean</b> tables on listing ID so we can use geographic data to average over nearest neighbors.</p>"
   ]
  },
  {
   "cell_type": "code",
   "execution_count": null,
   "metadata": {},
   "outputs": [],
   "source": [
    "# https://chrisalbon.com/python/data_wrangling/pandas_join_merge_dataframe/\n",
    "\n",
    "listings_clean = listings_clean.loc[listings_clean.id.isin(calendar_averages.index)]\n",
    "listings_merge = pd.merge(listings_clean, calendar_averages, left_on='id', right_index=True)"
   ]
  },
  {
   "cell_type": "code",
   "execution_count": null,
   "metadata": {},
   "outputs": [],
   "source": [
    "listings_merge.info()\n",
    "listings_merge.head()"
   ]
  },
  {
   "cell_type": "code",
   "execution_count": null,
   "metadata": {},
   "outputs": [],
   "source": [
    "listings_merge.describe()"
   ]
  },
  {
   "cell_type": "markdown",
   "metadata": {},
   "source": [
    "<br/>\n",
    "<p>Availability seems to be a heavy tailed distribution, with most listings unavailable over the year.  This suggests a high average utilization of rentals in NYC, but there are still a lot of rentals available.</p>"
   ]
  },
  {
   "cell_type": "code",
   "execution_count": null,
   "metadata": {},
   "outputs": [],
   "source": [
    "plt = listings_merge.available_year_avg.plot(kind='hist', figsize=(20, 10))"
   ]
  },
  {
   "cell_type": "markdown",
   "metadata": {},
   "source": [
    "<br/>\n",
    "<p>Even in a low season like winter, there seems to be low availability.</p>"
   ]
  },
  {
   "cell_type": "code",
   "execution_count": null,
   "metadata": {
    "scrolled": false
   },
   "outputs": [],
   "source": [
    "plt = listings_merge.available_winter_avg.plot(kind='hist', figsize=(20, 10))"
   ]
  },
  {
   "cell_type": "markdown",
   "metadata": {},
   "source": [
    "<br/>\n",
    "<p>Plotting the log of the minimum nights required we see that it approximates an exponential distribution.</p>"
   ]
  },
  {
   "cell_type": "code",
   "execution_count": null,
   "metadata": {
    "scrolled": true
   },
   "outputs": [],
   "source": [
    "min_nights_75_perc = listings_merge.loc[listings_merge.min_nights_year_avg > 5].min_nights_year_avg.value_counts()\n",
    "print(listings_merge.min_nights_year_avg.value_counts())\n",
    "print(min_nights_75_perc)\n",
    "plt = listings_merge.min_nights_year_avg.plot(kind='hist', figsize=(20, 10))"
   ]
  },
  {
   "cell_type": "markdown",
   "metadata": {},
   "source": [
    "<br/>\n",
    "<p>The distribution of annual average prices is somewhat normal with a long tail on the upper end of the price range.  Hopefully removing the high priced outliers earlier is sufficient cleaning.</p>"
   ]
  },
  {
   "cell_type": "code",
   "execution_count": null,
   "metadata": {
    "scrolled": true
   },
   "outputs": [],
   "source": [
    "price_75_perc = listings_merge.loc[listings_merge.price_year_avg > 180].price_year_avg.value_counts()\n",
    "print(listings_merge.price_year_avg.value_counts())\n",
    "print(price_75_perc)\n",
    "plt = listings_merge.price_year_avg.plot(kind='hist', figsize=(20, 10))"
   ]
  },
  {
   "cell_type": "markdown",
   "metadata": {},
   "source": [
    "<br/>\n",
    "<p>Use a similar method as with the <b>listings_clean</b> table to average over a 200 m radius from listings that have 0, missing, or outlier values for prices.  Again we will not consider <b>room_type</b>.</p>"
   ]
  },
  {
   "cell_type": "code",
   "execution_count": null,
   "metadata": {},
   "outputs": [],
   "source": [
    "# https://gizmodo.com/how-precise-is-one-degree-of-longitude-or-latitude-1631241162\n",
    "# averaging over approximate radius of 200 m from listings\n",
    "# that have 0, NaN\n",
    "\n",
    "lat_diff = 0.002\n",
    "long_diff = 0.002\n",
    "cols = list(listings_merge.columns)\n",
    "\n",
    "def avg_of_neighbors_2(row, col_name):\n",
    "    item = row[cols.index(col_name)]\n",
    "    lat = row[cols.index('latitude')]\n",
    "    long = row[cols.index('longitude')]\n",
    "    room_type = row[cols.index('room_type')]\n",
    "    if math.isnan(item) or item == 0:\n",
    "        item = listings_merge[col_name].loc[\n",
    "                (listings_clean.latitude > lat - lat_diff) &\n",
    "                (listings_merge.latitude < lat + lat_diff) &\n",
    "                (listings_merge.longitude > long - long_diff) &\n",
    "                (listings_merge.longitude < long + long_diff) &\n",
    "                (listings_merge.room_type == room_type)\n",
    "               ].mean()\n",
    "        row[cols.index(col_name)] = item\n",
    "    return row\n",
    "\n",
    "listings_merge = listings_merge.apply(avg_of_neighbors_2, col_name='price_year_avg', axis=1)\n",
    "listings_merge = listings_merge.apply(avg_of_neighbors_2, col_name='price_winter_avg', axis=1)\n",
    "listings_merge = listings_merge.apply(avg_of_neighbors_2, col_name='price_spring_avg', axis=1)\n",
    "listings_merge = listings_merge.apply(avg_of_neighbors_2, col_name='price_summer_avg', axis=1)\n",
    "listings_merge = listings_merge.apply(avg_of_neighbors_2, col_name='price_fall_avg', axis=1)\n",
    "listings_merge = listings_merge.apply(avg_of_neighbors_2, col_name='price_jan_avg', axis=1)\n",
    "listings_merge = listings_merge.apply(avg_of_neighbors_2, col_name='price_jun_avg', axis=1)\n",
    "listings_merge = listings_merge.apply(avg_of_neighbors_2, col_name='price_dec_avg', axis=1)"
   ]
  },
  {
   "cell_type": "code",
   "execution_count": null,
   "metadata": {},
   "outputs": [],
   "source": [
    "listings_merge.info()\n",
    "listings_merge.describe()"
   ]
  },
  {
   "cell_type": "code",
   "execution_count": null,
   "metadata": {},
   "outputs": [],
   "source": [
    "for c in listings_merge.columns:\n",
    "    print(c)"
   ]
  },
  {
   "cell_type": "code",
   "execution_count": null,
   "metadata": {},
   "outputs": [],
   "source": [
    "#Bronx 71812, 149777, Brooklyn 8490, 7726, Manhattan 2595, 5238, Queens 45910, 57166, Staten Island 225976, 639199\n",
    "# listings_clean.loc[\n",
    "#     (listings_clean.neighbourhood_group == 'Manhattan') &\n",
    "#     (listings_clean.room_type == 'Entire home/apt')].head()\n",
    "listings_ids = [71812, 149777, 8490, 7726, 2595, 5238, 45910, 57166, 225976, 639199]\n",
    "for listing_id in listings_ids:\n",
    "    calendar_clean.loc[calendar_clean.listing_id == listing_id].sort_values(by='date').plot(\n",
    "        x='date', y='price', style='o'\n",
    "    )"
   ]
  },
  {
   "cell_type": "markdown",
   "metadata": {},
   "source": [
    "<br/>\n",
    "<p>Let's do a check for any correlated features.</p>"
   ]
  },
  {
   "cell_type": "code",
   "execution_count": null,
   "metadata": {},
   "outputs": [],
   "source": [
    "import seaborn as sns\n",
    "import matplotlib.pyplot as plt\n",
    "\n",
    "sns.set(style=\"white\")\n",
    "\n",
    "features_corr = listings_merge[[\n",
    "    'summary', 'neighbourhood', 'neighbourhood_id', 'neighbourhood_group', 'latitude', 'longitude',\n",
    "    'room_type', 'accommodates', 'bathrooms', 'bedrooms', 'beds',\n",
    "    'amenities', 'number_of_reviews', 'review_scores_rating', 'reviews_per_month',\n",
    "    'available_year_avg', 'available_winter_avg', 'available_spring_avg', 'available_summer_avg', 'available_fall_avg',\n",
    "    'available_jan_avg', 'available_jun_avg', 'available_dec_avg',\n",
    "    'min_nights_year_avg', 'min_nights_winter_avg', 'min_nights_spring_avg', 'min_nights_summer_avg', 'min_nights_fall_avg',\n",
    "    'min_nights_jan_avg', 'min_nights_jun_avg', 'min_nights_dec_avg'\n",
    "]]\n",
    "\n",
    "fig, ax = plt.subplots(figsize=(11, 9))\n",
    "cmap = sns.diverging_palette(220, 10, as_cmap=True)\n",
    "sns.heatmap(features_corr.corr(), cmap=cmap, vmax=1, vmin=-1, center=0, square=True, linewidths=.5, cbar_kws={\"shrink\": .5})"
   ]
  },
  {
   "cell_type": "markdown",
   "metadata": {},
   "source": [
    "<p>We can see that <b>beds</b> is heavily correlated with <b>bedrooms</b>.  We can drop that column.</p>\n",
    "<br/>"
   ]
  },
  {
   "cell_type": "code",
   "execution_count": null,
   "metadata": {},
   "outputs": [],
   "source": [
    "from xgboost.sklearn import XGBRegressor\n",
    "from sklearn.model_selection import train_test_split\n",
    "from sklearn.metrics import mean_absolute_error\n",
    "\n",
    "X_base = listings_merge.drop([\n",
    "    'id', 'summary', 'description', 'neighbourhood', 'neighbourhood_id', 'neighbourhood_group', 'latitude', 'longitude', 'room_type',\n",
    "    'accommodates', 'bathrooms', 'bedrooms', 'beds', 'amenities',\n",
    "    'number_of_reviews', 'review_scores_rating', 'reviews_per_month', 'entire_home_apt',\n",
    "    'summary_bigram', 'summary_trigram', 'available_year_avg', 'available_winter_avg', 'available_spring_avg',\n",
    "    'available_summer_avg', 'available_fall_avg', 'available_jan_avg', 'available_jun_avg', 'available_dec_avg',\n",
    "    'min_nights_year_avg', 'min_nights_winter_avg', 'min_nights_spring_avg', 'min_nights_summer_avg',\n",
    "    'min_nights_fall_avg', 'min_nights_jan_avg', 'min_nights_jun_avg', 'min_nights_dec_avg',\n",
    "    'price_year_avg', 'price_winter_avg', 'price_spring_avg', 'price_summer_avg', 'price_fall_avg',\n",
    "    'price_jan_avg', 'price_jun_avg', 'price_dec_avg'\n",
    "], axis=1)\n",
    "y = listings_merge.price_year_avg\n",
    "\n",
    "X_train, X_test, y_train, y_test = train_test_split(X_base, y, test_size=.25, random_state=42, shuffle=True)\n",
    "\n",
    "clf = XGBRegressor(\n",
    "    objective='reg:squarederror',\n",
    "    learning_rate=0.1,\n",
    "    max_depth=8,\n",
    "    n_estimators=200,\n",
    "    cv=5,\n",
    "    n_jobs=-1\n",
    ")\n",
    "\n",
    "clf.fit(X_train, y_train)\n",
    "print('Feature set: all amenities')\n",
    "print('Target label: price_year_avg')\n",
    "print('Gradient boost R^2:', clf.score(X_test, y_test))\n",
    "print('Gradient boost MAE:', mean_absolute_error(y_test, clf.predict(X_test)))"
   ]
  },
  {
   "cell_type": "code",
   "execution_count": null,
   "metadata": {},
   "outputs": [],
   "source": [
    "from sklearn.feature_selection import SelectKBest, f_regression\n",
    "from xgboost.sklearn import XGBRegressor\n",
    "from sklearn.model_selection import train_test_split\n",
    "from sklearn.metrics import mean_absolute_error\n",
    "\n",
    "kbest = 0\n",
    "max_score = 0\n",
    "for k in [125, 124, 123, 122, 121, 100, 75]:\n",
    "    X_base = listings_merge.drop([\n",
    "        'id', 'summary', 'description', 'neighbourhood', 'neighbourhood_id', 'neighbourhood_group', 'latitude', 'longitude', 'room_type',\n",
    "        'accommodates', 'bathrooms', 'bedrooms', 'beds', 'amenities',\n",
    "        'number_of_reviews', 'review_scores_rating', 'reviews_per_month', 'entire_home_apt',\n",
    "        'summary_bigram', 'summary_trigram', 'available_year_avg', 'available_winter_avg', 'available_spring_avg',\n",
    "        'available_summer_avg', 'available_fall_avg', 'available_jan_avg', 'available_jun_avg', 'available_dec_avg',\n",
    "        'min_nights_year_avg', 'min_nights_winter_avg', 'min_nights_spring_avg', 'min_nights_summer_avg',\n",
    "        'min_nights_fall_avg', 'min_nights_jan_avg', 'min_nights_jun_avg', 'min_nights_dec_avg',\n",
    "        'price_year_avg', 'price_winter_avg', 'price_spring_avg', 'price_summer_avg', 'price_fall_avg',\n",
    "        'price_jan_avg', 'price_jun_avg', 'price_dec_avg'\n",
    "    ], axis=1)\n",
    "    y = listings_merge.price_year_avg\n",
    "\n",
    "    selector = SelectKBest(f_regression, k=k)\n",
    "    X_kbest = selector.fit_transform(X_base, y)\n",
    "\n",
    "    X_train, X_test, y_train, y_test = train_test_split(X_kbest, y, test_size=.25, random_state=42, shuffle=True)\n",
    "\n",
    "    clf = XGBRegressor(\n",
    "        objective='reg:squarederror',\n",
    "        learning_rate=0.1,\n",
    "        max_depth=8,\n",
    "        n_estimators=200,\n",
    "        cv=5,\n",
    "        n_jobs=-1\n",
    "    )\n",
    "\n",
    "    clf.fit(X_train, y_train)\n",
    "    score = clf.score(X_test, y_test)\n",
    "    if score > max_score:\n",
    "        max_score = score\n",
    "        kbest = k\n",
    "    \n",
    "    print('Feature set:', k, 'amenities')\n",
    "    print('Target label: price_year_avg')\n",
    "    print('Gradient boost R^2:', score)\n",
    "    print('Gradient boost MAE:', mean_absolute_error(y_test, clf.predict(X_test)))"
   ]
  },
  {
   "cell_type": "code",
   "execution_count": null,
   "metadata": {},
   "outputs": [],
   "source": [
    "# X_base = listings_merge.drop([\n",
    "#     'id', 'summary', 'neighbourhood', 'neighbourhood_id', 'neighbourhood_group', 'latitude', 'longitude', 'room_type',\n",
    "#     'accommodates', 'bathrooms', 'bedrooms', 'beds', 'amenities',\n",
    "#     'number_of_reviews', 'review_scores_rating', 'reviews_per_month', 'entire_home_apt',\n",
    "#     'summary_bigram', 'summary_trigram', 'available_year_avg', 'available_winter_avg', 'available_spring_avg',\n",
    "#     'available_summer_avg', 'available_fall_avg', 'available_jan_avg', 'available_jun_avg', 'available_dec_avg',\n",
    "#     'min_nights_year_avg', 'min_nights_winter_avg', 'min_nights_spring_avg', 'min_nights_summer_avg',\n",
    "#     'min_nights_fall_avg', 'min_nights_jan_avg', 'min_nights_jun_avg', 'min_nights_dec_avg',\n",
    "#     'price_year_avg', 'price_winter_avg', 'price_spring_avg', 'price_summer_avg', 'price_fall_avg',\n",
    "#     'price_jan_avg', 'price_jun_avg', 'price_dec_avg'\n",
    "# ], axis=1)\n",
    "# y = listings_merge.price_year_avg\n",
    "\n",
    "# selector = SelectKBest(f_regression, k=kbest)\n",
    "# selector.fit(X_base, y)\n",
    "\n",
    "# # Get columns to keep and create new dataframe with those only\n",
    "# cols = selector.get_support(indices=True)\n",
    "# amenities_sparse = X_base.iloc[:,cols]\n",
    "\n",
    "# listings_merge = listings_merge[[\n",
    "#     'id', 'summary', 'neighbourhood', 'neighbourhood_id', 'neighbourhood_group', 'latitude', 'longitude',\n",
    "#     'room_type', 'accommodates', 'bathrooms', 'bedrooms', 'beds', 'amenities',\n",
    "#     'number_of_reviews', 'review_scores_rating', 'reviews_per_month', 'entire_home_apt',\n",
    "#     'summary_bigram', 'summary_trigram', 'available_year_avg', 'available_winter_avg', 'available_spring_avg',\n",
    "#     'available_summer_avg', 'available_fall_avg', 'available_jan_avg', 'available_jun_avg', 'available_dec_avg',\n",
    "#     'min_nights_year_avg', 'min_nights_winter_avg', 'min_nights_spring_avg', 'min_nights_summer_avg',\n",
    "#     'min_nights_fall_avg', 'min_nights_jan_avg', 'min_nights_jun_avg', 'min_nights_dec_avg',\n",
    "#     'price_year_avg', 'price_winter_avg', 'price_spring_avg', 'price_summer_avg', 'price_fall_avg',\n",
    "#     'price_jan_avg', 'price_jun_avg', 'price_dec_avg'\n",
    "# ]].join(amenities_sparse)"
   ]
  },
  {
   "cell_type": "code",
   "execution_count": null,
   "metadata": {},
   "outputs": [],
   "source": [
    "# https://stackoverflow.com/questions/39109045/numpy-where-with-multiple-conditions\n",
    "# price_bins = [0, 50, 100, 150, 200, 250, 300, 350, 400, np.inf]\n",
    "# bins = [*range(0, len(price_bins) - 1)]\n",
    "# listings_merge['price_year_avg_bin'] = pd.cut(\n",
    "#     listings_merge.price_year_avg,\n",
    "#     price_bins,\n",
    "#     labels=bins\n",
    "# ).astype('int')"
   ]
  },
  {
   "cell_type": "code",
   "execution_count": null,
   "metadata": {},
   "outputs": [],
   "source": [
    "listings_merge['is_high_price_range'] = np.where(listings_merge.price_year_avg >= 400, 1, 0)"
   ]
  },
  {
   "cell_type": "code",
   "execution_count": null,
   "metadata": {},
   "outputs": [],
   "source": [
    "# import tensorflow as tf\n",
    "# import tensorflow_hub as hub\n",
    "# from sklearn.model_selection import train_test_split\n",
    "\n",
    "# tf.config.set_visible_devices([], 'GPU')\n",
    "\n",
    "# adam = tf.keras.optimizers.Adam(lr=0.001)\n",
    "# scce = tf.keras.losses.SparseCategoricalCrossentropy(from_logits=True)\n",
    "# sca = tf.keras.metrics.SparseCategoricalAccuracy()\n",
    "# es = tf.keras.callbacks.EarlyStopping(monitor=\"loss\", patience=4)\n",
    "\n",
    "# X_train, X_val_test, y_train, y_val_test = train_test_split(\n",
    "#     listings_merge.description,\n",
    "#     listings_merge.price_year_avg_bin,\n",
    "#     test_size=0.4,\n",
    "#     stratify=listings_merge.price_year_avg_bin,\n",
    "#     random_state=42\n",
    "# )\n",
    "\n",
    "# X_val, X_test, y_val, y_test = train_test_split(\n",
    "#     X_val_test,\n",
    "#     y_val_test,\n",
    "#     test_size=0.5,\n",
    "#     stratify=y_val_test,\n",
    "#     random_state=42\n",
    "# )\n",
    "\n",
    "# def base_model():\n",
    "#     x = tf.keras.layers.Input(shape=[], dtype=tf.string)\n",
    "#     y = hub.KerasLayer('https://tfhub.dev/google/universal-sentence-encoder/4', trainable=True)(x)\n",
    "# #     y = hub.KerasLayer('https://tfhub.dev/google/universal-sentence-encoder-large/5', trainable=True)(x)\n",
    "#     z = tf.keras.layers.Dense(len(bins), activation='softmax')(y)\n",
    "#     model = tf.keras.models.Model(x, z)\n",
    "#     model.compile(optimizer=adam, loss=scce, metrics=[sca])\n",
    "#     return model\n",
    "\n",
    "# model = base_model()\n",
    "# model.fit(X_train, y_train, batch_size=512, epochs=3, validation_data=(X_val, y_val), callbacks=[es], use_multiprocessing=1)\n",
    "\n",
    "# sca.update_state(y_test, model.predict(X_test))\n",
    "# print(\"Price level prediction accuracy from listing descriptions:\", sca.result().numpy())"
   ]
  },
  {
   "cell_type": "code",
   "execution_count": null,
   "metadata": {},
   "outputs": [],
   "source": [
    "import tensorflow as tf\n",
    "import tensorflow_hub as hub\n",
    "from sklearn.model_selection import train_test_split\n",
    "\n",
    "tf.config.set_visible_devices([], 'GPU')\n",
    "\n",
    "adam = tf.keras.optimizers.Adam(lr=0.001)\n",
    "bce = tf.keras.losses.BinaryCrossentropy(from_logits=True)\n",
    "es = tf.keras.callbacks.EarlyStopping(monitor='loss', patience=4)\n",
    "\n",
    "X_train, X_val_test, y_train, y_val_test = train_test_split(\n",
    "    listings_merge.description,\n",
    "    listings_merge.is_high_price_range,\n",
    "    test_size=0.4,\n",
    "    stratify=listings_merge.is_high_price_range,\n",
    "    random_state=42\n",
    ")\n",
    "\n",
    "X_val, X_test, y_val, y_test = train_test_split(\n",
    "    X_val_test,\n",
    "    y_val_test,\n",
    "    test_size=0.5,\n",
    "    stratify=y_val_test,\n",
    "    random_state=42\n",
    ")\n",
    "\n",
    "def base_model():\n",
    "    x = tf.keras.layers.Input(shape=[], dtype=tf.string)\n",
    "    y = hub.KerasLayer('https://tfhub.dev/google/universal-sentence-encoder/4', trainable=True)(x)\n",
    "#     y = hub.KerasLayer('https://tfhub.dev/google/universal-sentence-encoder-large/5', trainable=True)(x)\n",
    "    z = tf.keras.layers.Dense(1, activation='sigmoid')(y)\n",
    "    model = tf.keras.models.Model(x, z)\n",
    "    model.compile(optimizer=adam, loss=bce, metrics=['accuracy'])\n",
    "    return model\n",
    "\n",
    "model = base_model()\n",
    "model.fit(X_train, y_train, batch_size=512, epochs=3, validation_data=(X_val, y_val), callbacks=[es], use_multiprocessing=1)\n",
    "\n",
    "test_results = model.evaluate(X_test, y_test, verbose=1)\n",
    "print(f'Price level prediction test results - Loss: {test_results[0]} - Accuracy: {test_results[1]*100}%')"
   ]
  },
  {
   "cell_type": "code",
   "execution_count": null,
   "metadata": {},
   "outputs": [],
   "source": [
    "# listings_merge['pred_price_year_avg_bin'] = model.predict(listings_merge.description, use_multiprocessing=1).argmax(axis=1)"
   ]
  },
  {
   "cell_type": "code",
   "execution_count": null,
   "metadata": {},
   "outputs": [],
   "source": [
    "listings_merge['is_pred_high_price_range'] = model.predict(listings_merge.description, use_multiprocessing=1).round()"
   ]
  },
  {
   "cell_type": "code",
   "execution_count": null,
   "metadata": {},
   "outputs": [],
   "source": [
    "listings_merge_backup = listings_merge"
   ]
  },
  {
   "cell_type": "code",
   "execution_count": null,
   "metadata": {},
   "outputs": [],
   "source": [
    "listings_merge = listings_merge_backup"
   ]
  },
  {
   "cell_type": "markdown",
   "metadata": {},
   "source": [
    "<p>Drop any non-numerical data, features that may correlate with other features, and data that may not correlate with price labels.</p>"
   ]
  },
  {
   "cell_type": "code",
   "execution_count": null,
   "metadata": {},
   "outputs": [],
   "source": [
    "# features = listings_merge.drop(['beds'], axis=1)\n",
    "\n",
    "full_features = listings_merge.drop(['id', 'room_type', 'neighbourhood'], axis=1)\n",
    "full_features = full_features.drop(['reviews_per_month', 'number_of_reviews', 'review_scores_rating'], axis=1)\n",
    "# full_features = full_features.drop(['price_year_avg_bin'], axis=1)\n",
    "full_features = full_features.drop(['is_high_price_range'], axis=1)\n",
    "full_features = full_features.drop(['summary', 'summary_bigram', 'summary_trigram', 'description', 'amenities'], axis=1)\n",
    "\n",
    "# features = features.drop(['accommodates'], axis=1)\n",
    "full_features = full_features.drop(['neighbourhood_id'], axis=1)\n",
    "\n",
    "features_rooms = full_features.loc[full_features.entire_home_apt == 0]\n",
    "features_homes = full_features.loc[full_features.entire_home_apt == 1]\n",
    "features_rooms = features_rooms.drop(['entire_home_apt', 'neighbourhood_group'], axis=1)\n",
    "features_homes = features_homes.drop(['entire_home_apt', 'neighbourhood_group'], axis=1)\n",
    "features_exclude_manhattan = full_features.loc[full_features.neighbourhood_group != 'Manhattan']\\\n",
    "    .drop(['neighbourhood_group'], axis=1)\n",
    "features_exclude_brooklyn = full_features.loc[full_features.neighbourhood_group != 'Brooklyn']\\\n",
    "    .drop(['neighbourhood_group'], axis=1)\n",
    "features_exclude_man_brooklyn = full_features.loc[\n",
    "    (full_features.neighbourhood_group != 'Manhattan') &\n",
    "    (full_features.neighbourhood_group != 'Brooklyn')\n",
    "].drop(['neighbourhood_group'], axis=1)\n",
    "\n",
    "full_features = full_features.drop(['neighbourhood_group'], axis=1)"
   ]
  },
  {
   "cell_type": "code",
   "execution_count": null,
   "metadata": {},
   "outputs": [],
   "source": [
    "plt = features_rooms.price_year_avg.plot(kind='hist', figsize=(20, 10))"
   ]
  },
  {
   "cell_type": "code",
   "execution_count": null,
   "metadata": {},
   "outputs": [],
   "source": [
    "plt = features_homes.price_year_avg.plot(kind='hist', figsize=(20, 10))"
   ]
  },
  {
   "cell_type": "markdown",
   "metadata": {},
   "source": [
    "<p>Perhaps we can add more features like monthly or holiday averages for availability, minimum nights required, and price, but that would make the table size explode!<p>"
   ]
  },
  {
   "cell_type": "markdown",
   "metadata": {},
   "source": [
    "<h2>Modeling data with prices as target labels</h2>\n",
    "\n",
    "<p>Now that we've cleaned up the data, let's look at several possible models of linear and non-linear type.  We will use average price of each listing over the year 2019, as well as seasonal average price as the target labels.  The easiest ones to get started with are Linear Regression and Random Forest.</p>"
   ]
  },
  {
   "cell_type": "code",
   "execution_count": null,
   "metadata": {},
   "outputs": [],
   "source": [
    "from sklearn.linear_model import LinearRegression\n",
    "from sklearn.model_selection import train_test_split\n",
    "from sklearn.metrics import mean_absolute_error\n",
    "\n",
    "combo_list = [\n",
    "    ['available_year_avg', 'min_nights_year_avg', 'price_year_avg']\n",
    "#     ['available_winter_avg', 'min_nights_winter_avg', 'price_winter_avg'],\n",
    "#     ['available_spring_avg', 'min_nights_spring_avg', 'price_spring_avg'],\n",
    "#     ['available_summer_avg', 'min_nights_summer_avg', 'price_summer_avg'],\n",
    "#     ['available_fall_avg', 'min_nights_fall_avg', 'price_fall_avg'],\n",
    "#     ['available_jan_avg', 'min_nights_jan_avg', 'price_jan_avg'],\n",
    "#     ['available_jun_avg', 'min_nights_jun_avg', 'price_jun_avg'],\n",
    "#     ['available_dec_avg', 'min_nights_dec_avg', 'price_dec_avg']\n",
    "]\n",
    "\n",
    "def run_lr_model(data_set_name, features):\n",
    "    for combo in combo_list:\n",
    "        X_base = features.drop([\n",
    "            'price_year_avg', 'price_winter_avg', 'price_spring_avg', 'price_summer_avg', 'price_fall_avg',\n",
    "            'price_jan_avg', 'price_jun_avg', 'price_dec_avg',\n",
    "            'available_year_avg', 'available_winter_avg', 'available_spring_avg', 'available_summer_avg',\n",
    "            'available_fall_avg', 'available_jan_avg', 'available_jun_avg', 'available_dec_avg',\n",
    "            'min_nights_year_avg', 'min_nights_winter_avg', 'min_nights_spring_avg', 'min_nights_summer_avg',\n",
    "            'min_nights_fall_avg', 'min_nights_jan_avg', 'min_nights_jun_avg', 'min_nights_dec_avg',\n",
    "        ], axis=1)\n",
    "        X_base[combo[0]] = features[combo[0]]\n",
    "        X_base[combo[1]] = features[combo[1]]\n",
    "        y = features[combo[2]]\n",
    "\n",
    "        X_train, X_test, y_train, y_test = train_test_split(X_base, y, test_size=.25, random_state=42, shuffle=True)\n",
    "        print('Linear regression model for', data_set_name)\n",
    "        print('Target label:', combo[2])\n",
    "\n",
    "        clf = LinearRegression(n_jobs=-1)\n",
    "        clf.fit(X_train, y_train)\n",
    "        print(\"R^2:\", clf.score(X_test, y_test))\n",
    "        print(\"MAE:\", mean_absolute_error(y_test, clf.predict(X_test)))\n",
    "        \n",
    "run_lr_model('private rooms', features_rooms)\n",
    "run_lr_model('entire homes', features_homes)\n",
    "run_lr_model('both homes and rooms', full_features)\n",
    "run_lr_model('exluding Manhattan', features_exclude_manhattan)\n",
    "run_lr_model('exluding Brooklyn', features_exclude_brooklyn)\n",
    "run_lr_model('exluding Manhattan and Brooklyn', features_exclude_man_brooklyn)"
   ]
  },
  {
   "cell_type": "code",
   "execution_count": null,
   "metadata": {},
   "outputs": [],
   "source": [
    "from sklearn.ensemble import RandomForestRegressor\n",
    "from sklearn.model_selection import train_test_split\n",
    "from sklearn.metrics import mean_absolute_error\n",
    "\n",
    "combo_list = [\n",
    "    ['available_year_avg', 'min_nights_year_avg', 'price_year_avg']\n",
    "#     ['available_winter_avg', 'min_nights_winter_avg', 'price_winter_avg'],\n",
    "#     ['available_spring_avg', 'min_nights_spring_avg', 'price_spring_avg'],\n",
    "#     ['available_summer_avg', 'min_nights_summer_avg', 'price_summer_avg'],\n",
    "#     ['available_fall_avg', 'min_nights_fall_avg', 'price_fall_avg'],\n",
    "#     ['available_jan_avg', 'min_nights_jan_avg', 'price_jan_avg'],\n",
    "#     ['available_jun_avg', 'min_nights_jun_avg', 'price_jun_avg'],\n",
    "#     ['available_dec_avg', 'min_nights_dec_avg', 'price_dec_avg']\n",
    "]\n",
    "\n",
    "def run_rf_model(data_set_name, features):\n",
    "    for combo in combo_list:\n",
    "        X_base = features.drop([\n",
    "            'price_year_avg', 'price_winter_avg', 'price_spring_avg', 'price_summer_avg', 'price_fall_avg',\n",
    "            'price_jan_avg', 'price_jun_avg', 'price_dec_avg',\n",
    "            'available_year_avg', 'available_winter_avg', 'available_spring_avg', 'available_summer_avg',\n",
    "            'available_fall_avg', 'available_jan_avg', 'available_jun_avg', 'available_dec_avg',\n",
    "            'min_nights_year_avg', 'min_nights_winter_avg', 'min_nights_spring_avg', 'min_nights_summer_avg',\n",
    "            'min_nights_fall_avg', 'min_nights_jan_avg', 'min_nights_jun_avg', 'min_nights_dec_avg',\n",
    "        ], axis=1)\n",
    "        X_base[combo[0]] = features[combo[0]]\n",
    "        X_base[combo[1]] = features[combo[1]]\n",
    "        y = features[combo[2]]\n",
    "\n",
    "        X_train, X_test, y_train, y_test = train_test_split(X_base, y, test_size=.25, random_state=42, shuffle=True)\n",
    "        print('Random forest model for', data_set_name)\n",
    "        print('Target label:', combo[2])\n",
    "\n",
    "        clf = RandomForestRegressor(n_jobs=-1)\n",
    "        clf.fit(X_train, y_train)\n",
    "        print(\"R^2:\", clf.score(X_test, y_test))\n",
    "        print(\"MAE:\", mean_absolute_error(y_test, clf.predict(X_test)))\n",
    "        \n",
    "run_rf_model('private rooms', features_rooms)\n",
    "run_rf_model('entire homes', features_homes)\n",
    "run_rf_model('both homes and rooms', full_features)\n",
    "run_rf_model('exluding Manhattan', features_exclude_manhattan)\n",
    "run_rf_model('exluding Brooklyn', features_exclude_brooklyn)\n",
    "run_rf_model('exluding Manhattan and Brooklyn', features_exclude_man_brooklyn)"
   ]
  },
  {
   "cell_type": "markdown",
   "metadata": {},
   "source": [
    "<p>We can see that Random Forest performs much better than Linear Regression in terms of R<sup>2</sup> score.</p>"
   ]
  },
  {
   "cell_type": "markdown",
   "metadata": {},
   "source": [
    "<br/>\n",
    "<p>Perhaps there will be an incremental improvement in R<sup>2</sup> by using Gradient Boosting (XGBoost in this case).</p>"
   ]
  },
  {
   "cell_type": "code",
   "execution_count": null,
   "metadata": {},
   "outputs": [],
   "source": [
    "from xgboost.sklearn import XGBRegressor\n",
    "from sklearn.model_selection import train_test_split\n",
    "from sklearn.metrics import mean_absolute_error\n",
    "\n",
    "combo_list = [\n",
    "    ['available_year_avg', 'min_nights_year_avg', 'price_year_avg']\n",
    "#     ['available_winter_avg', 'min_nights_winter_avg', 'price_winter_avg'],\n",
    "#     ['available_spring_avg', 'min_nights_spring_avg', 'price_spring_avg'],\n",
    "#     ['available_summer_avg', 'min_nights_summer_avg', 'price_summer_avg'],\n",
    "#     ['available_fall_avg', 'min_nights_fall_avg', 'price_fall_avg'],\n",
    "#     ['available_jan_avg', 'min_nights_jan_avg', 'price_jan_avg'],\n",
    "#     ['available_jun_avg', 'min_nights_jun_avg', 'price_jun_avg'],\n",
    "#     ['available_dec_avg', 'min_nights_dec_avg', 'price_dec_avg']\n",
    "]\n",
    "\n",
    "def run_gb_model(data_set_name, features):\n",
    "    results = None\n",
    "    for combo in combo_list:\n",
    "        X_base = features.drop([\n",
    "            'price_year_avg', 'price_winter_avg', 'price_spring_avg', 'price_summer_avg', 'price_fall_avg',\n",
    "            'price_jan_avg', 'price_jun_avg', 'price_dec_avg',\n",
    "            'available_year_avg', 'available_winter_avg', 'available_spring_avg', 'available_summer_avg',\n",
    "            'available_fall_avg', 'available_jan_avg', 'available_jun_avg', 'available_dec_avg',\n",
    "            'min_nights_year_avg', 'min_nights_winter_avg', 'min_nights_spring_avg', 'min_nights_summer_avg',\n",
    "            'min_nights_fall_avg', 'min_nights_jan_avg', 'min_nights_jun_avg', 'min_nights_dec_avg',\n",
    "        ], axis=1)\n",
    "        X_base[combo[0]] = features[combo[0]]\n",
    "        X_base[combo[1]] = features[combo[1]]\n",
    "        y = features[combo[2]]\n",
    "\n",
    "        X_train, X_test, y_train, y_test = train_test_split(X_base, y, test_size=.25, random_state=42, shuffle=True)\n",
    "\n",
    "        clf = XGBRegressor(\n",
    "            objective='reg:squarederror',\n",
    "            learning_rate=0.1,\n",
    "            max_depth=8,\n",
    "            n_estimators=200,\n",
    "            cv=5,\n",
    "            n_jobs=-1\n",
    "        )\n",
    "\n",
    "        clf.fit(X_train, y_train)\n",
    "        print('Gradient boost model for', data_set_name)\n",
    "        print('Target label:', combo[2])\n",
    "        print('R^2:', clf.score(X_test, y_test))\n",
    "        print('MAE:', mean_absolute_error(y_test, clf.predict(X_test)))\n",
    "\n",
    "        if combo[2] == 'price_year_avg' and data_set_name == 'both homes and rooms':\n",
    "            merge_train, results, merge_y_train, merge_y_test = train_test_split(\n",
    "                listings_merge, y, test_size=.25, random_state=42, shuffle=True\n",
    "            )\n",
    "            results['predicted_price_year_avg'] = clf.predict(X_test)\n",
    "    return results\n",
    "    \n",
    "run_gb_model('private rooms', features_rooms)\n",
    "run_gb_model('entire homes', features_homes)\n",
    "test_results = run_gb_model('both homes and rooms', full_features)\n",
    "run_gb_model('exluding Manhattan', features_exclude_manhattan)\n",
    "run_gb_model('exluding Brooklyn', features_exclude_brooklyn)\n",
    "run_gb_model('exluding Manhattan and Brooklyn', features_exclude_man_brooklyn)"
   ]
  },
  {
   "cell_type": "markdown",
   "metadata": {},
   "source": [
    "<p>We get decent scores from a Gradient Boost model.</p>\n"
   ]
  },
  {
   "cell_type": "markdown",
   "metadata": {},
   "source": [
    "<p>Now apply deep learning with a neural network made up mainly of dense layers.</p>"
   ]
  },
  {
   "cell_type": "code",
   "execution_count": null,
   "metadata": {
    "scrolled": true
   },
   "outputs": [],
   "source": [
    "# import tensorflow as tf\n",
    "# from tensorflow.keras.models import Sequential\n",
    "# from tensorflow.keras.layers import Dense, Dropout\n",
    "# from tensorflow.keras.wrappers.scikit_learn import KerasRegressor\n",
    "# from tensorflow.keras.optimizers import SGD, Adam\n",
    "# from tensorflow.keras.callbacks import EarlyStopping\n",
    "# from sklearn.preprocessing import MinMaxScaler\n",
    "# from sklearn.model_selection import cross_val_score\n",
    "# from sklearn.model_selection import KFold\n",
    "# from sklearn.model_selection import train_test_split\n",
    "# from sklearn.metrics import mean_absolute_error\n",
    "\n",
    "# combo_list = [\n",
    "#     ['available_year_avg', 'min_nights_year_avg', 'price_year_avg'],\n",
    "#     ['available_winter_avg', 'min_nights_winter_avg', 'price_winter_avg'],\n",
    "#     ['available_spring_avg', 'min_nights_spring_avg', 'price_spring_avg'],\n",
    "#     ['available_summer_avg', 'min_nights_summer_avg', 'price_summer_avg'],\n",
    "#     ['available_fall_avg', 'min_nights_fall_avg', 'price_fall_avg'],\n",
    "#     ['available_jan_avg', 'min_nights_jan_avg', 'price_jan_avg'],\n",
    "#     ['available_jun_avg', 'min_nights_jun_avg', 'price_jun_avg'],\n",
    "#     ['available_dec_avg', 'min_nights_dec_avg', 'price_dec_avg']\n",
    "# ]\n",
    "\n",
    "# es = EarlyStopping(monitor='loss', mode='min', verbose=1, patience=2)\n",
    "# adam = Adam(lr=0.001)\n",
    "# sgd = SGD(lr=0.001)\n",
    "\n",
    "# num_features = len(full_features.drop([\n",
    "#     'price_year_avg', 'price_winter_avg', 'price_spring_avg', 'price_summer_avg', 'price_fall_avg',\n",
    "#     'price_jan_avg', 'price_jun_avg', 'price_dec_avg',\n",
    "#     'available_year_avg', 'available_winter_avg', 'available_spring_avg', 'available_summer_avg',\n",
    "#     'available_fall_avg', 'available_jan_avg', 'available_jun_avg', 'available_dec_avg',\n",
    "#     'min_nights_year_avg', 'min_nights_winter_avg', 'min_nights_spring_avg', 'min_nights_summer_avg',\n",
    "#     'min_nights_fall_avg', 'min_nights_jan_avg', 'min_nights_jun_avg', 'min_nights_dec_avg',\n",
    "# ], axis=1).columns) + 2\n",
    "# def base_model():\n",
    "#     model = Sequential()\n",
    "#     model.add(Dense(150, input_dim=num_features, activation='relu'))\n",
    "#     model.add(Dense(100, activation='relu'))\n",
    "#     model.add(Dropout(0.5))\n",
    "#     model.add(Dense(100, activation='relu'))\n",
    "#     model.add(Dropout(0.5))\n",
    "#     model.add(Dense(10, activation='relu'))\n",
    "#     model.add(Dense(1))\n",
    "#     model.compile(loss='mean_squared_error', optimizer=adam, metrics=['mae'])\n",
    "#     return model\n",
    "\n",
    "# def run_nn_model(data_set_name, features):\n",
    "#     for combo in combo_list:\n",
    "#         X_base = features.drop([\n",
    "#             'price_year_avg', 'price_winter_avg', 'price_spring_avg', 'price_summer_avg', 'price_fall_avg',\n",
    "#             'price_jan_avg', 'price_jun_avg', 'price_dec_avg',\n",
    "#             'available_year_avg', 'available_winter_avg', 'available_spring_avg', 'available_summer_avg',\n",
    "#             'available_fall_avg', 'available_jan_avg', 'available_jun_avg', 'available_dec_avg',\n",
    "#             'min_nights_year_avg', 'min_nights_winter_avg', 'min_nights_spring_avg', 'min_nights_summer_avg',\n",
    "#             'min_nights_fall_avg', 'min_nights_jan_avg', 'min_nights_jun_avg', 'min_nights_dec_avg',\n",
    "#         ], axis=1)\n",
    "#         X_base[combo[0]] = features[combo[0]]\n",
    "#         X_base[combo[1]] = features[combo[1]]\n",
    "#         y = features[combo[2]]\n",
    "\n",
    "#         scaler = MinMaxScaler()\n",
    "#         X_scale = scaler.fit_transform(X_base.values)\n",
    "\n",
    "#         X_train, X_test, y_train, y_test = train_test_split(X_scale, y, test_size=.25, random_state=42, shuffle=True)\n",
    "\n",
    "\n",
    "#         clf = KerasRegressor(build_fn=base_model, epochs=100, batch_size=100, verbose=0, callbacks=[es], use_multiprocessing=1)\n",
    "#     #     kfold = KFold(n_splits=5)\n",
    "#     #     results = cross_val_score(clf, X_train, y_train, cv=kfold)\n",
    "#     #     print(results)\n",
    "\n",
    "#         clf.fit(X_train, y_train)\n",
    "#         print('Neural network model for', data_set_name)\n",
    "#         print('Target label:', combo[2])\n",
    "#         print('MAE:', mean_absolute_error(y_test, clf.predict(X_test)))\n",
    "\n",
    "# run_nn_model('both homes and rooms', full_features)\n"
   ]
  },
  {
   "cell_type": "code",
   "execution_count": null,
   "metadata": {},
   "outputs": [],
   "source": [
    "test_results['price_year_avg_error'] = test_results.predicted_price_year_avg - test_results.price_year_avg\n",
    "test_results['price_year_avg_error_abs'] = test_results.price_year_avg_error.abs()\n",
    "test_results.sort_values(by=[\"price_year_avg_error_abs\"], ascending=False, inplace=True)"
   ]
  },
  {
   "cell_type": "code",
   "execution_count": null,
   "metadata": {
    "scrolled": true
   },
   "outputs": [],
   "source": [
    "high_abs_error_df = test_results.head(1000)\n",
    "low_abs_error_df = test_results.tail(1000)"
   ]
  },
  {
   "cell_type": "code",
   "execution_count": null,
   "metadata": {},
   "outputs": [],
   "source": [
    "# from bokeh.io import show, output_notebook\n",
    "# from bokeh.models import (\n",
    "#     GMapPlot, GMapOptions, Range1d, Circle, ColumnDataSource, LinearColorMapper,\n",
    "#     ColorBar, BasicTicker, PanTool, WheelZoomTool, BoxSelectTool\n",
    "# )\n",
    "# from bokeh.palettes import Viridis5\n",
    "# from sklearn.preprocessing import MinMaxScaler\n",
    "\n",
    "# def plot_over_map(data_set_name, features):\n",
    "#     lat_mean = features.latitude.mean()\n",
    "#     long_mean = features.longitude.mean()\n",
    "#     map_options = GMapOptions(lat=lat_mean, lng=long_mean, map_type=\"roadmap\", zoom=10)\n",
    "\n",
    "#     plot = GMapPlot(x_range=Range1d(), y_range=Range1d(), map_options=map_options)\n",
    "#     plot.title.text = \"Scatter plot of AirBnb home and private room listings for NYC: \" + data_set_name\n",
    "\n",
    "#     scaler = MinMaxScaler()\n",
    "#     normalized_price = scaler.fit_transform(features[['price_year_avg']])\n",
    "#     source = ColumnDataSource(\n",
    "#         data=dict(\n",
    "#             lat=features.latitude.tolist(),\n",
    "#             long=features.longitude.tolist(),\n",
    "#             size=normalized_price.tolist(),\n",
    "#             color=features.entire_home_apt.tolist()\n",
    "#         )\n",
    "#     )\n",
    "\n",
    "#     color_mapper = LinearColorMapper(palette=Viridis5)\n",
    "#     circle = Circle(\n",
    "#         x=\"long\",\n",
    "#         y=\"lat\",\n",
    "#         size=5,\n",
    "#         fill_color={'field': 'color', 'transform': color_mapper},\n",
    "#         fill_alpha=0.5,\n",
    "#         line_color=None\n",
    "#     )\n",
    "#     plot.add_glyph(source, circle)\n",
    "#     color_bar = ColorBar(color_mapper=color_mapper, ticker=BasicTicker(),\n",
    "#                          label_standoff=12, border_line_color=None, location=(0,0))\n",
    "#     plot.add_layout(color_bar, 'right')\n",
    "#     plot.add_tools(PanTool(), WheelZoomTool(), BoxSelectTool())\n",
    "\n",
    "#     show(plot)"
   ]
  },
  {
   "cell_type": "code",
   "execution_count": null,
   "metadata": {},
   "outputs": [],
   "source": [
    "# plot_over_map('full set', full_features)\n",
    "# plot_over_map('high abs error', high_abs_error_df)\n",
    "# plot_over_map('low abs error', low_abs_error_df)"
   ]
  }
 ],
 "metadata": {
  "kernelspec": {
   "display_name": "Python 3",
   "language": "python",
   "name": "python3"
  }
 },
 "nbformat": 4,
 "nbformat_minor": 4
}
